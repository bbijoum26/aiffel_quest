{
 "cells": [
  {
   "cell_type": "markdown",
   "id": "17311fbf",
   "metadata": {},
   "source": [
    "# 가위바위보 분류기를 만들자"
   ]
  },
  {
   "cell_type": "markdown",
   "id": "de9535ca",
   "metadata": {},
   "source": [
    "- 라이브러리 버전 확인"
   ]
  },
  {
   "cell_type": "code",
   "execution_count": 1,
   "id": "73e228c1",
   "metadata": {},
   "outputs": [
    {
     "name": "stdout",
     "output_type": "stream",
     "text": [
      "2.6.0\n",
      "1.22.2\n"
     ]
    }
   ],
   "source": [
    "import tensorflow as tf\n",
    "import numpy as np\n",
    "\n",
    "print(tf.__version__)\n",
    "print(np.__version__)"
   ]
  },
  {
   "cell_type": "markdown",
   "id": "39f8ac37",
   "metadata": {},
   "source": [
    "## 데이터 준비"
   ]
  },
  {
   "cell_type": "markdown",
   "id": "c8a2b668",
   "metadata": {},
   "source": [
    "###  데이터 만들기\n",
    "구글의 [teachable machine](https://teachablemachine.withgoogle.com/) 사이트에서 쉽게 데이터를 만들어볼 수 있다.  \n",
    "1. Get Started 버튼 클릭\n",
    "2. Image Project - Standard image model 선택\n",
    "3. Webcam을 구동해 클래스별 이미지 데이터 직접 촬영\n",
    "\n",
    "\n",
    "- 웹캠 앞에 포즈를 취하면서 **Hold to Record** 버튼을 누르면 이미지가 캡쳐\n",
    "   - 여러 각도에서 찍기.\n",
    "   - 여러 크기로 찍기\n",
    "   - 혼자하면 다양한 각도와 크기를 저장할 수 없으니, 옆 동료와 함께 하기\n",
    "   - **좋은 데이터가 좋은 결과를 낳는다**\n",
    "\n",
    "- 100장의 가위/바위/보 이미지를 캡쳐했다면, 우상단의 메뉴 아이콘을 눌러 다운로드\n",
    "- 이미지들을 \"scissor.zip\", \"rock.zip\", \"paper.zip이라는 파일 이름으로 본인 컴퓨터에 저장"
   ]
  },
  {
   "cell_type": "markdown",
   "id": "a279a2d9",
   "metadata": {},
   "source": [
    "### 디렉토리 만들기\n",
    "\n",
    "```bash\n",
    "$ mkdir -p ~/aiffel/rock_scissor_paper/scissor\n",
    "$ mkdir -p ~/aiffel/rock_scissor_paper/rock\n",
    "$ mkdir -p ~/aiffel/rock_scissor_paper/paper\n",
    "```\n",
    "\n",
    "- 토막 리눅스 사용법  \n",
    "`mkdir -p`  \n",
    "mkdir를 사용하여 하위 디렉토리를 생성할때 차례대로 만들지 않고 중간 디렉토리 없이 바로 그 다음 하위 디렉토리를 만들게되면  \n",
    "\"디렉토리를 생성할 수 없습니다.\" 라는 메시지가 나오는데,  \n",
    "`-p` 옵션을 주어 생성하게 되면 자동으로 중간 단계의 디렉토리를 생성하면서 그 하위 디렉토리를 생성하게 된다.\n",
    "\n",
    "\n",
    "- 클라우드 이미지 압축 해제\n",
    "\n",
    "```bash\n",
    "# 원하는 디렉토리로 이동\n",
    "$ cd  ~/aiffel/rock_scissor_paper/rock\n",
    "$ cd  ~/aiffel/rock_scissor_paper/scissor\n",
    "$ cd  ~/aiffel/rock_scissor_paper/paper\n",
    "\n",
    "# 압축 해제 명령어 : unzip <파일명>.zip\n",
    "$ unzip rock.zip\n",
    "$ unzip scissor.zip\n",
    "$ unzip paper.zip\n",
    "```"
   ]
  },
  {
   "cell_type": "markdown",
   "id": "362e3c7f",
   "metadata": {},
   "source": [
    "### 데이터 불러오기 + Resize 하기\n",
    "숫자 손글씨의 경우 이미지 크기가 28x28 이었기 때문에, 우리의 가위, 바위, 보 이미지도 28x28로 만들어야 한다.  \n",
    "이를 위해서는 PIL 라이브러리를 사용해본다.  "
   ]
  },
  {
   "cell_type": "code",
   "execution_count": 2,
   "id": "847ae344",
   "metadata": {},
   "outputs": [],
   "source": [
    "from PIL import Image \n",
    "import glob\n",
    "import os"
   ]
  },
  {
   "cell_type": "code",
   "execution_count": 3,
   "id": "686c8404",
   "metadata": {},
   "outputs": [],
   "source": [
    "def resize_images(img_path):\n",
    "    images=glob.glob(img_path + \"/*.jpg\")  \n",
    "    print(len(images), \" images to be resized.\")\n",
    "\n",
    "    # 파일마다 모두 28x28 사이즈로 바꾸어 저장\n",
    "    target_size=(28, 28)\n",
    "    for img in images:\n",
    "        old_img=Image.open(img)\n",
    "        new_img=old_img.resize(target_size,Image.ANTIALIAS)\n",
    "        new_img.save(img, \"JPEG\")\n",
    "    \n",
    "    print(len(images), \" images resized.\")"
   ]
  },
  {
   "cell_type": "markdown",
   "id": "36e2c6d2",
   "metadata": {},
   "source": [
    "#### 가위"
   ]
  },
  {
   "cell_type": "code",
   "execution_count": 4,
   "id": "f87d23e0",
   "metadata": {},
   "outputs": [
    {
     "name": "stdout",
     "output_type": "stream",
     "text": [
      "1000  images to be resized.\n",
      "1000  images resized.\n",
      "가위 이미지 resize 완료!\n"
     ]
    }
   ],
   "source": [
    "# 가위 이미지가 저장된 디렉토리 아래의 모든 jpg 파일을 읽어들여서\n",
    "image_dir_path = os.getenv(\"HOME\") + \"/aiffel/rock_scissor_paper/scissor\"\n",
    "resize_images(image_dir_path)\n",
    "\n",
    "print(\"가위 이미지 resize 완료!\")"
   ]
  },
  {
   "cell_type": "markdown",
   "id": "a7ef4cc4",
   "metadata": {},
   "source": [
    "#### 바위"
   ]
  },
  {
   "cell_type": "code",
   "execution_count": 5,
   "id": "86f250f3",
   "metadata": {},
   "outputs": [
    {
     "name": "stdout",
     "output_type": "stream",
     "text": [
      "1000  images to be resized.\n",
      "1000  images resized.\n",
      "바위 이미지 resize 완료!\n"
     ]
    }
   ],
   "source": [
    "# 바위 이미지가 저장된 디렉토리 아래의 모든 jpg 파일을 읽어들여서\n",
    "image_dir_path = os.getenv(\"HOME\") + \"/aiffel/rock_scissor_paper/rock\"\n",
    "resize_images(image_dir_path)\n",
    "\n",
    "print(\"바위 이미지 resize 완료!\")"
   ]
  },
  {
   "cell_type": "markdown",
   "id": "840310e3",
   "metadata": {},
   "source": [
    "#### 보"
   ]
  },
  {
   "cell_type": "code",
   "execution_count": 6,
   "id": "826ab455",
   "metadata": {},
   "outputs": [
    {
     "name": "stdout",
     "output_type": "stream",
     "text": [
      "1000  images to be resized.\n",
      "1000  images resized.\n",
      "보 이미지 resize 완료!\n"
     ]
    }
   ],
   "source": [
    "# 보 이미지가 저장된 디렉토리 아래의 모든 jpg 파일을 읽어들여서\n",
    "image_dir_path = os.getenv(\"HOME\") + \"/aiffel/rock_scissor_paper/paper\"\n",
    "resize_images(image_dir_path)\n",
    "\n",
    "print(\"보 이미지 resize 완료!\")"
   ]
  },
  {
   "cell_type": "markdown",
   "id": "16faaace",
   "metadata": {},
   "source": [
    "#### 가위, 바위, 보 데이터를 읽을 수 있는 load_data() 함수\n",
    "\n",
    "`load_data()` 함수  \n",
    "입력으로 이미지가 있는 폴더 위치를 받는다.   \n",
    "가위바위보의 경우, 3개의 클래스 즉, 가위: 0, 바위: 1, 보: 2 로 라벨링이 된다."
   ]
  },
  {
   "cell_type": "code",
   "execution_count": 7,
   "id": "01bbdf10",
   "metadata": {},
   "outputs": [],
   "source": [
    "import numpy as np\n",
    "\n",
    "def load_data(img_path, number_of_data):  # 가위바위보 이미지 개수 총합에 주의\n",
    "    # 가위 : 0, 바위 : 1, 보 : 2\n",
    "    img_size=28\n",
    "    color=3\n",
    "    #이미지 데이터와 라벨(가위 : 0, 바위 : 1, 보 : 2) 데이터를 담을 행렬(matrix) 영역을 생성\n",
    "    imgs=np.zeros(number_of_data*img_size*img_size*color,dtype=np.int32).reshape(number_of_data,img_size,img_size,color)\n",
    "    labels=np.zeros(number_of_data,dtype=np.int32)\n",
    "\n",
    "    idx=0\n",
    "    for file in glob.iglob(img_path+'/scissor/*.jpg'):\n",
    "        img = np.array(Image.open(file),dtype=np.int32)\n",
    "        imgs[idx,:,:,:]=img    # 데이터 영역에 이미지 행렬을 복사\n",
    "        labels[idx]=0   # 가위 : 0\n",
    "        idx=idx+1\n",
    "\n",
    "    for file in glob.iglob(img_path+'/rock/*.jpg'):\n",
    "        img = np.array(Image.open(file),dtype=np.int32)\n",
    "        imgs[idx,:,:,:]=img    # 데이터 영역에 이미지 행렬을 복사\n",
    "        labels[idx]=1   # 바위 : 1\n",
    "        idx=idx+1  \n",
    "    \n",
    "    for file in glob.iglob(img_path+'/paper/*.jpg'):\n",
    "        img = np.array(Image.open(file),dtype=np.int32)\n",
    "        imgs[idx,:,:,:]=img    # 데이터 영역에 이미지 행렬을 복사\n",
    "        labels[idx]=2   # 보 : 2\n",
    "        idx=idx+1\n",
    "        \n",
    "    print(\"학습데이터(x_train)의 이미지 개수는\", idx,\"입니다.\")\n",
    "    return imgs, labels"
   ]
  },
  {
   "cell_type": "code",
   "execution_count": 9,
   "id": "96ba6bd4",
   "metadata": {},
   "outputs": [
    {
     "name": "stdout",
     "output_type": "stream",
     "text": [
      "학습데이터(x_train)의 이미지 개수는 3000 입니다.\n",
      "x_train shape: (3000, 28, 28, 3)\n",
      "y_train shape: (3000,)\n"
     ]
    }
   ],
   "source": [
    "image_dir_path = os.getenv(\"HOME\") + \"/aiffel/rock_scissor_paper\"\n",
    "(x_train, y_train)=load_data(image_dir_path, 3000)\n",
    "x_train_norm = x_train/255.0   # 입력은 0~1 사이의 값으로 정규화\n",
    "\n",
    "print(\"x_train shape: {}\".format(x_train.shape))\n",
    "print(\"y_train shape: {}\".format(y_train.shape))"
   ]
  },
  {
   "cell_type": "code",
   "execution_count": 10,
   "id": "1acb6d62",
   "metadata": {},
   "outputs": [
    {
     "name": "stdout",
     "output_type": "stream",
     "text": [
      "라벨:  0\n"
     ]
    },
    {
     "data": {
      "image/png": "[encoded data removed]",
      "text/plain": [
       "<Figure size 432x288 with 1 Axes>"
      ]
     },
     "metadata": {
      "needs_background": "light"
     },
     "output_type": "display_data"
    }
   ],
   "source": [
    "import matplotlib.pyplot as plt\n",
    "\n",
    "plt.imshow(x_train[0])\n",
    "print('라벨: ', y_train[0])"
   ]
  },
  {
   "cell_type": "markdown",
   "id": "bca04461",
   "metadata": {},
   "source": [
    "## 딥러닝"
   ]
  },
  {
   "cell_type": "markdown",
   "id": "48372abf",
   "metadata": {},
   "source": [
    "### 딥러닝 네트워크 설계하기"
   ]
  },
  {
   "cell_type": "code",
   "execution_count": 11,
   "id": "ba9219ce",
   "metadata": {},
   "outputs": [],
   "source": [
    "import tensorflow as tf\n",
    "from tensorflow import keras\n",
    "from keras.models import Sequential\n",
    "from keras.layers import Conv2D, MaxPooling2D, Flatten, Dense\n",
    "\n",
    "# 하이퍼파라미터\n",
    "n_channel_1 = 8  # 필터 수\n",
    "n_channel_2 = 32  # 필터 수\n",
    "n_dense = 64     # Dense 계층의 노드 수\n",
    "n_train_epoch=15  # 학습\n",
    "\n",
    "model = Sequential([\n",
    "    Conv2D(n_channel_1, (3,3), activation='relu', input_shape=(28, 28, 3)),\n",
    "    MaxPooling2D(2, 2),\n",
    "    \n",
    "    Conv2D(n_channel_2, (3,3), activation='relu'),\n",
    "    MaxPooling2D(2, 2),\n",
    "    \n",
    "    Flatten(),\n",
    "    Dense(n_dense, activation='relu'),\n",
    "    Dense(3, activation='softmax')\n",
    "])"
   ]
  },
  {
   "cell_type": "code",
   "execution_count": 12,
   "id": "8f1e8f88",
   "metadata": {},
   "outputs": [
    {
     "name": "stdout",
     "output_type": "stream",
     "text": [
      "Model: \"sequential\"\n",
      "_________________________________________________________________\n",
      "Layer (type)                 Output Shape              Param #   \n",
      "=================================================================\n",
      "conv2d (Conv2D)              (None, 26, 26, 8)         224       \n",
      "_________________________________________________________________\n",
      "max_pooling2d (MaxPooling2D) (None, 13, 13, 8)         0         \n",
      "_________________________________________________________________\n",
      "conv2d_1 (Conv2D)            (None, 11, 11, 32)        2336      \n",
      "_________________________________________________________________\n",
      "max_pooling2d_1 (MaxPooling2 (None, 5, 5, 32)          0         \n",
      "_________________________________________________________________\n",
      "flatten (Flatten)            (None, 800)               0         \n",
      "_________________________________________________________________\n",
      "dense (Dense)                (None, 64)                51264     \n",
      "_________________________________________________________________\n",
      "dense_1 (Dense)              (None, 3)                 195       \n",
      "=================================================================\n",
      "Total params: 54,019\n",
      "Trainable params: 54,019\n",
      "Non-trainable params: 0\n",
      "_________________________________________________________________\n"
     ]
    }
   ],
   "source": [
    "model.summary()"
   ]
  },
  {
   "cell_type": "markdown",
   "id": "c87a40f9",
   "metadata": {},
   "source": [
    "### 딥러닝 네트워크 학습시키기"
   ]
  },
  {
   "cell_type": "code",
   "execution_count": 13,
   "id": "0184fb60",
   "metadata": {},
   "outputs": [],
   "source": [
    "model.compile(optimizer='adam',\n",
    "             loss='sparse_categorical_crossentropy',\n",
    "             metrics=['accuracy'])"
   ]
  },
  {
   "cell_type": "code",
   "execution_count": 14,
   "id": "7474a47c",
   "metadata": {},
   "outputs": [
    {
     "name": "stdout",
     "output_type": "stream",
     "text": [
      "Epoch 1/15\n",
      "94/94 [==============================] - 2s 17ms/step - loss: 3.8368 - accuracy: 0.5250\n",
      "Epoch 2/15\n",
      "94/94 [==============================] - 2s 17ms/step - loss: 0.6057 - accuracy: 0.7620\n",
      "Epoch 3/15\n",
      "94/94 [==============================] - 2s 17ms/step - loss: 0.4895 - accuracy: 0.7963\n",
      "Epoch 4/15\n",
      "94/94 [==============================] - 2s 17ms/step - loss: 0.4075 - accuracy: 0.8363\n",
      "Epoch 5/15\n",
      "94/94 [==============================] - 2s 17ms/step - loss: 0.4060 - accuracy: 0.8357\n",
      "Epoch 6/15\n",
      "94/94 [==============================] - 2s 17ms/step - loss: 0.2565 - accuracy: 0.9010\n",
      "Epoch 7/15\n",
      "94/94 [==============================] - 2s 17ms/step - loss: 0.2498 - accuracy: 0.9000\n",
      "Epoch 8/15\n",
      "94/94 [==============================] - 2s 17ms/step - loss: 0.1883 - accuracy: 0.9297\n",
      "Epoch 9/15\n",
      "94/94 [==============================] - 2s 17ms/step - loss: 0.1197 - accuracy: 0.9620\n",
      "Epoch 10/15\n",
      "94/94 [==============================] - 2s 17ms/step - loss: 0.1136 - accuracy: 0.9623\n",
      "Epoch 11/15\n",
      "94/94 [==============================] - 2s 17ms/step - loss: 0.0948 - accuracy: 0.9677\n",
      "Epoch 12/15\n",
      "94/94 [==============================] - 2s 17ms/step - loss: 0.0836 - accuracy: 0.9730\n",
      "Epoch 13/15\n",
      "94/94 [==============================] - 2s 17ms/step - loss: 0.0886 - accuracy: 0.9697\n",
      "Epoch 14/15\n",
      "94/94 [==============================] - 2s 17ms/step - loss: 0.0644 - accuracy: 0.9797\n",
      "Epoch 15/15\n",
      "94/94 [==============================] - 2s 17ms/step - loss: 0.0480 - accuracy: 0.9847\n"
     ]
    },
    {
     "data": {
      "text/plain": [
       "<keras.callbacks.History at 0x7fa92d7398b0>"
      ]
     },
     "execution_count": 14,
     "metadata": {},
     "output_type": "execute_result"
    }
   ],
   "source": [
    "# 모델 훈련\n",
    "model.fit(\n",
    "    x_train, y_train, \n",
    "    epochs=n_train_epoch)"
   ]
  },
  {
   "cell_type": "markdown",
   "id": "d832dfb1",
   "metadata": {},
   "source": [
    "### 얼마나 잘 만들었는지 확인하기(테스트)\n",
    "\n",
    "```bash\n",
    "# test 디렉토리를 생성해서, 친구에게 받은 데이터를 업로드\n",
    "$ mkdir -p ~/aiffel/rock_scissor_paper/test\n",
    "$ mkdir -p ~/aiffel/rock_scissor_paper/test/scissor\n",
    "$ mkdir -p ~/aiffel/rock_scissor_paper/test/rock\n",
    "$ mkdir -p ~/aiffel/rock_scissor_paper/test/paper\n",
    "\n",
    "# 압축 해체\n",
    "$ cd  ~/aiffel/rock_scissor_paper/test/rock && unzip rock.zip\n",
    "$ cd  ~/aiffel/rock_scissor_paper/test/scissor && unzip scissor.zip\n",
    "$ cd  ~/aiffel/rock_scissor_paper/test/paper && unzip paper.zip\n",
    "```\n",
    "\n",
    "```python\n",
    "import zipfile\n",
    "import os\n",
    "\n",
    "def extract_zip_with_unique_names(zip_folder_path, extract_folder_path):\n",
    "    # zip 폴더 내의 모든 zip 파일을 대상으로 반복\n",
    "    for zip_file in os.listdir(zip_folder_path):\n",
    "        if zip_file.endswith('.zip'):\n",
    "            # zip 파일의 전체 경로를 구성\n",
    "            zip_file_path = os.path.join(zip_folder_path, zip_file)\n",
    "            # 파일 이름에서 확장자를 제외\n",
    "            zip_file_name = os.path.splitext(zip_file)[0]\n",
    "            \n",
    "            with zipfile.ZipFile(zip_file_path, 'r') as zip_ref:\n",
    "                # zip 파일 내의 모든 파일을 대상으로 반복\n",
    "                for member in zip_ref.infolist():\n",
    "                    # 원본 파일 이름을 가져오기\n",
    "                    original_filename = member.filename\n",
    "                    # 새 파일 이름 구성(여기서는 zip 파일 이름을 앞에 추가)\n",
    "                    new_filename = f\"{zip_file_name}_{original_filename}\"\n",
    "                    # 추출 경로 지정\n",
    "                    new_file_path = os.path.join(extract_folder_path, new_filename)\n",
    "                    \n",
    "                    # 파일 추출\n",
    "                    with zip_ref.open(member, 'r') as file, open(new_file_path, 'wb') as outfile:\n",
    "                        outfile.write(file.read())\n",
    "\n",
    "# 사용 예시\n",
    "zip_folder_path = os.getenv(\"HOME\") + \"/aiffel/rock_scissor_paper/test/rock\"      # Zip 파일이 있는 폴더 경로\n",
    "extract_folder_path = os.getenv(\"HOME\") + \"/aiffel/rock_scissor_paper/test/rock\"  # 추출된 파일을 저장할 폴더 경로\n",
    "\n",
    "# 함수 호출\n",
    "extract_zip_with_unique_names(zip_folder_path, extract_folder_path)\n",
    "```"
   ]
  },
  {
   "cell_type": "markdown",
   "id": "4ce373c6",
   "metadata": {},
   "source": [
    "#### 테스트"
   ]
  },
  {
   "cell_type": "code",
   "execution_count": 26,
   "id": "e6224688",
   "metadata": {},
   "outputs": [
    {
     "name": "stdout",
     "output_type": "stream",
     "text": [
      "510  images to be resized.\n",
      "510  images resized.\n",
      "381  images to be resized.\n",
      "381  images resized.\n",
      "403  images to be resized.\n",
      "403  images resized.\n"
     ]
    }
   ],
   "source": [
    "# x_test, y_test를 만드는 방법은 x_train, y_train을 만드는 방법과 아주 유사합니다.\n",
    "image_dir_path = os.getenv(\"HOME\") + \"/aiffel/rock_scissor_paper/test/scissor\"\n",
    "resize_images(image_dir_path)\n",
    "\n",
    "image_dir_path = os.getenv(\"HOME\") + \"/aiffel/rock_scissor_paper/test/rock\"\n",
    "resize_images(image_dir_path)\n",
    "\n",
    "image_dir_path = os.getenv(\"HOME\") + \"/aiffel/rock_scissor_paper/test/paper\"\n",
    "resize_images(image_dir_path)"
   ]
  },
  {
   "cell_type": "code",
   "execution_count": 29,
   "id": "adda020c",
   "metadata": {},
   "outputs": [
    {
     "name": "stdout",
     "output_type": "stream",
     "text": [
      "학습데이터(x_train)의 이미지 개수는 1294 입니다.\n",
      "x_test shape: (1294, 28, 28, 3)\n",
      "y_test shape: (1294,)\n"
     ]
    }
   ],
   "source": [
    "image_dir_path = os.getenv(\"HOME\") + \"/aiffel/rock_scissor_paper/test\"\n",
    "(x_test, y_test) = load_data(image_dir_path, 1294)\n",
    "x_test_norm = x_test/255.0   # 입력은 0~1 사이의 값으로 정규화\n",
    "print(\"x_test shape: {}\".format(x_test.shape))\n",
    "print(\"y_test shape: {}\".format(y_test.shape))"
   ]
  },
  {
   "cell_type": "code",
   "execution_count": 30,
   "id": "534bc518",
   "metadata": {},
   "outputs": [
    {
     "name": "stdout",
     "output_type": "stream",
     "text": [
      "41/41 - 0s - loss: 9.9951 - accuracy: 0.4096\n",
      "test_loss: 9.995097160339355 \n",
      "test_accuracy: 0.4095826745033264\n"
     ]
    }
   ],
   "source": [
    "test_loss, test_accuracy = model.evaluate(x_test, y_test, verbose=2)\n",
    "print(\"test_loss: {} \".format(test_loss))\n",
    "print(\"test_accuracy: {}\".format(test_accuracy))"
   ]
  },
  {
   "cell_type": "code",
   "execution_count": 31,
   "id": "1bcd7802",
   "metadata": {},
   "outputs": [
    {
     "name": "stdout",
     "output_type": "stream",
     "text": [
      "\n",
      "Classification Report\n",
      "              precision    recall  f1-score   support\n",
      "\n",
      "           0       0.47      0.64      0.54       510\n",
      "           1       0.28      0.20      0.23       381\n",
      "           2       0.40      0.31      0.35       403\n",
      "\n",
      "    accuracy                           0.41      1294\n",
      "   macro avg       0.38      0.39      0.37      1294\n",
      "weighted avg       0.39      0.41      0.39      1294\n",
      "\n"
     ]
    }
   ],
   "source": [
    "from sklearn.metrics import classification_report\n",
    "import numpy as np\n",
    "\n",
    "# 예측 수행\n",
    "y_pred = model.predict(x_test)\n",
    "y_pred_classes = np.argmax(y_pred, axis=1)  # 가장 높은 확률을 가진 클래스를 선택\n",
    "\n",
    "\n",
    "print(\"\\nClassification Report\")\n",
    "print(classification_report(y_test, y_pred_classes))"
   ]
  },
  {
   "cell_type": "markdown",
   "id": "55faa629",
   "metadata": {},
   "source": [
    "#### 어떤 데이터를 잘못 추론했을까?"
   ]
  },
  {
   "cell_type": "code",
   "execution_count": 32,
   "id": "db358db6",
   "metadata": {},
   "outputs": [
    {
     "name": "stdout",
     "output_type": "stream",
     "text": [
      "model.predict() 결과 :  [4.3273424e-03 9.9567091e-01 1.7746364e-06]\n",
      "model이 추론한 가장 가능성이 높은 결과 :  1\n",
      "실제 데이터의 라벨 :  0\n"
     ]
    }
   ],
   "source": [
    "predicted_result = model.predict(x_test)  # model이 추론한 확률값. \n",
    "predicted_labels = np.argmax(predicted_result, axis=1)\n",
    "\n",
    "idx=0  #1번째 x_test를 살펴보자. \n",
    "print('model.predict() 결과 : ', predicted_result[idx])\n",
    "print('model이 추론한 가장 가능성이 높은 결과 : ', predicted_labels[idx])\n",
    "print('실제 데이터의 라벨 : ', y_test[idx])"
   ]
  },
  {
   "cell_type": "code",
   "execution_count": 33,
   "id": "8bc505a3",
   "metadata": {},
   "outputs": [
    {
     "data": {
      "image/png": "[encoded data removed]",
      "text/plain": [
       "<Figure size 432x288 with 1 Axes>"
      ]
     },
     "metadata": {
      "needs_background": "light"
     },
     "output_type": "display_data"
    }
   ],
   "source": [
    "plt.imshow(x_test[idx],cmap=plt.cm.binary)\n",
    "plt.show()"
   ]
  },
  {
   "cell_type": "code",
   "execution_count": 34,
   "id": "2fef4838",
   "metadata": {},
   "outputs": [
    {
     "name": "stdout",
     "output_type": "stream",
     "text": [
      "예측확률분포: [8.2300447e-02 9.1769892e-01 6.3878707e-07]\n",
      "라벨: 0, 예측결과: 1\n"
     ]
    },
    {
     "data": {
      "image/png": "[encoded data removed]",
      "text/plain": [
       "<Figure size 432x288 with 1 Axes>"
      ]
     },
     "metadata": {
      "needs_background": "light"
     },
     "output_type": "display_data"
    },
    {
     "name": "stdout",
     "output_type": "stream",
     "text": [
      "예측확률분포: [1.000000e+00 6.573300e-20 4.304206e-19]\n",
      "라벨: 2, 예측결과: 0\n"
     ]
    },
    {
     "data": {
      "image/png": "[encoded data removed]",
      "text/plain": [
       "<Figure size 432x288 with 1 Axes>"
      ]
     },
     "metadata": {
      "needs_background": "light"
     },
     "output_type": "display_data"
    },
    {
     "name": "stdout",
     "output_type": "stream",
     "text": [
      "예측확률분포: [1.8161916e-05 3.7986107e-02 9.6199578e-01]\n",
      "라벨: 1, 예측결과: 2\n"
     ]
    },
    {
     "data": {
      "image/png": "[encoded data removed]",
      "text/plain": [
       "<Figure size 432x288 with 1 Axes>"
      ]
     },
     "metadata": {
      "needs_background": "light"
     },
     "output_type": "display_data"
    },
    {
     "name": "stdout",
     "output_type": "stream",
     "text": [
      "예측확률분포: [3.0281364e-09 1.2598426e-07 9.9999988e-01]\n",
      "라벨: 1, 예측결과: 2\n"
     ]
    },
    {
     "data": {
      "image/png": "[encoded data removed]",
      "text/plain": [
       "<Figure size 432x288 with 1 Axes>"
      ]
     },
     "metadata": {
      "needs_background": "light"
     },
     "output_type": "display_data"
    },
    {
     "name": "stdout",
     "output_type": "stream",
     "text": [
      "예측확률분포: [9.9546558e-01 3.8271010e-05 4.4961325e-03]\n",
      "라벨: 1, 예측결과: 0\n"
     ]
    },
    {
     "data": {
      "image/png": "[encoded data removed]",
      "text/plain": [
       "<Figure size 432x288 with 1 Axes>"
      ]
     },
     "metadata": {
      "needs_background": "light"
     },
     "output_type": "display_data"
    }
   ],
   "source": [
    "import random\n",
    "wrong_predict_list=[]\n",
    "for i, _ in enumerate(predicted_labels):\n",
    "    # i번째 test_labels과 y_test이 다른 경우만 모아 봅시다. \n",
    "    if predicted_labels[i] != y_test[i]:\n",
    "        wrong_predict_list.append(i)\n",
    "\n",
    "# wrong_predict_list 에서 랜덤하게 5개만 뽑아봅시다.\n",
    "samples = random.choices(population=wrong_predict_list, k=5)\n",
    "\n",
    "for n in samples:\n",
    "    print(\"예측확률분포: \" + str(predicted_result[n]))\n",
    "    print(\"라벨: \" + str(y_test[n]) + \", 예측결과: \" + str(predicted_labels[n]))\n",
    "    plt.imshow(x_test[n], cmap=plt.cm.binary)\n",
    "    plt.show()"
   ]
  },
  {
   "cell_type": "markdown",
   "id": "00f86e4e",
   "metadata": {},
   "source": [
    "### 더 좋은 네트워크 만들어보기"
   ]
  },
  {
   "cell_type": "markdown",
   "id": "054e94a9",
   "metadata": {},
   "source": [
    "#### 데이터 증강 (Data Augmentation)\n",
    "이미지 데이터의 다양성을 늘려 모델이 더 일반화되도록 한다.  \n",
    "ImageDataGenerator를 사용하여 이미지를 회전시키거나, 가로/세로로 이동, 뒤집기, 확대/축소 등의 변환을 적용할 수 있다."
   ]
  },
  {
   "cell_type": "code",
   "execution_count": 35,
   "id": "a4e7013e",
   "metadata": {},
   "outputs": [],
   "source": [
    "from sklearn.model_selection import train_test_split\n",
    "from keras.preprocessing.image import ImageDataGenerator\n",
    "\n",
    "# 훈련 데이터와 검증 데이터로 분리\n",
    "x_train, x_val, y_train, y_val = train_test_split(x_train, y_train, test_size=0.2, random_state=42)\n",
    "\n",
    "# 훈련 데이터에 대한 데이터 증강 설정\n",
    "train_datagen = ImageDataGenerator(\n",
    "    rotation_range=45,           # 무작위 회전의 각도 범위\n",
    "    width_shift_range=0.2,       # 수평 이동 비율\n",
    "    height_shift_range=0.2,      # 수직 이동 비율\n",
    "    shear_range=0.2,             # 전단 변환의 각도\n",
    "    zoom_range=0.2,              # 확대/축소 비율\n",
    "    horizontal_flip=True,        # 수평 뒤집기\n",
    "    fill_mode='reflect',  \n",
    ")"
   ]
  },
  {
   "cell_type": "code",
   "execution_count": 36,
   "id": "8e1a3a68",
   "metadata": {},
   "outputs": [
    {
     "data": {
      "image/png": "[encoded data removed]",
      "text/plain": [
       "<Figure size 720x720 with 9 Axes>"
      ]
     },
     "metadata": {
      "needs_background": "light"
     },
     "output_type": "display_data"
    }
   ],
   "source": [
    "it = train_datagen.flow(x_train[:1], batch_size=1)\n",
    "\n",
    "# 첫 9개의 증강된 이미지를 시각화합니다.\n",
    "plt.figure(figsize=(10, 10))\n",
    "for i in range(9):\n",
    "    plt.subplot(330 + 1 + i)\n",
    "    batch = it.next()                 # 증강된 이미지 배치를 생성\n",
    "    image = batch[0].astype('uint8')  # 이미지를 정수형으로 변환하여 시각화\n",
    "    plt.imshow(image)\n",
    "plt.show()"
   ]
  },
  {
   "cell_type": "code",
   "execution_count": 37,
   "id": "29e48005",
   "metadata": {},
   "outputs": [],
   "source": [
    "# 검증 데이터에 대해서는 데이터 증강을 적용하지 않는다.\n",
    "# 필요에 따라 검증 데이터에 대해 적절한 전처리만 적용한다.\n",
    "val_datagen = ImageDataGenerator()\n",
    "\n",
    "# 데이터 증강을 적용한 데이터 생성기 생성\n",
    "train_generator = train_datagen.flow(x_train, y_train)\n",
    "val_generator = val_datagen.flow(x_val, y_val)"
   ]
  },
  {
   "cell_type": "markdown",
   "id": "6af2e777",
   "metadata": {},
   "source": [
    "#### 정규화 기법 추가\n",
    "배치 정규화(Batch Normalization)를 추가하여 각 층의 입력을 정규화하고, 학습을 안정화시키며 성능을 향상시킬 수 있다."
   ]
  },
  {
   "cell_type": "code",
   "execution_count": 75,
   "id": "5f7ad1fc",
   "metadata": {},
   "outputs": [],
   "source": [
    "import tensorflow as tf\n",
    "from tensorflow import keras\n",
    "from keras.models import Sequential\n",
    "from keras.layers import Conv2D, MaxPooling2D, Flatten, Dense, Dropout, BatchNormalization\n",
    "\n",
    "# 하이퍼파라미터\n",
    "n_channel_1 = 128\n",
    "n_channel_2 = 256\n",
    "n_channel_3 = 128\n",
    "n_dense = 32             # Dense 계층의 노드 수\n",
    "n_train_epoch= 100       # 학습\n",
    "dropout_rate = 0.2       # Dropout 비율\n",
    "\n",
    "model = Sequential([\n",
    "    Conv2D(n_channel_1, (3, 3), activation='relu', input_shape=(28, 28, 3)),\n",
    "    BatchNormalization(),\n",
    "    MaxPooling2D(2, 2),\n",
    "    Dropout(dropout_rate),\n",
    "    \n",
    "    Conv2D(n_channel_2, (3, 3), activation='relu'),\n",
    "    BatchNormalization(),\n",
    "    MaxPooling2D(2, 2),\n",
    "    Dropout(dropout_rate),\n",
    "    \n",
    "    Conv2D(n_channel_3, (3, 3), activation='relu'),\n",
    "    BatchNormalization(),\n",
    "    MaxPooling2D(2, 2),\n",
    "    Dropout(dropout_rate),\n",
    "    \n",
    "    Flatten(),\n",
    "    Dense(n_dense, activation='relu'),\n",
    "    Dropout(dropout_rate),\n",
    "    Dense(3, activation='softmax')\n",
    "])"
   ]
  },
  {
   "cell_type": "code",
   "execution_count": 66,
   "id": "d2ead95c",
   "metadata": {},
   "outputs": [
    {
     "name": "stdout",
     "output_type": "stream",
     "text": [
      "Model: \"sequential_4\"\n",
      "_________________________________________________________________\n",
      "Layer (type)                 Output Shape              Param #   \n",
      "=================================================================\n",
      "conv2d_11 (Conv2D)           (None, 26, 26, 128)       3584      \n",
      "_________________________________________________________________\n",
      "batch_normalization_9 (Batch (None, 26, 26, 128)       512       \n",
      "_________________________________________________________________\n",
      "max_pooling2d_11 (MaxPooling (None, 13, 13, 128)       0         \n",
      "_________________________________________________________________\n",
      "dropout_12 (Dropout)         (None, 13, 13, 128)       0         \n",
      "_________________________________________________________________\n",
      "conv2d_12 (Conv2D)           (None, 11, 11, 256)       295168    \n",
      "_________________________________________________________________\n",
      "batch_normalization_10 (Batc (None, 11, 11, 256)       1024      \n",
      "_________________________________________________________________\n",
      "max_pooling2d_12 (MaxPooling (None, 5, 5, 256)         0         \n",
      "_________________________________________________________________\n",
      "dropout_13 (Dropout)         (None, 5, 5, 256)         0         \n",
      "_________________________________________________________________\n",
      "conv2d_13 (Conv2D)           (None, 3, 3, 128)         295040    \n",
      "_________________________________________________________________\n",
      "batch_normalization_11 (Batc (None, 3, 3, 128)         512       \n",
      "_________________________________________________________________\n",
      "max_pooling2d_13 (MaxPooling (None, 1, 1, 128)         0         \n",
      "_________________________________________________________________\n",
      "dropout_14 (Dropout)         (None, 1, 1, 128)         0         \n",
      "_________________________________________________________________\n",
      "flatten_4 (Flatten)          (None, 128)               0         \n",
      "_________________________________________________________________\n",
      "dense_8 (Dense)              (None, 32)                4128      \n",
      "_________________________________________________________________\n",
      "dropout_15 (Dropout)         (None, 32)                0         \n",
      "_________________________________________________________________\n",
      "dense_9 (Dense)              (None, 3)                 99        \n",
      "=================================================================\n",
      "Total params: 600,067\n",
      "Trainable params: 599,043\n",
      "Non-trainable params: 1,024\n",
      "_________________________________________________________________\n"
     ]
    }
   ],
   "source": [
    "model.summary()"
   ]
  },
  {
   "cell_type": "markdown",
   "id": "c45ed002",
   "metadata": {},
   "source": [
    "#### Early Stopping\n",
    "학습 중 검증 데이터에 대한 성능이 더 이상 개선되지 않을 때 학습을 자동으로 중단시키는 방법  \n",
    "이를 통해 과적합을 방지하고, 학습 시간을 절약할 수 있다."
   ]
  },
  {
   "cell_type": "code",
   "execution_count": 67,
   "id": "f8c43721",
   "metadata": {},
   "outputs": [],
   "source": [
    "from tensorflow.keras.callbacks import EarlyStopping\n",
    "\n",
    "# Early Stopping 설정\n",
    "early_stopping = EarlyStopping(\n",
    "    monitor='val_loss',  # 검증 손실을 기준으로\n",
    "    patience=10,         # 성능이 개선되지 않는 에폭을 몇 번 허용할 것인지\n",
    "    verbose=1,\n",
    "    mode='min',          # 'min'은 손실이 감소하는 것을 멈출 때, 'max'는 정확도가 더 이상 증가하지 않을 때 중단\n",
    "    restore_best_weights=True  # 가장 좋은 모델의 가중치를 복원\n",
    ")"
   ]
  },
  {
   "cell_type": "code",
   "execution_count": 68,
   "id": "a2e88318",
   "metadata": {},
   "outputs": [],
   "source": [
    "model.compile(optimizer='adam',\n",
    "             loss='sparse_categorical_crossentropy',\n",
    "             metrics=['accuracy'])"
   ]
  },
  {
   "cell_type": "code",
   "execution_count": 69,
   "id": "0869fce0",
   "metadata": {},
   "outputs": [
    {
     "name": "stdout",
     "output_type": "stream",
     "text": [
      "Epoch 1/100\n",
      "60/60 [==============================] - 22s 357ms/step - loss: 0.9466 - accuracy: 0.6052 - val_loss: 5.4904 - val_accuracy: 0.3917\n",
      "Epoch 2/100\n",
      "60/60 [==============================] - 21s 356ms/step - loss: 0.6380 - accuracy: 0.7292 - val_loss: 7.1115 - val_accuracy: 0.3229\n",
      "Epoch 3/100\n",
      "60/60 [==============================] - 21s 350ms/step - loss: 0.6217 - accuracy: 0.7474 - val_loss: 3.0789 - val_accuracy: 0.4208\n",
      "Epoch 4/100\n",
      "60/60 [==============================] - 21s 351ms/step - loss: 0.6023 - accuracy: 0.7536 - val_loss: 3.3367 - val_accuracy: 0.6000\n",
      "Epoch 5/100\n",
      "60/60 [==============================] - 21s 350ms/step - loss: 0.5355 - accuracy: 0.7786 - val_loss: 7.6643 - val_accuracy: 0.3271\n",
      "Epoch 6/100\n",
      "60/60 [==============================] - 21s 353ms/step - loss: 0.4896 - accuracy: 0.8000 - val_loss: 8.0600 - val_accuracy: 0.4229\n",
      "Epoch 7/100\n",
      "60/60 [==============================] - 21s 350ms/step - loss: 0.4833 - accuracy: 0.8052 - val_loss: 11.5099 - val_accuracy: 0.3250\n",
      "Epoch 8/100\n",
      "60/60 [==============================] - 21s 349ms/step - loss: 0.4715 - accuracy: 0.8135 - val_loss: 3.1253 - val_accuracy: 0.5188\n",
      "Epoch 9/100\n",
      "60/60 [==============================] - 21s 349ms/step - loss: 0.4581 - accuracy: 0.8016 - val_loss: 1.4968 - val_accuracy: 0.5188\n",
      "Epoch 10/100\n",
      "60/60 [==============================] - 21s 349ms/step - loss: 0.3981 - accuracy: 0.8411 - val_loss: 0.8482 - val_accuracy: 0.5792\n",
      "Epoch 11/100\n",
      "60/60 [==============================] - 21s 348ms/step - loss: 0.3924 - accuracy: 0.8438 - val_loss: 4.8480 - val_accuracy: 0.4542\n",
      "Epoch 12/100\n",
      "60/60 [==============================] - 21s 348ms/step - loss: 0.3641 - accuracy: 0.8547 - val_loss: 1.2844 - val_accuracy: 0.5521\n",
      "Epoch 13/100\n",
      "60/60 [==============================] - 21s 347ms/step - loss: 0.3888 - accuracy: 0.8505 - val_loss: 2.2458 - val_accuracy: 0.4250\n",
      "Epoch 14/100\n",
      "60/60 [==============================] - 21s 347ms/step - loss: 0.3544 - accuracy: 0.8609 - val_loss: 1.9874 - val_accuracy: 0.4917\n",
      "Epoch 15/100\n",
      "60/60 [==============================] - 21s 348ms/step - loss: 0.3510 - accuracy: 0.8677 - val_loss: 7.2147 - val_accuracy: 0.3625\n",
      "Epoch 16/100\n",
      "60/60 [==============================] - 21s 345ms/step - loss: 0.3365 - accuracy: 0.8656 - val_loss: 2.1882 - val_accuracy: 0.5375\n",
      "Epoch 17/100\n",
      "60/60 [==============================] - 21s 347ms/step - loss: 0.3647 - accuracy: 0.8562 - val_loss: 2.4486 - val_accuracy: 0.4500\n",
      "Epoch 18/100\n",
      "60/60 [==============================] - 21s 346ms/step - loss: 0.3444 - accuracy: 0.8719 - val_loss: 14.6089 - val_accuracy: 0.3333\n",
      "Epoch 19/100\n",
      "60/60 [==============================] - 21s 346ms/step - loss: 0.3245 - accuracy: 0.8703 - val_loss: 22.6450 - val_accuracy: 0.3229\n",
      "Epoch 20/100\n",
      "60/60 [==============================] - 21s 345ms/step - loss: 0.3151 - accuracy: 0.8891 - val_loss: 10.2360 - val_accuracy: 0.5250\n",
      "Restoring model weights from the end of the best epoch.\n",
      "Epoch 00020: early stopping\n"
     ]
    }
   ],
   "source": [
    "# 모델 훈련\n",
    "history = model.fit(\n",
    "    train_generator,\n",
    "    epochs=n_train_epoch,\n",
    "    validation_data=val_generator,\n",
    "    callbacks=[early_stopping]\n",
    ")"
   ]
  },
  {
   "cell_type": "markdown",
   "id": "c3a8cb88",
   "metadata": {},
   "source": [
    "#### 테스트"
   ]
  },
  {
   "cell_type": "code",
   "execution_count": 70,
   "id": "58bddb4e",
   "metadata": {},
   "outputs": [
    {
     "name": "stdout",
     "output_type": "stream",
     "text": [
      "41/41 - 3s - loss: 12.3337 - accuracy: 0.3501\n",
      "test_loss: 12.333674430847168 \n",
      "test_accuracy: 0.3500772714614868\n"
     ]
    }
   ],
   "source": [
    "test_loss, test_accuracy = model.evaluate(x_test, y_test, verbose=2)\n",
    "print(\"test_loss: {} \".format(test_loss))\n",
    "print(\"test_accuracy: {}\".format(test_accuracy))"
   ]
  },
  {
   "cell_type": "code",
   "execution_count": 71,
   "id": "8d21798e",
   "metadata": {},
   "outputs": [
    {
     "name": "stdout",
     "output_type": "stream",
     "text": [
      "Classification Report\n",
      "              precision    recall  f1-score   support\n",
      "\n",
      "           0       0.39      0.54      0.46       510\n",
      "           1       0.04      0.02      0.03       381\n",
      "           2       0.40      0.42      0.41       403\n",
      "\n",
      "    accuracy                           0.35      1294\n",
      "   macro avg       0.28      0.33      0.30      1294\n",
      "weighted avg       0.29      0.35      0.32      1294\n",
      "\n"
     ]
    }
   ],
   "source": [
    "from sklearn.metrics import classification_report\n",
    "import numpy as np\n",
    "\n",
    "# 예측 수행\n",
    "y_pred = model.predict(x_test)\n",
    "y_pred_classes = np.argmax(y_pred, axis=1)  # 가장 높은 확률을 가진 클래스를 선택\n",
    "\n",
    "\n",
    "print(\"Classification Report\")\n",
    "print(classification_report(y_test, y_pred_classes))"
   ]
  },
  {
   "cell_type": "markdown",
   "id": "d11056f1",
   "metadata": {},
   "source": [
    "#### 시각화"
   ]
  },
  {
   "cell_type": "code",
   "execution_count": 72,
   "id": "f8ee4c27",
   "metadata": {},
   "outputs": [
    {
     "data": {
      "image/png": "[encoded data removed]",
      "text/plain": [
       "<Figure size 432x288 with 1 Axes>"
      ]
     },
     "metadata": {
      "needs_background": "light"
     },
     "output_type": "display_data"
    }
   ],
   "source": [
    "# 훈련 및 검증 정확도 그리기\n",
    "plt.plot(history.history['accuracy'], label='Train Acc')\n",
    "plt.plot(history.history['val_accuracy'], label='Val Acc')\n",
    "plt.title('Model Accuracy')\n",
    "plt.ylabel('Accuracy')\n",
    "plt.xlabel('Epoch')\n",
    "plt.legend(loc='upper left')\n",
    "plt.show()"
   ]
  },
  {
   "cell_type": "code",
   "execution_count": 74,
   "id": "858b0ab6",
   "metadata": {},
   "outputs": [
    {
     "data": {
      "image/png": "[encoded data removed]",
      "text/plain": [
       "<Figure size 432x288 with 1 Axes>"
      ]
     },
     "metadata": {
      "needs_background": "light"
     },
     "output_type": "display_data"
    }
   ],
   "source": [
    "# 훈련 및 검증 손실 그리기\n",
    "plt.plot(history.history['loss'], label='Train Loss')\n",
    "plt.plot(history.history['val_loss'], label='Val Loss')\n",
    "plt.title('Model Loss')\n",
    "plt.ylabel('Loss')\n",
    "plt.xlabel('Epoch')\n",
    "plt.legend(loc='upper right')\n",
    "plt.show()"
   ]
  },
  {
   "cell_type": "markdown",
   "id": "8e68aec2",
   "metadata": {},
   "source": [
    "#### 정규화 기법만"
   ]
  },
  {
   "cell_type": "code",
   "execution_count": 115,
   "id": "e477bc9c",
   "metadata": {},
   "outputs": [],
   "source": [
    "import tensorflow as tf\n",
    "from tensorflow import keras\n",
    "from keras.models import Sequential\n",
    "from keras.layers import Conv2D, MaxPooling2D, Flatten, Dense, Dropout, BatchNormalization\n",
    "\n",
    "# 하이퍼파라미터\n",
    "n_channel_1 = 32\n",
    "n_channel_2 = 64\n",
    "n_channel_3 = 128\n",
    "n_dense = 16             # Dense 계층의 노드 수\n",
    "n_train_epoch= 100       # 학습\n",
    "dropout_rate = 0.2       # Dropout 비율\n",
    "\n",
    "model = Sequential([\n",
    "    Conv2D(n_channel_1, (3, 3), activation='relu', input_shape=(28, 28, 3)),\n",
    "    BatchNormalization(),\n",
    "    MaxPooling2D(2, 2),\n",
    "    Dropout(dropout_rate),\n",
    "    \n",
    "    Conv2D(n_channel_2, (3, 3), activation='relu'),\n",
    "    BatchNormalization(),\n",
    "    MaxPooling2D(2, 2),\n",
    "    Dropout(dropout_rate),\n",
    "    \n",
    "    Conv2D(n_channel_3, (3, 3), activation='relu'),\n",
    "    BatchNormalization(),\n",
    "    MaxPooling2D(2, 2),\n",
    "    Dropout(dropout_rate),\n",
    "    \n",
    "    Flatten(),\n",
    "    Dense(n_dense, activation='relu'),\n",
    "    Dropout(dropout_rate),\n",
    "    Dense(3, activation='softmax')\n",
    "])"
   ]
  },
  {
   "cell_type": "code",
   "execution_count": 116,
   "id": "5a0096ac",
   "metadata": {},
   "outputs": [
    {
     "name": "stdout",
     "output_type": "stream",
     "text": [
      "Model: \"sequential_13\"\n",
      "_________________________________________________________________\n",
      "Layer (type)                 Output Shape              Param #   \n",
      "=================================================================\n",
      "conv2d_41 (Conv2D)           (None, 26, 26, 32)        896       \n",
      "_________________________________________________________________\n",
      "batch_normalization_39 (Batc (None, 26, 26, 32)        128       \n",
      "_________________________________________________________________\n",
      "max_pooling2d_41 (MaxPooling (None, 13, 13, 32)        0         \n",
      "_________________________________________________________________\n",
      "dropout_51 (Dropout)         (None, 13, 13, 32)        0         \n",
      "_________________________________________________________________\n",
      "conv2d_42 (Conv2D)           (None, 11, 11, 64)        18496     \n",
      "_________________________________________________________________\n",
      "batch_normalization_40 (Batc (None, 11, 11, 64)        256       \n",
      "_________________________________________________________________\n",
      "max_pooling2d_42 (MaxPooling (None, 5, 5, 64)          0         \n",
      "_________________________________________________________________\n",
      "dropout_52 (Dropout)         (None, 5, 5, 64)          0         \n",
      "_________________________________________________________________\n",
      "conv2d_43 (Conv2D)           (None, 3, 3, 128)         73856     \n",
      "_________________________________________________________________\n",
      "batch_normalization_41 (Batc (None, 3, 3, 128)         512       \n",
      "_________________________________________________________________\n",
      "max_pooling2d_43 (MaxPooling (None, 1, 1, 128)         0         \n",
      "_________________________________________________________________\n",
      "dropout_53 (Dropout)         (None, 1, 1, 128)         0         \n",
      "_________________________________________________________________\n",
      "flatten_13 (Flatten)         (None, 128)               0         \n",
      "_________________________________________________________________\n",
      "dense_26 (Dense)             (None, 16)                2064      \n",
      "_________________________________________________________________\n",
      "dropout_54 (Dropout)         (None, 16)                0         \n",
      "_________________________________________________________________\n",
      "dense_27 (Dense)             (None, 3)                 51        \n",
      "=================================================================\n",
      "Total params: 96,259\n",
      "Trainable params: 95,811\n",
      "Non-trainable params: 448\n",
      "_________________________________________________________________\n"
     ]
    }
   ],
   "source": [
    "model.summary()"
   ]
  },
  {
   "cell_type": "markdown",
   "id": "3a515fea",
   "metadata": {},
   "source": [
    "#### 최적화 알고리즘 변경"
   ]
  },
  {
   "cell_type": "code",
   "execution_count": 117,
   "id": "69e81017",
   "metadata": {},
   "outputs": [
    {
     "name": "stderr",
     "output_type": "stream",
     "text": [
      "/opt/conda/lib/python3.9/site-packages/keras/optimizer_v2/optimizer_v2.py:355: UserWarning: The `lr` argument is deprecated, use `learning_rate` instead.\n",
      "  warnings.warn(\n"
     ]
    }
   ],
   "source": [
    "from tensorflow.keras.optimizers import Adam\n",
    "\n",
    "model.compile(optimizer=Adam(learning_rate=0.001),  # 학습률 조정\n",
    "             loss='sparse_categorical_crossentropy',\n",
    "             metrics=['accuracy'])"
   ]
  },
  {
   "cell_type": "code",
   "execution_count": 124,
   "id": "b640fab4",
   "metadata": {},
   "outputs": [],
   "source": [
    "from tensorflow.keras.optimizers import RMSprop\n",
    "\n",
    "# RMSprop 최적화 알고리즘 사용\n",
    "model.compile(optimizer=RMSprop(learning_rate=0.001),\n",
    "              loss='sparse_categorical_crossentropy',\n",
    "              metrics=['accuracy'])\n"
   ]
  },
  {
   "cell_type": "code",
   "execution_count": 132,
   "id": "b623ff33",
   "metadata": {},
   "outputs": [],
   "source": [
    "from tensorflow.keras.optimizers import SGD\n",
    "\n",
    "# SGD 최적화 알고리즘 사용, 학습률(lr)과 모멘텀(momentum) 설정\n",
    "model.compile(optimizer=SGD(learning_rate=0.01, momentum=0.9),\n",
    "              loss='sparse_categorical_crossentropy',\n",
    "              metrics=['accuracy'])\n"
   ]
  },
  {
   "cell_type": "code",
   "execution_count": 133,
   "id": "5ca0f958",
   "metadata": {},
   "outputs": [],
   "source": [
    "# Early Stopping 설정\n",
    "early_stopping = EarlyStopping(\n",
    "    monitor='val_accuracy',\n",
    "    patience=10,\n",
    "    verbose=1,\n",
    "    mode='min',                # 'min'은 손실이 감소하는 것을 멈출 때, 'max'는 정확도가 더 이상 증가하지 않을 때 중단\n",
    "    restore_best_weights=True  # 가장 좋은 모델의 가중치를 복원\n",
    ")"
   ]
  },
  {
   "cell_type": "code",
   "execution_count": 134,
   "id": "b6ac2ab2",
   "metadata": {},
   "outputs": [
    {
     "name": "stdout",
     "output_type": "stream",
     "text": [
      "Epoch 1/100\n",
      "48/48 [==============================] - 3s 61ms/step - loss: 0.4571 - accuracy: 0.8340 - val_loss: 4.6440 - val_accuracy: 0.3438\n",
      "Epoch 2/100\n",
      "48/48 [==============================] - 3s 57ms/step - loss: 0.3778 - accuracy: 0.8496 - val_loss: 2.2900 - val_accuracy: 0.4427\n",
      "Epoch 3/100\n",
      "48/48 [==============================] - 3s 58ms/step - loss: 0.2497 - accuracy: 0.9023 - val_loss: 4.7034 - val_accuracy: 0.3177\n",
      "Epoch 4/100\n",
      "48/48 [==============================] - 3s 58ms/step - loss: 0.2573 - accuracy: 0.8978 - val_loss: 8.6762 - val_accuracy: 0.3958\n",
      "Epoch 5/100\n",
      "48/48 [==============================] - 3s 57ms/step - loss: 0.2509 - accuracy: 0.9043 - val_loss: 0.2514 - val_accuracy: 0.8958\n",
      "Epoch 6/100\n",
      "48/48 [==============================] - 3s 57ms/step - loss: 0.1857 - accuracy: 0.9212 - val_loss: 9.7853 - val_accuracy: 0.4661\n",
      "Epoch 7/100\n",
      "48/48 [==============================] - 3s 58ms/step - loss: 0.1731 - accuracy: 0.9310 - val_loss: 1.7471 - val_accuracy: 0.5365\n",
      "Epoch 8/100\n",
      "48/48 [==============================] - 3s 57ms/step - loss: 0.1252 - accuracy: 0.9492 - val_loss: 1.3017 - val_accuracy: 0.5391\n",
      "Epoch 9/100\n",
      "48/48 [==============================] - 3s 57ms/step - loss: 0.1021 - accuracy: 0.9642 - val_loss: 4.0745 - val_accuracy: 0.5026\n",
      "Epoch 10/100\n",
      "48/48 [==============================] - 3s 57ms/step - loss: 0.1989 - accuracy: 0.9336 - val_loss: 0.7690 - val_accuracy: 0.7344\n",
      "Epoch 11/100\n",
      "48/48 [==============================] - 3s 60ms/step - loss: 0.1311 - accuracy: 0.9518 - val_loss: 2.8257 - val_accuracy: 0.5052\n",
      "Epoch 12/100\n",
      "48/48 [==============================] - 3s 57ms/step - loss: 0.1172 - accuracy: 0.9551 - val_loss: 1.6928 - val_accuracy: 0.5990\n",
      "Epoch 13/100\n",
      "48/48 [==============================] - 3s 57ms/step - loss: 0.1431 - accuracy: 0.9492 - val_loss: 0.7796 - val_accuracy: 0.7318\n",
      "Restoring model weights from the end of the best epoch.\n",
      "Epoch 00013: early stopping\n"
     ]
    },
    {
     "data": {
      "text/plain": [
       "<keras.callbacks.History at 0x7fa90bc70070>"
      ]
     },
     "execution_count": 134,
     "metadata": {},
     "output_type": "execute_result"
    }
   ],
   "source": [
    "# 모델 훈련\n",
    "model.fit(\n",
    "    x_train, y_train, \n",
    "    epochs=n_train_epoch,\n",
    "    validation_split=0.2,\n",
    "    callbacks=[early_stopping])"
   ]
  },
  {
   "cell_type": "markdown",
   "id": "df3a5fc8",
   "metadata": {},
   "source": [
    "- 테스트"
   ]
  },
  {
   "cell_type": "code",
   "execution_count": 135,
   "id": "0b567a09",
   "metadata": {},
   "outputs": [
    {
     "name": "stdout",
     "output_type": "stream",
     "text": [
      "41/41 - 1s - loss: 9.9476 - accuracy: 0.4606\n",
      "test_loss: 9.947566032409668 \n",
      "test_accuracy: 0.4605873227119446\n"
     ]
    }
   ],
   "source": [
    "test_loss, test_accuracy = model.evaluate(x_test, y_test, verbose=2)\n",
    "print(\"test_loss: {} \".format(test_loss))\n",
    "print(\"test_accuracy: {}\".format(test_accuracy))"
   ]
  },
  {
   "cell_type": "code",
   "execution_count": 136,
   "id": "59703fd4",
   "metadata": {},
   "outputs": [
    {
     "name": "stdout",
     "output_type": "stream",
     "text": [
      "Classification Report\n",
      "              precision    recall  f1-score   support\n",
      "\n",
      "           0       0.52      0.77      0.62       510\n",
      "           1       0.00      0.00      0.00       381\n",
      "           2       0.38      0.50      0.43       403\n",
      "\n",
      "    accuracy                           0.46      1294\n",
      "   macro avg       0.30      0.42      0.35      1294\n",
      "weighted avg       0.32      0.46      0.38      1294\n",
      "\n"
     ]
    },
    {
     "name": "stderr",
     "output_type": "stream",
     "text": [
      "/opt/conda/lib/python3.9/site-packages/sklearn/metrics/_classification.py:1308: UndefinedMetricWarning: Precision and F-score are ill-defined and being set to 0.0 in labels with no predicted samples. Use `zero_division` parameter to control this behavior.\n",
      "  _warn_prf(average, modifier, msg_start, len(result))\n",
      "/opt/conda/lib/python3.9/site-packages/sklearn/metrics/_classification.py:1308: UndefinedMetricWarning: Precision and F-score are ill-defined and being set to 0.0 in labels with no predicted samples. Use `zero_division` parameter to control this behavior.\n",
      "  _warn_prf(average, modifier, msg_start, len(result))\n",
      "/opt/conda/lib/python3.9/site-packages/sklearn/metrics/_classification.py:1308: UndefinedMetricWarning: Precision and F-score are ill-defined and being set to 0.0 in labels with no predicted samples. Use `zero_division` parameter to control this behavior.\n",
      "  _warn_prf(average, modifier, msg_start, len(result))\n"
     ]
    }
   ],
   "source": [
    "from sklearn.metrics import classification_report\n",
    "import numpy as np\n",
    "\n",
    "# 예측 수행\n",
    "y_pred = model.predict(x_test)\n",
    "y_pred_classes = np.argmax(y_pred, axis=1)  # 가장 높은 확률을 가진 클래스를 선택\n",
    "\n",
    "\n",
    "print(\"Classification Report\")\n",
    "print(classification_report(y_test, y_pred_classes))"
   ]
  },
  {
   "cell_type": "markdown",
   "id": "c25e8821",
   "metadata": {},
   "source": [
    "- 시각화"
   ]
  },
  {
   "cell_type": "code",
   "execution_count": 137,
   "id": "e5f018f0",
   "metadata": {},
   "outputs": [
    {
     "data": {
      "image/png": "[encoded data removed]",
      "text/plain": [
       "<Figure size 432x288 with 1 Axes>"
      ]
     },
     "metadata": {
      "needs_background": "light"
     },
     "output_type": "display_data"
    }
   ],
   "source": [
    "# 훈련 및 검증 정확도 그리기\n",
    "plt.plot(history.history['accuracy'], label='Train Acc')\n",
    "plt.plot(history.history['val_accuracy'], label='Val Acc')\n",
    "plt.title('Model Accuracy')\n",
    "plt.ylabel('Accuracy')\n",
    "plt.xlabel('Epoch')\n",
    "plt.legend(loc='upper left')\n",
    "plt.show()"
   ]
  },
  {
   "cell_type": "code",
   "execution_count": 138,
   "id": "4dba3061",
   "metadata": {},
   "outputs": [
    {
     "data": {
      "image/png": "[encoded data removed]",
      "text/plain": [
       "<Figure size 432x288 with 1 Axes>"
      ]
     },
     "metadata": {
      "needs_background": "light"
     },
     "output_type": "display_data"
    }
   ],
   "source": [
    "# 훈련 및 검증 손실 그리기\n",
    "plt.plot(history.history['loss'], label='Train Loss')\n",
    "plt.plot(history.history['val_loss'], label='Val Loss')\n",
    "plt.title('Model Loss')\n",
    "plt.ylabel('Loss')\n",
    "plt.xlabel('Epoch')\n",
    "plt.legend(loc='upper right')\n",
    "plt.show()"
   ]
  },
  {
   "cell_type": "markdown",
   "id": "ccafb83c",
   "metadata": {},
   "source": [
    "## 회고\n",
    "딥러닝을 배우니까 너무 재밌는 거 같다.  \n",
    "뭔가 숫자 맞추기 게임하는 거 같기도 하고 정확도가 오르면 너무 기쁜데  \n",
    "떨어지면 왜 떨어지는지 알 수 없으니까 답답하기도 하고  \n",
    "\n",
    "다시 한 번 인공지능의 재미를 느낀 거 같다.   \n",
    "\n",
    "아직 정확도가 좋지 않아서 여러번 시도할 예정이지만,,,,  \n",
    "어떻게 하면 더 잘나올까..고민이 된다..  \n",
    "\n",
    "시간이 얼마 없으니까 할 수 있는데까지 해봐야겠다. ;(  \n",
    "\n",
    "++ 추가\n",
    "새로 train 데이터를 1,000장 찍어서 만들었다.  \n",
    "여전히 별로인 거 같은데.. 뭐가 문제인지 열심히 수정하는 중이다.  \n",
    "\n",
    "+++ "
   ]
  }
 ],
 "metadata": {
  "kernelspec": {
   "display_name": "Python 3 (ipykernel)",
   "language": "python",
   "name": "python3"
  },
  "language_info": {
   "codemirror_mode": {
    "name": "ipython",
    "version": 3
   },
   "file_extension": ".py",
   "mimetype": "text/x-python",
   "name": "python",
   "nbconvert_exporter": "python",
   "pygments_lexer": "ipython3",
   "version": "3.9.7"
  }
 },
 "nbformat": 4,
 "nbformat_minor": 5
}
