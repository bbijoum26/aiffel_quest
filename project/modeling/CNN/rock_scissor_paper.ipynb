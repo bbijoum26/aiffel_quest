{
 "cells": [
  {
   "cell_type": "markdown",
   "id": "4cc460fd",
   "metadata": {},
   "source": [
    "# 가위바위보 분류기를 만들자"
   ]
  },
  {
   "cell_type": "markdown",
   "id": "67c17775",
   "metadata": {},
   "source": [
    "- 라이브러리 버전 확인"
   ]
  },
  {
   "cell_type": "code",
   "execution_count": 1,
   "id": "1da554d6",
   "metadata": {},
   "outputs": [
    {
     "name": "stdout",
     "output_type": "stream",
     "text": [
      "2.6.0\n",
      "1.22.2\n"
     ]
    }
   ],
   "source": [
    "import tensorflow as tf\n",
    "import numpy as np\n",
    "\n",
    "print(tf.__version__)\n",
    "print(np.__version__)"
   ]
  },
  {
   "cell_type": "markdown",
   "id": "618b5f97",
   "metadata": {},
   "source": [
    "## 데이터 준비"
   ]
  },
  {
   "cell_type": "markdown",
   "id": "15364d52",
   "metadata": {},
   "source": [
    "###  데이터 만들기\n",
    "구글의 [teachable machine](https://teachablemachine.withgoogle.com/) 사이트에서 쉽게 데이터를 만들어볼 수 있다.  \n",
    "1. Get Started 버튼 클릭\n",
    "2. Image Project - Standard image model 선택\n",
    "3. Webcam을 구동해 클래스별 이미지 데이터 직접 촬영\n",
    "\n",
    "\n",
    "- 웹캠 앞에 포즈를 취하면서 **Hold to Record** 버튼을 누르면 이미지가 캡쳐\n",
    "   - 여러 각도에서 찍기.\n",
    "   - 여러 크기로 찍기\n",
    "   - 혼자하면 다양한 각도와 크기를 저장할 수 없으니, 옆 동료와 함께 하기\n",
    "   - **좋은 데이터가 좋은 결과를 낳는다**\n",
    "\n",
    "- 100장의 가위/바위/보 이미지를 캡쳐했다면, 우상단의 메뉴 아이콘을 눌러 다운로드\n",
    "- 이미지들을 \"scissor.zip\", \"rock.zip\", \"paper.zip이라는 파일 이름으로 본인 컴퓨터에 저장"
   ]
  },
  {
   "cell_type": "markdown",
   "id": "79c15d1d",
   "metadata": {},
   "source": [
    "### 디렉토리 만들기\n",
    "\n",
    "```bash\n",
    "$ mkdir -p ~/aiffel/rock_scissor_paper/scissor\n",
    "$ mkdir -p ~/aiffel/rock_scissor_paper/rock\n",
    "$ mkdir -p ~/aiffel/rock_scissor_paper/paper\n",
    "```\n",
    "\n",
    "- 토막 리눅스 사용법  \n",
    "`mkdir -p`  \n",
    "mkdir를 사용하여 하위 디렉토리를 생성할때 차례대로 만들지 않고 중간 디렉토리 없이 바로 그 다음 하위 디렉토리를 만들게되면  \n",
    "\"디렉토리를 생성할 수 없습니다.\" 라는 메시지가 나오는데,  \n",
    "`-p` 옵션을 주어 생성하게 되면 자동으로 중간 단계의 디렉토리를 생성하면서 그 하위 디렉토리를 생성하게 된다.\n",
    "\n",
    "\n",
    "- 클라우드 이미지 압축 해제\n",
    "\n",
    "```bash\n",
    "# 원하는 디렉토리로 이동\n",
    "$ cd  ~/aiffel/rock_scissor_paper/rock\n",
    "$ cd  ~/aiffel/rock_scissor_paper/scissor\n",
    "$ cd  ~/aiffel/rock_scissor_paper/paper\n",
    "\n",
    "# 압축 해제 명령어 : unzip <파일명>.zip\n",
    "$ unzip rock.zip\n",
    "$ unzip scissor.zip\n",
    "$ unzip paper.zip\n",
    "```"
   ]
  },
  {
   "cell_type": "markdown",
   "id": "6a40171b",
   "metadata": {},
   "source": [
    "### 데이터 불러오기 + Resize 하기\n",
    "숫자 손글씨의 경우 이미지 크기가 28x28 이었기 때문에, 우리의 가위, 바위, 보 이미지도 28x28로 만들어야 한다.  \n",
    "이를 위해서는 PIL 라이브러리를 사용해본다.  "
   ]
  },
  {
   "cell_type": "code",
   "execution_count": 2,
   "id": "0b66cb19",
   "metadata": {},
   "outputs": [],
   "source": [
    "from PIL import Image \n",
    "import glob\n",
    "import os"
   ]
  },
  {
   "cell_type": "code",
   "execution_count": 3,
   "id": "f988cedf",
   "metadata": {},
   "outputs": [],
   "source": [
    "def resize_images(img_path):\n",
    "    images=glob.glob(img_path + \"/*.jpg\")  \n",
    "    print(len(images), \" images to be resized.\")\n",
    "\n",
    "    # 파일마다 모두 28x28 사이즈로 바꾸어 저장\n",
    "    target_size=(28,28)\n",
    "    for img in images:\n",
    "        old_img=Image.open(img)\n",
    "        new_img=old_img.resize(target_size,Image.ANTIALIAS)\n",
    "        new_img.save(img, \"JPEG\")\n",
    "    \n",
    "    print(len(images), \" images resized.\")"
   ]
  },
  {
   "cell_type": "markdown",
   "id": "79c06a42",
   "metadata": {},
   "source": [
    "#### 가위"
   ]
  },
  {
   "cell_type": "code",
   "execution_count": 4,
   "id": "75497155",
   "metadata": {},
   "outputs": [
    {
     "name": "stdout",
     "output_type": "stream",
     "text": [
      "100  images to be resized.\n",
      "100  images resized.\n",
      "가위 이미지 resize 완료!\n"
     ]
    }
   ],
   "source": [
    "# 가위 이미지가 저장된 디렉토리 아래의 모든 jpg 파일을 읽어들여서\n",
    "image_dir_path = os.getenv(\"HOME\") + \"/aiffel/rock_scissor_paper/scissor\"\n",
    "resize_images(image_dir_path)\n",
    "\n",
    "print(\"가위 이미지 resize 완료!\")"
   ]
  },
  {
   "cell_type": "markdown",
   "id": "295f51b0",
   "metadata": {},
   "source": [
    "#### 바위"
   ]
  },
  {
   "cell_type": "code",
   "execution_count": 5,
   "id": "12177f34",
   "metadata": {},
   "outputs": [
    {
     "name": "stdout",
     "output_type": "stream",
     "text": [
      "100  images to be resized.\n",
      "100  images resized.\n",
      "바위 이미지 resize 완료!\n"
     ]
    }
   ],
   "source": [
    "# 바위 이미지가 저장된 디렉토리 아래의 모든 jpg 파일을 읽어들여서\n",
    "image_dir_path = os.getenv(\"HOME\") + \"/aiffel/rock_scissor_paper/rock\"\n",
    "resize_images(image_dir_path)\n",
    "\n",
    "print(\"바위 이미지 resize 완료!\")"
   ]
  },
  {
   "cell_type": "markdown",
   "id": "619eed12",
   "metadata": {},
   "source": [
    "#### 보"
   ]
  },
  {
   "cell_type": "code",
   "execution_count": 6,
   "id": "e0ea3720",
   "metadata": {},
   "outputs": [
    {
     "name": "stdout",
     "output_type": "stream",
     "text": [
      "100  images to be resized.\n",
      "100  images resized.\n",
      "보 이미지 resize 완료!\n"
     ]
    }
   ],
   "source": [
    "# 보 이미지가 저장된 디렉토리 아래의 모든 jpg 파일을 읽어들여서\n",
    "image_dir_path = os.getenv(\"HOME\") + \"/aiffel/rock_scissor_paper/paper\"\n",
    "resize_images(image_dir_path)\n",
    "\n",
    "print(\"보 이미지 resize 완료!\")"
   ]
  },
  {
   "cell_type": "markdown",
   "id": "70bdba0d",
   "metadata": {},
   "source": [
    "#### 가위, 바위, 보 데이터를 읽을 수 있는 load_data() 함수\n",
    "\n",
    "`load_data()` 함수  \n",
    "입력으로 이미지가 있는 폴더 위치를 받는다.   \n",
    "가위바위보의 경우, 3개의 클래스 즉, 가위: 0, 바위: 1, 보: 2 로 라벨링이 된다."
   ]
  },
  {
   "cell_type": "code",
   "execution_count": 7,
   "id": "64ea6389",
   "metadata": {},
   "outputs": [],
   "source": [
    "import numpy as np\n",
    "\n",
    "def load_data(img_path, number_of_data):  # 가위바위보 이미지 개수 총합에 주의\n",
    "    # 가위 : 0, 바위 : 1, 보 : 2\n",
    "    img_size=28\n",
    "    color=3\n",
    "    #이미지 데이터와 라벨(가위 : 0, 바위 : 1, 보 : 2) 데이터를 담을 행렬(matrix) 영역을 생성\n",
    "    imgs=np.zeros(number_of_data*img_size*img_size*color,dtype=np.int32).reshape(number_of_data,img_size,img_size,color)\n",
    "    labels=np.zeros(number_of_data,dtype=np.int32)\n",
    "\n",
    "    idx=0\n",
    "    for file in glob.iglob(img_path+'/scissor/*.jpg'):\n",
    "        img = np.array(Image.open(file),dtype=np.int32)\n",
    "        imgs[idx,:,:,:]=img    # 데이터 영역에 이미지 행렬을 복사\n",
    "        labels[idx]=0   # 가위 : 0\n",
    "        idx=idx+1\n",
    "\n",
    "    for file in glob.iglob(img_path+'/rock/*.jpg'):\n",
    "        img = np.array(Image.open(file),dtype=np.int32)\n",
    "        imgs[idx,:,:,:]=img    # 데이터 영역에 이미지 행렬을 복사\n",
    "        labels[idx]=1   # 바위 : 1\n",
    "        idx=idx+1  \n",
    "    \n",
    "    for file in glob.iglob(img_path+'/paper/*.jpg'):\n",
    "        img = np.array(Image.open(file),dtype=np.int32)\n",
    "        imgs[idx,:,:,:]=img    # 데이터 영역에 이미지 행렬을 복사\n",
    "        labels[idx]=2   # 보 : 2\n",
    "        idx=idx+1\n",
    "        \n",
    "    print(\"학습데이터(x_train)의 이미지 개수는\", idx,\"입니다.\")\n",
    "    return imgs, labels"
   ]
  },
  {
   "cell_type": "code",
   "execution_count": 8,
   "id": "2bf0347e",
   "metadata": {},
   "outputs": [
    {
     "name": "stdout",
     "output_type": "stream",
     "text": [
      "학습데이터(x_train)의 이미지 개수는 300 입니다.\n",
      "x_train shape: (300, 28, 28, 3)\n",
      "y_train shape: (300,)\n"
     ]
    }
   ],
   "source": [
    "image_dir_path = os.getenv(\"HOME\") + \"/aiffel/rock_scissor_paper\"\n",
    "(x_train, y_train)=load_data(image_dir_path, 300)\n",
    "x_train_norm = x_train/255.0   # 입력은 0~1 사이의 값으로 정규화\n",
    "\n",
    "print(\"x_train shape: {}\".format(x_train.shape))\n",
    "print(\"y_train shape: {}\".format(y_train.shape))"
   ]
  },
  {
   "cell_type": "code",
   "execution_count": 9,
   "id": "4e8da647",
   "metadata": {},
   "outputs": [
    {
     "name": "stdout",
     "output_type": "stream",
     "text": [
      "라벨:  0\n"
     ]
    },
    {
     "data": {
      "image/png": "[encoded data removed]",
      "text/plain": [
       "<Figure size 432x288 with 1 Axes>"
      ]
     },
     "metadata": {
      "needs_background": "light"
     },
     "output_type": "display_data"
    }
   ],
   "source": [
    "import matplotlib.pyplot as plt\n",
    "\n",
    "plt.imshow(x_train[0])\n",
    "print('라벨: ', y_train[0])"
   ]
  },
  {
   "cell_type": "markdown",
   "id": "a142094c",
   "metadata": {},
   "source": [
    "## 딥러닝"
   ]
  },
  {
   "cell_type": "markdown",
   "id": "aad725d0",
   "metadata": {},
   "source": [
    "### 딥러닝 네트워크 설계하기"
   ]
  },
  {
   "cell_type": "code",
   "execution_count": 80,
   "id": "8a2cf25d",
   "metadata": {},
   "outputs": [],
   "source": [
    "import tensorflow as tf\n",
    "from tensorflow import keras\n",
    "from keras.models import Sequential\n",
    "from keras.layers import Conv2D, MaxPooling2D, Flatten, Dense\n",
    "\n",
    "# 하이퍼파라미터\n",
    "n_channel_1 = 8  # 필터 수\n",
    "n_channel_2 = 32  # 필터 수\n",
    "n_dense = 64     # Dense 계층의 노드 수\n",
    "n_train_epoch=15  # 학습\n",
    "\n",
    "model = Sequential([\n",
    "    Conv2D(n_channel_1, (3,3), activation='relu', input_shape=(28, 28, 3)),\n",
    "    MaxPooling2D(2, 2),\n",
    "    Conv2D(n_channel_2, (3,3), activation='relu'),\n",
    "    MaxPooling2D(2, 2),\n",
    "    Flatten(),\n",
    "    Dense(n_dense, activation='relu'),\n",
    "    Dense(3, activation='softmax')\n",
    "])"
   ]
  },
  {
   "cell_type": "code",
   "execution_count": 81,
   "id": "15de5abb",
   "metadata": {},
   "outputs": [
    {
     "name": "stdout",
     "output_type": "stream",
     "text": [
      "Model: \"sequential_8\"\n",
      "_________________________________________________________________\n",
      "Layer (type)                 Output Shape              Param #   \n",
      "=================================================================\n",
      "conv2d_18 (Conv2D)           (None, 26, 26, 8)         224       \n",
      "_________________________________________________________________\n",
      "max_pooling2d_18 (MaxPooling (None, 13, 13, 8)         0         \n",
      "_________________________________________________________________\n",
      "conv2d_19 (Conv2D)           (None, 11, 11, 32)        2336      \n",
      "_________________________________________________________________\n",
      "max_pooling2d_19 (MaxPooling (None, 5, 5, 32)          0         \n",
      "_________________________________________________________________\n",
      "flatten_8 (Flatten)          (None, 800)               0         \n",
      "_________________________________________________________________\n",
      "dense_16 (Dense)             (None, 64)                51264     \n",
      "_________________________________________________________________\n",
      "dense_17 (Dense)             (None, 3)                 195       \n",
      "=================================================================\n",
      "Total params: 54,019\n",
      "Trainable params: 54,019\n",
      "Non-trainable params: 0\n",
      "_________________________________________________________________\n"
     ]
    }
   ],
   "source": [
    "model.summary()"
   ]
  },
  {
   "cell_type": "markdown",
   "id": "919d1ae4",
   "metadata": {},
   "source": [
    "### 딥러닝 네트워크 학습시키기"
   ]
  },
  {
   "cell_type": "code",
   "execution_count": 82,
   "id": "6d0195bc",
   "metadata": {},
   "outputs": [],
   "source": [
    "model.compile(optimizer='adam',\n",
    "             loss='sparse_categorical_crossentropy',\n",
    "             metrics=['accuracy'])"
   ]
  },
  {
   "cell_type": "code",
   "execution_count": 83,
   "id": "179eab13",
   "metadata": {},
   "outputs": [
    {
     "name": "stdout",
     "output_type": "stream",
     "text": [
      "Epoch 1/15\n",
      "10/10 [==============================] - 1s 15ms/step - loss: 5.9328 - accuracy: 0.4267\n",
      "Epoch 2/15\n",
      "10/10 [==============================] - 0s 17ms/step - loss: 1.4391 - accuracy: 0.5833\n",
      "Epoch 3/15\n",
      "10/10 [==============================] - 0s 16ms/step - loss: 0.7071 - accuracy: 0.7233\n",
      "Epoch 4/15\n",
      "10/10 [==============================] - 0s 15ms/step - loss: 0.3830 - accuracy: 0.8633\n",
      "Epoch 5/15\n",
      "10/10 [==============================] - 0s 16ms/step - loss: 0.2293 - accuracy: 0.9400\n",
      "Epoch 6/15\n",
      "10/10 [==============================] - 0s 14ms/step - loss: 0.1469 - accuracy: 0.9667\n",
      "Epoch 7/15\n",
      "10/10 [==============================] - 0s 17ms/step - loss: 0.0834 - accuracy: 0.9900\n",
      "Epoch 8/15\n",
      "10/10 [==============================] - 0s 15ms/step - loss: 0.0609 - accuracy: 0.9967\n",
      "Epoch 9/15\n",
      "10/10 [==============================] - 0s 17ms/step - loss: 0.0375 - accuracy: 1.0000\n",
      "Epoch 10/15\n",
      "10/10 [==============================] - 0s 17ms/step - loss: 0.0262 - accuracy: 1.0000\n",
      "Epoch 11/15\n",
      "10/10 [==============================] - 0s 14ms/step - loss: 0.0198 - accuracy: 1.0000\n",
      "Epoch 12/15\n",
      "10/10 [==============================] - 0s 18ms/step - loss: 0.0149 - accuracy: 1.0000\n",
      "Epoch 13/15\n",
      "10/10 [==============================] - 0s 14ms/step - loss: 0.0128 - accuracy: 1.0000\n",
      "Epoch 14/15\n",
      "10/10 [==============================] - 0s 16ms/step - loss: 0.0106 - accuracy: 1.0000\n",
      "Epoch 15/15\n",
      "10/10 [==============================] - 0s 15ms/step - loss: 0.0091 - accuracy: 1.0000\n"
     ]
    },
    {
     "data": {
      "text/plain": [
       "<keras.callbacks.History at 0x7f44a8504880>"
      ]
     },
     "execution_count": 83,
     "metadata": {},
     "output_type": "execute_result"
    }
   ],
   "source": [
    "# 모델 훈련\n",
    "model.fit(\n",
    "    x_train, y_train, \n",
    "    epochs=n_train_epoch)"
   ]
  },
  {
   "cell_type": "markdown",
   "id": "968de0ee",
   "metadata": {},
   "source": [
    "### 얼마나 잘 만들었는지 확인하기(테스트)\n",
    "\n",
    "```bash\n",
    "# test 디렉토리를 생성해서, 친구에게 받은 데이터를 업로드\n",
    "$ mkdir -p ~/aiffel/rock_scissor_paper/test\n",
    "$ mkdir -p ~/aiffel/rock_scissor_paper/test/scissor\n",
    "$ mkdir -p ~/aiffel/rock_scissor_paper/test/rock\n",
    "$ mkdir -p ~/aiffel/rock_scissor_paper/test/paper\n",
    "\n",
    "# 압축 해체\n",
    "$ cd  ~/aiffel/rock_scissor_paper/test/rock && unzip rock.zip\n",
    "$ cd  ~/aiffel/rock_scissor_paper/test/scissor && unzip scissor.zip\n",
    "$ cd  ~/aiffel/rock_scissor_paper/test/paper && unzip paper.zip\n",
    "```\n",
    "\n",
    "```python\n",
    "import zipfile\n",
    "import os\n",
    "\n",
    "def extract_zip_with_unique_names(zip_folder_path, extract_folder_path):\n",
    "    # zip 폴더 내의 모든 zip 파일을 대상으로 반복\n",
    "    for zip_file in os.listdir(zip_folder_path):\n",
    "        if zip_file.endswith('.zip'):\n",
    "            # zip 파일의 전체 경로를 구성\n",
    "            zip_file_path = os.path.join(zip_folder_path, zip_file)\n",
    "            # 파일 이름에서 확장자를 제외\n",
    "            zip_file_name = os.path.splitext(zip_file)[0]\n",
    "            \n",
    "            with zipfile.ZipFile(zip_file_path, 'r') as zip_ref:\n",
    "                # zip 파일 내의 모든 파일을 대상으로 반복\n",
    "                for member in zip_ref.infolist():\n",
    "                    # 원본 파일 이름을 가져오기\n",
    "                    original_filename = member.filename\n",
    "                    # 새 파일 이름 구성(여기서는 zip 파일 이름을 앞에 추가)\n",
    "                    new_filename = f\"{zip_file_name}_{original_filename}\"\n",
    "                    # 추출 경로 지정\n",
    "                    new_file_path = os.path.join(extract_folder_path, new_filename)\n",
    "                    \n",
    "                    # 파일 추출\n",
    "                    with zip_ref.open(member, 'r') as file, open(new_file_path, 'wb') as outfile:\n",
    "                        outfile.write(file.read())\n",
    "\n",
    "# 사용 예시\n",
    "zip_folder_path = os.getenv(\"HOME\") + \"/aiffel/rock_scissor_paper/test/rock\"      # Zip 파일이 있는 폴더 경로\n",
    "extract_folder_path = os.getenv(\"HOME\") + \"/aiffel/rock_scissor_paper/test/rock\"  # 추출된 파일을 저장할 폴더 경로\n",
    "\n",
    "# 함수 호출\n",
    "extract_zip_with_unique_names(zip_folder_path, extract_folder_path)\n",
    "```"
   ]
  },
  {
   "cell_type": "markdown",
   "id": "438d2c53",
   "metadata": {},
   "source": [
    "#### 테스트"
   ]
  },
  {
   "cell_type": "code",
   "execution_count": 84,
   "id": "962f3189",
   "metadata": {},
   "outputs": [
    {
     "name": "stdout",
     "output_type": "stream",
     "text": [
      "학습데이터(x_train)의 이미지 개수는 1294 입니다.\n",
      "x_test shape: (1294, 28, 28, 3)\n",
      "y_test shape: (1294,)\n"
     ]
    }
   ],
   "source": [
    "(x_test, y_test)=load_data(image_dir_path, 1294)\n",
    "x_test_norm = x_test/255.0   # 입력은 0~1 사이의 값으로 정규화\n",
    "print(\"x_test shape: {}\".format(x_test.shape))\n",
    "print(\"y_test shape: {}\".format(y_test.shape))"
   ]
  },
  {
   "cell_type": "code",
   "execution_count": 85,
   "id": "1a634280",
   "metadata": {},
   "outputs": [
    {
     "name": "stdout",
     "output_type": "stream",
     "text": [
      "41/41 - 0s - loss: 7.1791 - accuracy: 0.3509\n",
      "test_loss: 7.179081439971924 \n",
      "test_accuracy: 0.35085007548332214\n"
     ]
    }
   ],
   "source": [
    "test_loss, test_accuracy = model.evaluate(x_test, y_test, verbose=2)\n",
    "print(\"test_loss: {} \".format(test_loss))\n",
    "print(\"test_accuracy: {}\".format(test_accuracy))"
   ]
  },
  {
   "cell_type": "code",
   "execution_count": 86,
   "id": "7b736bc4",
   "metadata": {},
   "outputs": [
    {
     "name": "stdout",
     "output_type": "stream",
     "text": [
      "\n",
      "Classification Report\n",
      "              precision    recall  f1-score   support\n",
      "\n",
      "           0       0.34      0.28      0.31       510\n",
      "           1       0.34      0.59      0.43       381\n",
      "           2       0.41      0.21      0.28       403\n",
      "\n",
      "    accuracy                           0.35      1294\n",
      "   macro avg       0.36      0.36      0.34      1294\n",
      "weighted avg       0.36      0.35      0.34      1294\n",
      "\n"
     ]
    }
   ],
   "source": [
    "from sklearn.metrics import classification_report\n",
    "import numpy as np\n",
    "\n",
    "# 예측 수행\n",
    "y_pred = model.predict(x_test)\n",
    "y_pred_classes = np.argmax(y_pred, axis=1)  # 가장 높은 확률을 가진 클래스를 선택\n",
    "\n",
    "\n",
    "print(\"\\nClassification Report\")\n",
    "print(classification_report(y_test, y_pred_classes))"
   ]
  },
  {
   "cell_type": "markdown",
   "id": "3866a6e2",
   "metadata": {},
   "source": [
    "#### 어떤 데이터를 잘못 추론했을까?"
   ]
  },
  {
   "cell_type": "code",
   "execution_count": 87,
   "id": "aa72fea7",
   "metadata": {},
   "outputs": [
    {
     "name": "stdout",
     "output_type": "stream",
     "text": [
      "model.predict() 결과 :  [9.9202466e-01 7.9572117e-03 1.8064731e-05]\n",
      "model이 추론한 가장 가능성이 높은 결과 :  0\n",
      "실제 데이터의 라벨 :  0\n"
     ]
    }
   ],
   "source": [
    "predicted_result = model.predict(x_test)  # model이 추론한 확률값. \n",
    "predicted_labels = np.argmax(predicted_result, axis=1)\n",
    "\n",
    "idx=0  #1번째 x_test를 살펴보자. \n",
    "print('model.predict() 결과 : ', predicted_result[idx])\n",
    "print('model이 추론한 가장 가능성이 높은 결과 : ', predicted_labels[idx])\n",
    "print('실제 데이터의 라벨 : ', y_test[idx])"
   ]
  },
  {
   "cell_type": "code",
   "execution_count": 88,
   "id": "83652ac5",
   "metadata": {},
   "outputs": [
    {
     "data": {
      "image/png": "[encoded data removed]",
      "text/plain": [
       "<Figure size 432x288 with 1 Axes>"
      ]
     },
     "metadata": {
      "needs_background": "light"
     },
     "output_type": "display_data"
    }
   ],
   "source": [
    "plt.imshow(x_test[idx],cmap=plt.cm.binary)\n",
    "plt.show()"
   ]
  },
  {
   "cell_type": "code",
   "execution_count": 89,
   "id": "643c3884",
   "metadata": {},
   "outputs": [
    {
     "name": "stdout",
     "output_type": "stream",
     "text": [
      "예측확률분포: [5.0264043e-07 9.9999952e-01 1.3865492e-11]\n",
      "라벨: 0, 예측결과: 1\n"
     ]
    },
    {
     "data": {
      "image/png": "[encoded data removed]",
      "text/plain": [
       "<Figure size 432x288 with 1 Axes>"
      ]
     },
     "metadata": {
      "needs_background": "light"
     },
     "output_type": "display_data"
    },
    {
     "name": "stdout",
     "output_type": "stream",
     "text": [
      "예측확률분포: [7.128965e-05 9.941910e-01 5.737656e-03]\n",
      "라벨: 2, 예측결과: 1\n"
     ]
    },
    {
     "data": {
      "image/png": "[encoded data removed]",
      "text/plain": [
       "<Figure size 432x288 with 1 Axes>"
      ]
     },
     "metadata": {
      "needs_background": "light"
     },
     "output_type": "display_data"
    },
    {
     "name": "stdout",
     "output_type": "stream",
     "text": [
      "예측확률분포: [9.8980712e-03 3.9986535e-06 9.9009794e-01]\n",
      "라벨: 0, 예측결과: 2\n"
     ]
    },
    {
     "data": {
      "image/png": "[encoded data removed]",
      "text/plain": [
       "<Figure size 432x288 with 1 Axes>"
      ]
     },
     "metadata": {
      "needs_background": "light"
     },
     "output_type": "display_data"
    },
    {
     "name": "stdout",
     "output_type": "stream",
     "text": [
      "예측확률분포: [9.6630210e-08 9.9999988e-01 5.3436178e-08]\n",
      "라벨: 0, 예측결과: 1\n"
     ]
    },
    {
     "data": {
      "image/png": "[encoded data removed]",
      "text/plain": [
       "<Figure size 432x288 with 1 Axes>"
      ]
     },
     "metadata": {
      "needs_background": "light"
     },
     "output_type": "display_data"
    },
    {
     "name": "stdout",
     "output_type": "stream",
     "text": [
      "예측확률분포: [9.9980897e-01 1.8189415e-04 9.2274231e-06]\n",
      "라벨: 2, 예측결과: 0\n"
     ]
    },
    {
     "data": {
      "image/png": "[encoded data removed]",
      "text/plain": [
       "<Figure size 432x288 with 1 Axes>"
      ]
     },
     "metadata": {
      "needs_background": "light"
     },
     "output_type": "display_data"
    }
   ],
   "source": [
    "import random\n",
    "wrong_predict_list=[]\n",
    "for i, _ in enumerate(predicted_labels):\n",
    "    # i번째 test_labels과 y_test이 다른 경우만 모아 봅시다. \n",
    "    if predicted_labels[i] != y_test[i]:\n",
    "        wrong_predict_list.append(i)\n",
    "\n",
    "# wrong_predict_list 에서 랜덤하게 5개만 뽑아봅시다.\n",
    "samples = random.choices(population=wrong_predict_list, k=5)\n",
    "\n",
    "for n in samples:\n",
    "    print(\"예측확률분포: \" + str(predicted_result[n]))\n",
    "    print(\"라벨: \" + str(y_test[n]) + \", 예측결과: \" + str(predicted_labels[n]))\n",
    "    plt.imshow(x_test[n], cmap=plt.cm.binary)\n",
    "    plt.show()"
   ]
  },
  {
   "cell_type": "markdown",
   "id": "c1217863",
   "metadata": {},
   "source": [
    "### 더 좋은 네트워크 만들어보기"
   ]
  },
  {
   "cell_type": "markdown",
   "id": "1312cef8",
   "metadata": {},
   "source": [
    "#### 데이터 증강 (Data Augmentation)\n",
    "이미지 데이터의 다양성을 늘려 모델이 더 일반화되도록 한다.  \n",
    "ImageDataGenerator를 사용하여 이미지를 회전시키거나, 가로/세로로 이동, 뒤집기, 확대/축소 등의 변환을 적용할 수 있다."
   ]
  },
  {
   "cell_type": "code",
   "execution_count": 161,
   "id": "ab1848f2",
   "metadata": {},
   "outputs": [],
   "source": [
    "from sklearn.model_selection import train_test_split\n",
    "\n",
    "# 훈련 데이터와 검증 데이터로 분리\n",
    "x_train, x_val, y_train, y_val = train_test_split(x_train, y_train, test_size=0.2, random_state=42)\n",
    "\n",
    "# 훈련 데이터에 대한 데이터 증강 설정\n",
    "train_datagen = ImageDataGenerator(\n",
    "    rotation_range=45,           # 무작위 회전의 각도 범위\n",
    "    width_shift_range=0.2,       # 수평 이동 비율\n",
    "    height_shift_range=0.2,      # 수직 이동 비율\n",
    "    shear_range=0.2,             # 전단 변환의 각도\n",
    "    zoom_range=0.2,              # 확대/축소 비율\n",
    "    horizontal_flip=True,        # 수평 뒤집기\n",
    "    fill_mode='reflect',  \n",
    ")"
   ]
  },
  {
   "cell_type": "code",
   "execution_count": 162,
   "id": "5181c7cb",
   "metadata": {},
   "outputs": [
    {
     "data": {
      "image/png": "[encoded data removed]",
      "text/plain": [
       "<Figure size 720x720 with 9 Axes>"
      ]
     },
     "metadata": {
      "needs_background": "light"
     },
     "output_type": "display_data"
    }
   ],
   "source": [
    "it = datagen.flow(x_train[:1], batch_size=1)\n",
    "\n",
    "# 첫 9개의 증강된 이미지를 시각화합니다.\n",
    "plt.figure(figsize=(10, 10))\n",
    "for i in range(9):\n",
    "    plt.subplot(330 + 1 + i)\n",
    "    batch = it.next()                 # 증강된 이미지 배치를 생성\n",
    "    image = batch[0].astype('uint8')  # 이미지를 정수형으로 변환하여 시각화\n",
    "    plt.imshow(image)\n",
    "plt.show()"
   ]
  },
  {
   "cell_type": "code",
   "execution_count": 163,
   "id": "5e5e2253",
   "metadata": {},
   "outputs": [],
   "source": [
    "# 검증 데이터에 대해서는 데이터 증강을 적용하지 않는다.\n",
    "# 필요에 따라 검증 데이터에 대해 적절한 전처리만 적용한다.\n",
    "val_datagen = ImageDataGenerator()\n",
    "\n",
    "# 데이터 증강을 적용한 데이터 생성기 생성\n",
    "train_generator = train_datagen.flow(x_train, y_train)\n",
    "val_generator = val_datagen.flow(x_val, y_val)"
   ]
  },
  {
   "cell_type": "markdown",
   "id": "682e4f1b",
   "metadata": {},
   "source": [
    "#### 정규화 기법 추가\n",
    "배치 정규화(Batch Normalization)를 추가하여 각 층의 입력을 정규화하고, 학습을 안정화시키며 성능을 향상시킬 수 있다."
   ]
  },
  {
   "cell_type": "code",
   "execution_count": 236,
   "id": "cb090739",
   "metadata": {},
   "outputs": [],
   "source": [
    "import tensorflow as tf\n",
    "from tensorflow import keras\n",
    "from keras.models import Sequential\n",
    "from keras.layers import Conv2D, MaxPooling2D, Flatten, Dense, Dropout, BatchNormalization\n",
    "\n",
    "# 하이퍼파라미터\n",
    "n_channel_1 = 4\n",
    "n_channel_2 = 16\n",
    "n_channel_3 = 32\n",
    "n_dense = 16           # Dense 계층의 노드 수\n",
    "n_train_epoch= 100       # 학습\n",
    "dropout_rate = 0.2      # Dropout 비율\n",
    "\n",
    "model = Sequential([\n",
    "    Conv2D(n_channel_1, (3, 3), activation='relu', input_shape=(28, 28, 3)),\n",
    "    BatchNormalization(),\n",
    "    MaxPooling2D(2, 2),\n",
    "    Dropout(dropout_rate),\n",
    "    \n",
    "    Conv2D(n_channel_2, (3, 3), activation='relu'),\n",
    "    BatchNormalization(),\n",
    "    MaxPooling2D(2, 2),\n",
    "    Dropout(dropout_rate),\n",
    "    \n",
    "    Conv2D(n_channel_3, (3, 3), activation='relu'),\n",
    "    BatchNormalization(),\n",
    "    MaxPooling2D(2, 2),\n",
    "    Dropout(dropout_rate),\n",
    "    \n",
    "    Flatten(),\n",
    "    Dense(n_dense, activation='relu'),\n",
    "    Dropout(dropout_rate),\n",
    "    Dense(3, activation='softmax')\n",
    "])"
   ]
  },
  {
   "cell_type": "code",
   "execution_count": 237,
   "id": "61887199",
   "metadata": {},
   "outputs": [
    {
     "name": "stdout",
     "output_type": "stream",
     "text": [
      "Model: \"sequential_24\"\n",
      "_________________________________________________________________\n",
      "Layer (type)                 Output Shape              Param #   \n",
      "=================================================================\n",
      "conv2d_65 (Conv2D)           (None, 26, 26, 4)         112       \n",
      "_________________________________________________________________\n",
      "batch_normalization_61 (Batc (None, 26, 26, 4)         16        \n",
      "_________________________________________________________________\n",
      "max_pooling2d_65 (MaxPooling (None, 13, 13, 4)         0         \n",
      "_________________________________________________________________\n",
      "dropout_83 (Dropout)         (None, 13, 13, 4)         0         \n",
      "_________________________________________________________________\n",
      "conv2d_66 (Conv2D)           (None, 11, 11, 16)        592       \n",
      "_________________________________________________________________\n",
      "batch_normalization_62 (Batc (None, 11, 11, 16)        64        \n",
      "_________________________________________________________________\n",
      "max_pooling2d_66 (MaxPooling (None, 5, 5, 16)          0         \n",
      "_________________________________________________________________\n",
      "dropout_84 (Dropout)         (None, 5, 5, 16)          0         \n",
      "_________________________________________________________________\n",
      "conv2d_67 (Conv2D)           (None, 3, 3, 32)          4640      \n",
      "_________________________________________________________________\n",
      "batch_normalization_63 (Batc (None, 3, 3, 32)          128       \n",
      "_________________________________________________________________\n",
      "max_pooling2d_67 (MaxPooling (None, 1, 1, 32)          0         \n",
      "_________________________________________________________________\n",
      "dropout_85 (Dropout)         (None, 1, 1, 32)          0         \n",
      "_________________________________________________________________\n",
      "flatten_24 (Flatten)         (None, 32)                0         \n",
      "_________________________________________________________________\n",
      "dense_48 (Dense)             (None, 16)                528       \n",
      "_________________________________________________________________\n",
      "dropout_86 (Dropout)         (None, 16)                0         \n",
      "_________________________________________________________________\n",
      "dense_49 (Dense)             (None, 3)                 51        \n",
      "=================================================================\n",
      "Total params: 6,131\n",
      "Trainable params: 6,027\n",
      "Non-trainable params: 104\n",
      "_________________________________________________________________\n"
     ]
    }
   ],
   "source": [
    "model.summary()"
   ]
  },
  {
   "cell_type": "markdown",
   "id": "1fee0617",
   "metadata": {},
   "source": [
    "#### Early Stopping\n",
    "학습 중 검증 데이터에 대한 성능이 더 이상 개선되지 않을 때 학습을 자동으로 중단시키는 방법  \n",
    "이를 통해 과적합을 방지하고, 학습 시간을 절약할 수 있다."
   ]
  },
  {
   "cell_type": "code",
   "execution_count": 238,
   "id": "05b1491b",
   "metadata": {},
   "outputs": [],
   "source": [
    "from tensorflow.keras.callbacks import EarlyStopping\n",
    "\n",
    "# Early Stopping 설정\n",
    "early_stopping = EarlyStopping(\n",
    "    monitor='val_loss',  # 검증 손실을 기준으로\n",
    "    patience=10,         # 성능이 개선되지 않는 에폭을 몇 번 허용할 것인지\n",
    "    verbose=1,\n",
    "    mode='min',          # 'min'은 손실이 감소하는 것을 멈출 때, 'max'는 정확도가 더 이상 증가하지 않을 때 중단\n",
    "    restore_best_weights=True  # 가장 좋은 모델의 가중치를 복원\n",
    ")"
   ]
  },
  {
   "cell_type": "code",
   "execution_count": 239,
   "id": "f0a6042f",
   "metadata": {},
   "outputs": [],
   "source": [
    "model.compile(optimizer='adam',\n",
    "             loss='sparse_categorical_crossentropy',\n",
    "             metrics=['accuracy'])"
   ]
  },
  {
   "cell_type": "code",
   "execution_count": 240,
   "id": "0c40cc9a",
   "metadata": {},
   "outputs": [
    {
     "name": "stdout",
     "output_type": "stream",
     "text": [
      "Epoch 1/100\n",
      "4/4 [==============================] - 1s 86ms/step - loss: 1.7747 - accuracy: 0.3093 - val_loss: 4.2254 - val_accuracy: 0.4000\n",
      "Epoch 2/100\n",
      "4/4 [==============================] - 0s 35ms/step - loss: 1.3669 - accuracy: 0.3505 - val_loss: 2.3873 - val_accuracy: 0.4000\n",
      "Epoch 3/100\n",
      "4/4 [==============================] - 0s 45ms/step - loss: 1.6251 - accuracy: 0.3608 - val_loss: 1.7486 - val_accuracy: 0.4000\n",
      "Epoch 4/100\n",
      "4/4 [==============================] - 0s 36ms/step - loss: 1.5180 - accuracy: 0.3402 - val_loss: 1.4333 - val_accuracy: 0.4000\n",
      "Epoch 5/100\n",
      "4/4 [==============================] - 0s 32ms/step - loss: 1.4000 - accuracy: 0.3918 - val_loss: 1.2009 - val_accuracy: 0.4000\n",
      "Epoch 6/100\n",
      "4/4 [==============================] - 0s 40ms/step - loss: 1.2816 - accuracy: 0.4536 - val_loss: 1.1244 - val_accuracy: 0.4000\n",
      "Epoch 7/100\n",
      "4/4 [==============================] - 0s 55ms/step - loss: 1.3992 - accuracy: 0.3505 - val_loss: 1.0890 - val_accuracy: 0.4000\n",
      "Epoch 8/100\n",
      "4/4 [==============================] - 0s 72ms/step - loss: 1.3851 - accuracy: 0.3814 - val_loss: 1.0655 - val_accuracy: 0.4000\n",
      "Epoch 9/100\n",
      "4/4 [==============================] - 0s 53ms/step - loss: 1.4799 - accuracy: 0.3505 - val_loss: 1.0574 - val_accuracy: 0.4400\n",
      "Epoch 10/100\n",
      "4/4 [==============================] - 0s 37ms/step - loss: 1.1032 - accuracy: 0.4330 - val_loss: 1.0631 - val_accuracy: 0.3200\n",
      "Epoch 11/100\n",
      "4/4 [==============================] - 0s 45ms/step - loss: 1.2230 - accuracy: 0.4742 - val_loss: 1.0389 - val_accuracy: 0.3200\n",
      "Epoch 12/100\n",
      "4/4 [==============================] - 0s 37ms/step - loss: 1.2097 - accuracy: 0.4330 - val_loss: 1.0274 - val_accuracy: 0.3600\n",
      "Epoch 13/100\n",
      "4/4 [==============================] - 0s 36ms/step - loss: 1.3897 - accuracy: 0.3918 - val_loss: 1.0380 - val_accuracy: 0.3200\n",
      "Epoch 14/100\n",
      "4/4 [==============================] - 0s 36ms/step - loss: 1.1774 - accuracy: 0.4227 - val_loss: 1.0514 - val_accuracy: 0.3600\n",
      "Epoch 15/100\n",
      "4/4 [==============================] - 0s 45ms/step - loss: 1.2159 - accuracy: 0.3711 - val_loss: 1.0548 - val_accuracy: 0.3600\n",
      "Epoch 16/100\n",
      "4/4 [==============================] - 0s 35ms/step - loss: 1.2548 - accuracy: 0.4330 - val_loss: 1.0422 - val_accuracy: 0.3600\n",
      "Epoch 17/100\n",
      "4/4 [==============================] - 0s 37ms/step - loss: 1.3191 - accuracy: 0.3918 - val_loss: 1.0332 - val_accuracy: 0.3600\n",
      "Epoch 18/100\n",
      "4/4 [==============================] - 0s 36ms/step - loss: 1.3336 - accuracy: 0.3918 - val_loss: 1.0401 - val_accuracy: 0.3600\n",
      "Epoch 19/100\n",
      "4/4 [==============================] - 0s 38ms/step - loss: 1.2780 - accuracy: 0.3711 - val_loss: 1.0317 - val_accuracy: 0.3600\n",
      "Epoch 20/100\n",
      "4/4 [==============================] - 0s 49ms/step - loss: 1.1070 - accuracy: 0.4124 - val_loss: 1.0205 - val_accuracy: 0.4000\n",
      "Epoch 21/100\n",
      "4/4 [==============================] - 0s 34ms/step - loss: 1.2974 - accuracy: 0.3711 - val_loss: 1.0166 - val_accuracy: 0.5200\n",
      "Epoch 22/100\n",
      "4/4 [==============================] - 0s 51ms/step - loss: 1.0563 - accuracy: 0.5155 - val_loss: 1.0204 - val_accuracy: 0.4800\n",
      "Epoch 23/100\n",
      "4/4 [==============================] - 0s 34ms/step - loss: 1.2429 - accuracy: 0.3711 - val_loss: 1.0232 - val_accuracy: 0.5200\n",
      "Epoch 24/100\n",
      "4/4 [==============================] - 0s 40ms/step - loss: 1.1022 - accuracy: 0.4330 - val_loss: 1.0282 - val_accuracy: 0.4800\n",
      "Epoch 25/100\n",
      "4/4 [==============================] - 0s 35ms/step - loss: 1.2032 - accuracy: 0.4021 - val_loss: 1.0350 - val_accuracy: 0.5200\n",
      "Epoch 26/100\n",
      "4/4 [==============================] - 0s 35ms/step - loss: 1.0295 - accuracy: 0.4639 - val_loss: 1.0406 - val_accuracy: 0.5600\n",
      "Epoch 27/100\n",
      "4/4 [==============================] - 0s 38ms/step - loss: 1.3084 - accuracy: 0.3918 - val_loss: 1.0500 - val_accuracy: 0.6000\n",
      "Epoch 28/100\n",
      "4/4 [==============================] - 0s 36ms/step - loss: 1.1487 - accuracy: 0.4227 - val_loss: 1.0506 - val_accuracy: 0.4800\n",
      "Epoch 29/100\n",
      "4/4 [==============================] - 0s 44ms/step - loss: 1.1618 - accuracy: 0.4021 - val_loss: 1.0647 - val_accuracy: 0.2400\n",
      "Epoch 30/100\n",
      "4/4 [==============================] - 0s 37ms/step - loss: 1.1696 - accuracy: 0.4124 - val_loss: 1.0966 - val_accuracy: 0.2400\n",
      "Epoch 31/100\n",
      "4/4 [==============================] - 0s 33ms/step - loss: 1.0464 - accuracy: 0.5052 - val_loss: 1.1267 - val_accuracy: 0.2400\n",
      "Restoring model weights from the end of the best epoch.\n",
      "Epoch 00031: early stopping\n"
     ]
    }
   ],
   "source": [
    "# 모델 훈련\n",
    "history = model.fit(\n",
    "    train_generator,\n",
    "    epochs=n_train_epoch,\n",
    "    validation_data=val_generator,\n",
    "    callbacks=[early_stopping]\n",
    ")"
   ]
  },
  {
   "cell_type": "markdown",
   "id": "48077b52",
   "metadata": {},
   "source": [
    "#### 테스트"
   ]
  },
  {
   "cell_type": "code",
   "execution_count": 241,
   "id": "d820b8ed",
   "metadata": {},
   "outputs": [
    {
     "name": "stdout",
     "output_type": "stream",
     "text": [
      "41/41 - 0s - loss: 1.1124 - accuracy: 0.4250\n",
      "test_loss: 1.112391710281372 \n",
      "test_accuracy: 0.4250386357307434\n"
     ]
    }
   ],
   "source": [
    "test_loss, test_accuracy = model.evaluate(x_test, y_test, verbose=2)\n",
    "print(\"test_loss: {} \".format(test_loss))\n",
    "print(\"test_accuracy: {}\".format(test_accuracy))"
   ]
  },
  {
   "cell_type": "code",
   "execution_count": 242,
   "id": "bf80e982",
   "metadata": {},
   "outputs": [
    {
     "name": "stdout",
     "output_type": "stream",
     "text": [
      "Classification Report\n",
      "              precision    recall  f1-score   support\n",
      "\n",
      "           0       0.45      0.82      0.58       510\n",
      "           1       0.37      0.13      0.19       381\n",
      "           2       0.38      0.21      0.27       403\n",
      "\n",
      "    accuracy                           0.43      1294\n",
      "   macro avg       0.40      0.38      0.34      1294\n",
      "weighted avg       0.40      0.43      0.37      1294\n",
      "\n"
     ]
    }
   ],
   "source": [
    "from sklearn.metrics import classification_report\n",
    "import numpy as np\n",
    "\n",
    "# 예측 수행\n",
    "y_pred = model.predict(x_test)\n",
    "y_pred_classes = np.argmax(y_pred, axis=1)  # 가장 높은 확률을 가진 클래스를 선택\n",
    "\n",
    "\n",
    "print(\"Classification Report\")\n",
    "print(classification_report(y_test, y_pred_classes))"
   ]
  },
  {
   "cell_type": "markdown",
   "id": "0873d00b",
   "metadata": {},
   "source": [
    "#### 시각화"
   ]
  },
  {
   "cell_type": "code",
   "execution_count": 243,
   "id": "7181ccb2",
   "metadata": {},
   "outputs": [
    {
     "data": {
      "image/png": "[encoded data removed]",
      "text/plain": [
       "<Figure size 432x288 with 1 Axes>"
      ]
     },
     "metadata": {
      "needs_background": "light"
     },
     "output_type": "display_data"
    }
   ],
   "source": [
    "# 훈련 및 검증 정확도 그리기\n",
    "plt.plot(history.history['accuracy'], label='Train Acc')\n",
    "plt.plot(history.history['val_accuracy'], label='Val Acc')\n",
    "plt.title('Model Accuracy')\n",
    "plt.ylabel('Accuracy')\n",
    "plt.xlabel('Epoch')\n",
    "plt.legend(loc='upper left')\n",
    "plt.show()"
   ]
  },
  {
   "cell_type": "code",
   "execution_count": 244,
   "id": "b4930b09",
   "metadata": {},
   "outputs": [
    {
     "data": {
      "image/png": "[encoded data removed]",
      "text/plain": [
       "<Figure size 432x288 with 1 Axes>"
      ]
     },
     "metadata": {
      "needs_background": "light"
     },
     "output_type": "display_data"
    }
   ],
   "source": [
    "# 훈련 및 검증 손실 그리기\n",
    "plt.plot(history.history['loss'], label='Train Loss')\n",
    "plt.plot(history.history['val_loss'], label='Val Loss')\n",
    "plt.title('Model Loss')\n",
    "plt.ylabel('Loss')\n",
    "plt.xlabel('Epoch')\n",
    "plt.legend(loc='upper right')\n",
    "plt.show()"
   ]
  },
  {
   "cell_type": "markdown",
   "id": "fccf756d",
   "metadata": {},
   "source": [
    "## 회고\n",
    "딥러닝을 배우니까 너무 재밌는 거 같다.  \n",
    "뭔가 숫자 맞추기 게임하는 거 같기도 하고 정확도가 오르면 너무 기쁜데  \n",
    "떨어지면 왜 떨어지는지 알 수 없으니까 답답하기도 하고  \n",
    "\n",
    "다시 한 번 인공지능의 재미를 느낀 거 같다.   \n",
    "\n",
    "아직 정확도가 좋지 않아서 여러번 시도할 예정이지만,,,,  \n",
    "어떻게 하면 더 잘나올까..고민이 된다..  \n",
    "\n",
    "시간이 얼마 없으니까 할 수 있는데까지 해봐야겠다. ;(  "
   ]
  }
 ],
 "metadata": {
  "kernelspec": {
   "display_name": "Python 3 (ipykernel)",
   "language": "python",
   "name": "python3"
  },
  "language_info": {
   "codemirror_mode": {
    "name": "ipython",
    "version": 3
   },
   "file_extension": ".py",
   "mimetype": "text/x-python",
   "name": "python",
   "nbconvert_exporter": "python",
   "pygments_lexer": "ipython3",
   "version": "3.9.7"
  }
 },
 "nbformat": 4,
 "nbformat_minor": 5
}
