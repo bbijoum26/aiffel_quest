{
 "cells": [
  {
   "cell_type": "markdown",
   "metadata": {},
   "source": [
    "# Movielens 영화 SBR\n",
    "Movielens 1M Dataset을 기반으로, Session based Recommendation 시스템 제작\n",
    "\n",
    "- 여기서 이전 실습 내역과 가장 크게 다른 부분은 바로 SessionID 대신 UserID 항목이 들어갔다는 점이다. \n",
    "    - 이 데이터셋은 명확한 1회 세션의 SessionID를 포함하지 않고 있다. \n",
    "    - 그래서 이번에는 UserID가 SessionID 역할을 해야 한다.\n",
    "\n",
    "- Rating 정보가 포함되어 있다. \n",
    "    - 이전 실습 내역에서는 이런 항목이 포함되어 있지 않았으므로, 무시하고 제외할 수 있다. \n",
    "    - 하지만, 직전에 봤던 영화가 맘에 들었는지가 비슷한 영화를 더 고르게 하는 것과 상관이 있을 수도 있다. \n",
    "    - 아울러, Rating이 낮은 데이터를 어떻게 처리할지도 고민해야한다.\n",
    "\n",
    "- Time 항목에는 UTC time 가 포함되어, 1970년 1월 1일부터 경과된 초 단위 시간이 기재되어 있다.\n",
    "\n",
    "\n",
    "\n",
    "\n",
    "평가문항\n",
    "1. Movielens 데이터셋을 session based recommendation 관점으로 전처리하는 과정이 체계적으로 진행되었다.\t\n",
    "    - 데이터셋의 면밀한 분석을 토대로 세션단위 정의 과정(길이분석, 시간분석)을 합리적으로 수행한 과정이 기술되었다.\n",
    "2. RNN 기반의 예측 모델이 정상적으로 구성되어 안정적으로 훈련이 진행되었다.\t\n",
    "    - 적절한 epoch만큼의 학습이 진행되는 과정에서 train loss가 안정적으로 감소하고, validation 단계에서의 Recall, MRR이 개선되는 것이 확인된다.\n",
    "3. 세션정의, 모델구조, 하이퍼파라미터 등을 변경해서 실험하여 Recall, MRR 등의 변화추이를 관찰하였다.\n",
    "    - 3가지 이상의 변화를 시도하고 그 실험결과를 체계적으로 분석하였다.\n"
   ]
  },
  {
   "cell_type": "code",
   "execution_count": 1,
   "metadata": {},
   "outputs": [],
   "source": [
    "import datetime as dt\n",
    "from pathlib import Path\n",
    "import os\n",
    "import time\n",
    "from datetime import datetime\n",
    "from IPython.display import display\n",
    "\n",
    "import numpy as np\n",
    "import pandas as pd\n",
    "import matplotlib.pyplot as plt\n",
    "import warnings\n",
    "warnings.filterwarnings('ignore')"
   ]
  },
  {
   "cell_type": "markdown",
   "metadata": {},
   "source": [
    "## Data Load\n",
    "\n",
    "- UserId: 사용자 ID\n",
    "- ItemId: 아이템(영화) ID\n",
    "- Rating: 사용자가 해당 아이템에 부여한 평점\n",
    "- Time: 평점이 기록된 시간 (1970년 1월 1일부터 경과된 초 단위)"
   ]
  },
  {
   "cell_type": "code",
   "execution_count": 2,
   "metadata": {},
   "outputs": [
    {
     "name": "stdout",
     "output_type": "stream",
     "text": [
      "/aiffel/aiffel/yoochoose\n"
     ]
    }
   ],
   "source": [
    "print(os.getcwd())"
   ]
  },
  {
   "cell_type": "code",
   "execution_count": 3,
   "metadata": {},
   "outputs": [
    {
     "data": {
      "text/html": [
       "<div>\n",
       "<style scoped>\n",
       "    .dataframe tbody tr th:only-of-type {\n",
       "        vertical-align: middle;\n",
       "    }\n",
       "\n",
       "    .dataframe tbody tr th {\n",
       "        vertical-align: top;\n",
       "    }\n",
       "\n",
       "    .dataframe thead th {\n",
       "        text-align: right;\n",
       "    }\n",
       "</style>\n",
       "<table border=\"1\" class=\"dataframe\">\n",
       "  <thead>\n",
       "    <tr style=\"text-align: right;\">\n",
       "      <th></th>\n",
       "      <th>UserId</th>\n",
       "      <th>ItemId</th>\n",
       "      <th>Rating</th>\n",
       "      <th>Time</th>\n",
       "    </tr>\n",
       "  </thead>\n",
       "  <tbody>\n",
       "    <tr>\n",
       "      <th>31</th>\n",
       "      <td>1</td>\n",
       "      <td>3186</td>\n",
       "      <td>4</td>\n",
       "      <td>978300019</td>\n",
       "    </tr>\n",
       "    <tr>\n",
       "      <th>22</th>\n",
       "      <td>1</td>\n",
       "      <td>1270</td>\n",
       "      <td>5</td>\n",
       "      <td>978300055</td>\n",
       "    </tr>\n",
       "    <tr>\n",
       "      <th>27</th>\n",
       "      <td>1</td>\n",
       "      <td>1721</td>\n",
       "      <td>4</td>\n",
       "      <td>978300055</td>\n",
       "    </tr>\n",
       "    <tr>\n",
       "      <th>37</th>\n",
       "      <td>1</td>\n",
       "      <td>1022</td>\n",
       "      <td>5</td>\n",
       "      <td>978300055</td>\n",
       "    </tr>\n",
       "    <tr>\n",
       "      <th>24</th>\n",
       "      <td>1</td>\n",
       "      <td>2340</td>\n",
       "      <td>3</td>\n",
       "      <td>978300103</td>\n",
       "    </tr>\n",
       "    <tr>\n",
       "      <th>...</th>\n",
       "      <td>...</td>\n",
       "      <td>...</td>\n",
       "      <td>...</td>\n",
       "      <td>...</td>\n",
       "    </tr>\n",
       "    <tr>\n",
       "      <th>1000019</th>\n",
       "      <td>6040</td>\n",
       "      <td>2917</td>\n",
       "      <td>4</td>\n",
       "      <td>997454429</td>\n",
       "    </tr>\n",
       "    <tr>\n",
       "      <th>999988</th>\n",
       "      <td>6040</td>\n",
       "      <td>1921</td>\n",
       "      <td>4</td>\n",
       "      <td>997454464</td>\n",
       "    </tr>\n",
       "    <tr>\n",
       "      <th>1000172</th>\n",
       "      <td>6040</td>\n",
       "      <td>1784</td>\n",
       "      <td>3</td>\n",
       "      <td>997454464</td>\n",
       "    </tr>\n",
       "    <tr>\n",
       "      <th>1000167</th>\n",
       "      <td>6040</td>\n",
       "      <td>161</td>\n",
       "      <td>3</td>\n",
       "      <td>997454486</td>\n",
       "    </tr>\n",
       "    <tr>\n",
       "      <th>1000042</th>\n",
       "      <td>6040</td>\n",
       "      <td>1221</td>\n",
       "      <td>4</td>\n",
       "      <td>998315055</td>\n",
       "    </tr>\n",
       "  </tbody>\n",
       "</table>\n",
       "<p>1000209 rows × 4 columns</p>\n",
       "</div>"
      ],
      "text/plain": [
       "         UserId  ItemId  Rating       Time\n",
       "31            1    3186       4  978300019\n",
       "22            1    1270       5  978300055\n",
       "27            1    1721       4  978300055\n",
       "37            1    1022       5  978300055\n",
       "24            1    2340       3  978300103\n",
       "...         ...     ...     ...        ...\n",
       "1000019    6040    2917       4  997454429\n",
       "999988     6040    1921       4  997454464\n",
       "1000172    6040    1784       3  997454464\n",
       "1000167    6040     161       3  997454486\n",
       "1000042    6040    1221       4  998315055\n",
       "\n",
       "[1000209 rows x 4 columns]"
      ]
     },
     "execution_count": 3,
     "metadata": {},
     "output_type": "execute_result"
    }
   ],
   "source": [
    "train_path = '/aiffel/aiffel/yoochoose/ratings.dat'\n",
    "\n",
    "def load_data(data_path: Path, nrows=None):\n",
    "    data = pd.read_csv(data_path, sep='::', header=None, usecols=[0, 1, 2, 3], dtype={0: np.int32, 1: np.int32, 2: np.int32}, nrows=nrows)\n",
    "    data.columns = ['UserId', 'ItemId', 'Rating', 'Time']\n",
    "    return data\n",
    "\n",
    "data = load_data(train_path, None)\n",
    "data.sort_values(['UserId', 'Time'], inplace=True)  # data를 id와 시간 순서로 정렬해준다.\n",
    "data"
   ]
  },
  {
   "cell_type": "markdown",
   "metadata": {},
   "source": [
    "### 데이터 기본 통계 정보 확인"
   ]
  },
  {
   "cell_type": "code",
   "execution_count": 4,
   "metadata": {},
   "outputs": [
    {
     "data": {
      "text/plain": [
       "{'Number of records': 1000209,\n",
       " 'Number of users': 6040,\n",
       " 'Number of items': 3706,\n",
       " 'Min rating': 1,\n",
       " 'Max rating': 5,\n",
       " 'Time range': {'min': Timestamp('2000-04-25 23:05:32'),\n",
       "  'max': Timestamp('2003-02-28 17:49:50')}}"
      ]
     },
     "execution_count": 4,
     "metadata": {},
     "output_type": "execute_result"
    }
   ],
   "source": [
    "data_info = {\n",
    "    \"Number of records\": data.shape[0],\n",
    "    \"Number of users\": data['UserId'].nunique(),\n",
    "    \"Number of items\": data['ItemId'].nunique(),\n",
    "    \"Min rating\": data['Rating'].min(),\n",
    "    \"Max rating\": data['Rating'].max(),\n",
    "    \"Time range\": pd.to_datetime(data['Time'], unit='s').agg(['min', 'max']).to_dict()\n",
    "}\n",
    "\n",
    "data_info"
   ]
  },
  {
   "cell_type": "markdown",
   "metadata": {},
   "source": [
    "#### 유저 수와 아이템 수"
   ]
  },
  {
   "cell_type": "code",
   "execution_count": 5,
   "metadata": {},
   "outputs": [
    {
     "name": "stdout",
     "output_type": "stream",
     "text": [
      "User Counts : 6040\n",
      "Item Counts : 3706\n"
     ]
    }
   ],
   "source": [
    "user_counts = data['UserId'].nunique()\n",
    "item_counts = data['ItemId'].nunique()\n",
    "\n",
    "print(f'User Counts : {user_counts}')\n",
    "print(f'Item Counts : {item_counts}')"
   ]
  },
  {
   "cell_type": "markdown",
   "metadata": {},
   "source": [
    "#### 평점 분포"
   ]
  },
  {
   "cell_type": "code",
   "execution_count": 6,
   "metadata": {},
   "outputs": [
    {
     "data": {
      "text/plain": [
       "1     56174\n",
       "2    107557\n",
       "3    261197\n",
       "4    348971\n",
       "5    226310\n",
       "Name: Rating, dtype: int64"
      ]
     },
     "execution_count": 6,
     "metadata": {},
     "output_type": "execute_result"
    }
   ],
   "source": [
    "rating_distribution = data['Rating'].value_counts().sort_index()\n",
    "rating_distribution"
   ]
  },
  {
   "cell_type": "markdown",
   "metadata": {},
   "source": [
    "## Data Preprocess\n",
    "간단히 구성해 본 데이터셋을 꼼꼼히 살펴보면서 항목별 기본 분석, session length, session time, cleaning 등의 작업을 진행힌다.  \n",
    "특히, 이 데이터셋에서는 Session이 아닌 UserID 단위로 데이터가 생성되어 있으므로, 이를 Session 단위로 어떻게 해석할지에 주의한다."
   ]
  },
  {
   "cell_type": "markdown",
   "metadata": {},
   "source": [
    "### Session Length"
   ]
  },
  {
   "cell_type": "markdown",
   "metadata": {},
   "source": [
    "#### 세션 길이 분석"
   ]
  },
  {
   "cell_type": "code",
   "execution_count": 7,
   "metadata": {},
   "outputs": [
    {
     "data": {
      "text/plain": [
       "count    6040.000000\n",
       "mean      165.597517\n",
       "std       192.747029\n",
       "min        20.000000\n",
       "25%        44.000000\n",
       "50%        96.000000\n",
       "75%       208.000000\n",
       "max      2314.000000\n",
       "dtype: float64"
      ]
     },
     "execution_count": 7,
     "metadata": {},
     "output_type": "execute_result"
    }
   ],
   "source": [
    "session_lengths = data.groupby('UserId').size()\n",
    "session_lengths.describe()"
   ]
  },
  {
   "cell_type": "markdown",
   "metadata": {},
   "source": [
    "##### 사용자별 세션 길이 분석\n",
    "평균적으로 각 사용자는 약 166개의 영화 평가를 남겼다.  \n",
    "사용자별 평가한 영화 수의 표준편차는 약 193으로, 사용자 간에 평가한 영화 수에 큰 차이가 있음을 보여준다.  \n",
    "최소 평가 영화 수는 20개이고, 최대 평가 영화 수는 2314개이다.  \n",
    "25%의 사용자는 44개 이하, 중앙값은 96개, 75%의 사용자는 208개 이하의 영화를 평가했다.  "
   ]
  },
  {
   "cell_type": "markdown",
   "metadata": {},
   "source": [
    "#### 세션 길이 분포 확인"
   ]
  },
  {
   "cell_type": "code",
   "execution_count": 8,
   "metadata": {},
   "outputs": [
    {
     "data": {
      "text/plain": [
       "0.25     44.00\n",
       "0.50     96.00\n",
       "0.75    208.00\n",
       "0.90    400.00\n",
       "0.95    556.00\n",
       "0.99    906.66\n",
       "dtype: float64"
      ]
     },
     "execution_count": 8,
     "metadata": {},
     "output_type": "execute_result"
    }
   ],
   "source": [
    "session_lengths.quantile([0.25, 0.5, 0.75, 0.9, 0.95, 0.99])"
   ]
  },
  {
   "cell_type": "code",
   "execution_count": 9,
   "metadata": {},
   "outputs": [
    {
     "data": {
      "image/png": "[encoded data removed]",
      "text/plain": [
       "<Figure size 720x288 with 1 Axes>"
      ]
     },
     "metadata": {
      "needs_background": "light"
     },
     "output_type": "display_data"
    }
   ],
   "source": [
    "plt.figure(figsize=(10, 4))\n",
    "plt.hist(session_lengths, bins=200, range=[0,1000], alpha=0.5, color='r')\n",
    "plt.xlabel('Session Length')\n",
    "plt.ylabel('Number of Sessions')\n",
    "plt.title('Distribution of Session Length')\n",
    "plt.show()"
   ]
  },
  {
   "cell_type": "markdown",
   "metadata": {},
   "source": [
    "##### 세션 길이 분포\n",
    "세션 길이 분포를 시각화한 결과, 대부분의 세션 길이가 200 이하임을 볼 수 있으며, 특히 100 이하의 세션 길이를 가진 사용자가 많은 것으로 나타났다.   \n",
    "극단적으로 많은 영화를 평가한 사용자들도 있으나, 이들은 전체 분포에서 상대적으로 소수이다."
   ]
  },
  {
   "cell_type": "markdown",
   "metadata": {},
   "source": [
    "### Session Time"
   ]
  },
  {
   "cell_type": "markdown",
   "metadata": {},
   "source": [
    "#### 시간 정보 변환 및 분석"
   ]
  },
  {
   "cell_type": "code",
   "execution_count": 10,
   "metadata": {},
   "outputs": [],
   "source": [
    "data['Datetime'] = pd.to_datetime(data['Time'], unit='s')\n",
    "data['Year'] = data['Datetime'].dt.year\n",
    "data['Month'] = data['Datetime'].dt.month\n",
    "data['Day'] = data['Datetime'].dt.day"
   ]
  },
  {
   "cell_type": "markdown",
   "metadata": {},
   "source": [
    "##### 시간 범위 분석\n",
    "변환된 시간 정보를 바탕으로, 데이터셋에 포함된 평가들은 2000년 4월 25일부터 2003년 2월 28일까지의 기간에 이루어진 것으로 나타났다."
   ]
  },
  {
   "cell_type": "code",
   "execution_count": 11,
   "metadata": {},
   "outputs": [
    {
     "data": {
      "text/plain": [
       "(Timestamp('2000-04-25 23:05:32'), Timestamp('2003-02-28 17:49:50'))"
      ]
     },
     "execution_count": 11,
     "metadata": {},
     "output_type": "execute_result"
    }
   ],
   "source": [
    "time_min = data['Datetime'].min()\n",
    "time_max = data['Datetime'].max()\n",
    "\n",
    "time_min, time_max"
   ]
  },
  {
   "cell_type": "markdown",
   "metadata": {},
   "source": [
    "#### 시간대별 활동 패턴 분석\n",
    "대체로 저녁 시간대에 사용자 활동이 증가하는 경향을 보이며, 특히 밤 12시를 전후로 활동이 많은 것으로 나타났다.  \n",
    "이는 사용자들이 일과 후 여가 시간에 영화 평가 활동을 더 많이 하는 경향이 있음을 시사한다."
   ]
  },
  {
   "cell_type": "code",
   "execution_count": 12,
   "metadata": {},
   "outputs": [
    {
     "data": {
      "image/png": "[encoded data removed]",
      "text/plain": [
       "<Figure size 720x360 with 1 Axes>"
      ]
     },
     "metadata": {
      "needs_background": "light"
     },
     "output_type": "display_data"
    }
   ],
   "source": [
    "data['Hour'] = data['Datetime'].dt.hour\n",
    "hourly_activity = data.groupby('Hour').size()\n",
    "\n",
    "plt.figure(figsize=(10, 5))\n",
    "plt.bar(hourly_activity.index, hourly_activity.values, color='skyblue')\n",
    "plt.title('Hourly Activity Pattern')\n",
    "plt.xlabel('Hour of Day')\n",
    "plt.ylabel('Number of Ratings')\n",
    "plt.show()"
   ]
  },
  {
   "cell_type": "markdown",
   "metadata": {},
   "source": [
    "#### 월별 활동 패턴 분석\n",
    "월별 활동 패턴을 보면, 특정 월에 사용자 활동이 눈에 띄게 많거나 적은 경향은 보이지 않는다.   \n",
    "이는 영화 평가 활동이 연중 내내 비교적 균일하게 이루어진다는 것을 의미할 수 있다.   \n",
    "그러나, 데이터셋에 포함된 시간 범위와 각 해의 사회적, 문화적 이벤트의 영향을 고려해야 할 수도 있다."
   ]
  },
  {
   "cell_type": "code",
   "execution_count": 13,
   "metadata": {},
   "outputs": [
    {
     "data": {
      "image/png": "[encoded data removed]",
      "text/plain": [
       "<Figure size 720x360 with 1 Axes>"
      ]
     },
     "metadata": {
      "needs_background": "light"
     },
     "output_type": "display_data"
    }
   ],
   "source": [
    "monthly_activity = data.groupby('Month').size()\n",
    "\n",
    "plt.figure(figsize=(10, 5))\n",
    "plt.bar(monthly_activity.index, monthly_activity.values, color='lightgreen')\n",
    "plt.title('Monthly Activity Pattern')\n",
    "plt.xlabel('Month')\n",
    "plt.ylabel('Number of Ratings')\n",
    "plt.show()"
   ]
  },
  {
   "cell_type": "markdown",
   "metadata": {},
   "source": [
    "#### 년도별 활동 패턴 분석\n",
    "년도별 활동 패턴을 살펴보면, 활동량이 시간이 지남에 따라 증가하는 경향을 보인다.  \n",
    "특히 2000년에서 2001년으로 넘어가면서 활동량이 크게 증가했으며, 이후로도 상승 추세를 유지하는 것으로 보인다.   \n",
    "이는 영화 평가 플랫폼의 사용자 기반이 점점 확대되고 있음을 나타내며, 시간이 지남에 따라 사용자들의 참여도가 높아지고 있음을 시사한다."
   ]
  },
  {
   "cell_type": "code",
   "execution_count": 14,
   "metadata": {},
   "outputs": [
    {
     "data": {
      "image/png": "[encoded data removed]",
      "text/plain": [
       "<Figure size 720x360 with 1 Axes>"
      ]
     },
     "metadata": {
      "needs_background": "light"
     },
     "output_type": "display_data"
    }
   ],
   "source": [
    "yearly_activity = data.groupby('Year').size()\n",
    "\n",
    "plt.figure(figsize=(10, 5))\n",
    "plt.bar(yearly_activity.index, yearly_activity.values, color='salmon')\n",
    "plt.title('Yearly Activity Pattern')\n",
    "plt.xlabel('Year')\n",
    "plt.ylabel('Number of Ratings')\n",
    "plt.show()"
   ]
  },
  {
   "cell_type": "markdown",
   "metadata": {},
   "source": [
    "### Data Cleansing\n",
    "1. 극단적으로 긴 세션 제거\n",
    "    - 너무 많은 영화를 평가한 사용자는 이상치일 수 있으므로, 이들을 제거한다.\n",
    "2. 너무 짧은 세션 제거\n",
    "    - 너무 적은 수의 영화만 평가한 사용자는 유의미한 패턴을 찾기 어려울 수 있으므로, 이들도 제거한다.\n",
    "3. 낮은 평점의 데이터 제거\n",
    "    - 사용자가 부여한 평점이 낮은 데이터는 사용자의 선호도를 반영하지 않을 수 있으므로, 일정 평점 이상의 데이터만을 사용한다.\n"
   ]
  },
  {
   "cell_type": "markdown",
   "metadata": {},
   "source": [
    "#### 세션 길이 기준 설정"
   ]
  },
  {
   "cell_type": "code",
   "execution_count": 15,
   "metadata": {},
   "outputs": [
    {
     "name": "stdout",
     "output_type": "stream",
     "text": [
      "Max Session Length : 906.659999999998\n",
      "Min Session Length : 20.0\n"
     ]
    }
   ],
   "source": [
    "# 상위 99% 세션 길이를 최대 길이로 설정\n",
    "max_session_length = session_lengths.quantile(0.99)\n",
    "print(f'Max Session Length : {max_session_length}')\n",
    "\n",
    "# 하위 1% 세션 길이를 최소 길이로 설정\n",
    "min_session_length = session_lengths.quantile(0.01)\n",
    "print(f'Min Session Length : {min_session_length}')"
   ]
  },
  {
   "cell_type": "markdown",
   "metadata": {},
   "source": [
    "#### 평점 기준 설정"
   ]
  },
  {
   "cell_type": "code",
   "execution_count": 16,
   "metadata": {},
   "outputs": [],
   "source": [
    "# 3 이상의 평점을 받은 데이터만 사용\n",
    "min_rating = 3"
   ]
  },
  {
   "cell_type": "markdown",
   "metadata": {},
   "source": [
    "#### 데이터 클리닝"
   ]
  },
  {
   "cell_type": "code",
   "execution_count": 17,
   "metadata": {},
   "outputs": [],
   "source": [
    "filtered_data = data[\n",
    "    (data['UserId'].map(session_lengths) <= max_session_length) &\n",
    "    (data['UserId'].map(session_lengths) >= min_session_length) &\n",
    "    (data['Rating'] >= min_rating)\n",
    "]"
   ]
  },
  {
   "cell_type": "markdown",
   "metadata": {},
   "source": [
    "#### 클리닝 후 데이터 정보"
   ]
  },
  {
   "cell_type": "code",
   "execution_count": 18,
   "metadata": {},
   "outputs": [
    {
     "data": {
      "text/html": [
       "<div>\n",
       "<style scoped>\n",
       "    .dataframe tbody tr th:only-of-type {\n",
       "        vertical-align: middle;\n",
       "    }\n",
       "\n",
       "    .dataframe tbody tr th {\n",
       "        vertical-align: top;\n",
       "    }\n",
       "\n",
       "    .dataframe thead th {\n",
       "        text-align: right;\n",
       "    }\n",
       "</style>\n",
       "<table border=\"1\" class=\"dataframe\">\n",
       "  <thead>\n",
       "    <tr style=\"text-align: right;\">\n",
       "      <th></th>\n",
       "      <th>UserId</th>\n",
       "      <th>ItemId</th>\n",
       "      <th>Rating</th>\n",
       "      <th>Time</th>\n",
       "      <th>Datetime</th>\n",
       "      <th>Year</th>\n",
       "      <th>Month</th>\n",
       "      <th>Day</th>\n",
       "      <th>Hour</th>\n",
       "    </tr>\n",
       "  </thead>\n",
       "  <tbody>\n",
       "    <tr>\n",
       "      <th>31</th>\n",
       "      <td>1</td>\n",
       "      <td>3186</td>\n",
       "      <td>4</td>\n",
       "      <td>978300019</td>\n",
       "      <td>2000-12-31 22:00:19</td>\n",
       "      <td>2000</td>\n",
       "      <td>12</td>\n",
       "      <td>31</td>\n",
       "      <td>22</td>\n",
       "    </tr>\n",
       "    <tr>\n",
       "      <th>22</th>\n",
       "      <td>1</td>\n",
       "      <td>1270</td>\n",
       "      <td>5</td>\n",
       "      <td>978300055</td>\n",
       "      <td>2000-12-31 22:00:55</td>\n",
       "      <td>2000</td>\n",
       "      <td>12</td>\n",
       "      <td>31</td>\n",
       "      <td>22</td>\n",
       "    </tr>\n",
       "    <tr>\n",
       "      <th>27</th>\n",
       "      <td>1</td>\n",
       "      <td>1721</td>\n",
       "      <td>4</td>\n",
       "      <td>978300055</td>\n",
       "      <td>2000-12-31 22:00:55</td>\n",
       "      <td>2000</td>\n",
       "      <td>12</td>\n",
       "      <td>31</td>\n",
       "      <td>22</td>\n",
       "    </tr>\n",
       "    <tr>\n",
       "      <th>37</th>\n",
       "      <td>1</td>\n",
       "      <td>1022</td>\n",
       "      <td>5</td>\n",
       "      <td>978300055</td>\n",
       "      <td>2000-12-31 22:00:55</td>\n",
       "      <td>2000</td>\n",
       "      <td>12</td>\n",
       "      <td>31</td>\n",
       "      <td>22</td>\n",
       "    </tr>\n",
       "    <tr>\n",
       "      <th>24</th>\n",
       "      <td>1</td>\n",
       "      <td>2340</td>\n",
       "      <td>3</td>\n",
       "      <td>978300103</td>\n",
       "      <td>2000-12-31 22:01:43</td>\n",
       "      <td>2000</td>\n",
       "      <td>12</td>\n",
       "      <td>31</td>\n",
       "      <td>22</td>\n",
       "    </tr>\n",
       "  </tbody>\n",
       "</table>\n",
       "</div>"
      ],
      "text/plain": [
       "    UserId  ItemId  Rating       Time            Datetime  Year  Month  Day  \\\n",
       "31       1    3186       4  978300019 2000-12-31 22:00:19  2000     12   31   \n",
       "22       1    1270       5  978300055 2000-12-31 22:00:55  2000     12   31   \n",
       "27       1    1721       4  978300055 2000-12-31 22:00:55  2000     12   31   \n",
       "37       1    1022       5  978300055 2000-12-31 22:00:55  2000     12   31   \n",
       "24       1    2340       3  978300103 2000-12-31 22:01:43  2000     12   31   \n",
       "\n",
       "    Hour  \n",
       "31    22  \n",
       "22    22  \n",
       "27    22  \n",
       "37    22  \n",
       "24    22  "
      ]
     },
     "execution_count": 18,
     "metadata": {},
     "output_type": "execute_result"
    }
   ],
   "source": [
    "filtered_data.head()"
   ]
  },
  {
   "cell_type": "code",
   "execution_count": 19,
   "metadata": {},
   "outputs": [
    {
     "data": {
      "text/html": [
       "<div>\n",
       "<style scoped>\n",
       "    .dataframe tbody tr th:only-of-type {\n",
       "        vertical-align: middle;\n",
       "    }\n",
       "\n",
       "    .dataframe tbody tr th {\n",
       "        vertical-align: top;\n",
       "    }\n",
       "\n",
       "    .dataframe thead th {\n",
       "        text-align: right;\n",
       "    }\n",
       "</style>\n",
       "<table border=\"1\" class=\"dataframe\">\n",
       "  <thead>\n",
       "    <tr style=\"text-align: right;\">\n",
       "      <th></th>\n",
       "      <th>UserId</th>\n",
       "      <th>ItemId</th>\n",
       "      <th>Rating</th>\n",
       "      <th>Time</th>\n",
       "      <th>Year</th>\n",
       "      <th>Month</th>\n",
       "      <th>Day</th>\n",
       "      <th>Hour</th>\n",
       "    </tr>\n",
       "  </thead>\n",
       "  <tbody>\n",
       "    <tr>\n",
       "      <th>count</th>\n",
       "      <td>782556.000000</td>\n",
       "      <td>782556.000000</td>\n",
       "      <td>782556.000000</td>\n",
       "      <td>7.825560e+05</td>\n",
       "      <td>782556.000000</td>\n",
       "      <td>782556.000000</td>\n",
       "      <td>782556.000000</td>\n",
       "      <td>782556.000000</td>\n",
       "    </tr>\n",
       "    <tr>\n",
       "      <th>mean</th>\n",
       "      <td>3040.968057</td>\n",
       "      <td>1845.641428</td>\n",
       "      <td>3.969045</td>\n",
       "      <td>9.720476e+08</td>\n",
       "      <td>2000.119948</td>\n",
       "      <td>8.712067</td>\n",
       "      <td>15.391116</td>\n",
       "      <td>11.951459</td>\n",
       "    </tr>\n",
       "    <tr>\n",
       "      <th>std</th>\n",
       "      <td>1735.941224</td>\n",
       "      <td>1091.378539</td>\n",
       "      <td>0.761933</td>\n",
       "      <td>1.191658e+07</td>\n",
       "      <td>0.410989</td>\n",
       "      <td>2.711597</td>\n",
       "      <td>8.872629</td>\n",
       "      <td>7.925546</td>\n",
       "    </tr>\n",
       "    <tr>\n",
       "      <th>min</th>\n",
       "      <td>1.000000</td>\n",
       "      <td>1.000000</td>\n",
       "      <td>3.000000</td>\n",
       "      <td>9.567039e+08</td>\n",
       "      <td>2000.000000</td>\n",
       "      <td>1.000000</td>\n",
       "      <td>1.000000</td>\n",
       "      <td>0.000000</td>\n",
       "    </tr>\n",
       "    <tr>\n",
       "      <th>25%</th>\n",
       "      <td>1547.000000</td>\n",
       "      <td>1029.000000</td>\n",
       "      <td>3.000000</td>\n",
       "      <td>9.652574e+08</td>\n",
       "      <td>2000.000000</td>\n",
       "      <td>7.000000</td>\n",
       "      <td>7.000000</td>\n",
       "      <td>4.000000</td>\n",
       "    </tr>\n",
       "    <tr>\n",
       "      <th>50%</th>\n",
       "      <td>3075.000000</td>\n",
       "      <td>1729.000000</td>\n",
       "      <td>4.000000</td>\n",
       "      <td>9.728247e+08</td>\n",
       "      <td>2000.000000</td>\n",
       "      <td>9.000000</td>\n",
       "      <td>17.000000</td>\n",
       "      <td>14.000000</td>\n",
       "    </tr>\n",
       "    <tr>\n",
       "      <th>75%</th>\n",
       "      <td>4517.000000</td>\n",
       "      <td>2762.000000</td>\n",
       "      <td>5.000000</td>\n",
       "      <td>9.751613e+08</td>\n",
       "      <td>2000.000000</td>\n",
       "      <td>11.000000</td>\n",
       "      <td>22.000000</td>\n",
       "      <td>19.000000</td>\n",
       "    </tr>\n",
       "    <tr>\n",
       "      <th>max</th>\n",
       "      <td>6040.000000</td>\n",
       "      <td>3952.000000</td>\n",
       "      <td>5.000000</td>\n",
       "      <td>1.046455e+09</td>\n",
       "      <td>2003.000000</td>\n",
       "      <td>12.000000</td>\n",
       "      <td>31.000000</td>\n",
       "      <td>23.000000</td>\n",
       "    </tr>\n",
       "  </tbody>\n",
       "</table>\n",
       "</div>"
      ],
      "text/plain": [
       "              UserId         ItemId         Rating          Time  \\\n",
       "count  782556.000000  782556.000000  782556.000000  7.825560e+05   \n",
       "mean     3040.968057    1845.641428       3.969045  9.720476e+08   \n",
       "std      1735.941224    1091.378539       0.761933  1.191658e+07   \n",
       "min         1.000000       1.000000       3.000000  9.567039e+08   \n",
       "25%      1547.000000    1029.000000       3.000000  9.652574e+08   \n",
       "50%      3075.000000    1729.000000       4.000000  9.728247e+08   \n",
       "75%      4517.000000    2762.000000       5.000000  9.751613e+08   \n",
       "max      6040.000000    3952.000000       5.000000  1.046455e+09   \n",
       "\n",
       "                Year          Month            Day           Hour  \n",
       "count  782556.000000  782556.000000  782556.000000  782556.000000  \n",
       "mean     2000.119948       8.712067      15.391116      11.951459  \n",
       "std         0.410989       2.711597       8.872629       7.925546  \n",
       "min      2000.000000       1.000000       1.000000       0.000000  \n",
       "25%      2000.000000       7.000000       7.000000       4.000000  \n",
       "50%      2000.000000       9.000000      17.000000      14.000000  \n",
       "75%      2000.000000      11.000000      22.000000      19.000000  \n",
       "max      2003.000000      12.000000      31.000000      23.000000  "
      ]
     },
     "execution_count": 19,
     "metadata": {},
     "output_type": "execute_result"
    }
   ],
   "source": [
    "filtered_info = filtered_data.describe()\n",
    "filtered_info"
   ]
  },
  {
   "cell_type": "code",
   "execution_count": 20,
   "metadata": {},
   "outputs": [
    {
     "data": {
      "text/plain": [
       "count    5978.000000\n",
       "mean      130.905989\n",
       "std       135.038763\n",
       "min         1.000000\n",
       "25%        37.000000\n",
       "50%        80.000000\n",
       "75%       172.000000\n",
       "max       834.000000\n",
       "dtype: float64"
      ]
     },
     "execution_count": 20,
     "metadata": {},
     "output_type": "execute_result"
    }
   ],
   "source": [
    "filtered_session_length_describe = filtered_data.groupby('UserId').size().describe()\n",
    "filtered_session_length_describe"
   ]
  },
  {
   "cell_type": "markdown",
   "metadata": {},
   "source": [
    "##### 데이터 클리닝 후, 결과\n",
    "전체 데이터 중에서 평점이 3 이상인 데이터와 사용자별 세션 길이가 하위 1% 이상 및 상위 99% 이하인 데이터만 필터링하여 782,556개의 데이터를 얻었다.  \n",
    "\n",
    "클리닝 후 데이터의 평균 평점은 약 3.97로, 필터링 전보다 높아졌다.\n",
    "- 낮은 평점을 받은 데이터를 제외했기 때문이다.  \n",
    "\n",
    "사용자별 세션 길이는 이제 최소 1개에서 최대 834개의 영화 평가를 포함하며, 평균적으로 약 131개의 영화 평가를 남겼다.\n",
    "- 필터링 전보다 평균 세션 길이가 줄어들었다."
   ]
  },
  {
   "cell_type": "markdown",
   "metadata": {},
   "source": [
    "## Session-Parallel Mini-Batch\n",
    "Session-Parallel Mini-Batch의 개념에 따라, 학습 속도의 저하가 최소화될 수 있도록 구성한다.  \n",
    "단, 위 Step 1에서 Session 단위를 어떻게 정의했느냐에 따라서 Session-Parallel Mini-Batch이 굳이 필요하지 않을 수도 있다."
   ]
  },
  {
   "cell_type": "markdown",
   "metadata": {},
   "source": [
    "### SessionDataset \n",
    "세션 기반 데이터셋을 관리하며, 세션이 시작되는 인덱스(click_offsets)와 세션을 새로 인덱싱한 값(session_idx)을 포함한다."
   ]
  },
  {
   "cell_type": "code",
   "execution_count": 29,
   "metadata": {},
   "outputs": [],
   "source": [
    "class SessionDataset:\n",
    "    def __init__(self, data):\n",
    "        self.df = data\n",
    "        self.click_offsets = self.get_click_offsets()\n",
    "        self.session_idx = np.arange(self.df['UserId'].nunique())\n",
    "\n",
    "    def get_click_offsets(self):\n",
    "        offsets = np.zeros(self.df['UserId'].nunique() + 1, dtype=int)\n",
    "        offsets[1:] = self.df.groupby('UserId').size().cumsum()\n",
    "        return offsets\n",
    "    \n",
    "    def __len__(self):\n",
    "        return len(self.session_idx)\n",
    "\n",
    "    def get_session(self, idx):\n",
    "        if idx < len(self.session_idx) - 1:\n",
    "            start = self.click_offsets[idx]\n",
    "            end = self.click_offsets[idx + 1]\n",
    "        else:\n",
    "            start = self.click_offsets[idx]\n",
    "            end = len(self.df)\n",
    "        return self.df.iloc[start:end]"
   ]
  },
  {
   "cell_type": "code",
   "execution_count": 30,
   "metadata": {},
   "outputs": [
    {
     "name": "stdout",
     "output_type": "stream",
     "text": [
      "Total sessions: 5978\n",
      "First 10 session indexes: [  0  53 169 215 234 377 446 477 609 707]\n"
     ]
    }
   ],
   "source": [
    "session_dataset = SessionDataset(filtered_data)\n",
    "\n",
    "# 인스턴스 변수들 살펴보기\n",
    "print(f\"Total sessions: {len(session_dataset.click_offsets) - 1}\")\n",
    "print(f\"First 10 session indexes: {session_dataset.click_offsets[:10]}\")"
   ]
  },
  {
   "cell_type": "markdown",
   "metadata": {},
   "source": [
    "### SessionDataLoader\n",
    "SessionDataLoader 클래스는 SessionDataset 객체를 받아 세션별로 병렬 미니 배치를 생성한다.  \n",
    "__iter__ 메서드는 모델 입력, 라벨, 그리고 세션이 끝나는 위치를 제너레이터(generator) 형태로 반환한다."
   ]
  },
  {
   "cell_type": "code",
   "execution_count": 28,
   "metadata": {},
   "outputs": [],
   "source": [
    "# class SessionDataLoader:\n",
    "#     def __init__(self, dataset, batch_size):\n",
    "#         self.dataset = dataset\n",
    "#         self.batch_size = batch_size\n",
    "\n",
    "#     def __iter__(self):\n",
    "#         # 가정: dataset은 (inputs, labels)을 포함하는 pandas DataFrame\n",
    "#         # inputs: 모델 입력, labels: 정답 라벨\n",
    "#         start_idx = 0\n",
    "\n",
    "#         num_batches = len(self.dataset) // self.batch_size\n",
    "#         for i in range(num_batches):\n",
    "#             batch = self.dataset.iloc[i*self.batch_size:(i+1)*self.batch_size]\n",
    "#             inputs = np.array(list(batch['inputs']))  # inputs 컬럼의 데이터를 numpy 배열로 변환\n",
    "#             labels = np.array(list(batch['labels']))  # labels 컬럼의 데이터를 numpy 배열로 변환\n",
    "#             yield inputs, labels"
   ]
  },
  {
   "cell_type": "code",
   "execution_count": 31,
   "metadata": {},
   "outputs": [],
   "source": [
    "class SessionDataLoader:\n",
    "    \"\"\"세션 데이터 로더 클래스\"\"\"\n",
    "    \n",
    "    def __init__(self, dataset, batch_size=50):\n",
    "        self.dataset = dataset\n",
    "        self.batch_size = batch_size\n",
    "\n",
    "    def __iter__(self):\n",
    "        start, end = 0, self.batch_size\n",
    "        while start < len(self.dataset.session_idx):\n",
    "            session_mask = np.arange(len(self.dataset.click_offsets))[(self.dataset.click_offsets >= start) & (self.dataset.click_offsets < end)]\n",
    "            batch_item_ids = []\n",
    "            batch_next_item_ids = []\n",
    "            for session_id in session_mask:\n",
    "                session_start = self.dataset.click_offsets[session_id]\n",
    "                session_end = self.dataset.click_offsets[session_id + 1] if session_id + 1 < len(self.dataset.click_offsets) else len(self.dataset.df)\n",
    "                session_item_ids = self.dataset.df['ItemId'].values[session_start:session_end]\n",
    "                batch_item_ids.extend(session_item_ids[:-1])  # 현재 세션의 아이템들\n",
    "                batch_next_item_ids.extend(session_item_ids[1:])  # 다음 아이템 (예측 목표)\n",
    "            \n",
    "            # numpy 배열로 변환\n",
    "            np_batch_item_ids = np.array(batch_item_ids, dtype=np.int32)\n",
    "            np_batch_next_item_ids = np.array(batch_next_item_ids, dtype=np.int32)\n",
    "            \n",
    "            yield np_batch_item_ids, np_batch_next_item_ids\n",
    "            \n",
    "            start += self.batch_size\n",
    "            end += self.batch_size"
   ]
  },
  {
   "cell_type": "code",
   "execution_count": 32,
   "metadata": {},
   "outputs": [
    {
     "name": "stdout",
     "output_type": "stream",
     "text": [
      "Batch 1: Session Indices = [3186 1270 1721 1022 2340 1836 3408 2804 1207 1193  720  260  919  608\n",
      " 2692 1961 2028 3105  938 1035 1962 2018  150 1028 1097  914 1287 2797\n",
      " 2762 1246  661 2918  531 3114 2791 2321 1029 1197  594 2398 1545  527\n",
      "  595 2687  745  588    1 2355 2294  783 1566 1907], Locations = [1270 1721 1022 2340 1836 3408 2804 1207 1193  720  260  919  608 2692\n",
      " 1961 2028 3105  938 1035 1962 2018  150 1028 1097  914 1287 2797 2762\n",
      " 1246  661 2918  531 3114 2791 2321 1029 1197  594 2398 1545  527  595\n",
      " 2687  745  588    1 2355 2294  783 1566 1907   48]\n",
      "Batch 2: Session Indices = [1198 1210 1217 2717 1293 2943 1225 1193  318 3030 2858 1945 1207  593\n",
      " 3095 3468 1873  515 2501 3035  110 2067 3147 1247 3105 1357 1196 1957\n",
      " 1953  920 1834 1084 1962 3471 3654 3735 1259 1954 1784 2728 1103 3451\n",
      " 3578 2852 3334 3068  265 2312  590 1253 3071 1244 1955 2236 3678  982\n",
      " 2194 2268 1442 3255  647  235 1096 1124  498 1246 1537 1188 2396 2359\n",
      " 2321  356 3108 1265 3809  589 2028 2571  457 2916 1610  480  163  380\n",
      " 3418 1408  349 1527 2353 2006 2278 1370  648 1792 1372 1552 2490 1385\n",
      "  780 2881  368 1801  165  459  442 1597 2628 1690 3257  736 2002 2126\n",
      "  292 1687 1544], Locations = [1210 1217 2717 1293 2943 1225 1193  318 3030 2858 1945 1207  593 3095\n",
      " 3468 1873  515 2501 3035  110 2067 3147 1247 3105 1357 1196 1957 1953\n",
      "  920 1834 1084 1962 3471 3654 3735 1259 1954 1784 2728 1103 3451 3578\n",
      " 2852 3334 3068  265 2312  590 1253 3071 1244 1955 2236 3678  982 2194\n",
      " 2268 1442 3255  647  235 1096 1124  498 1246 1537 1188 2396 2359 2321\n",
      "  356 3108 1265 3809  589 2028 2571  457 2916 1610  480  163  380 3418\n",
      " 1408  349 1527 2353 2006 2278 1370  648 1792 1372 1552 2490 1385  780\n",
      " 2881  368 1801  165  459  442 1597 2628 1690 3257  736 2002 2126  292\n",
      " 1687 1544 1917]\n"
     ]
    }
   ],
   "source": [
    "batch_size = 32\n",
    "data_loader = SessionDataLoader(session_dataset, batch_size)\n",
    "for idx, batch in enumerate(data_loader):\n",
    "    print(f\"Batch {idx + 1}: Session Indices = {batch[0]}, Locations = {batch[1]}\")\n",
    "    if idx == 1:  # 두 번째 배치에서 반복 중지\n",
    "        break"
   ]
  },
  {
   "cell_type": "markdown",
   "metadata": {},
   "source": [
    "## Modeling"
   ]
  },
  {
   "cell_type": "code",
   "execution_count": 33,
   "metadata": {},
   "outputs": [],
   "source": [
    "import tensorflow as tf\n",
    "from tensorflow.keras.layers import Input, GRU, Dense, Dropout, Embedding\n",
    "from tensorflow.keras.models import Model\n",
    "from tensorflow.keras.optimizers import Adam\n",
    "from tensorflow.keras.losses import categorical_crossentropy\n",
    "from tensorflow.keras.utils import to_categorical\n",
    "from tqdm import tqdm"
   ]
  },
  {
   "cell_type": "code",
   "execution_count": 64,
   "metadata": {},
   "outputs": [
    {
     "name": "stdout",
     "output_type": "stream",
     "text": [
      "Train data shape: (626044, 9)\n",
      "Test data shape: (156512, 9)\n"
     ]
    }
   ],
   "source": [
    "from sklearn.model_selection import train_test_split\n",
    "\n",
    "train_data, test_data = train_test_split(filtered_data, test_size=0.2, random_state=42)\n",
    "\n",
    "print(f\"Train data shape: {train_data.shape}\")\n",
    "print(f\"Test data shape: {test_data.shape}\")"
   ]
  },
  {
   "cell_type": "markdown",
   "metadata": {},
   "source": [
    "### 모델 구조 정의"
   ]
  },
  {
   "cell_type": "code",
   "execution_count": 74,
   "metadata": {},
   "outputs": [],
   "source": [
    "def create_model(num_items, embedding_size=50, gru_units=100, dropout_rate=0.1):\n",
    "    inputs = Input(shape=(None,))\n",
    "    embedding = Embedding(input_dim=num_items, output_dim=embedding_size)(inputs)\n",
    "    gru = GRU(gru_units, return_sequences=False)(embedding)\n",
    "    dropout = Dropout(dropout_rate)(gru)\n",
    "    outputs = Dense(num_items, activation='softmax')(dropout)\n",
    "    model = Model(inputs=inputs, outputs=outputs)\n",
    "    model.compile(optimizer='adam', loss='sparse_categorical_crossentropy', metrics=['accuracy'])\n",
    "    return model"
   ]
  },
  {
   "cell_type": "code",
   "execution_count": 75,
   "metadata": {},
   "outputs": [],
   "source": [
    "# def create_model(num_items, batch_size, embedding_size, dropout_rate, learning_rate):\n",
    "#     inputs = Input(batch_shape=(batch_size, 1, num_items))\n",
    "#     gru, _ = GRU(embedding_size, stateful=True, return_state=True)(inputs)\n",
    "#     dropout = Dropout(dropout_rate)(gru)\n",
    "#     predictions = Dense(num_items, activation='softmax')(dropout)\n",
    "    \n",
    "#     model = Model(inputs=inputs, outputs=predictions)\n",
    "#     model.compile(optimizer=Adam(learning_rate), loss='categorical_crossentropy', metrics=['accuracy'])\n",
    "    \n",
    "#     return model"
   ]
  },
  {
   "cell_type": "code",
   "execution_count": 80,
   "metadata": {},
   "outputs": [],
   "source": [
    "from tensorflow.keras.layers import Reshape\n",
    "\n",
    "def create_model(num_items, num_users, embedding_size=50, gru_units=100, dropout_rate=0.1):\n",
    "    item_input = Input(shape=(1,), name='item_input')\n",
    "    user_input = Input(shape=(1,), name='user_input')\n",
    "\n",
    "    item_embedding = Embedding(input_dim=num_items + 1, output_dim=embedding_size, name='item_embedding')(item_input)\n",
    "    user_embedding = Embedding(input_dim=num_users + 1, output_dim=embedding_size, name='user_embedding')(user_input)\n",
    "\n",
    "    combined = tf.keras.layers.Concatenate()([user_embedding, item_embedding])\n",
    "    \n",
    "    # 여기서는 Flatten 대신 Reshape를 사용하여 입력을 3차원으로 만듭니다.\n",
    "    combined = Reshape((1, -1))(combined)\n",
    "\n",
    "    gru = GRU(gru_units, return_sequences=False)(combined)\n",
    "    dropout = Dropout(dropout_rate)(gru)\n",
    "    outputs = Dense(num_items, activation='softmax')(dropout)\n",
    "\n",
    "    model = Model(inputs=[user_input, item_input], outputs=outputs)\n",
    "    model.compile(optimizer=Adam(learning_rate=0.001), loss='sparse_categorical_crossentropy', metrics=['accuracy'])\n",
    "    return model\n"
   ]
  },
  {
   "cell_type": "markdown",
   "metadata": {},
   "source": [
    "#### 모델 하이퍼파라미터 설정"
   ]
  },
  {
   "cell_type": "code",
   "execution_count": 81,
   "metadata": {},
   "outputs": [],
   "source": [
    "# embedding_size = 50                            # 임베딩 벡터의 차원\n",
    "# dropout_rate = 0.1                             # 드롭아웃 비율\n",
    "# learning_rate = 0.001                          # 학습률\n",
    "num_users = data['UserId'].nunique()\n",
    "num_items = data['ItemId'].nunique()"
   ]
  },
  {
   "cell_type": "markdown",
   "metadata": {},
   "source": [
    "#### 모델 생성\n"
   ]
  },
  {
   "cell_type": "code",
   "execution_count": 82,
   "metadata": {},
   "outputs": [],
   "source": [
    "model = create_model(num_items, num_users)"
   ]
  },
  {
   "cell_type": "markdown",
   "metadata": {},
   "source": [
    "### 모델 학습"
   ]
  },
  {
   "cell_type": "code",
   "execution_count": 83,
   "metadata": {},
   "outputs": [],
   "source": [
    "# def train_model(model, train_loader, epochs):\n",
    "#     for epoch in range(epochs):\n",
    "#         for inputs, labels in train_loader:\n",
    "#             # 여기서 inputs와 labels는 실제 사용하는 데이터셋에 맞게 조정해야 한다.\n",
    "#             loss, accuracy = model.train_on_batch(inputs, labels)\n",
    "#         print(f'Epoch {epoch+1}/{epochs}, Loss: {loss}, Accuracy: {accuracy}')"
   ]
  },
  {
   "cell_type": "code",
   "execution_count": 84,
   "metadata": {},
   "outputs": [
    {
     "name": "stdout",
     "output_type": "stream",
     "text": [
      "Epoch 1, Loss: [0.8723084330558777, 0.5887096524238586]\n",
      "Epoch 2, Loss: [0.9682059288024902, 0.5080645084381104]\n",
      "Epoch 3, Loss: [0.9568608403205872, 0.5483871102333069]\n",
      "Epoch 4, Loss: [0.9541283845901489, 0.4838709533214569]\n",
      "Epoch 5, Loss: [0.8985830545425415, 0.5725806355476379]\n",
      "Epoch 6, Loss: [0.8796716928482056, 0.6048387289047241]\n",
      "Epoch 7, Loss: [0.9224159717559814, 0.5080645084381104]\n",
      "Epoch 8, Loss: [0.876793384552002, 0.6209677457809448]\n",
      "Epoch 9, Loss: [0.920186460018158, 0.5564516186714172]\n",
      "Epoch 10, Loss: [0.8171398639678955, 0.5806451439857483]\n"
     ]
    }
   ],
   "source": [
    "epochs = 10\n",
    "for epoch in range(epochs):  # 총 에포크 수\n",
    "    for users, items, ratings in DataGenerator(train_data):\n",
    "        # NumPy 배열로 변환\n",
    "        users_np = np.array(users, dtype=np.int32)\n",
    "        items_np = np.array(items, dtype=np.int32)\n",
    "        ratings_np = np.array(ratings, dtype=np.float32)\n",
    "        \n",
    "        # TensorFlow 텐서로 변환\n",
    "        users_tf = tf.convert_to_tensor(users_np, dtype=tf.int32)\n",
    "        items_tf = tf.convert_to_tensor(items_np, dtype=tf.int32)\n",
    "        ratings_tf = tf.convert_to_tensor(ratings_np, dtype=tf.float32)\n",
    "        \n",
    "        # 모델 학습\n",
    "        loss = model.train_on_batch([users_tf, items_tf], ratings_tf)\n",
    "    print(f\"Epoch {epoch+1}, Loss: {loss}\")"
   ]
  },
  {
   "cell_type": "markdown",
   "metadata": {},
   "source": [
    "### 모델 테스트\n",
    "미리 구성한 테스트셋을 바탕으로 Recall, MRR 을 확인해 본다."
   ]
  },
  {
   "cell_type": "code",
   "execution_count": 85,
   "metadata": {},
   "outputs": [],
   "source": [
    "def mrr_k(pred, truth: int, k: int):\n",
    "    indexing = np.where(pred[:k] == truth)[0]\n",
    "    if len(indexing) > 0:\n",
    "        return 1 / (indexing[0] + 1)\n",
    "    else:\n",
    "        return 0\n",
    "\n",
    "\n",
    "def recall_k(pred, truth: int, k: int) -> int:\n",
    "    answer = truth in pred[:k]\n",
    "    return int(answer)"
   ]
  },
  {
   "cell_type": "code",
   "execution_count": 86,
   "metadata": {},
   "outputs": [],
   "source": [
    "# def test_model(model, test_loader, k):\n",
    "#     recall_k_scores = []\n",
    "#     mrr_k_scores = []\n",
    "\n",
    "#     # 테스트 데이터셋을 순회합니다.\n",
    "#     for inputs, labels in test_loader:\n",
    "#         # 모델 예측\n",
    "#         predictions = model.predict(inputs)  # model.predict의 출력은 배치 내 각 아이템에 대한 예측 확률입니다.\n",
    "        \n",
    "#         # 각 배치에 대한 Recall@K와 MRR@K를 계산합니다.\n",
    "#         for label, prediction in zip(labels, predictions):\n",
    "#             # 예측된 확률이 높은 상위 K개 아이템의 인덱스를 가져옵니다.\n",
    "#             top_k_indices = prediction.argsort()[-k:][::-1]\n",
    "#             # 실제 아이템 인덱스\n",
    "#             truth_index = np.argwhere(label == 1).flatten()[0]  # 실제 라벨이 1인 아이템의 인덱스\n",
    "            \n",
    "#             recall_score = recall_k(top_k_indices, truth_index, k)\n",
    "#             mrr_score = mrr_k(top_k_indices, truth_index, k)\n",
    "            \n",
    "#             recall_k_scores.append(recall_score)\n",
    "#             mrr_k_scores.append(mrr_score)\n",
    "    \n",
    "#     # 평균 Recall@K와 MRR@K를 계산합니다.\n",
    "#     avg_recall_k = np.mean(recall_k_scores)\n",
    "#     avg_mrr_k = np.mean(mrr_k_scores)\n",
    "    \n",
    "#     print(f'Average Recall@{k}: {avg_recall_k:.4f}')\n",
    "#     print(f'Average MRR@{k}: {avg_mrr_k:.4f}')"
   ]
  },
  {
   "cell_type": "code",
   "execution_count": 95,
   "metadata": {},
   "outputs": [],
   "source": [
    "def evaluate_model(model, user_ids, item_ids, labels, k=10):\n",
    "    recall_k_scores = []\n",
    "    mrr_k_scores = []\n",
    "    \n",
    "    # 모델 예측\n",
    "    predictions = model.predict([user_ids, item_ids])\n",
    "    \n",
    "    # 각 사용자에 대한 Recall@K와 MRR@K를 계산합니다.\n",
    "    for user_id, item_id, label, prediction in zip(user_ids, item_ids, labels, predictions):\n",
    "        top_k_indices = np.argsort(prediction)[-k:][::-1]  # 상위 K개 아이템\n",
    "        recall_score = recall_k(top_k_indices, item_id, k)\n",
    "        mrr_score = mrr_k(top_k_indices, item_id, k)\n",
    "        recall_k_scores.append(recall_score)\n",
    "        mrr_k_scores.append(mrr_score)\n",
    "    \n",
    "    # 평균 Recall@K와 MRR@K를 계산합니다.\n",
    "    avg_recall_k = np.mean(recall_k_scores)\n",
    "    avg_mrr_k = np.mean(mrr_k_scores)\n",
    "    \n",
    "    print(f'Average Recall@{k}: {avg_recall_k:.4f}')\n",
    "    print(f'Average MRR@{k}: {avg_mrr_k:.4f}')"
   ]
  },
  {
   "cell_type": "code",
   "execution_count": 96,
   "metadata": {},
   "outputs": [],
   "source": [
    "# 테스트 데이터셋에서 사용자 ID와 아이템 ID를 추출\n",
    "test_user_ids = test_data['UserId'].values\n",
    "test_item_ids = test_data['ItemId'].values\n",
    "test_labels = test_data['ItemId'].values"
   ]
  },
  {
   "cell_type": "code",
   "execution_count": 97,
   "metadata": {
    "scrolled": true
   },
   "outputs": [
    {
     "name": "stdout",
     "output_type": "stream",
     "text": [
      "Average Recall@10: 0.0028\n",
      "Average MRR@10: 0.0009\n"
     ]
    }
   ],
   "source": [
    "# 모델 평가 실행\n",
    "k = 10  # 상위 k개 아이템을 고려한 평가\n",
    "evaluate_model(model, test_user_ids, test_item_ids, test_labels, k)"
   ]
  }
 ],
 "metadata": {
  "kernelspec": {
   "display_name": "Python 3 (ipykernel)",
   "language": "python",
   "name": "python3"
  },
  "language_info": {
   "codemirror_mode": {
    "name": "ipython",
    "version": 3
   },
   "file_extension": ".py",
   "mimetype": "text/x-python",
   "name": "python",
   "nbconvert_exporter": "python",
   "pygments_lexer": "ipython3",
   "version": "3.9.7"
  }
 },
 "nbformat": 4,
 "nbformat_minor": 2
}
