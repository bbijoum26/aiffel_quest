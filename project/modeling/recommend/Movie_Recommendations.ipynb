{
 "cells": [
  {
   "cell_type": "markdown",
   "id": "3c168b57",
   "metadata": {},
   "source": [
    "# Movielens 영화 추천\n",
    "\n",
    "데이터셋: Movielens 데이터\n",
    "- 유저가 영화에 대해 평점을 매긴 데이터가 데이터 크기 별로 있다.\n",
    "   - MovieLens 1M Dataset 사용 권장\n",
    "- 별점 데이터는 대표적인 explicit 데이터\n",
    "   - 하지만, implicit 데이터로 간주하고 테스트해 볼 수 있다.\n",
    "- 별점을 시청횟수로 해석해서 생각한다.\n",
    "   - 유저가 3점 미만으로 준 데이터는 선호하지 않는다고 가정하고 제외한다."
   ]
  },
  {
   "cell_type": "code",
   "execution_count": 1,
   "id": "0fbee05c",
   "metadata": {},
   "outputs": [
    {
     "name": "stdout",
     "output_type": "stream",
     "text": [
      "1.21.4\n",
      "1.7.1\n",
      "0.4.8\n"
     ]
    }
   ],
   "source": [
    "import os\n",
    "import scipy\n",
    "import implicit\n",
    "import numpy as np\n",
    "import pandas as pd\n",
    "from scipy.sparse import csr_matrix\n",
    "from implicit.als import AlternatingLeastSquares\n",
    "\n",
    "print(np.__version__)\n",
    "print(scipy.__version__)\n",
    "print(implicit.__version__)"
   ]
  },
  {
   "cell_type": "markdown",
   "id": "e2bbb5fb",
   "metadata": {},
   "source": [
    "## 데이터 준비와 전처리"
   ]
  },
  {
   "cell_type": "code",
   "execution_count": 2,
   "id": "1b7070ea",
   "metadata": {},
   "outputs": [
    {
     "data": {
      "text/html": [
       "<div>\n",
       "<style scoped>\n",
       "    .dataframe tbody tr th:only-of-type {\n",
       "        vertical-align: middle;\n",
       "    }\n",
       "\n",
       "    .dataframe tbody tr th {\n",
       "        vertical-align: top;\n",
       "    }\n",
       "\n",
       "    .dataframe thead th {\n",
       "        text-align: right;\n",
       "    }\n",
       "</style>\n",
       "<table border=\"1\" class=\"dataframe\">\n",
       "  <thead>\n",
       "    <tr style=\"text-align: right;\">\n",
       "      <th></th>\n",
       "      <th>user_id</th>\n",
       "      <th>movie_id</th>\n",
       "      <th>ratings</th>\n",
       "      <th>timestamp</th>\n",
       "    </tr>\n",
       "  </thead>\n",
       "  <tbody>\n",
       "    <tr>\n",
       "      <th>0</th>\n",
       "      <td>1</td>\n",
       "      <td>1193</td>\n",
       "      <td>5</td>\n",
       "      <td>978300760</td>\n",
       "    </tr>\n",
       "    <tr>\n",
       "      <th>1</th>\n",
       "      <td>1</td>\n",
       "      <td>661</td>\n",
       "      <td>3</td>\n",
       "      <td>978302109</td>\n",
       "    </tr>\n",
       "    <tr>\n",
       "      <th>2</th>\n",
       "      <td>1</td>\n",
       "      <td>914</td>\n",
       "      <td>3</td>\n",
       "      <td>978301968</td>\n",
       "    </tr>\n",
       "    <tr>\n",
       "      <th>3</th>\n",
       "      <td>1</td>\n",
       "      <td>3408</td>\n",
       "      <td>4</td>\n",
       "      <td>978300275</td>\n",
       "    </tr>\n",
       "    <tr>\n",
       "      <th>4</th>\n",
       "      <td>1</td>\n",
       "      <td>2355</td>\n",
       "      <td>5</td>\n",
       "      <td>978824291</td>\n",
       "    </tr>\n",
       "  </tbody>\n",
       "</table>\n",
       "</div>"
      ],
      "text/plain": [
       "   user_id  movie_id  ratings  timestamp\n",
       "0        1      1193        5  978300760\n",
       "1        1       661        3  978302109\n",
       "2        1       914        3  978301968\n",
       "3        1      3408        4  978300275\n",
       "4        1      2355        5  978824291"
      ]
     },
     "execution_count": 2,
     "metadata": {},
     "output_type": "execute_result"
    }
   ],
   "source": [
    "rating_file_path = os.getenv('HOME') + '/aiffel/recommendata_iu/data/ml-1m/ratings.dat'\n",
    "ratings_cols = ['user_id', 'movie_id', 'ratings', 'timestamp']\n",
    "ratings = pd.read_csv(rating_file_path, sep='::', names=ratings_cols, engine='python', encoding = \"ISO-8859-1\")\n",
    "orginal_data_size = len(ratings)\n",
    "ratings.head()"
   ]
  },
  {
   "cell_type": "markdown",
   "id": "d34dd8f4",
   "metadata": {},
   "source": [
    "### 3점 이상만 남기기"
   ]
  },
  {
   "cell_type": "code",
   "execution_count": 3,
   "id": "79de3098",
   "metadata": {},
   "outputs": [
    {
     "name": "stdout",
     "output_type": "stream",
     "text": [
      "orginal_data_size: 1000209, filtered_data_size: 836478\n",
      "Ratio of Remaining Data is 83.63%\n"
     ]
    }
   ],
   "source": [
    "ratings = ratings[ratings['ratings']>=3]\n",
    "filtered_data_size = len(ratings)\n",
    "\n",
    "print(f'orginal_data_size: {orginal_data_size}, filtered_data_size: {filtered_data_size}')\n",
    "print(f'Ratio of Remaining Data is {filtered_data_size / orginal_data_size:.2%}')"
   ]
  },
  {
   "cell_type": "markdown",
   "id": "cd605023",
   "metadata": {},
   "source": [
    "### ratings 컬럼의 이름을 counts로 바꾸기"
   ]
  },
  {
   "cell_type": "code",
   "execution_count": 4,
   "id": "9ef4fa9f",
   "metadata": {},
   "outputs": [],
   "source": [
    "ratings.rename(columns={'ratings':'counts'}, inplace=True)"
   ]
  },
  {
   "cell_type": "code",
   "execution_count": 5,
   "id": "c3d7b61c",
   "metadata": {
    "scrolled": true
   },
   "outputs": [
    {
     "data": {
      "text/plain": [
       "0          5\n",
       "1          3\n",
       "2          3\n",
       "3          4\n",
       "4          5\n",
       "          ..\n",
       "1000203    3\n",
       "1000205    5\n",
       "1000206    5\n",
       "1000207    4\n",
       "1000208    4\n",
       "Name: counts, Length: 836478, dtype: int64"
      ]
     },
     "execution_count": 5,
     "metadata": {},
     "output_type": "execute_result"
    }
   ],
   "source": [
    "ratings['counts']"
   ]
  },
  {
   "cell_type": "markdown",
   "id": "fc6cbf08",
   "metadata": {},
   "source": [
    "### 영화 제목을 보기 위해 메타 데이터를 읽어오기"
   ]
  },
  {
   "cell_type": "code",
   "execution_count": 6,
   "id": "5e8a528e",
   "metadata": {
    "scrolled": true
   },
   "outputs": [
    {
     "data": {
      "text/html": [
       "<div>\n",
       "<style scoped>\n",
       "    .dataframe tbody tr th:only-of-type {\n",
       "        vertical-align: middle;\n",
       "    }\n",
       "\n",
       "    .dataframe tbody tr th {\n",
       "        vertical-align: top;\n",
       "    }\n",
       "\n",
       "    .dataframe thead th {\n",
       "        text-align: right;\n",
       "    }\n",
       "</style>\n",
       "<table border=\"1\" class=\"dataframe\">\n",
       "  <thead>\n",
       "    <tr style=\"text-align: right;\">\n",
       "      <th></th>\n",
       "      <th>movie_id</th>\n",
       "      <th>title</th>\n",
       "      <th>genre</th>\n",
       "    </tr>\n",
       "  </thead>\n",
       "  <tbody>\n",
       "    <tr>\n",
       "      <th>0</th>\n",
       "      <td>1</td>\n",
       "      <td>Toy Story (1995)</td>\n",
       "      <td>Animation|Children's|Comedy</td>\n",
       "    </tr>\n",
       "    <tr>\n",
       "      <th>1</th>\n",
       "      <td>2</td>\n",
       "      <td>Jumanji (1995)</td>\n",
       "      <td>Adventure|Children's|Fantasy</td>\n",
       "    </tr>\n",
       "    <tr>\n",
       "      <th>2</th>\n",
       "      <td>3</td>\n",
       "      <td>Grumpier Old Men (1995)</td>\n",
       "      <td>Comedy|Romance</td>\n",
       "    </tr>\n",
       "    <tr>\n",
       "      <th>3</th>\n",
       "      <td>4</td>\n",
       "      <td>Waiting to Exhale (1995)</td>\n",
       "      <td>Comedy|Drama</td>\n",
       "    </tr>\n",
       "    <tr>\n",
       "      <th>4</th>\n",
       "      <td>5</td>\n",
       "      <td>Father of the Bride Part II (1995)</td>\n",
       "      <td>Comedy</td>\n",
       "    </tr>\n",
       "  </tbody>\n",
       "</table>\n",
       "</div>"
      ],
      "text/plain": [
       "   movie_id                               title                         genre\n",
       "0         1                    Toy Story (1995)   Animation|Children's|Comedy\n",
       "1         2                      Jumanji (1995)  Adventure|Children's|Fantasy\n",
       "2         3             Grumpier Old Men (1995)                Comedy|Romance\n",
       "3         4            Waiting to Exhale (1995)                  Comedy|Drama\n",
       "4         5  Father of the Bride Part II (1995)                        Comedy"
      ]
     },
     "execution_count": 6,
     "metadata": {},
     "output_type": "execute_result"
    }
   ],
   "source": [
    "movie_file_path=os.getenv('HOME') + '/aiffel/recommendata_iu/data/ml-1m/movies.dat'\n",
    "cols = ['movie_id', 'title', 'genre'] \n",
    "movies = pd.read_csv(movie_file_path, sep='::', names=cols, engine='python', encoding='ISO-8859-1')\n",
    "movies.head()"
   ]
  },
  {
   "cell_type": "markdown",
   "id": "eb10cbec",
   "metadata": {},
   "source": [
    "이후에는 이전 스텝에 소개했던 것과 동일한 방식으로 MF model을 구성하여 내가 좋아할 만한 영화를 추천해 볼 수 있습니다."
   ]
  },
  {
   "cell_type": "markdown",
   "id": "46ce760e",
   "metadata": {},
   "source": [
    "## 데이터 분석\n",
    "ratings에 있는 유니크한 영화 개수  \n",
    "ratings에 있는 유니크한 사용자 수  \n",
    "가장 인기 있는 영화 30개(인기순)  "
   ]
  },
  {
   "cell_type": "markdown",
   "id": "3106cc13",
   "metadata": {},
   "source": [
    "### 유니크한 영화 개수"
   ]
  },
  {
   "cell_type": "code",
   "execution_count": 7,
   "id": "38da2a2c",
   "metadata": {},
   "outputs": [
    {
     "name": "stdout",
     "output_type": "stream",
     "text": [
      "유니크한 영화 개수: 3628\n"
     ]
    }
   ],
   "source": [
    "unique_movies = ratings['movie_id'].nunique()\n",
    "print(f'유니크한 영화 개수: {unique_movies}')"
   ]
  },
  {
   "cell_type": "markdown",
   "id": "ef0e8706",
   "metadata": {},
   "source": [
    "### 유니크한 사용자 수"
   ]
  },
  {
   "cell_type": "code",
   "execution_count": 8,
   "id": "b4d7d915",
   "metadata": {},
   "outputs": [
    {
     "name": "stdout",
     "output_type": "stream",
     "text": [
      "유니크한 사용자 수: 6039\n"
     ]
    }
   ],
   "source": [
    "unique_users = ratings['user_id'].nunique()\n",
    "print(f'유니크한 사용자 수: {unique_users}')"
   ]
  },
  {
   "cell_type": "markdown",
   "id": "fcc0a9e7",
   "metadata": {},
   "source": [
    "### 가장 인기 있는 영화 30개 (인기순)"
   ]
  },
  {
   "cell_type": "code",
   "execution_count": 9,
   "id": "6840572b",
   "metadata": {},
   "outputs": [
    {
     "name": "stdout",
     "output_type": "stream",
     "text": [
      "                                                  title  count\n",
      "2600                             American Beauty (1999)   3211\n",
      "249           Star Wars: Episode IV - A New Hope (1977)   2910\n",
      "1080  Star Wars: Episode V - The Empire Strikes Back...   2885\n",
      "1094  Star Wars: Episode VI - Return of the Jedi (1983)   2716\n",
      "1810                         Saving Private Ryan (1998)   2561\n",
      "569                   Terminator 2: Judgment Day (1991)   2509\n",
      "573                    Silence of the Lambs, The (1991)   2498\n",
      "1082                     Raiders of the Lost Ark (1981)   2473\n",
      "1152                          Back to the Future (1985)   2460\n",
      "2325                                 Matrix, The (1999)   2434\n",
      "462                                Jurassic Park (1993)   2413\n",
      "2507                            Sixth Sense, The (1999)   2385\n",
      "587                                        Fargo (1996)   2371\n",
      "106                                   Braveheart (1995)   2314\n",
      "1419                                Men in Black (1997)   2297\n",
      "509                             Schindler's List (1993)   2257\n",
      "1081                         Princess Bride, The (1987)   2252\n",
      "2155                         Shakespeare in Love (1998)   2213\n",
      "1455                           L.A. Confidential (1997)   2210\n",
      "305                    Shawshank Redemption, The (1994)   2194\n",
      "785                               Godfather, The (1972)   2167\n",
      "1147                               Groundhog Day (1993)   2121\n",
      "1003                  E.T. the Extra-Terrestrial (1982)   2102\n",
      "2734                        Being John Malkovich (1999)   2066\n",
      "2462                                Ghostbusters (1984)   2051\n",
      "283                                 Pulp Fiction (1994)   2030\n",
      "342                                 Forrest Gump (1994)   2022\n",
      "1122                             Terminator, The (1984)   2019\n",
      "0                                      Toy Story (1995)   2000\n",
      "439                                Fugitive, The (1993)   1941\n"
     ]
    }
   ],
   "source": [
    "movie_popularity = ratings.groupby('movie_id')['user_id'].count().reset_index(name='count').merge(movies, on='movie_id').sort_values('count', ascending=False).head(30)\n",
    "print(movie_popularity[['title', 'count']])"
   ]
  },
  {
   "cell_type": "markdown",
   "id": "7822c047",
   "metadata": {},
   "source": [
    "## 모델 구축 및 훈련"
   ]
  },
  {
   "cell_type": "markdown",
   "id": "5f9bb9c8",
   "metadata": {},
   "source": [
    "### 내가 선호하는 영화를 5가지 골라서 ratings에 추가"
   ]
  },
  {
   "cell_type": "markdown",
   "id": "199586bf",
   "metadata": {},
   "source": [
    "####  좋아하는 영화 고르기\n",
    "데이터셋에 있는 영화 제목을 정확하게 사용해야 한다."
   ]
  },
  {
   "cell_type": "code",
   "execution_count": 10,
   "id": "836f189c",
   "metadata": {},
   "outputs": [],
   "source": [
    "my_favorite_movies = ['Toy Story (1995)', \n",
    "                      'Jumanji (1995)', \n",
    "                      'Men in Black (1997)', \n",
    "                      'Heat (1995)', \n",
    "                      'Sabrina (1995)']"
   ]
  },
  {
   "cell_type": "markdown",
   "id": "4ac9d767",
   "metadata": {},
   "source": [
    "#### ratings 추가\n",
    "- 'minji'이라는 user_id가 위 영화들을 모두 5점을 줬다고 가정\n",
    "    - 이를 데이터프레임에 추가하기 위해 먼저 movie_id를 찾아야 한다.\n",
    "- 기존 ratings 데이터프레임에 추가"
   ]
  },
  {
   "cell_type": "code",
   "execution_count": 11,
   "id": "086c5578",
   "metadata": {},
   "outputs": [],
   "source": [
    "my_movies = pd.DataFrame({\n",
    "    'user_id': ['minji'] * 5,\n",
    "    'movie_id': movies[movies['title'].isin(my_favorite_movies)]['movie_id'].tolist(),\n",
    "    'counts': [5] * 5,\n",
    "    'timestamp': [0] * 5\n",
    "})"
   ]
  },
  {
   "cell_type": "code",
   "execution_count": 12,
   "id": "9c259bb6",
   "metadata": {},
   "outputs": [],
   "source": [
    "if not ratings.isin({'user_id':['minji']})['user_id'].any():  # user_id에 'minji'이라는 데이터가 없다면\n",
    "    ratings = ratings.append(my_movies)                       # 위에 임의로 만든 my_movies 데이터를 추가해 준다."
   ]
  },
  {
   "cell_type": "markdown",
   "id": "1f73e9ce",
   "metadata": {},
   "source": [
    "### 데이터 인덱싱\n",
    "사용자 ID와 영화 ID를 순차적인 정수 인덱스로 매핑한다.  \n",
    "이는 모델이 인식할 수 있는 형태로 데이터를 변환하는 과정이다."
   ]
  },
  {
   "cell_type": "markdown",
   "id": "6de125a2",
   "metadata": {},
   "source": [
    "#### 고유한 사용자와 영화를 찾아내는 과정"
   ]
  },
  {
   "cell_type": "code",
   "execution_count": 13,
   "id": "bfc45dfe",
   "metadata": {},
   "outputs": [],
   "source": [
    "user_unique = ratings['user_id'].unique()\n",
    "movie_unique = ratings['movie_id'].unique()"
   ]
  },
  {
   "cell_type": "code",
   "execution_count": 14,
   "id": "f51f822c",
   "metadata": {},
   "outputs": [
    {
     "name": "stdout",
     "output_type": "stream",
     "text": [
      "user unique: [1 2 3 ... 6039 6040 'minji']\n",
      "movie unique:  [1193  661  914 ...  690 2909 1360]\n"
     ]
    }
   ],
   "source": [
    "print('user unique:', user_unique)\n",
    "print('movie unique: ', movie_unique)"
   ]
  },
  {
   "cell_type": "markdown",
   "id": "44991951",
   "metadata": {},
   "source": [
    "#### 사용자와 영화 indexing"
   ]
  },
  {
   "cell_type": "code",
   "execution_count": 15,
   "id": "167352b6",
   "metadata": {},
   "outputs": [],
   "source": [
    "user_to_idx = {v:k for k,v in enumerate(user_unique)}\n",
    "movie_to_idx = {v:k for k,v in enumerate(movie_unique)}"
   ]
  },
  {
   "cell_type": "markdown",
   "id": "ada9e30d",
   "metadata": {},
   "source": [
    "#### 데이터 컬럼 내 값을 인덱싱 값으로 변경"
   ]
  },
  {
   "cell_type": "code",
   "execution_count": 16,
   "id": "4a0db458",
   "metadata": {},
   "outputs": [],
   "source": [
    "ratings['user_id'] = ratings['user_id'].map(user_to_idx.get)\n",
    "ratings['movie_id'] = ratings['movie_id'].map(movie_to_idx.get)"
   ]
  },
  {
   "cell_type": "code",
   "execution_count": 17,
   "id": "b3961da5",
   "metadata": {},
   "outputs": [
    {
     "name": "stdout",
     "output_type": "stream",
     "text": [
      "6039\n",
      "40\n"
     ]
    }
   ],
   "source": [
    "print(user_to_idx['minji'])                           # 새로 추가한 사용자 'minji'의 인덱스 확인\n",
    "print(movie_to_idx[my_movies.iloc[0]['movie_id']])    # 'Toy Story (1995)'의 인덱스 확인"
   ]
  },
  {
   "cell_type": "markdown",
   "id": "b72e8ac9",
   "metadata": {},
   "source": [
    "### CSR matrix"
   ]
  },
  {
   "cell_type": "markdown",
   "id": "6ff6e7c2",
   "metadata": {},
   "source": [
    "#### 데이터프레임에서 필요한 컬럼만 추출\n",
    "사용자 ID와 영화 ID는 이미 인덱싱된 값으로 변환되었다."
   ]
  },
  {
   "cell_type": "code",
   "execution_count": 18,
   "id": "c3c5d7f6",
   "metadata": {},
   "outputs": [],
   "source": [
    "user_ids = ratings['user_id'].values\n",
    "movie_ids = ratings['movie_id'].values\n",
    "counts = ratings['counts'].values"
   ]
  },
  {
   "cell_type": "markdown",
   "id": "2a8bc0d8",
   "metadata": {},
   "source": [
    "#### CSR Matrix 생성\n",
    "행렬의 크기는 사용자 수와 영화 수의 최대값에 +1을 한 값으로 설정한다.(인덱스는 0부터 시작하기 때문)"
   ]
  },
  {
   "cell_type": "code",
   "execution_count": 19,
   "id": "792debb5",
   "metadata": {},
   "outputs": [],
   "source": [
    "num_users = ratings['user_id'].nunique()\n",
    "num_movies = ratings['movie_id'].nunique()\n",
    "\n",
    "csr_data = csr_matrix((counts, (user_ids, movie_ids)), shape=(num_users + 1, num_movies + 1))"
   ]
  },
  {
   "cell_type": "code",
   "execution_count": 20,
   "id": "8356ae79",
   "metadata": {
    "scrolled": true
   },
   "outputs": [
    {
     "name": "stdout",
     "output_type": "stream",
     "text": [
      "  (0, 0)\t5\n",
      "  (0, 1)\t3\n",
      "  (0, 2)\t3\n",
      "  (0, 3)\t4\n",
      "  (0, 4)\t5\n",
      "  (0, 5)\t3\n",
      "  (0, 6)\t5\n",
      "  (0, 7)\t5\n",
      "  (0, 8)\t4\n",
      "  (0, 9)\t4\n",
      "  (0, 10)\t5\n",
      "  (0, 11)\t4\n",
      "  (0, 12)\t4\n",
      "  (0, 13)\t4\n",
      "  (0, 14)\t5\n",
      "  (0, 15)\t4\n",
      "  (0, 16)\t3\n",
      "  (0, 17)\t4\n",
      "  (0, 18)\t5\n",
      "  (0, 19)\t4\n",
      "  (0, 20)\t3\n",
      "  (0, 21)\t3\n",
      "  (0, 22)\t5\n",
      "  (0, 23)\t5\n",
      "  (0, 24)\t3\n",
      "  :\t:\n",
      "  (6038, 2311)\t4\n",
      "  (6038, 2317)\t5\n",
      "  (6038, 2386)\t4\n",
      "  (6038, 2394)\t5\n",
      "  (6038, 2424)\t4\n",
      "  (6038, 2437)\t4\n",
      "  (6038, 2446)\t5\n",
      "  (6038, 2471)\t4\n",
      "  (6038, 2511)\t5\n",
      "  (6038, 2523)\t4\n",
      "  (6038, 2559)\t3\n",
      "  (6038, 2560)\t4\n",
      "  (6038, 2631)\t5\n",
      "  (6038, 2648)\t4\n",
      "  (6038, 2654)\t5\n",
      "  (6038, 2738)\t4\n",
      "  (6038, 2740)\t5\n",
      "  (6038, 2857)\t5\n",
      "  (6038, 2860)\t3\n",
      "  (6038, 3311)\t5\n",
      "  (6039, 40)\t5\n",
      "  (6039, 175)\t5\n",
      "  (6039, 373)\t5\n",
      "  (6039, 513)\t5\n",
      "  (6039, 516)\t5\n"
     ]
    }
   ],
   "source": [
    "print(csr_data)"
   ]
  },
  {
   "cell_type": "markdown",
   "id": "8d01270a",
   "metadata": {},
   "source": [
    "### 모델 구축\n",
    "`als_model = AlternatingLeastSquares` 모델을 직접 구성하여 훈련시키기\n",
    "\n",
    "\n",
    "```python\n",
    "# 초기 설정\n",
    "als_model = AlternatingLeastSquares(factors=100, \n",
    "                                    regularization=0.01, \n",
    "                                    use_gpu=False, \n",
    "                                    iterations=20, \n",
    "                                    dtype=np.float32)\n",
    "\n",
    "```"
   ]
  },
  {
   "cell_type": "code",
   "execution_count": 39,
   "id": "e47eb739",
   "metadata": {},
   "outputs": [],
   "source": [
    "als_model = AlternatingLeastSquares(factors=500, \n",
    "                                    regularization=0.001, \n",
    "                                    use_gpu=False, \n",
    "                                    iterations=100, \n",
    "                                    dtype=np.float32)"
   ]
  },
  {
   "cell_type": "markdown",
   "id": "8ff3d15f",
   "metadata": {},
   "source": [
    "#### 모델 훈련을 위한 데이터 준비\n",
    "implicit 라이브러리는 item * user 형태의 매트릭스를 기대한다."
   ]
  },
  {
   "cell_type": "code",
   "execution_count": 40,
   "id": "aaf569e1",
   "metadata": {
    "scrolled": true
   },
   "outputs": [
    {
     "name": "stdout",
     "output_type": "stream",
     "text": [
      "  (0, 0)\t5\n",
      "  (1, 0)\t3\n",
      "  (2, 0)\t3\n",
      "  (3, 0)\t4\n",
      "  (4, 0)\t5\n",
      "  (5, 0)\t3\n",
      "  (6, 0)\t5\n",
      "  (7, 0)\t5\n",
      "  (8, 0)\t4\n",
      "  (9, 0)\t4\n",
      "  (10, 0)\t5\n",
      "  (11, 0)\t4\n",
      "  (12, 0)\t4\n",
      "  (13, 0)\t4\n",
      "  (14, 0)\t5\n",
      "  (15, 0)\t4\n",
      "  (16, 0)\t3\n",
      "  (17, 0)\t4\n",
      "  (18, 0)\t5\n",
      "  (19, 0)\t4\n",
      "  (20, 0)\t3\n",
      "  (21, 0)\t3\n",
      "  (22, 0)\t5\n",
      "  (23, 0)\t5\n",
      "  (24, 0)\t3\n",
      "  :\t:\n",
      "  (2311, 6038)\t4\n",
      "  (2317, 6038)\t5\n",
      "  (2386, 6038)\t4\n",
      "  (2394, 6038)\t5\n",
      "  (2424, 6038)\t4\n",
      "  (2437, 6038)\t4\n",
      "  (2446, 6038)\t5\n",
      "  (2471, 6038)\t4\n",
      "  (2511, 6038)\t5\n",
      "  (2523, 6038)\t4\n",
      "  (2559, 6038)\t3\n",
      "  (2560, 6038)\t4\n",
      "  (2631, 6038)\t5\n",
      "  (2648, 6038)\t4\n",
      "  (2654, 6038)\t5\n",
      "  (2738, 6038)\t4\n",
      "  (2740, 6038)\t5\n",
      "  (2857, 6038)\t5\n",
      "  (2860, 6038)\t3\n",
      "  (3311, 6038)\t5\n",
      "  (40, 6039)\t5\n",
      "  (175, 6039)\t5\n",
      "  (373, 6039)\t5\n",
      "  (513, 6039)\t5\n",
      "  (516, 6039)\t5\n"
     ]
    }
   ],
   "source": [
    "csr_data_transpose = csr_data.T\n",
    "print(csr_data_transpose)"
   ]
  },
  {
   "cell_type": "markdown",
   "id": "437908fc",
   "metadata": {},
   "source": [
    "### 모델 훈련"
   ]
  },
  {
   "cell_type": "code",
   "execution_count": 41,
   "id": "d531a14b",
   "metadata": {
    "scrolled": true
   },
   "outputs": [
    {
     "data": {
      "application/vnd.jupyter.widget-view+json": {
       "model_id": "ce9f81f1b0a042a2844594499a07817d",
       "version_major": 2,
       "version_minor": 0
      },
      "text/plain": [
       "  0%|          | 0/100 [00:00<?, ?it/s]"
      ]
     },
     "metadata": {},
     "output_type": "display_data"
    }
   ],
   "source": [
    "als_model.fit(csr_data_transpose)"
   ]
  },
  {
   "cell_type": "markdown",
   "id": "1fa01fb5",
   "metadata": {},
   "source": [
    "## 선호도 파악\n",
    "내가 선호하는 5가지 영화 중 하나와 그 외의 영화 하나를 골라 훈련된 모델이 예측한 나의 선호도 파악"
   ]
  },
  {
   "cell_type": "markdown",
   "id": "bcfbb2ac",
   "metadata": {},
   "source": [
    "### 인덱스 가져오기"
   ]
  },
  {
   "cell_type": "code",
   "execution_count": 42,
   "id": "b79f8224",
   "metadata": {},
   "outputs": [
    {
     "data": {
      "text/plain": [
       "6039"
      ]
     },
     "execution_count": 42,
     "metadata": {},
     "output_type": "execute_result"
    }
   ],
   "source": [
    "# 'minji' 사용자 인덱스\n",
    "minji_idx = user_to_idx['minji']\n",
    "minji_idx"
   ]
  },
  {
   "cell_type": "code",
   "execution_count": 43,
   "id": "48a49d06",
   "metadata": {},
   "outputs": [
    {
     "data": {
      "text/plain": [
       "40"
      ]
     },
     "execution_count": 43,
     "metadata": {},
     "output_type": "execute_result"
    }
   ],
   "source": [
    "# 'Toy Story (1995)' 영화 인덱스\n",
    "toy_story_idx = movie_to_idx[1] # 영화 ID가 1인 'Toy Story (1995)'\n",
    "toy_story_idx"
   ]
  },
  {
   "cell_type": "markdown",
   "id": "b9c40bd5",
   "metadata": {},
   "source": [
    "### 모델을 사용하여 'minji'의 'Toy Story (1995)'에 대한 선호도 파악"
   ]
  },
  {
   "cell_type": "code",
   "execution_count": 44,
   "id": "9b37c375",
   "metadata": {
    "scrolled": true
   },
   "outputs": [
    {
     "name": "stdout",
     "output_type": "stream",
     "text": [
      "minji의 Toy Story (1995)에 대한 선호도: 0.9340021\n"
     ]
    }
   ],
   "source": [
    "minji_toy_story_pref = np.dot(als_model.user_factors[minji_idx], als_model.item_factors[toy_story_idx])\n",
    "print('minji의 Toy Story (1995)에 대한 선호도:', minji_toy_story_pref)"
   ]
  },
  {
   "cell_type": "markdown",
   "id": "84dea752",
   "metadata": {},
   "source": [
    "### 다른 영화에 대한 선호도 파악"
   ]
  },
  {
   "cell_type": "code",
   "execution_count": 45,
   "id": "873268fc",
   "metadata": {},
   "outputs": [
    {
     "name": "stdout",
     "output_type": "stream",
     "text": [
      "minji의 Grumpier Old Men (1995)에 대한 선호도: -0.0027952096\n"
     ]
    }
   ],
   "source": [
    "# ex) 'Grumpier Old Men (1995)' 영화의 인덱스 가져오기\n",
    "grumpier_old_men_idx = movie_to_idx[3] # 영화 ID가 3인 'Grumpier Old Men (1995)'\n",
    "\n",
    "# 모델을 사용하여 'minji'의 'Grumpier Old Men (1995)'에 대한 선호도 파악\n",
    "minji_grumpier_old_men_pref = als_model.user_factors[minji_idx].dot(als_model.item_factors[grumpier_old_men_idx])\n",
    "print('minji의 Grumpier Old Men (1995)에 대한 선호도:', minji_grumpier_old_men_pref)"
   ]
  },
  {
   "cell_type": "markdown",
   "id": "71981551",
   "metadata": {},
   "source": [
    "## 비슷한 영화 추천 받기\n",
    "내가 좋아하는 영화와 비슷한 영화를 추천받기"
   ]
  },
  {
   "cell_type": "code",
   "execution_count": 46,
   "id": "e8db034d",
   "metadata": {},
   "outputs": [
    {
     "name": "stdout",
     "output_type": "stream",
     "text": [
      "Cry, the Beloved Country (1995) 1.0\n",
      "Man Facing Southeast (Hombre Mirando al Sudeste) (1986) 0.44462755\n",
      "Man Bites Dog (C'est arrivé près de chez vous) (1992) 0.43920505\n",
      "Kill, Baby... Kill! (Operazione Paura) (1966) 0.4377068\n",
      "Howards End (1992) 0.4367935\n"
     ]
    }
   ],
   "source": [
    "# 'Toy Story (1995)'와 비슷한 영화 찾기\n",
    "similar_movies = als_model.similar_items(toy_story_idx, N=5)\n",
    "for movie_id, similarity in similar_movies:\n",
    "    print(movies[movies['movie_id'] == movie_id]['title'].values[0], similarity)"
   ]
  },
  {
   "cell_type": "markdown",
   "id": "920e5468",
   "metadata": {},
   "source": [
    "## 좋아할 만한 영화 추천 받기\n",
    "내가 가장 좋아할 만한 영화들을 추천받기"
   ]
  },
  {
   "cell_type": "code",
   "execution_count": 47,
   "id": "884457b9",
   "metadata": {},
   "outputs": [
    {
     "name": "stdout",
     "output_type": "stream",
     "text": [
      "Howling, The (1980) 0.20604476\n",
      "Black Sheep (1996) 0.19522905\n",
      "Judge Dredd (1995) 0.1879754\n",
      "Walking Dead, The (1995) 0.17447287\n",
      "Usual Suspects, The (1995) 0.13807811\n"
     ]
    }
   ],
   "source": [
    "# 'minji'에게 영화 추천하기\n",
    "recommended_movies = als_model.recommend(minji_idx, csr_data, N=5, filter_already_liked_items=True)\n",
    "for movie_id, score in recommended_movies:\n",
    "    print(movies[movies['movie_id'] == movie_id]['title'].values[0], score)"
   ]
  },
  {
   "cell_type": "markdown",
   "id": "3d14dcd6",
   "metadata": {},
   "source": [
    "## 결과\n",
    "\n",
    "### 선호도 파악\n",
    "- 'Toy Story (1995)'에 대한 선호도: 0.9340021\n",
    "    - 'minji'가 'Toy Story (1995)'를 매우 좋아할 것이라는 모델의 예측을 나타낸다. \n",
    "        - 선호도 점수는 사용자의 특성 벡터와 아이템의 특성 벡터를 내적(dot product)한 값으로, 두 벡터가 얼마나 유사한지를 나타낸다. \n",
    "        - 높은 점수는 높은 선호도를 의미한다.\n",
    "\n",
    "- 'Grumpier Old Men (1995)'에 대한 선호도: -0.0027952096\n",
    "    - 거의 0에 가깝거나 약간 부정적인 값을 가지고 있다.\n",
    "    - 'minji'가 이 영화에 대해 별로 관심이 없거나, 싫어할 가능성이 있다는 것을 의미한다.\n",
    "\n",
    "\n",
    "### 비슷한 영화 추천\n",
    "- 비슷한 영화 목록: 'Toy Story (1995)'와 비슷한 영화 추천\n",
    "    - 추천된 영화들은 'Toy Story'와 유사한 특성 벡터를 가진 영화들이다. \n",
    "    - 그러나 추천된 영화들의 제목을 보면 'Toy Story'와 직접적인 관련성이 떨어지는 것으로 보인다.\n",
    "        - 모델이 영화의 장르나 내용보다 사용자의 상호작용 패턴에 기반하여 유사도를 계산하기 때문에 발생할 수 있다. \n",
    "        - 또한, 데이터의 희소성이나 모델 파라미터 설정에 따라 추천의 질이 달라질 수 있다.\n",
    "        \n",
    "### 개인화된 영화 추천\n",
    "- 개인화된 영화 목록: 'minji'에게 추천할 영화 목록 \n",
    "    - 추천 목록은 'minji'의 과거 상호작용(평점 데이터)을 기반으로 생성된다. \n",
    "        - 추천된 영화들은 모델이 'minji'가 관심을 가질 것으로 예측한 영화이다. \n",
    "    - 'Usual Suspects, The (1995)'와 같은 영화는 더 높은 점수를 받았으며, 이는 'minji'의 취향과 더 일치할 가능성이 높음을 의미한다.\n",
    "\n",
    "### 결론\n",
    "종합적으로, 이 모델은 사용자의 과거 상호작용을 기반으로 영화에 대한 개인별 선호도를 예측하고, 그 결과를 바탕으로 개인화된 영화 추천을 제공한다. 하지만, 모델의 추천이 항상 사용자의 실제 취향을 정확히 반영하는 것은 아니며, 모델의 성능은 사용된 데이터, 하이퍼파라미터, 알고리즘의 특성 등 다양한 요소에 의해 영향을 받는다. 따라서, 추천 시스템의 성능을 향상시키기 위해서는 지속적인 실험과 최적화가 필요하다."
   ]
  },
  {
   "cell_type": "markdown",
   "id": "b0e58e4a",
   "metadata": {},
   "source": [
    "## 회고\n",
    "이 프로젝트는 실제 사용자의 선호도 데이터를 기반으로 하는 추천 시스템의 구현을 통해,   \n",
    "데이터 과학과 머신러닝의 실질적인 적용 사례를 경험할 수 있는 좋은 기회였다.   \n",
    "특히, AlternatingLeastSquares 모델을 활용하여 사용자와 아이템 간의 상호작용을 학습하고,   \n",
    "이를 기반으로 추천을 수행하는 과정은 매우 흥미로웠다.  \n",
    "\n",
    "실험을 통해 찾은 하이퍼파라미터 설정은 시작점에 불과하다.   \n",
    "더 정밀한 튜닝과 교차 검증을 통해 모델의 일반화 성능을 향상시킬 필요가 있는 거 같다.  \n",
    "영화 추천 뿐만 아니라, 리그 오브 레전드 같은 게임 추천 시스템 구현에도 관심을 가지고,  \n",
    "다양한 도메인의 추천 시스템에 대한 이해와 경험을 넓힐 수 있었다.  \n",
    "\n",
    "이 프로젝트를 통해 추천 시스템의 기본적인 원리와 구현 방법을 이해할 수 있었으며,   \n",
    "실제 데이터를 사용한 실습을 통해 이론적 지식을 실제 문제에 적용하는 경험을 할 수 있었다.   \n",
    "추천 시스템은 다양한 온라인 서비스에서 중요한 역할을 하고 있으며, 이 분야의 기술이 지속적으로 발전하고 있다.   \n",
    "앞으로도 새로운 기술과 알고리즘을 학습하고, 다양한 도메인에 적용해보는 것을 통해 지속적으로 성장해 나가고자 한다."
   ]
  }
 ],
 "metadata": {
  "kernelspec": {
   "display_name": "Python 3 (ipykernel)",
   "language": "python",
   "name": "python3"
  },
  "language_info": {
   "codemirror_mode": {
    "name": "ipython",
    "version": 3
   },
   "file_extension": ".py",
   "mimetype": "text/x-python",
   "name": "python",
   "nbconvert_exporter": "python",
   "pygments_lexer": "ipython3",
   "version": "3.9.7"
  }
 },
 "nbformat": 4,
 "nbformat_minor": 5
}
