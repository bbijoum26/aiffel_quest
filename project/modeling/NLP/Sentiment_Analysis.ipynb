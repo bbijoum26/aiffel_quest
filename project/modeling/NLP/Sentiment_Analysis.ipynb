{
  "cells": [
    {
      "cell_type": "markdown",
      "id": "84bf1518",
      "metadata": {
        "id": "84bf1518"
      },
      "source": [
        "# 네이버 영화리뷰 감성분석\n",
        "\n",
        "데이터셋: 네이버 영화의 댓글을 모아 구성된 [Naver sentiment movie corpus](https://github.com/e9t/nsmc)"
      ]
    },
    {
      "cell_type": "markdown",
      "id": "49b798a4",
      "metadata": {
        "id": "49b798a4"
      },
      "source": [
        "## 데이터 준비와 확인"
      ]
    },
    {
      "cell_type": "code",
      "execution_count": null,
      "id": "200cf264",
      "metadata": {
        "id": "200cf264",
        "outputId": "59a51bbd-04cb-4dba-d3dc-8baaa3edf8f1"
      },
      "outputs": [
        {
          "data": {
            "text/html": [
              "<div>\n",
              "<style scoped>\n",
              "    .dataframe tbody tr th:only-of-type {\n",
              "        vertical-align: middle;\n",
              "    }\n",
              "\n",
              "    .dataframe tbody tr th {\n",
              "        vertical-align: top;\n",
              "    }\n",
              "\n",
              "    .dataframe thead th {\n",
              "        text-align: right;\n",
              "    }\n",
              "</style>\n",
              "<table border=\"1\" class=\"dataframe\">\n",
              "  <thead>\n",
              "    <tr style=\"text-align: right;\">\n",
              "      <th></th>\n",
              "      <th>id</th>\n",
              "      <th>document</th>\n",
              "      <th>label</th>\n",
              "    </tr>\n",
              "  </thead>\n",
              "  <tbody>\n",
              "    <tr>\n",
              "      <th>0</th>\n",
              "      <td>9976970</td>\n",
              "      <td>아 더빙.. 진짜 짜증나네요 목소리</td>\n",
              "      <td>0</td>\n",
              "    </tr>\n",
              "    <tr>\n",
              "      <th>1</th>\n",
              "      <td>3819312</td>\n",
              "      <td>흠...포스터보고 초딩영화줄....오버연기조차 가볍지 않구나</td>\n",
              "      <td>1</td>\n",
              "    </tr>\n",
              "    <tr>\n",
              "      <th>2</th>\n",
              "      <td>10265843</td>\n",
              "      <td>너무재밓었다그래서보는것을추천한다</td>\n",
              "      <td>0</td>\n",
              "    </tr>\n",
              "    <tr>\n",
              "      <th>3</th>\n",
              "      <td>9045019</td>\n",
              "      <td>교도소 이야기구먼 ..솔직히 재미는 없다..평점 조정</td>\n",
              "      <td>0</td>\n",
              "    </tr>\n",
              "    <tr>\n",
              "      <th>4</th>\n",
              "      <td>6483659</td>\n",
              "      <td>사이몬페그의 익살스런 연기가 돋보였던 영화!스파이더맨에서 늙어보이기만 했던 커스틴 ...</td>\n",
              "      <td>1</td>\n",
              "    </tr>\n",
              "  </tbody>\n",
              "</table>\n",
              "</div>"
            ],
            "text/plain": [
              "         id                                           document  label\n",
              "0   9976970                                아 더빙.. 진짜 짜증나네요 목소리      0\n",
              "1   3819312                  흠...포스터보고 초딩영화줄....오버연기조차 가볍지 않구나      1\n",
              "2  10265843                                  너무재밓었다그래서보는것을추천한다      0\n",
              "3   9045019                      교도소 이야기구먼 ..솔직히 재미는 없다..평점 조정      0\n",
              "4   6483659  사이몬페그의 익살스런 연기가 돋보였던 영화!스파이더맨에서 늙어보이기만 했던 커스틴 ...      1"
            ]
          },
          "execution_count": 1,
          "metadata": {},
          "output_type": "execute_result"
        }
      ],
      "source": [
        "import pandas as pd\n",
        "\n",
        "train_data = pd.read_table('~/aiffel/sentiment_classification/data/ratings_train.txt')\n",
        "test_data = pd.read_table('~/aiffel/sentiment_classification/data/ratings_test.txt')\n",
        "\n",
        "train_data.head()"
      ]
    },
    {
      "cell_type": "markdown",
      "id": "bfffa9a0",
      "metadata": {
        "id": "bfffa9a0"
      },
      "source": [
        "## 데이터로더 구성\n",
        "\n",
        "`data_loader` 안에서는 다음을 수행한다.\n",
        "- 데이터의 중복 제거\n",
        "- NaN 결측치 제거\n",
        "- 한국어 토크나이저로 토큰화\n",
        "- 불용어(Stopwords) 제거\n",
        "- 사전 word_to_index 구성\n",
        "- 텍스트 스트링을 사전 인덱스 스트링으로 변환\n",
        "- X_train, y_train, X_test, y_test, word_to_index 리턴\n",
        "\n",
        "\n",
        "\n"
      ]
    },
    {
      "cell_type": "code",
      "execution_count": null,
      "id": "12ea2eed",
      "metadata": {
        "id": "12ea2eed"
      },
      "outputs": [],
      "source": [
        "from konlpy.tag import Mecab\n",
        "import numpy as np\n",
        "from collections import Counter\n",
        "\n",
        "tokenizer = Mecab()\n",
        "stopwords = set(['의','가','이','은','들','는','좀','잘','걍','과','도','를','으로','자','에','와','한','하다'])"
      ]
    },
    {
      "cell_type": "code",
      "execution_count": null,
      "id": "088616d8",
      "metadata": {
        "id": "088616d8"
      },
      "outputs": [],
      "source": [
        "def load_data(train_data, test_data, num_words=10000):\n",
        "    train_data.drop_duplicates(subset=['document'], inplace=True)\n",
        "    train_data = train_data.dropna(how = 'any')\n",
        "    test_data.drop_duplicates(subset=['document'], inplace=True)\n",
        "    test_data = test_data.dropna(how = 'any')\n",
        "\n",
        "    X_train = []\n",
        "    for sentence in train_data['document']:\n",
        "        temp_X = tokenizer.morphs(sentence) # 토큰화\n",
        "        temp_X = [word for word in temp_X if not word in stopwords] # 불용어 제거\n",
        "        X_train.append(temp_X)\n",
        "\n",
        "    X_test = []\n",
        "    for sentence in test_data['document']:\n",
        "        temp_X = tokenizer.morphs(sentence) # 토큰화\n",
        "        temp_X = [word for word in temp_X if not word in stopwords] # 불용어 제거\n",
        "        X_test.append(temp_X)\n",
        "\n",
        "    words = np.concatenate(X_train).tolist()\n",
        "    counter = Counter(words)\n",
        "    counter = counter.most_common(10000-4)\n",
        "    vocab = ['', '', '', ''] + [key for key, _ in counter]\n",
        "    word_to_index = {word:index for index, word in enumerate(vocab)}\n",
        "\n",
        "    def wordlist_to_indexlist(wordlist):\n",
        "        return [word_to_index[word] if word in word_to_index else word_to_index[''] for word in wordlist]\n",
        "\n",
        "    X_train = list(map(wordlist_to_indexlist, X_train))\n",
        "    X_test = list(map(wordlist_to_indexlist, X_test))\n",
        "\n",
        "    return X_train, np.array(list(train_data['label'])), X_test, np.array(list(test_data['label'])), word_to_index"
      ]
    },
    {
      "cell_type": "code",
      "execution_count": null,
      "id": "f9f68088",
      "metadata": {
        "id": "f9f68088"
      },
      "outputs": [],
      "source": [
        "X_train, y_train, X_test, y_test, word_to_index = load_data(train_data, test_data)"
      ]
    },
    {
      "cell_type": "markdown",
      "id": "47c84ede",
      "metadata": {
        "id": "47c84ede"
      },
      "source": [
        "### 데이터 실제 예시 확인"
      ]
    },
    {
      "cell_type": "code",
      "execution_count": null,
      "id": "23a35517",
      "metadata": {
        "id": "23a35517",
        "outputId": "d22e91c3-9e24-4adb-f715-eaf6a1e3a99f"
      },
      "outputs": [
        {
          "name": "stdout",
          "output_type": "stream",
          "text": [
            "훈련 샘플 개수: 146182, 테스트 개수: 49157\n"
          ]
        }
      ],
      "source": [
        "print(f\"훈련 샘플 개수: {len(X_train)}, 테스트 개수: {len(X_test)}\")"
      ]
    },
    {
      "cell_type": "code",
      "execution_count": null,
      "id": "37c7e334",
      "metadata": {
        "id": "37c7e334",
        "outputId": "c869a7f6-bb49-468a-c0e6-0da3ee24fde1"
      },
      "outputs": [
        {
          "name": "stdout",
          "output_type": "stream",
          "text": [
            "[32, 74, 919, 4, 4, 39, 228, 20, 33, 748]\n",
            "라벨:  0\n",
            "1번째 리뷰 문장 길이:  10\n",
            "2번째 리뷰 문장 길이:  17\n"
          ]
        }
      ],
      "source": [
        "print(X_train[0])           # 1번째 리뷰데이터\n",
        "print('라벨: ', y_train[0])  # 1번째 리뷰데이터의 라벨\n",
        "print('1번째 리뷰 문장 길이: ', len(X_train[0]))\n",
        "print('2번째 리뷰 문장 길이: ', len(X_train[1]))"
      ]
    },
    {
      "cell_type": "code",
      "execution_count": null,
      "id": "78640058",
      "metadata": {
        "id": "78640058"
      },
      "outputs": [],
      "source": [
        "index_to_word = {index:word for word, index in word_to_index.items()}"
      ]
    },
    {
      "cell_type": "code",
      "execution_count": null,
      "id": "0a242127",
      "metadata": {
        "id": "0a242127",
        "outputId": "752d1f66-c02e-4d81-caef-a0336d7d3d16"
      },
      "outputs": [
        {
          "data": {
            "text/plain": [
              "{3: '',\n",
              " 4: '.',\n",
              " 5: '영화',\n",
              " 6: '다',\n",
              " 7: '고',\n",
              " 8: '하',\n",
              " 9: '을',\n",
              " 10: '보',\n",
              " 11: '..',\n",
              " 12: '게'}"
            ]
          },
          "execution_count": 8,
          "metadata": {},
          "output_type": "execute_result"
        }
      ],
      "source": [
        "dict(list(index_to_word.items())[:10])"
      ]
    },
    {
      "cell_type": "code",
      "execution_count": null,
      "id": "9c9c7a26",
      "metadata": {
        "id": "9c9c7a26",
        "outputId": "f7066bb9-e398-491a-de36-1c20a8e314e5"
      },
      "outputs": [
        {
          "name": "stdout",
          "output_type": "stream",
          "text": [
            "<BOS>\n",
            "5\n",
            "영화\n"
          ]
        }
      ],
      "source": [
        "word_to_index[\"<PAD>\"] = 0\n",
        "word_to_index[\"<BOS>\"] = 1\n",
        "word_to_index[\"<UNK>\"] = 2  # unknown\n",
        "word_to_index[\"<UNUSED>\"] = 3\n",
        "\n",
        "index_to_word = {index:word for word, index in word_to_index.items()}\n",
        "\n",
        "print(index_to_word[1])      # '<BOS>' 출력\n",
        "print(word_to_index['영화'])  # 5 출력\n",
        "print(index_to_word[5])      # '영화' 출력"
      ]
    },
    {
      "cell_type": "markdown",
      "id": "cbbf49ca",
      "metadata": {
        "id": "cbbf49ca"
      },
      "source": [
        "### 텍스트를 숫자로 표현하는 방법"
      ]
    },
    {
      "cell_type": "markdown",
      "id": "708e1890",
      "metadata": {
        "id": "708e1890"
      },
      "source": [
        "#### `get_encoded_sentence` 함수\n",
        "- 한 문장을 받아서 해당 문장을 단어 인덱스 리스트로 변환해주는 기능을 수행  \n",
        "- 여기서 사용하는 `word_to_index`는 단어를 키로, 그 단어의 인덱스를 값으로 가지는 사전(dictionary)이다.\n",
        "    - 이 사전은 모델이 이해할 수 있는 형태로 텍스트 데이터를 변환하는 데 사용된다.\n",
        "- 단, 모든 문장은 <BOS>로 시작하는 것으로 한다.\n",
        "\n",
        "**함수 동작 방식**\n",
        "- 입력 문장의 시작을 표시\n",
        "    - 모든 변환된 문장은 <BOS> (Begin Of Sentence) 토큰으로 시작한다.\n",
        "    - 이는 문장의 시작을 나타내며, 이 토큰 또한 `word_to_index` 사전을 사용하여 해당 인덱스로 변환된다.\n",
        "- 문장 토큰화 및 인덱스 변환\n",
        "    - 입력된 문장을 공백을 기준으로 단어 단위로 분리한다. `sentence.split()`\n",
        "    - 이후 각 단어에 대해 `word_to_index` 사전을 조회하여 해당 단어의 인덱스를 가져온다.\n",
        "    - 만약 단어가 사전에 존재하지 않는 경우, <UNK> (Unknown) 토큰의 인덱스를 사용한다. (모르는 단어를 처리하는 방법)\n",
        "- 결과: 이 과정을 거친 후, 모든 단어가 인덱스로 변환된 리스트를 반환한다."
      ]
    },
    {
      "cell_type": "code",
      "execution_count": null,
      "id": "51800620",
      "metadata": {
        "id": "51800620"
      },
      "outputs": [],
      "source": [
        "def get_encoded_sentence(sentence, word_to_index):\n",
        "    return [word_to_index['<BOS>']]+[word_to_index[word] if word in word_to_index else word_to_index['<UNK>'] for word in sentence.split()]"
      ]
    },
    {
      "cell_type": "markdown",
      "id": "785f664f",
      "metadata": {
        "id": "785f664f"
      },
      "source": [
        "#### `get_encoded_sentences` 함수\n",
        "- 여러 개의 문장으로 구성된 리스트를 입력 받아, 각 문장을 단어 인덱스 리스트로 변환하는 작업을 수행\n",
        "- 이 함수는 내부적으로 `get_encoded_sentence` 함수를 사용하여 개별 문장을 처리한다.\n",
        "\n",
        "**함수의 작동 방식**\n",
        "- 입력\n",
        "    - `sentences`는 변환하고자 하는 문장들의 리스트이다.\n",
        "    - `word_to_index`는 단어와 그에 해당하는 인덱스가 매핑된 사전이다.\n",
        "- 문장별 인코딩\n",
        "    - 입력된 sentences 리스트에 포함된 각 문장에 대해, `get_encoded_sentence` 함수를 호출하여 해당 문장을 단어 인덱스 리스트로 변환한다.\n",
        "    - 이 과정에서 모든 문장은 <BOS> 토큰으로 시작하며, 사전에 없는 단어는 <UNK>로 처리된다.\n",
        "- 결과: 변환된 단어 인덱스 리스트들의 리스트를 반환한다."
      ]
    },
    {
      "cell_type": "code",
      "execution_count": null,
      "id": "afdd3648",
      "metadata": {
        "id": "afdd3648"
      },
      "outputs": [],
      "source": [
        "def get_encoded_sentences(sentences, word_to_index):\n",
        "    return [get_encoded_sentence(sentence, word_to_index) for sentence in sentences]"
      ]
    },
    {
      "cell_type": "markdown",
      "id": "9f48fac2",
      "metadata": {
        "id": "9f48fac2"
      },
      "source": [
        "#### `get_decoded_sentence` 함수\n",
        "- 숫자 인덱스로 인코딩된 문장을 다시 원래의 텍스트 문장으로 디코딩하는 역할을 수행\n",
        "- 이 과정에서 index_to_word라는 사전을 사용하는데, 이 사전은 숫자 인덱스를 키로 하고, 해당 인덱스에 해당하는 단어를 값으로 가진다.\n",
        "\n",
        "**함수의 작동 방식**\n",
        "- 입력\n",
        "    - `encoded_sentence`는 단어의 인덱스로 이루어진 리스트이다.\n",
        "    - 이 리스트는 앞서 언급한 `get_encoded_sentence` 함수를 통해 생성될 수 있다.\n",
        "        - `index_to_word`는 인덱스를 단어로 매핑하는 사전이다.\n",
        "- <BOS> 토큰 제외\n",
        "    - 디코딩 과정에서는 문장의 시작을 나타내는 <BOS> 토큰이 실제 텍스트로 변환되지 않도록 리스트의 첫 번째 요소를 제외한다. `(encoded_sentence[1:])`\n",
        "        - <BOS> 토큰이 실제 텍스트의 일부가 아니기 때문이다.\n",
        "\n",
        "- 디코딩\n",
        "    - 인코딩된 문장을 순회하며, 각 인덱스에 해당하는 단어를 `index_to_word` 사전을 통해 찾는다.\n",
        "    - 만약 특정 인덱스가 사전에 없는 경우 <UNK>(알 수 없는 단어)로 처리한다.\n",
        "        - 이 과정을 통해 모든 인덱스가 원래의 단어로 변환된다.\n",
        "- 결과: 변환된 단어들을 공백으로 구분하여 하나의 문자열로 결합한다.\n",
        "    - 인코딩된 숫자 벡터가 원래의 텍스트 문장으로 복원한다."
      ]
    },
    {
      "cell_type": "code",
      "execution_count": null,
      "id": "991ba24f",
      "metadata": {
        "id": "991ba24f"
      },
      "outputs": [],
      "source": [
        "def get_decoded_sentence(encoded_sentence, index_to_word):\n",
        "    return ' '.join(index_to_word[index] if index in index_to_word else '<UNK>' for index in encoded_sentence[1:])  #[1:]를 통해 <BOS>를 제외"
      ]
    },
    {
      "cell_type": "markdown",
      "id": "0d89a6a7",
      "metadata": {
        "id": "0d89a6a7"
      },
      "source": [
        "#### `get_decoded_sentences` 함수\n",
        "- 여러 개의 숫자 벡터로 인코딩된 문장들을 받아서 이를 한꺼번에 원래의 텍스트 문장들로 디코딩하는 기능을 수행\n",
        "- 이 함수는 내부적으로 get_decoded_sentence 함수를 사용하여 각각의 인코딩된 문장을 디코딩한다.\n",
        "\n",
        "**함수의 작동 과정**\n",
        "- 입력\n",
        "    - `encoded_sentences`는 인코딩된 문장들의 리스트이다.\n",
        "        - 각 문장은 단어의 인덱스로 이루어진 리스트 형태로 되어 있다.\n",
        "    - `index_to_word`는 인덱스를 키로, 해당 인덱스의 단어를 값으로 가지는 사전이다.\n",
        "- 문장별 디코딩\n",
        "    - 입력된 `encoded_sentences` 리스트에 포함된 각 인코딩된 문장에 대하여, `get_decoded_sentence` 함수를 호출하여 이를 디코딩한다.\n",
        "    - 디코딩 과정에서는 문장의 시작을 나타내는 <BOS> 토큰을 제외하고, 각 인덱스에 해당하는 단어로 변환한다.\n",
        "        - 사전에 없는 인덱스는 <UNK>로 처리된다.\n",
        "- 결과: 디코딩된 각 문장을 문자열 형태로 변환한 뒤, 이를 모아 새로운 리스트로 만들어 반환한다.\n",
        "    - 결과적으로, 이 함수는 인코딩된 문장들의 리스트를 입력으로 받아, 각각을 디코딩한 텍스트 문장들의 리스트를 반환한다."
      ]
    },
    {
      "cell_type": "code",
      "execution_count": null,
      "id": "e98d57fe",
      "metadata": {
        "id": "e98d57fe"
      },
      "outputs": [],
      "source": [
        "def get_decoded_sentences(encoded_sentences, index_to_word):\n",
        "    return [get_decoded_sentence(encoded_sentence, index_to_word) for encoded_sentence in encoded_sentences]"
      ]
    },
    {
      "cell_type": "markdown",
      "id": "8d453a6e",
      "metadata": {
        "id": "8d453a6e"
      },
      "source": [
        "## 모델 구성을 위한 데이터 분석 및 가공"
      ]
    },
    {
      "cell_type": "markdown",
      "id": "3f9ef6ad",
      "metadata": {
        "id": "3f9ef6ad"
      },
      "source": [
        "텍스트가 숫자로 변환되어 인공지능 모델의 입력으로 사용될 수 있게 되었지만, 이것으로 충분하지는 않다.   \n",
        "'i feel hungry'가 1, 3, 4, 5 로 변환되었지만 이 벡터는 텍스트에 담긴 언어의 의미와 대응되는 벡터가 아니라 임의로 부여된 단어의 순서에 불과하다.   \n",
        "우리가 하려는 것은 단어와 그 단어의 의미를 나타내는 벡터를 짝짓는 것이다.   \n",
        "그래서 단어의 의미를 나타내는 벡터를 훈련 가능한 파라미터로 놓고 이를 딥러닝을 통해 학습해서 최적화하게 된다.  \n",
        "Tensorflow, Pytorch 등의 딥러닝 프레임워크들은 이러한 의미 벡터 파라미터를 구현한 Embedding 레이어를 제공한다.\n",
        "\n",
        "\n",
        "> 임베딩(Embedding)이란?  \n",
        "자연어 처리(Natural Language Processing)분야에서 임베딩(Embedding)은 사람이 쓰는 자연어를 기계가 이해할 수 있는 숫자형태인 vector로 바꾼 결과 혹은 그 일련의 과정 전체를 의미한다. 가장 간단한 형태의 임베딩은 단어의 빈도를 그대로 벡터로 사용하는 것이다.  \n",
        "임베딩을 통해 할수있는 것은 단어나 문장 사이의 코사인 유사도가 가장 높은 단어를 구하는 등의 계산, 단어들 사이의 의미/문법적 정보 도출 벡터 간 연산으로 단어 사이 문법적 관계 도출, 전이 학습(transfer learning)\n",
        "임베딩은 다른 딥러닝 모델의 입력값으로 자주 쓰이고, 품질 좋은 임베딩을 쓸수록 모델의 성능이 좋아집니다.\n",
        "\n",
        "![image.png](attachment:image.png)"
      ]
    },
    {
      "cell_type": "markdown",
      "id": "13b1b15c",
      "metadata": {
        "id": "13b1b15c"
      },
      "source": [
        "### 데이터셋 내 문장 길이 분포"
      ]
    },
    {
      "cell_type": "markdown",
      "id": "91222f6d",
      "metadata": {
        "id": "91222f6d"
      },
      "source": [
        "#### 데이터셋 내 문장 길이 분석"
      ]
    },
    {
      "cell_type": "code",
      "execution_count": null,
      "id": "ea0339b6",
      "metadata": {
        "id": "ea0339b6"
      },
      "outputs": [],
      "source": [
        "train_lengths = [len(s) for s in X_train]\n",
        "test_lengths = [len(s) for s in X_test]"
      ]
    },
    {
      "cell_type": "code",
      "execution_count": null,
      "id": "bb55f677",
      "metadata": {
        "id": "bb55f677",
        "outputId": "ee11ce9e-58e6-44a8-9730-90a797d698e8"
      },
      "outputs": [
        {
          "name": "stdout",
          "output_type": "stream",
          "text": [
            "max length\n",
            "Train sentence max length: 116\n",
            "Test sentence max length: 105\n",
            "\n",
            "average length\n",
            "Train sentence average length: 15.98170773419436\n",
            "Test sentence average length: 15.932807128181134\n",
            "\n",
            "standard deviation\n",
            "Train sentence length standard deviation: 12.82473766384545\n",
            "Test sentence length standard deviation: 12.899346084223861\n"
          ]
        }
      ],
      "source": [
        "print(\"max length\")\n",
        "print(f\"Train sentence max length: {np.max(train_lengths)}\")\n",
        "print(f\"Test sentence max length: {np.max(test_lengths)}\\n\")\n",
        "\n",
        "print(\"average length\")\n",
        "print(f\"Train sentence average length: {np.mean(train_lengths)}\")\n",
        "print(f\"Test sentence average length: {np.mean(test_lengths)}\\n\")\n",
        "\n",
        "print(\"standard deviation\")\n",
        "print(f\"Train sentence length standard deviation: {np.std(train_lengths)}\")\n",
        "print(f\"Test sentence length standard deviation: {np.std(test_lengths)}\")"
      ]
    },
    {
      "cell_type": "markdown",
      "id": "bfe5cfa8",
      "metadata": {
        "id": "bfe5cfa8"
      },
      "source": [
        "#### 문장 길이 분포 시각화"
      ]
    },
    {
      "cell_type": "code",
      "execution_count": null,
      "id": "8c916a83",
      "metadata": {
        "id": "8c916a83",
        "outputId": "77c17d46-e348-489c-9418-c7636b1ba989"
      },
      "outputs": [
        {
          "data": {
            "image/png": "[encoded data removed]",
            "text/plain": [
              "<Figure size 864x360 with 1 Axes>"
            ]
          },
          "metadata": {
            "needs_background": "light"
          },
          "output_type": "display_data"
        }
      ],
      "source": [
        "import matplotlib.pyplot as plt\n",
        "\n",
        "plt.figure(figsize=(12, 5))\n",
        "plt.hist(train_lengths, bins=50, alpha=0.5, color='r', label='train')\n",
        "plt.hist(test_lengths, bins=50, alpha=0.5, color='b', label='test')\n",
        "plt.title('Distribution of sentence lengths')\n",
        "plt.xlabel('Length of sentences')\n",
        "plt.ylabel('Number of sentences')\n",
        "plt.legend()\n",
        "plt.show()"
      ]
    },
    {
      "cell_type": "markdown",
      "id": "c283cbb5",
      "metadata": {
        "id": "c283cbb5"
      },
      "source": [
        "### 적절한 최대 문장 길이 지정"
      ]
    },
    {
      "cell_type": "code",
      "execution_count": null,
      "id": "01a39ed3",
      "metadata": {
        "id": "01a39ed3",
        "outputId": "58032a18-5a0f-439b-f8c4-c49d0d287cbc"
      },
      "outputs": [
        {
          "name": "stdout",
          "output_type": "stream",
          "text": [
            "Chosen max sentence length: 41\n"
          ]
        }
      ],
      "source": [
        "max_length = int(np.mean(train_lengths) + 2 * np.std(train_lengths))\n",
        "print(f\"Chosen max sentence length: {max_length}\")"
      ]
    },
    {
      "cell_type": "markdown",
      "id": "7e86ca1c",
      "metadata": {
        "id": "7e86ca1c"
      },
      "source": [
        "### keras.preprocessing.sequence.pad_sequences 을 활용한 패딩 추가"
      ]
    },
    {
      "cell_type": "code",
      "execution_count": null,
      "id": "81065be2",
      "metadata": {
        "id": "81065be2",
        "outputId": "6922bd33-c5ce-44c0-a532-d968d4444853"
      },
      "outputs": [
        {
          "name": "stdout",
          "output_type": "stream",
          "text": [
            "Shape of X_train_padded: (146182, 41)\n",
            "Shape of X_test_padded: (49157, 41)\n"
          ]
        }
      ],
      "source": [
        "import tensorflow as tf\n",
        "\n",
        "X_train_padded = tf.keras.preprocessing.sequence.pad_sequences(X_train,\n",
        "                                                               value=word_to_index[\"<PAD>\"],\n",
        "                                                               maxlen=max_length,\n",
        "                                                               padding='post')\n",
        "X_test_padded = tf.keras.preprocessing.sequence.pad_sequences(X_test,\n",
        "                                                              value=word_to_index[\"<PAD>\"],\n",
        "                                                              maxlen=max_length,\n",
        "                                                              padding='post')\n",
        "\n",
        "# 패딩된 데이터셋의 형태를 확인\n",
        "print(f\"Shape of X_train_padded: {X_train_padded.shape}\")\n",
        "print(f\"Shape of X_test_padded: {X_test_padded.shape}\")"
      ]
    },
    {
      "cell_type": "markdown",
      "id": "2be3399e",
      "metadata": {
        "id": "2be3399e"
      },
      "source": [
        "## 모델 구성 및 validation set 구성\n",
        "모델은 3가지 이상 다양하게 구성하여 실험해 보세요."
      ]
    },
    {
      "cell_type": "code",
      "execution_count": null,
      "id": "2bf59f56",
      "metadata": {
        "id": "2bf59f56"
      },
      "outputs": [],
      "source": [
        "import tensorflow as tf\n",
        "from tensorflow.keras.models import Sequential\n",
        "from tensorflow.keras.layers import Embedding, SimpleRNN, LSTM, Dense, Dropout, Conv1D, GlobalMaxPooling1D, Bidirectional\n",
        "from tensorflow.keras.preprocessing.sequence import pad_sequences\n",
        "from tensorflow.keras.initializers import Constant\n",
        "from sklearn.model_selection import train_test_split"
      ]
    },
    {
      "cell_type": "code",
      "execution_count": null,
      "id": "fa0eee31",
      "metadata": {
        "id": "fa0eee31"
      },
      "outputs": [],
      "source": [
        "X_train, X_val, y_train, y_val = train_test_split(X_train_padded,\n",
        "                                                  y_train,\n",
        "                                                  test_size=0.2,\n",
        "                                                  random_state=42)"
      ]
    },
    {
      "cell_type": "code",
      "execution_count": null,
      "id": "fb94e7f2",
      "metadata": {
        "id": "fb94e7f2",
        "outputId": "2b33a0d6-9168-4e7d-e5da-a3142abb381e"
      },
      "outputs": [
        {
          "name": "stdout",
          "output_type": "stream",
          "text": [
            "X train shape: (116945, 41)\n",
            "y train shape: (116945,)\n",
            "X test shape: (49157, 41)\n",
            "y test shape: (49157,)\n"
          ]
        }
      ],
      "source": [
        "print(f'X train shape: {X_train.shape}')\n",
        "print(f'y train shape: {y_train.shape}')\n",
        "print(f'X test shape: {X_test_padded.shape}')\n",
        "print(f'y test shape: {y_test.shape}')"
      ]
    },
    {
      "cell_type": "code",
      "execution_count": null,
      "id": "86fb23fd",
      "metadata": {
        "id": "86fb23fd",
        "outputId": "013e9f0d-bee0-4cd8-a0ec-7d97bff5d0e9"
      },
      "outputs": [
        {
          "name": "stdout",
          "output_type": "stream",
          "text": [
            "10002\n"
          ]
        }
      ],
      "source": [
        "vocab_size = len(word_to_index) + 1  # 사전에 없는 단어를 위한 1 추가\n",
        "print(vocab_size)"
      ]
    },
    {
      "cell_type": "code",
      "execution_count": null,
      "id": "3705a00c",
      "metadata": {
        "id": "3705a00c"
      },
      "outputs": [],
      "source": [
        "word_vector_dim = 100"
      ]
    },
    {
      "cell_type": "code",
      "execution_count": null,
      "id": "fae52d79",
      "metadata": {
        "id": "fae52d79"
      },
      "outputs": [],
      "source": [
        "embedding_matrix = np.random.rand(vocab_size, word_vector_dim)\n",
        "\n",
        "for word, i in word_to_index.items():\n",
        "    if i < vocab_size:\n",
        "        embedding_vector = np.random.rand(word_vector_dim)  # 예시로 랜덤 벡터 사용\n",
        "        embedding_matrix[i] = embedding_vector              # 임베딩 행렬에 단어 인덱스에 해당하는 벡터 저장"
      ]
    },
    {
      "cell_type": "markdown",
      "id": "5ec9f73a",
      "metadata": {
        "id": "5ec9f73a"
      },
      "source": [
        "### Simple RNN Model"
      ]
    },
    {
      "cell_type": "code",
      "execution_count": null,
      "id": "66ba6d52",
      "metadata": {
        "id": "66ba6d52"
      },
      "outputs": [],
      "source": [
        "model_rnn = Sequential([\n",
        "    Embedding(vocab_size,\n",
        "              word_vector_dim,\n",
        "              input_length=max_length,\n",
        "              weights=[embedding_matrix],\n",
        "              trainable=True),\n",
        "    SimpleRNN(512, return_sequences=True),\n",
        "    Dropout(0.5),\n",
        "\n",
        "    Dense(64, activation='relu'),\n",
        "    Dropout(0.5),\n",
        "\n",
        "    Dense(1, activation='sigmoid')\n",
        "])"
      ]
    },
    {
      "cell_type": "markdown",
      "id": "e84fe27e",
      "metadata": {
        "id": "e84fe27e"
      },
      "source": [
        "#### 모델 컴파일"
      ]
    },
    {
      "cell_type": "code",
      "execution_count": null,
      "id": "88d7a074",
      "metadata": {
        "id": "88d7a074"
      },
      "outputs": [],
      "source": [
        "model_rnn.compile(optimizer='adam',\n",
        "                  loss='binary_crossentropy',\n",
        "                  metrics=['accuracy'])"
      ]
    },
    {
      "cell_type": "markdown",
      "id": "07fedf51",
      "metadata": {
        "id": "07fedf51"
      },
      "source": [
        "#### 모델 요약 출력"
      ]
    },
    {
      "cell_type": "code",
      "execution_count": null,
      "id": "66502a4c",
      "metadata": {
        "id": "66502a4c",
        "outputId": "133c1c9c-07d4-434a-fd0a-8aba3323ed2e"
      },
      "outputs": [
        {
          "name": "stdout",
          "output_type": "stream",
          "text": [
            "Model: \"sequential\"\n",
            "_________________________________________________________________\n",
            "Layer (type)                 Output Shape              Param #   \n",
            "=================================================================\n",
            "embedding (Embedding)        (None, 41, 100)           1000200   \n",
            "_________________________________________________________________\n",
            "simple_rnn (SimpleRNN)       (None, 41, 512)           313856    \n",
            "_________________________________________________________________\n",
            "dropout (Dropout)            (None, 41, 512)           0         \n",
            "_________________________________________________________________\n",
            "dense (Dense)                (None, 41, 64)            32832     \n",
            "_________________________________________________________________\n",
            "dropout_1 (Dropout)          (None, 41, 64)            0         \n",
            "_________________________________________________________________\n",
            "dense_1 (Dense)              (None, 41, 1)             65        \n",
            "=================================================================\n",
            "Total params: 1,346,953\n",
            "Trainable params: 1,346,953\n",
            "Non-trainable params: 0\n",
            "_________________________________________________________________\n"
          ]
        }
      ],
      "source": [
        "model_rnn.summary()"
      ]
    },
    {
      "cell_type": "markdown",
      "id": "0d5c671f",
      "metadata": {
        "id": "0d5c671f"
      },
      "source": [
        "### 1D CNN Model"
      ]
    },
    {
      "cell_type": "code",
      "execution_count": null,
      "id": "824d322a",
      "metadata": {
        "id": "824d322a"
      },
      "outputs": [],
      "source": [
        "model_cnn = Sequential([\n",
        "    Embedding(input_dim=vocab_size,\n",
        "              output_dim=word_vector_dim,\n",
        "              embeddings_initializer=Constant(embedding_matrix),  # 사전 훈련된 임베딩을 초기값으로 사용\n",
        "              weights=[embedding_matrix],\n",
        "              input_length=max_length,\n",
        "              trainable=True),  # 임베딩 레이어를 학습 가능하게 설정\n",
        "\n",
        "    Conv1D(512, 7, activation='relu', padding='same'),\n",
        "    Conv1D(1024, 7, activation='relu', padding='same'),\n",
        "    GlobalMaxPooling1D(),\n",
        "\n",
        "    Dense(512, activation='relu'),\n",
        "    Dropout(0.5),\n",
        "\n",
        "    Dense(64, activation='relu'),\n",
        "    Dropout(0.5),\n",
        "\n",
        "    Dense(1, activation='sigmoid')\n",
        "])"
      ]
    },
    {
      "cell_type": "markdown",
      "id": "0b38e14e",
      "metadata": {
        "id": "0b38e14e"
      },
      "source": [
        "#### 모델 컴파일"
      ]
    },
    {
      "cell_type": "code",
      "execution_count": null,
      "id": "f3b847d4",
      "metadata": {
        "id": "f3b847d4"
      },
      "outputs": [],
      "source": [
        "model_cnn.compile(optimizer='adam',\n",
        "                  loss='binary_crossentropy',\n",
        "                  metrics=['accuracy'])"
      ]
    },
    {
      "cell_type": "markdown",
      "id": "76f2e4e3",
      "metadata": {
        "id": "76f2e4e3"
      },
      "source": [
        "#### 모델 요약 출력"
      ]
    },
    {
      "cell_type": "code",
      "execution_count": null,
      "id": "6200e817",
      "metadata": {
        "id": "6200e817",
        "outputId": "436b0c78-b424-4218-ad1e-abce107ccbe1"
      },
      "outputs": [
        {
          "name": "stdout",
          "output_type": "stream",
          "text": [
            "Model: \"sequential_1\"\n",
            "_________________________________________________________________\n",
            "Layer (type)                 Output Shape              Param #   \n",
            "=================================================================\n",
            "embedding_1 (Embedding)      (None, 41, 100)           1000200   \n",
            "_________________________________________________________________\n",
            "conv1d (Conv1D)              (None, 41, 512)           358912    \n",
            "_________________________________________________________________\n",
            "conv1d_1 (Conv1D)            (None, 41, 1024)          3671040   \n",
            "_________________________________________________________________\n",
            "global_max_pooling1d (Global (None, 1024)              0         \n",
            "_________________________________________________________________\n",
            "dense_2 (Dense)              (None, 512)               524800    \n",
            "_________________________________________________________________\n",
            "dropout_2 (Dropout)          (None, 512)               0         \n",
            "_________________________________________________________________\n",
            "dense_3 (Dense)              (None, 64)                32832     \n",
            "_________________________________________________________________\n",
            "dropout_3 (Dropout)          (None, 64)                0         \n",
            "_________________________________________________________________\n",
            "dense_4 (Dense)              (None, 1)                 65        \n",
            "=================================================================\n",
            "Total params: 5,587,849\n",
            "Trainable params: 5,587,849\n",
            "Non-trainable params: 0\n",
            "_________________________________________________________________\n"
          ]
        }
      ],
      "source": [
        "model_cnn.summary()"
      ]
    },
    {
      "cell_type": "markdown",
      "id": "11a4e00c",
      "metadata": {
        "id": "11a4e00c"
      },
      "source": [
        "### LSTM Model"
      ]
    },
    {
      "cell_type": "code",
      "execution_count": null,
      "id": "cfd2bfc5",
      "metadata": {
        "id": "cfd2bfc5"
      },
      "outputs": [],
      "source": [
        "model_lstm = Sequential([\n",
        "    Embedding(vocab_size,\n",
        "              word_vector_dim,\n",
        "              input_length=max_length,\n",
        "              weights=[embedding_matrix],\n",
        "              trainable=True),\n",
        "    LSTM(512),\n",
        "    Dense(1, activation='sigmoid'),\n",
        "])"
      ]
    },
    {
      "cell_type": "markdown",
      "id": "ef2baa7b",
      "metadata": {
        "id": "ef2baa7b"
      },
      "source": [
        "#### 모델 컴파일"
      ]
    },
    {
      "cell_type": "code",
      "execution_count": null,
      "id": "c92930a0",
      "metadata": {
        "id": "c92930a0"
      },
      "outputs": [],
      "source": [
        "model_lstm.compile(optimizer='adam',\n",
        "                   loss='binary_crossentropy',\n",
        "                   metrics=['accuracy'])"
      ]
    },
    {
      "cell_type": "markdown",
      "id": "59339f84",
      "metadata": {
        "id": "59339f84"
      },
      "source": [
        "#### 모델 요약 출력"
      ]
    },
    {
      "cell_type": "code",
      "execution_count": null,
      "id": "c92b74cb",
      "metadata": {
        "id": "c92b74cb",
        "outputId": "a1cffc71-f175-49e8-c1e1-bc14a78f1507"
      },
      "outputs": [
        {
          "name": "stdout",
          "output_type": "stream",
          "text": [
            "Model: \"sequential_2\"\n",
            "_________________________________________________________________\n",
            "Layer (type)                 Output Shape              Param #   \n",
            "=================================================================\n",
            "embedding_2 (Embedding)      (None, 41, 100)           1000200   \n",
            "_________________________________________________________________\n",
            "lstm (LSTM)                  (None, 512)               1255424   \n",
            "_________________________________________________________________\n",
            "dense_5 (Dense)              (None, 1)                 513       \n",
            "=================================================================\n",
            "Total params: 2,256,137\n",
            "Trainable params: 2,256,137\n",
            "Non-trainable params: 0\n",
            "_________________________________________________________________\n"
          ]
        }
      ],
      "source": [
        "model_lstm.summary()"
      ]
    },
    {
      "cell_type": "markdown",
      "id": "ff364b41",
      "metadata": {
        "id": "ff364b41"
      },
      "source": [
        "## 모델 훈련 개시"
      ]
    },
    {
      "cell_type": "code",
      "execution_count": null,
      "id": "adbc1b98",
      "metadata": {
        "id": "adbc1b98"
      },
      "outputs": [],
      "source": [
        "from tensorflow.keras.callbacks import EarlyStopping\n",
        "\n",
        "# EarlyStopping 콜백 정의\n",
        "early_stopping = EarlyStopping(monitor='val_loss',  # 모니터링 대상: 'val_loss'\n",
        "                               patience=10,         # 10번의 에폭 동안 개선되지 않으면 조기 종료합\n",
        "                               verbose=1)           # 조기 종료 시 메시지 출력"
      ]
    },
    {
      "cell_type": "code",
      "execution_count": null,
      "id": "0786d3c2",
      "metadata": {
        "id": "0786d3c2"
      },
      "outputs": [],
      "source": [
        "epochs = 100\n",
        "batch_size = 128"
      ]
    },
    {
      "cell_type": "markdown",
      "id": "2c1fcd21",
      "metadata": {
        "id": "2c1fcd21"
      },
      "source": [
        "### Simple RNN Model"
      ]
    },
    {
      "cell_type": "code",
      "execution_count": null,
      "id": "0ac623c8",
      "metadata": {
        "id": "0ac623c8",
        "outputId": "cc0611da-84c2-42b5-e4a0-dd1d0d9ba2ca"
      },
      "outputs": [
        {
          "name": "stdout",
          "output_type": "stream",
          "text": [
            "Epoch 1/100\n",
            "914/914 [==============================] - 36s 38ms/step - loss: 0.6942 - accuracy: 0.4998 - val_loss: 0.6931 - val_accuracy: 0.5012\n",
            "Epoch 2/100\n",
            "914/914 [==============================] - 34s 37ms/step - loss: 0.6933 - accuracy: 0.5021 - val_loss: 0.6926 - val_accuracy: 0.5028\n",
            "Epoch 3/100\n",
            "914/914 [==============================] - 34s 38ms/step - loss: 0.6920 - accuracy: 0.5031 - val_loss: 0.6922 - val_accuracy: 0.5006\n",
            "Epoch 4/100\n",
            "914/914 [==============================] - 34s 38ms/step - loss: 0.6911 - accuracy: 0.5069 - val_loss: 0.6883 - val_accuracy: 0.5103\n",
            "Epoch 5/100\n",
            "914/914 [==============================] - 34s 38ms/step - loss: 0.6920 - accuracy: 0.5187 - val_loss: 0.6888 - val_accuracy: 0.5066\n",
            "Epoch 6/100\n",
            "914/914 [==============================] - 34s 38ms/step - loss: 0.6821 - accuracy: 0.5298 - val_loss: 0.6733 - val_accuracy: 0.5095\n",
            "Epoch 7/100\n",
            "914/914 [==============================] - 34s 38ms/step - loss: 0.6574 - accuracy: 0.5794 - val_loss: 0.6711 - val_accuracy: 0.5777\n",
            "Epoch 8/100\n",
            "914/914 [==============================] - 34s 38ms/step - loss: 0.6848 - accuracy: 0.5312 - val_loss: 0.6829 - val_accuracy: 0.5381\n",
            "Epoch 9/100\n",
            "914/914 [==============================] - 34s 38ms/step - loss: 0.6773 - accuracy: 0.5552 - val_loss: 0.6822 - val_accuracy: 0.5648\n",
            "Epoch 10/100\n",
            "914/914 [==============================] - 34s 38ms/step - loss: 0.6375 - accuracy: 0.6219 - val_loss: 0.6464 - val_accuracy: 0.5798\n",
            "Epoch 11/100\n",
            "914/914 [==============================] - 34s 38ms/step - loss: 0.6355 - accuracy: 0.6143 - val_loss: 0.5273 - val_accuracy: 0.7475\n",
            "Epoch 12/100\n",
            "914/914 [==============================] - 34s 38ms/step - loss: 0.6016 - accuracy: 0.6557 - val_loss: 0.6476 - val_accuracy: 0.6176\n",
            "Epoch 13/100\n",
            "914/914 [==============================] - 35s 38ms/step - loss: 0.6451 - accuracy: 0.5896 - val_loss: 0.6405 - val_accuracy: 0.5949\n",
            "Epoch 14/100\n",
            "914/914 [==============================] - 34s 38ms/step - loss: 0.6234 - accuracy: 0.6224 - val_loss: 0.5257 - val_accuracy: 0.7562\n",
            "Epoch 15/100\n",
            "914/914 [==============================] - 35s 38ms/step - loss: 0.5676 - accuracy: 0.6990 - val_loss: 0.5337 - val_accuracy: 0.7449\n",
            "Epoch 16/100\n",
            "914/914 [==============================] - 34s 38ms/step - loss: 0.5654 - accuracy: 0.7006 - val_loss: 0.4859 - val_accuracy: 0.7927\n",
            "Epoch 17/100\n",
            "914/914 [==============================] - 34s 38ms/step - loss: 0.5178 - accuracy: 0.7628 - val_loss: 0.4613 - val_accuracy: 0.7929\n",
            "Epoch 18/100\n",
            "914/914 [==============================] - 35s 38ms/step - loss: 0.5459 - accuracy: 0.7439 - val_loss: 0.6082 - val_accuracy: 0.6876\n",
            "Epoch 19/100\n",
            "914/914 [==============================] - 35s 38ms/step - loss: 0.4865 - accuracy: 0.7808 - val_loss: 0.4466 - val_accuracy: 0.8038\n",
            "Epoch 20/100\n",
            "914/914 [==============================] - 35s 38ms/step - loss: 0.4702 - accuracy: 0.7953 - val_loss: 0.4582 - val_accuracy: 0.8020\n",
            "Epoch 21/100\n",
            "914/914 [==============================] - 34s 38ms/step - loss: 0.5021 - accuracy: 0.7608 - val_loss: 0.4907 - val_accuracy: 0.7574\n",
            "Epoch 22/100\n",
            "914/914 [==============================] - 35s 38ms/step - loss: 0.4340 - accuracy: 0.8066 - val_loss: 0.4861 - val_accuracy: 0.7892\n",
            "Epoch 23/100\n",
            "914/914 [==============================] - 34s 38ms/step - loss: 0.5361 - accuracy: 0.7222 - val_loss: 0.6094 - val_accuracy: 0.6467\n",
            "Epoch 24/100\n",
            "914/914 [==============================] - 35s 38ms/step - loss: 0.5871 - accuracy: 0.6743 - val_loss: 0.5788 - val_accuracy: 0.6739\n",
            "Epoch 25/100\n",
            "914/914 [==============================] - 34s 38ms/step - loss: 0.5145 - accuracy: 0.7545 - val_loss: 0.4804 - val_accuracy: 0.7633\n",
            "Epoch 26/100\n",
            "914/914 [==============================] - 35s 38ms/step - loss: 0.4526 - accuracy: 0.7955 - val_loss: 0.4467 - val_accuracy: 0.8015\n",
            "Epoch 27/100\n",
            "914/914 [==============================] - 34s 38ms/step - loss: 0.4551 - accuracy: 0.8037 - val_loss: 0.4964 - val_accuracy: 0.7370\n",
            "Epoch 28/100\n",
            "914/914 [==============================] - 35s 38ms/step - loss: 0.4341 - accuracy: 0.7993 - val_loss: 0.4700 - val_accuracy: 0.7988\n",
            "Epoch 29/100\n",
            "914/914 [==============================] - 34s 38ms/step - loss: 0.5048 - accuracy: 0.7747 - val_loss: 0.4817 - val_accuracy: 0.7949\n",
            "Epoch 00029: early stopping\n"
          ]
        }
      ],
      "source": [
        "history_rnn = model_rnn.fit(X_train, y_train,\n",
        "                            epochs=epochs,\n",
        "                            batch_size=batch_size,\n",
        "                            validation_data=(X_val, y_val),\n",
        "                            callbacks=[early_stopping],\n",
        "                            verbose=1)"
      ]
    },
    {
      "cell_type": "markdown",
      "id": "3855bd6b",
      "metadata": {
        "id": "3855bd6b"
      },
      "source": [
        "### 1D CNN Model"
      ]
    },
    {
      "cell_type": "code",
      "execution_count": null,
      "id": "543d8f6a",
      "metadata": {
        "id": "543d8f6a",
        "outputId": "ec4d5066-bad6-4b17-90e9-00d3a317bfc1"
      },
      "outputs": [
        {
          "name": "stdout",
          "output_type": "stream",
          "text": [
            "Epoch 1/100\n",
            "914/914 [==============================] - 36s 36ms/step - loss: 0.6944 - accuracy: 0.5002 - val_loss: 0.6932 - val_accuracy: 0.4998\n",
            "Epoch 2/100\n",
            "914/914 [==============================] - 31s 34ms/step - loss: 0.6932 - accuracy: 0.5005 - val_loss: 0.6932 - val_accuracy: 0.4998\n",
            "Epoch 3/100\n",
            "914/914 [==============================] - 31s 34ms/step - loss: 0.6932 - accuracy: 0.5009 - val_loss: 0.6932 - val_accuracy: 0.4998\n",
            "Epoch 4/100\n",
            "914/914 [==============================] - 31s 34ms/step - loss: 0.6932 - accuracy: 0.5014 - val_loss: 0.6931 - val_accuracy: 0.5002\n",
            "Epoch 5/100\n",
            "914/914 [==============================] - 31s 34ms/step - loss: 0.6932 - accuracy: 0.5005 - val_loss: 0.6932 - val_accuracy: 0.5002\n",
            "Epoch 6/100\n",
            "914/914 [==============================] - 31s 34ms/step - loss: 0.6932 - accuracy: 0.4988 - val_loss: 0.6931 - val_accuracy: 0.4998\n",
            "Epoch 7/100\n",
            "914/914 [==============================] - 31s 34ms/step - loss: 0.6932 - accuracy: 0.4982 - val_loss: 0.6932 - val_accuracy: 0.4998\n",
            "Epoch 8/100\n",
            "914/914 [==============================] - 31s 34ms/step - loss: 0.6932 - accuracy: 0.5004 - val_loss: 0.6931 - val_accuracy: 0.4998\n",
            "Epoch 9/100\n",
            "914/914 [==============================] - 31s 34ms/step - loss: 0.6932 - accuracy: 0.5020 - val_loss: 0.6932 - val_accuracy: 0.4998\n",
            "Epoch 10/100\n",
            "914/914 [==============================] - 31s 34ms/step - loss: 0.6932 - accuracy: 0.5012 - val_loss: 0.6932 - val_accuracy: 0.4998\n",
            "Epoch 11/100\n",
            "914/914 [==============================] - 31s 34ms/step - loss: 0.6932 - accuracy: 0.5004 - val_loss: 0.6932 - val_accuracy: 0.4998\n",
            "Epoch 12/100\n",
            "914/914 [==============================] - 31s 34ms/step - loss: 0.6931 - accuracy: 0.5006 - val_loss: 0.6932 - val_accuracy: 0.4998\n",
            "Epoch 13/100\n",
            "914/914 [==============================] - 31s 34ms/step - loss: 0.6932 - accuracy: 0.5008 - val_loss: 0.6932 - val_accuracy: 0.4998\n",
            "Epoch 14/100\n",
            "914/914 [==============================] - 31s 34ms/step - loss: 0.6932 - accuracy: 0.5009 - val_loss: 0.6932 - val_accuracy: 0.4998\n",
            "Epoch 00014: early stopping\n"
          ]
        }
      ],
      "source": [
        "history_cnn = model_cnn.fit(X_train, y_train,\n",
        "                            epochs=epochs,\n",
        "                            batch_size=batch_size,\n",
        "                            validation_data=(X_val, y_val),\n",
        "                            callbacks=[early_stopping],\n",
        "                            verbose=1)"
      ]
    },
    {
      "cell_type": "markdown",
      "id": "2514cb33",
      "metadata": {
        "id": "2514cb33"
      },
      "source": [
        "### LSTM Model"
      ]
    },
    {
      "cell_type": "code",
      "execution_count": null,
      "id": "90843715",
      "metadata": {
        "id": "90843715",
        "outputId": "4ef6f5cc-3e57-45b1-f61e-4bc381e35796"
      },
      "outputs": [
        {
          "name": "stdout",
          "output_type": "stream",
          "text": [
            "Epoch 1/100\n",
            "914/914 [==============================] - 20s 19ms/step - loss: 0.6945 - accuracy: 0.5066 - val_loss: 0.6883 - val_accuracy: 0.5198\n",
            "Epoch 2/100\n",
            "914/914 [==============================] - 17s 19ms/step - loss: 0.4176 - accuracy: 0.7984 - val_loss: 0.3388 - val_accuracy: 0.8549\n",
            "Epoch 3/100\n",
            "914/914 [==============================] - 17s 19ms/step - loss: 0.3090 - accuracy: 0.8689 - val_loss: 0.3328 - val_accuracy: 0.8534\n",
            "Epoch 4/100\n",
            "914/914 [==============================] - 17s 19ms/step - loss: 0.2788 - accuracy: 0.8838 - val_loss: 0.3185 - val_accuracy: 0.8634\n",
            "Epoch 5/100\n",
            "914/914 [==============================] - 17s 19ms/step - loss: 0.2550 - accuracy: 0.8962 - val_loss: 0.3271 - val_accuracy: 0.8596\n",
            "Epoch 6/100\n",
            "914/914 [==============================] - 17s 19ms/step - loss: 0.2356 - accuracy: 0.9041 - val_loss: 0.3400 - val_accuracy: 0.8592\n",
            "Epoch 7/100\n",
            "914/914 [==============================] - 17s 19ms/step - loss: 0.2159 - accuracy: 0.9131 - val_loss: 0.3520 - val_accuracy: 0.8581\n",
            "Epoch 8/100\n",
            "914/914 [==============================] - 17s 19ms/step - loss: 0.1974 - accuracy: 0.9223 - val_loss: 0.3721 - val_accuracy: 0.8577\n",
            "Epoch 9/100\n",
            "914/914 [==============================] - 17s 19ms/step - loss: 0.1781 - accuracy: 0.9312 - val_loss: 0.4105 - val_accuracy: 0.8530\n",
            "Epoch 10/100\n",
            "914/914 [==============================] - 17s 19ms/step - loss: 0.1604 - accuracy: 0.9387 - val_loss: 0.4232 - val_accuracy: 0.8512\n",
            "Epoch 11/100\n",
            "914/914 [==============================] - 17s 19ms/step - loss: 0.1436 - accuracy: 0.9467 - val_loss: 0.4473 - val_accuracy: 0.8492\n",
            "Epoch 12/100\n",
            "914/914 [==============================] - 17s 19ms/step - loss: 0.1289 - accuracy: 0.9532 - val_loss: 0.4665 - val_accuracy: 0.8445\n",
            "Epoch 13/100\n",
            "914/914 [==============================] - 17s 19ms/step - loss: 0.1175 - accuracy: 0.9581 - val_loss: 0.5010 - val_accuracy: 0.8410\n",
            "Epoch 14/100\n",
            "914/914 [==============================] - 17s 19ms/step - loss: 0.1056 - accuracy: 0.9635 - val_loss: 0.5266 - val_accuracy: 0.8425\n",
            "Epoch 00014: early stopping\n"
          ]
        }
      ],
      "source": [
        "history_lstm = model_lstm.fit(X_train, y_train,\n",
        "                             epochs=epochs,\n",
        "                             batch_size=batch_size,\n",
        "                             validation_data=(X_val, y_val),\n",
        "                             callbacks=[early_stopping],\n",
        "                             verbose=1)"
      ]
    },
    {
      "cell_type": "markdown",
      "id": "3e9dd506",
      "metadata": {
        "id": "3e9dd506"
      },
      "source": [
        "## Loss, Accuracy 그래프 시각화"
      ]
    },
    {
      "cell_type": "markdown",
      "id": "4edb6311",
      "metadata": {
        "id": "4edb6311"
      },
      "source": [
        "### Simple RNN Model\n",
        "\n",
        "1. RNN 모델의 검증 정확도: 0.8004\n",
        "2. RNN 모델의 검증 정확도: 0.8281\n",
        "3. RNN 모델의 검증 정확도: 0.8197\n",
        "4. RNN 모델의 검증 정확도: 0.8326\n",
        "5. RNN 모델의 검증 정확도: 0.8144\n",
        "6. RNN 모델의 검증 정확도: 0.5055\n",
        "7. RNN 모델의 검증 정확도: 0.7994\n",
        "8. RNN 모델의 검증 정확도: 0.7949"
      ]
    },
    {
      "cell_type": "code",
      "execution_count": null,
      "id": "4e84e9f0",
      "metadata": {
        "id": "4e84e9f0",
        "outputId": "e868e694-dc85-4a58-d780-ece752dc1c41"
      },
      "outputs": [
        {
          "name": "stdout",
          "output_type": "stream",
          "text": [
            "914/914 [==============================] - 6s 6ms/step - loss: 0.4817 - accuracy: 0.7949\n",
            "RNN 모델의 검증 정확도: 0.7949\n"
          ]
        }
      ],
      "source": [
        "loss, accuracy = model_rnn.evaluate(X_val, y_val, verbose=1)\n",
        "print(f\"RNN 모델의 검증 정확도: {accuracy:.4f}\")"
      ]
    },
    {
      "cell_type": "markdown",
      "id": "9ae65c0f",
      "metadata": {
        "id": "9ae65c0f"
      },
      "source": [
        "#### 손실(Loss) 그래프 시각화"
      ]
    },
    {
      "cell_type": "code",
      "execution_count": null,
      "id": "2a730b00",
      "metadata": {
        "id": "2a730b00",
        "outputId": "8bed9b10-88cb-45a8-b4e9-29dca1230052"
      },
      "outputs": [
        {
          "data": {
            "image/png": "[encoded data removed]",
            "text/plain": [
              "<Figure size 864x288 with 1 Axes>"
            ]
          },
          "metadata": {
            "needs_background": "light"
          },
          "output_type": "display_data"
        }
      ],
      "source": [
        "plt.figure(figsize=(12, 4))\n",
        "plt.plot(history_rnn.history['loss'], label='Training Loss')\n",
        "plt.plot(history_rnn.history['val_loss'], label='Validation Loss')\n",
        "plt.title('Training and Validation Loss')\n",
        "plt.xlabel('Epoch')\n",
        "plt.ylabel('Loss')\n",
        "plt.legend()\n",
        "plt.show()"
      ]
    },
    {
      "cell_type": "markdown",
      "id": "dc0057bb",
      "metadata": {
        "id": "dc0057bb"
      },
      "source": [
        "#### 정확도(Accuracy) 그래프 시각화"
      ]
    },
    {
      "cell_type": "code",
      "execution_count": null,
      "id": "62cb59fc",
      "metadata": {
        "id": "62cb59fc",
        "outputId": "191683ed-ae4d-489e-ffc2-16aa8e10168c"
      },
      "outputs": [
        {
          "data": {
            "image/png": "[encoded data removed]",
            "text/plain": [
              "<Figure size 864x288 with 1 Axes>"
            ]
          },
          "metadata": {
            "needs_background": "light"
          },
          "output_type": "display_data"
        }
      ],
      "source": [
        "plt.figure(figsize=(12, 4))\n",
        "plt.plot(history_rnn.history['accuracy'], label='Training Accuracy')\n",
        "plt.plot(history_rnn.history['val_accuracy'], label='Validation Accuracy')\n",
        "plt.title('Training and Validation Accuracy')\n",
        "plt.xlabel('Epoch')\n",
        "plt.ylabel('Accuracy')\n",
        "plt.legend()\n",
        "plt.show()"
      ]
    },
    {
      "cell_type": "markdown",
      "id": "9b8f7dc9",
      "metadata": {
        "id": "9b8f7dc9"
      },
      "source": [
        "### 1D CNN Model\n",
        "\n",
        "1. CNN 모델의 검증 정확도: 0.8381\n",
        "2. CNN 모델의 검증 정확도: 0.8432\n",
        "3. CNN 모델의 검증 정확도: 0.8421\n",
        "4. CNN 모델의 검증 정확도: 0.8415\n",
        "5. CNN 모델의 검증 정확도: 0.8402\n",
        "6. CNN 모델의 검증 정확도: 0.8223\n",
        "7. CNN 모델의 검증 정확도: 0.4998\n",
        "8. CNN 모델의 검증 정확도: 0.4998"
      ]
    },
    {
      "cell_type": "code",
      "execution_count": null,
      "id": "985fcfcf",
      "metadata": {
        "id": "985fcfcf",
        "outputId": "97e90728-c58c-41b5-b52a-72e1866d224b"
      },
      "outputs": [
        {
          "name": "stdout",
          "output_type": "stream",
          "text": [
            "914/914 [==============================] - 4s 4ms/step - loss: 0.6932 - accuracy: 0.4998\n",
            "CNN 모델의 검증 정확도: 0.4998\n"
          ]
        }
      ],
      "source": [
        "loss, accuracy = model_cnn.evaluate(X_val, y_val, verbose=1)\n",
        "print(f\"CNN 모델의 검증 정확도: {accuracy:.4f}\")"
      ]
    },
    {
      "cell_type": "markdown",
      "id": "53313325",
      "metadata": {
        "id": "53313325"
      },
      "source": [
        "#### 손실(Loss) 그래프 시각화"
      ]
    },
    {
      "cell_type": "code",
      "execution_count": null,
      "id": "3db808b3",
      "metadata": {
        "id": "3db808b3",
        "outputId": "67a388e8-2045-4f9e-fce9-5b93e641d1c9"
      },
      "outputs": [
        {
          "data": {
            "image/png": "[encoded data removed]",
            "text/plain": [
              "<Figure size 864x288 with 1 Axes>"
            ]
          },
          "metadata": {
            "needs_background": "light"
          },
          "output_type": "display_data"
        }
      ],
      "source": [
        "plt.figure(figsize=(12, 4))\n",
        "plt.plot(history_cnn.history['loss'], label='Training Loss')\n",
        "plt.plot(history_cnn.history['val_loss'], label='Validation Loss')\n",
        "plt.title('Training and Validation Loss')\n",
        "plt.xlabel('Epoch')\n",
        "plt.ylabel('Loss')\n",
        "plt.legend()\n",
        "plt.show()"
      ]
    },
    {
      "cell_type": "markdown",
      "id": "6c3261f6",
      "metadata": {
        "id": "6c3261f6"
      },
      "source": [
        "#### 정확도(Accuracy) 그래프 시각화"
      ]
    },
    {
      "cell_type": "code",
      "execution_count": null,
      "id": "b6ca7556",
      "metadata": {
        "id": "b6ca7556",
        "outputId": "95d1c05d-41e5-41f4-c0c1-be71aabdabc4"
      },
      "outputs": [
        {
          "data": {
            "image/png": "[encoded data removed]",
            "text/plain": [
              "<Figure size 864x288 with 1 Axes>"
            ]
          },
          "metadata": {
            "needs_background": "light"
          },
          "output_type": "display_data"
        }
      ],
      "source": [
        "plt.figure(figsize=(12, 4))\n",
        "plt.plot(history_cnn.history['accuracy'], label='Training Accuracy')\n",
        "plt.plot(history_cnn.history['val_accuracy'], label='Validation Accuracy')\n",
        "plt.title('Training and Validation Accuracy')\n",
        "plt.xlabel('Epoch')\n",
        "plt.ylabel('Accuracy')\n",
        "plt.legend()\n",
        "plt.show()"
      ]
    },
    {
      "cell_type": "markdown",
      "id": "c6fc2a84",
      "metadata": {
        "id": "c6fc2a84"
      },
      "source": [
        "### LSTM Model\n",
        "\n",
        "1. LSTM 모델의 검증 정확도: 0.8506\n",
        "2. LSTM 모델의 검증 정확도: 0.8463\n",
        "3. LSTM 모델의 검증 정확도: 0.8328\n",
        "4. LSTM 모델의 검증 정확도: 0.8340\n",
        "5. LSTM 모델의 검증 정확도: 0.8321\n",
        "6. LSTM 모델의 검증 정확도: 0.8406\n",
        "7. LSTM 모델의 검증 정확도: 0.8311\n",
        "8. LSTM 모델의 검증 정확도: 0.8425"
      ]
    },
    {
      "cell_type": "code",
      "execution_count": null,
      "id": "4f55babc",
      "metadata": {
        "id": "4f55babc",
        "outputId": "cf0a3c85-804e-4e40-8c49-8de86a95dec3"
      },
      "outputs": [
        {
          "name": "stdout",
          "output_type": "stream",
          "text": [
            "914/914 [==============================] - 3s 4ms/step - loss: 0.5266 - accuracy: 0.8425\n",
            "LSTM 모델의 검증 정확도: 0.8425\n"
          ]
        }
      ],
      "source": [
        "loss, accuracy = model_lstm.evaluate(X_val, y_val, verbose=1)\n",
        "print(f\"LSTM 모델의 검증 정확도: {accuracy:.4f}\")"
      ]
    },
    {
      "cell_type": "markdown",
      "id": "b3c75922",
      "metadata": {
        "id": "b3c75922"
      },
      "source": [
        "#### 손실(Loss) 그래프 시각화"
      ]
    },
    {
      "cell_type": "code",
      "execution_count": null,
      "id": "43df877d",
      "metadata": {
        "id": "43df877d",
        "outputId": "41871af9-54d2-41c6-9799-8dd29e8123a3"
      },
      "outputs": [
        {
          "data": {
            "text/plain": [
              "<matplotlib.legend.Legend at 0x7f4f2c2d3af0>"
            ]
          },
          "execution_count": 46,
          "metadata": {},
          "output_type": "execute_result"
        },
        {
          "data": {
            "image/png": "[encoded data removed]",
            "text/plain": [
              "<Figure size 864x288 with 1 Axes>"
            ]
          },
          "metadata": {
            "needs_background": "light"
          },
          "output_type": "display_data"
        }
      ],
      "source": [
        "plt.figure(figsize=(12, 4))\n",
        "plt.plot(history_lstm.history['loss'], label='Training Loss')\n",
        "plt.plot(history_lstm.history['val_loss'], label='Validation Loss')\n",
        "plt.title('Training and Validation Loss')\n",
        "plt.xlabel('Epoch')\n",
        "plt.ylabel('Loss')\n",
        "plt.legend()"
      ]
    },
    {
      "cell_type": "markdown",
      "id": "742cd5a7",
      "metadata": {
        "id": "742cd5a7"
      },
      "source": [
        "#### 정확도(Accuracy) 그래프 시각화"
      ]
    },
    {
      "cell_type": "code",
      "execution_count": null,
      "id": "d67a3d6a",
      "metadata": {
        "id": "d67a3d6a",
        "outputId": "a62ced9c-2293-4a04-e682-8825eadfb561"
      },
      "outputs": [
        {
          "data": {
            "image/png": "[encoded data removed]",
            "text/plain": [
              "<Figure size 864x288 with 1 Axes>"
            ]
          },
          "metadata": {
            "needs_background": "light"
          },
          "output_type": "display_data"
        }
      ],
      "source": [
        "plt.figure(figsize=(12, 4))\n",
        "plt.plot(history_lstm.history['accuracy'], label='Training Accuracy')\n",
        "plt.plot(history_lstm.history['val_accuracy'], label='Validation Accuracy')\n",
        "plt.title('Training and Validation Accuracy')\n",
        "plt.xlabel('Epoch')\n",
        "plt.ylabel('Accuracy')\n",
        "plt.legend()\n",
        "plt.show()"
      ]
    },
    {
      "cell_type": "markdown",
      "id": "9a100266",
      "metadata": {
        "id": "9a100266"
      },
      "source": [
        "## 학습된 Embedding 레이어 분석"
      ]
    },
    {
      "cell_type": "markdown",
      "id": "bcc9ba63",
      "metadata": {
        "id": "bcc9ba63"
      },
      "source": [
        "### Simple RNN Model"
      ]
    },
    {
      "cell_type": "code",
      "execution_count": null,
      "id": "eb2c0064",
      "metadata": {
        "id": "eb2c0064",
        "outputId": "2989c268-5d9f-4108-9460-541b208ddfc6"
      },
      "outputs": [
        {
          "name": "stdout",
          "output_type": "stream",
          "text": [
            "(10002, 100)\n"
          ]
        }
      ],
      "source": [
        "embedding_layer = model_rnn.layers[0]\n",
        "weights = embedding_layer.get_weights()[0]\n",
        "print(weights.shape)    # shape: (vocab_size, embedding_dim)"
      ]
    },
    {
      "cell_type": "code",
      "execution_count": null,
      "id": "6ea6f931",
      "metadata": {
        "id": "6ea6f931"
      },
      "outputs": [],
      "source": [
        "import os\n",
        "\n",
        "word2vec_file_path = os.getenv('HOME')+'/aiffel/Sentiment_Analysis/word2vec_rnn.txt'\n",
        "with open(word2vec_file_path, 'w') as f:\n",
        "    f.write(f'{vocab_size-4} {word_vector_dim}\\n')  # 파일 첫 줄에 단어 개수와 벡터의 차원 수 기록\n",
        "\n",
        "    vectors = model_rnn.get_weights()[0]\n",
        "    for i in range(4, vocab_size):  # 특수 문자 제외\n",
        "        if i in index_to_word:      # index_to_word에 i가 있을 때만 실행\n",
        "            f.write(f'{index_to_word[i]} {\" \".join(map(str, list(vectors[i, :])))}\\n')"
      ]
    },
    {
      "cell_type": "markdown",
      "id": "3378e376",
      "metadata": {
        "id": "3378e376"
      },
      "source": [
        "### 1D CNN Model"
      ]
    },
    {
      "cell_type": "code",
      "execution_count": null,
      "id": "8bac33a2",
      "metadata": {
        "id": "8bac33a2",
        "outputId": "cbb9a8f6-472f-4070-8e8f-3045f091a6a1"
      },
      "outputs": [
        {
          "name": "stdout",
          "output_type": "stream",
          "text": [
            "(10002, 100)\n"
          ]
        }
      ],
      "source": [
        "embedding_layer = model_cnn.layers[0]\n",
        "weights = embedding_layer.get_weights()[0]\n",
        "print(weights.shape)    # shape: (vocab_size, embedding_dim)"
      ]
    },
    {
      "cell_type": "code",
      "execution_count": null,
      "id": "42176e52",
      "metadata": {
        "id": "42176e52"
      },
      "outputs": [],
      "source": [
        "word2vec_file_path = os.getenv('HOME')+'/aiffel/Sentiment_Analysis/word2vec_cnn.txt'\n",
        "with open(word2vec_file_path, 'w') as f:\n",
        "    f.write(f'{vocab_size-4} {word_vector_dim}\\n')  # 파일 첫 줄에 단어 개수와 벡터의 차원 수 기록\n",
        "\n",
        "    vectors = model_rnn.get_weights()[0]\n",
        "    for i in range(4, vocab_size):  # 특수 문자 제외\n",
        "        if i in index_to_word:      # index_to_word에 i가 있을 때만 실행\n",
        "            f.write(f'{index_to_word[i]} {\" \".join(map(str, list(vectors[i, :])))}\\n')"
      ]
    },
    {
      "cell_type": "markdown",
      "id": "781df717",
      "metadata": {
        "id": "781df717"
      },
      "source": [
        "### LSTM Model"
      ]
    },
    {
      "cell_type": "code",
      "execution_count": null,
      "id": "20e3e389",
      "metadata": {
        "id": "20e3e389",
        "outputId": "3e3912e7-4e72-436f-b6ba-0e60bb9d8053"
      },
      "outputs": [
        {
          "name": "stdout",
          "output_type": "stream",
          "text": [
            "(10002, 100)\n"
          ]
        }
      ],
      "source": [
        "embedding_layer = model_lstm.layers[0]\n",
        "weights = embedding_layer.get_weights()[0]\n",
        "print(weights.shape)    # shape: (vocab_size, embedding_dim)"
      ]
    },
    {
      "cell_type": "code",
      "execution_count": null,
      "id": "0905c9f4",
      "metadata": {
        "id": "0905c9f4"
      },
      "outputs": [],
      "source": [
        "word2vec_file_path = os.getenv('HOME')+'/aiffel/Sentiment_Analysis/word2vec_lstm.txt'\n",
        "with open(word2vec_file_path, 'w') as f:\n",
        "    f.write(f'{vocab_size-4} {word_vector_dim}\\n')  # 파일 첫 줄에 단어 개수와 벡터의 차원 수 기록\n",
        "\n",
        "    vectors = model_rnn.get_weights()[0]\n",
        "    for i in range(4, vocab_size):  # 특수 문자 제외\n",
        "        if i in index_to_word:      # index_to_word에 i가 있을 때만 실행\n",
        "            f.write(f'{index_to_word[i]} {\" \".join(map(str, list(vectors[i, :])))}\\n')"
      ]
    },
    {
      "cell_type": "markdown",
      "id": "33b6d838",
      "metadata": {
        "id": "33b6d838"
      },
      "source": [
        "## 한국어 Word2Vec 임베딩 활용하여 성능 개선\n",
        "- 한국어 Word2Vec은 /data 폴더 안에 있는 word2vec_ko.model을 활용한다.\n",
        "- 한국어 Word2Vec을 활용할 때는 load_word2vec_format() 형태가 아닌 load() 형태로 모델을 불러온다.\n",
        "    - 또한 모델을 활용할 때에는 아래 예시와 같이 .wv를 붙여서 활용한다.\n",
        "    - 좀더 자세한 활용법에 대해선 다음 링크들을 참조\n",
        "        - [링크1](https://radimrehurek.com/gensim/auto_examples/tutorials/run_word2vec.html#storing-and-loading-models)\n",
        "        - [링크2](https://radimrehurek.com/gensim/models/keyedvectors.html)\n",
        "\n",
        "```Python\n",
        "# 예시코드\n",
        "from gensim.models.keyedvectors import Word2VecKeyedVectors\n",
        "word_vectors = Word2VecKeyedVectors.load(word2vec_file_path)\n",
        "vector = word_vectors.wv[‘끝’]\n",
        "```"
      ]
    },
    {
      "cell_type": "code",
      "execution_count": null,
      "id": "19c2e3b9",
      "metadata": {
        "id": "19c2e3b9"
      },
      "outputs": [],
      "source": [
        "from gensim.models.keyedvectors import Word2VecKeyedVectors\n",
        "\n",
        "word2vec_file_path = os.getenv('HOME')+'/data/word2vec_ko.model'\n",
        "word_vectors = Word2VecKeyedVectors.load(word2vec_file_path)\n",
        "vector = word_vectors.wv['영화']"
      ]
    },
    {
      "cell_type": "code",
      "execution_count": null,
      "id": "bdf8a238",
      "metadata": {
        "id": "bdf8a238",
        "outputId": "eb5f60ba-dcc8-4ce0-f125-59ad1732ad94"
      },
      "outputs": [
        {
          "data": {
            "text/plain": [
              "array([-1.8007389 , -1.1790098 , -2.4066596 ,  2.1384156 , -0.3537603 ,\n",
              "        1.3749527 , -4.894612  , -3.6517198 ,  0.4411444 ,  0.78153926,\n",
              "       -2.696888  , -1.7812852 , -2.1514654 , -4.813236  ,  2.7465918 ,\n",
              "       -2.1620324 , -0.11467794, -1.2431171 ,  2.3979309 , -1.1060628 ,\n",
              "       -0.41043055,  1.9500391 ,  0.7821002 ,  1.5899978 ,  1.6447444 ,\n",
              "       -2.1265035 , -1.7981595 ,  1.7535795 ,  0.53717697, -1.212121  ,\n",
              "       -4.466316  ,  4.5488324 ,  1.334441  , -0.9070271 ,  1.1931889 ,\n",
              "        4.1563215 ,  1.9758307 , -0.9437562 , -0.2592725 ,  0.34935686,\n",
              "        1.8562875 , -3.3249645 ,  1.1221625 ,  1.2836524 ,  3.9211376 ,\n",
              "        3.8023994 ,  2.766269  ,  0.67293745,  2.2853644 , -5.1131716 ,\n",
              "        0.32525915, -3.3079958 ,  5.3043513 , -3.8813758 , -0.32960036,\n",
              "       -1.9527504 ,  3.8865075 , -3.5470378 , -0.21991685,  0.82119733,\n",
              "       -0.9492492 ,  3.5472107 ,  1.322048  , -0.70640826,  0.52253807,\n",
              "        1.4683235 , -1.1018689 ,  2.262941  , -0.7204685 , -1.766201  ,\n",
              "        5.2237577 ,  3.0748682 ,  1.0977576 ,  3.3191733 , -0.4100423 ,\n",
              "       -1.7022891 , -0.78379875,  0.82586575, -0.54520637,  1.2355382 ,\n",
              "        2.02674   , -0.652447  ,  1.0866054 ,  0.8977641 ,  0.7928342 ,\n",
              "        3.7770627 ,  3.0274863 ,  5.1660023 ,  2.6461644 ,  2.8926868 ,\n",
              "        1.970944  , -3.3746543 , -5.2656593 , -1.1041485 ,  2.357547  ,\n",
              "       -2.3570824 , -4.8172383 ,  3.7290223 ,  4.62329   ,  1.5004613 ],\n",
              "      dtype=float32)"
            ]
          },
          "execution_count": 55,
          "metadata": {},
          "output_type": "execute_result"
        }
      ],
      "source": [
        "vector"
      ]
    },
    {
      "cell_type": "markdown",
      "source": [
        "## 회고\n",
        "\n",
        "이 프로젝트를 통해 직면했던 어려움과 이를 극복한 경험은 크게 두 가지로 요약할 수 있습니다. 첫 번째로, 데이터 전처리 과정의 복잡성이 있었습니다. 다양한 전처리 기법을 적용하며 가장 효과적인 조합을 찾기 위해 많은 시간과 노력이 필요했습니다. 이 과정에서 실험을 반복하며 최적의 전처리 방법을 찾아내었고, 이는 모델의 성능 향상에 큰 기여를 했습니다.\n",
        "\n",
        "두 번째로, 모델 성능의 한계에 부딪혔습니다. 초기 모델들의 성능이 기대에 못 미쳐, 이를 개선하기 위한 방법을 모색했습니다. 사전 훈련된 Word2Vec 임베딩의 적용과 함께 모델의 하이퍼파라미터를 조정함으로써, 성능을 상당히 개선할 수 있었습니다.\n",
        "\n",
        "이 과정에서 배운 점은 다양합니다. 먼저, 자연어 처리에서의 데이터 전처리 기법의 중요성을 깨달았습니다. 적절한 데이터 전처리는 모델의 성능을 극대화하는 데 필수적입니다. 또한, 다양한 딥러닝 모델의 아키텍처와 각각의 장단점에 대한 이해도 깊어졌습니다. 마지막으로, 사전 훈련된 임베딩의 활용 방법과 그 효과에 대해서도 학습할 수 있었습니다. 이는 향후 다른 자연어 처리 프로젝트에 큰 도움이 될 것입니다.\n",
        "\n",
        "향후 계획으로는 모델의 성능을 더욱 향상시킬 수 있는 방법을 탐색하고, 더 많은 데이터와 복잡한 모델 구조를 실험해보고자 합니다. 특히, BERT와 같은 최신 NLP 모델을 학습하고 프로젝트에 적용해보는 것이 목표입니다. 이 프로젝트를 통해 자연어 처리와 딥러닝에 대한 실전 경험을 쌓을 수 있었으며, 이론과 실습을 통해 얻은 지식을 실제 문제에 적용해볼 수 있었습니다. 앞으로도 계속해서 지식을 확장하고 새로운 도전을 해나갈 계획입니다."
      ],
      "metadata": {
        "id": "Jva0YJBuJ6KN"
      },
      "id": "Jva0YJBuJ6KN"
    }
  ],
  "metadata": {
    "kernelspec": {
      "display_name": "Python 3 (ipykernel)",
      "language": "python",
      "name": "python3"
    },
    "language_info": {
      "codemirror_mode": {
        "name": "ipython",
        "version": 3
      },
      "file_extension": ".py",
      "mimetype": "text/x-python",
      "name": "python",
      "nbconvert_exporter": "python",
      "pygments_lexer": "ipython3",
      "version": "3.9.7"
    },
    "colab": {
      "provenance": []
    }
  },
  "nbformat": 4,
  "nbformat_minor": 5
}