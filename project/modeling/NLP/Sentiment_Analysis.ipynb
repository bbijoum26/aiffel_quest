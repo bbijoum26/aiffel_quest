{
 "cells": [
  {
   "cell_type": "markdown",
   "id": "37b038ef",
   "metadata": {},
   "source": [
    "# 네이버 영화리뷰 감성분석\n",
    "\n",
    "데이터셋: 네이버 영화의 댓글을 모아 구성된 [Naver sentiment movie corpus](https://github.com/e9t/nsmc)"
   ]
  },
  {
   "cell_type": "markdown",
   "id": "c99d2009",
   "metadata": {},
   "source": [
    "## 데이터 준비와 확인"
   ]
  },
  {
   "cell_type": "code",
   "execution_count": 1,
   "id": "0090c617",
   "metadata": {},
   "outputs": [
    {
     "data": {
      "text/html": [
       "<div>\n",
       "<style scoped>\n",
       "    .dataframe tbody tr th:only-of-type {\n",
       "        vertical-align: middle;\n",
       "    }\n",
       "\n",
       "    .dataframe tbody tr th {\n",
       "        vertical-align: top;\n",
       "    }\n",
       "\n",
       "    .dataframe thead th {\n",
       "        text-align: right;\n",
       "    }\n",
       "</style>\n",
       "<table border=\"1\" class=\"dataframe\">\n",
       "  <thead>\n",
       "    <tr style=\"text-align: right;\">\n",
       "      <th></th>\n",
       "      <th>id</th>\n",
       "      <th>document</th>\n",
       "      <th>label</th>\n",
       "    </tr>\n",
       "  </thead>\n",
       "  <tbody>\n",
       "    <tr>\n",
       "      <th>0</th>\n",
       "      <td>9976970</td>\n",
       "      <td>아 더빙.. 진짜 짜증나네요 목소리</td>\n",
       "      <td>0</td>\n",
       "    </tr>\n",
       "    <tr>\n",
       "      <th>1</th>\n",
       "      <td>3819312</td>\n",
       "      <td>흠...포스터보고 초딩영화줄....오버연기조차 가볍지 않구나</td>\n",
       "      <td>1</td>\n",
       "    </tr>\n",
       "    <tr>\n",
       "      <th>2</th>\n",
       "      <td>10265843</td>\n",
       "      <td>너무재밓었다그래서보는것을추천한다</td>\n",
       "      <td>0</td>\n",
       "    </tr>\n",
       "    <tr>\n",
       "      <th>3</th>\n",
       "      <td>9045019</td>\n",
       "      <td>교도소 이야기구먼 ..솔직히 재미는 없다..평점 조정</td>\n",
       "      <td>0</td>\n",
       "    </tr>\n",
       "    <tr>\n",
       "      <th>4</th>\n",
       "      <td>6483659</td>\n",
       "      <td>사이몬페그의 익살스런 연기가 돋보였던 영화!스파이더맨에서 늙어보이기만 했던 커스틴 ...</td>\n",
       "      <td>1</td>\n",
       "    </tr>\n",
       "  </tbody>\n",
       "</table>\n",
       "</div>"
      ],
      "text/plain": [
       "         id                                           document  label\n",
       "0   9976970                                아 더빙.. 진짜 짜증나네요 목소리      0\n",
       "1   3819312                  흠...포스터보고 초딩영화줄....오버연기조차 가볍지 않구나      1\n",
       "2  10265843                                  너무재밓었다그래서보는것을추천한다      0\n",
       "3   9045019                      교도소 이야기구먼 ..솔직히 재미는 없다..평점 조정      0\n",
       "4   6483659  사이몬페그의 익살스런 연기가 돋보였던 영화!스파이더맨에서 늙어보이기만 했던 커스틴 ...      1"
      ]
     },
     "execution_count": 1,
     "metadata": {},
     "output_type": "execute_result"
    }
   ],
   "source": [
    "import pandas as pd\n",
    "\n",
    "train_data = pd.read_table('~/aiffel/sentiment_classification/data/ratings_train.txt')\n",
    "test_data = pd.read_table('~/aiffel/sentiment_classification/data/ratings_test.txt')\n",
    "\n",
    "train_data.head()"
   ]
  },
  {
   "cell_type": "markdown",
   "id": "a8d7f04e",
   "metadata": {},
   "source": [
    "## 데이터로더 구성\n",
    "\n",
    "`data_loader` 안에서는 다음을 수행한다.\n",
    "- 데이터의 중복 제거\n",
    "- NaN 결측치 제거\n",
    "- 한국어 토크나이저로 토큰화\n",
    "- 불용어(Stopwords) 제거\n",
    "- 사전 word_to_index 구성\n",
    "- 텍스트 스트링을 사전 인덱스 스트링으로 변환\n",
    "- X_train, y_train, X_test, y_test, word_to_index 리턴\n",
    "\n",
    "\n",
    "\n"
   ]
  },
  {
   "cell_type": "code",
   "execution_count": 2,
   "id": "87de228a",
   "metadata": {},
   "outputs": [],
   "source": [
    "from konlpy.tag import Mecab\n",
    "import numpy as np\n",
    "from collections import Counter\n",
    "\n",
    "tokenizer = Mecab()\n",
    "stopwords = set(['의','가','이','은','들','는','좀','잘','걍','과','도','를','으로','자','에','와','한','하다'])"
   ]
  },
  {
   "cell_type": "code",
   "execution_count": 3,
   "id": "e250a7a2",
   "metadata": {},
   "outputs": [],
   "source": [
    "def load_data(train_data, test_data, num_words=10000):\n",
    "    train_data.drop_duplicates(subset=['document'], inplace=True)\n",
    "    train_data = train_data.dropna(how = 'any') \n",
    "    test_data.drop_duplicates(subset=['document'], inplace=True)\n",
    "    test_data = test_data.dropna(how = 'any') \n",
    "    \n",
    "    X_train = []\n",
    "    for sentence in train_data['document']:\n",
    "        temp_X = tokenizer.morphs(sentence) # 토큰화\n",
    "        temp_X = [word for word in temp_X if not word in stopwords] # 불용어 제거\n",
    "        X_train.append(temp_X)\n",
    "\n",
    "    X_test = []\n",
    "    for sentence in test_data['document']:\n",
    "        temp_X = tokenizer.morphs(sentence) # 토큰화\n",
    "        temp_X = [word for word in temp_X if not word in stopwords] # 불용어 제거\n",
    "        X_test.append(temp_X)\n",
    "    \n",
    "    words = np.concatenate(X_train).tolist()\n",
    "    counter = Counter(words)\n",
    "    counter = counter.most_common(10000-4)\n",
    "    vocab = ['', '', '', ''] + [key for key, _ in counter]\n",
    "    word_to_index = {word:index for index, word in enumerate(vocab)}\n",
    "        \n",
    "    def wordlist_to_indexlist(wordlist):\n",
    "        return [word_to_index[word] if word in word_to_index else word_to_index[''] for word in wordlist]\n",
    "        \n",
    "    X_train = list(map(wordlist_to_indexlist, X_train))\n",
    "    X_test = list(map(wordlist_to_indexlist, X_test))\n",
    "        \n",
    "    return X_train, np.array(list(train_data['label'])), X_test, np.array(list(test_data['label'])), word_to_index"
   ]
  },
  {
   "cell_type": "code",
   "execution_count": 4,
   "id": "2a632680",
   "metadata": {},
   "outputs": [],
   "source": [
    "X_train, y_train, X_test, y_test, word_to_index = load_data(train_data, test_data)"
   ]
  },
  {
   "cell_type": "markdown",
   "id": "877e6433",
   "metadata": {},
   "source": [
    "### 데이터 실제 예시 확인"
   ]
  },
  {
   "cell_type": "code",
   "execution_count": 5,
   "id": "b3a568f4",
   "metadata": {},
   "outputs": [
    {
     "name": "stdout",
     "output_type": "stream",
     "text": [
      "훈련 샘플 개수: 146182, 테스트 개수: 49157\n"
     ]
    }
   ],
   "source": [
    "print(f\"훈련 샘플 개수: {len(X_train)}, 테스트 개수: {len(X_test)}\")"
   ]
  },
  {
   "cell_type": "code",
   "execution_count": 6,
   "id": "52216b20",
   "metadata": {},
   "outputs": [
    {
     "name": "stdout",
     "output_type": "stream",
     "text": [
      "[32, 74, 919, 4, 4, 39, 228, 20, 33, 748]\n",
      "라벨:  0\n",
      "1번째 리뷰 문장 길이:  10\n",
      "2번째 리뷰 문장 길이:  17\n"
     ]
    }
   ],
   "source": [
    "print(X_train[0])           # 1번째 리뷰데이터\n",
    "print('라벨: ', y_train[0])  # 1번째 리뷰데이터의 라벨\n",
    "print('1번째 리뷰 문장 길이: ', len(X_train[0]))\n",
    "print('2번째 리뷰 문장 길이: ', len(X_train[1]))"
   ]
  },
  {
   "cell_type": "code",
   "execution_count": 7,
   "id": "d52bd19f",
   "metadata": {},
   "outputs": [],
   "source": [
    "index_to_word = {index:word for word, index in word_to_index.items()}"
   ]
  },
  {
   "cell_type": "code",
   "execution_count": 8,
   "id": "cbb49c04",
   "metadata": {},
   "outputs": [
    {
     "data": {
      "text/plain": [
       "{3: '',\n",
       " 4: '.',\n",
       " 5: '영화',\n",
       " 6: '다',\n",
       " 7: '고',\n",
       " 8: '하',\n",
       " 9: '을',\n",
       " 10: '보',\n",
       " 11: '..',\n",
       " 12: '게'}"
      ]
     },
     "execution_count": 8,
     "metadata": {},
     "output_type": "execute_result"
    }
   ],
   "source": [
    "dict(list(index_to_word.items())[:10]) "
   ]
  },
  {
   "cell_type": "code",
   "execution_count": 9,
   "id": "c32498b0",
   "metadata": {},
   "outputs": [
    {
     "name": "stdout",
     "output_type": "stream",
     "text": [
      "<BOS>\n",
      "5\n",
      "영화\n"
     ]
    }
   ],
   "source": [
    "word_to_index[\"<PAD>\"] = 0\n",
    "word_to_index[\"<BOS>\"] = 1\n",
    "word_to_index[\"<UNK>\"] = 2  # unknown\n",
    "word_to_index[\"<UNUSED>\"] = 3\n",
    "\n",
    "index_to_word = {index:word for word, index in word_to_index.items()}\n",
    "\n",
    "print(index_to_word[1])      # '<BOS>' 출력\n",
    "print(word_to_index['영화'])  # 5 출력\n",
    "print(index_to_word[5])      # '영화' 출력"
   ]
  },
  {
   "cell_type": "markdown",
   "id": "be47f79c",
   "metadata": {},
   "source": [
    "### 텍스트를 숫자로 표현하는 방법"
   ]
  },
  {
   "cell_type": "markdown",
   "id": "f7d11ebf",
   "metadata": {},
   "source": [
    "#### `get_encoded_sentence` 함수\n",
    "- 한 문장을 받아서 해당 문장을 단어 인덱스 리스트로 변환해주는 기능을 수행  \n",
    "- 여기서 사용하는 `word_to_index`는 단어를 키로, 그 단어의 인덱스를 값으로 가지는 사전(dictionary)이다. \n",
    "    - 이 사전은 모델이 이해할 수 있는 형태로 텍스트 데이터를 변환하는 데 사용된다.\n",
    "- 단, 모든 문장은 <BOS>로 시작하는 것으로 한다.\n",
    "\n",
    "**함수 동작 방식**\n",
    "- 입력 문장의 시작을 표시\n",
    "    - 모든 변환된 문장은 <BOS> (Begin Of Sentence) 토큰으로 시작한다. \n",
    "    - 이는 문장의 시작을 나타내며, 이 토큰 또한 `word_to_index` 사전을 사용하여 해당 인덱스로 변환된다.\n",
    "- 문장 토큰화 및 인덱스 변환\n",
    "    - 입력된 문장을 공백을 기준으로 단어 단위로 분리한다. `sentence.split()`\n",
    "    - 이후 각 단어에 대해 `word_to_index` 사전을 조회하여 해당 단어의 인덱스를 가져온다. \n",
    "    - 만약 단어가 사전에 존재하지 않는 경우, <UNK> (Unknown) 토큰의 인덱스를 사용한다. (모르는 단어를 처리하는 방법)\n",
    "- 결과: 이 과정을 거친 후, 모든 단어가 인덱스로 변환된 리스트를 반환한다. "
   ]
  },
  {
   "cell_type": "code",
   "execution_count": 10,
   "id": "7ba2b85c",
   "metadata": {},
   "outputs": [],
   "source": [
    "def get_encoded_sentence(sentence, word_to_index):\n",
    "    return [word_to_index['<BOS>']]+[word_to_index[word] if word in word_to_index else word_to_index['<UNK>'] for word in sentence.split()]"
   ]
  },
  {
   "cell_type": "markdown",
   "id": "e989dd90",
   "metadata": {},
   "source": [
    "#### `get_encoded_sentences` 함수\n",
    "- 여러 개의 문장으로 구성된 리스트를 입력 받아, 각 문장을 단어 인덱스 리스트로 변환하는 작업을 수행\n",
    "- 이 함수는 내부적으로 `get_encoded_sentence` 함수를 사용하여 개별 문장을 처리한다.\n",
    "\n",
    "**함수의 작동 방식**\n",
    "- 입력\n",
    "    - `sentences`는 변환하고자 하는 문장들의 리스트이다.\n",
    "    - `word_to_index`는 단어와 그에 해당하는 인덱스가 매핑된 사전이다.\n",
    "- 문장별 인코딩\n",
    "    - 입력된 sentences 리스트에 포함된 각 문장에 대해, `get_encoded_sentence` 함수를 호출하여 해당 문장을 단어 인덱스 리스트로 변환한다. \n",
    "    - 이 과정에서 모든 문장은 <BOS> 토큰으로 시작하며, 사전에 없는 단어는 <UNK>로 처리된다.\n",
    "- 결과: 변환된 단어 인덱스 리스트들의 리스트를 반환한다."
   ]
  },
  {
   "cell_type": "code",
   "execution_count": 11,
   "id": "6690f732",
   "metadata": {},
   "outputs": [],
   "source": [
    "def get_encoded_sentences(sentences, word_to_index):\n",
    "    return [get_encoded_sentence(sentence, word_to_index) for sentence in sentences]"
   ]
  },
  {
   "cell_type": "markdown",
   "id": "f1f361ce",
   "metadata": {},
   "source": [
    "#### `get_decoded_sentence` 함수\n",
    "- 숫자 인덱스로 인코딩된 문장을 다시 원래의 텍스트 문장으로 디코딩하는 역할을 수행\n",
    "- 이 과정에서 index_to_word라는 사전을 사용하는데, 이 사전은 숫자 인덱스를 키로 하고, 해당 인덱스에 해당하는 단어를 값으로 가진다.\n",
    "\n",
    "**함수의 작동 방식**\n",
    "- 입력\n",
    "    - `encoded_sentence`는 단어의 인덱스로 이루어진 리스트이다.\n",
    "    - 이 리스트는 앞서 언급한 `get_encoded_sentence` 함수를 통해 생성될 수 있다. \n",
    "        - `index_to_word`는 인덱스를 단어로 매핑하는 사전이다.\n",
    "- <BOS> 토큰 제외\n",
    "    - 디코딩 과정에서는 문장의 시작을 나타내는 <BOS> 토큰이 실제 텍스트로 변환되지 않도록 리스트의 첫 번째 요소를 제외한다. `(encoded_sentence[1:])`\n",
    "        - <BOS> 토큰이 실제 텍스트의 일부가 아니기 때문이다.\n",
    "\n",
    "- 디코딩\n",
    "    - 인코딩된 문장을 순회하며, 각 인덱스에 해당하는 단어를 `index_to_word` 사전을 통해 찾는다. \n",
    "    - 만약 특정 인덱스가 사전에 없는 경우 <UNK>(알 수 없는 단어)로 처리한다. \n",
    "        - 이 과정을 통해 모든 인덱스가 원래의 단어로 변환된다.\n",
    "- 결과: 변환된 단어들을 공백으로 구분하여 하나의 문자열로 결합한다.\n",
    "    - 인코딩된 숫자 벡터가 원래의 텍스트 문장으로 복원한다."
   ]
  },
  {
   "cell_type": "code",
   "execution_count": 12,
   "id": "a6c0e79e",
   "metadata": {},
   "outputs": [],
   "source": [
    "def get_decoded_sentence(encoded_sentence, index_to_word):\n",
    "    return ' '.join(index_to_word[index] if index in index_to_word else '<UNK>' for index in encoded_sentence[1:])  #[1:]를 통해 <BOS>를 제외"
   ]
  },
  {
   "cell_type": "markdown",
   "id": "dfe4592e",
   "metadata": {},
   "source": [
    "#### `get_decoded_sentences` 함수\n",
    "- 여러 개의 숫자 벡터로 인코딩된 문장들을 받아서 이를 한꺼번에 원래의 텍스트 문장들로 디코딩하는 기능을 수행 \n",
    "- 이 함수는 내부적으로 get_decoded_sentence 함수를 사용하여 각각의 인코딩된 문장을 디코딩한다.\n",
    "\n",
    "**함수의 작동 과정**\n",
    "- 입력\n",
    "    - `encoded_sentences`는 인코딩된 문장들의 리스트이다. \n",
    "        - 각 문장은 단어의 인덱스로 이루어진 리스트 형태로 되어 있다. \n",
    "    - `index_to_word`는 인덱스를 키로, 해당 인덱스의 단어를 값으로 가지는 사전이다.\n",
    "- 문장별 디코딩\n",
    "    - 입력된 `encoded_sentences` 리스트에 포함된 각 인코딩된 문장에 대하여, `get_decoded_sentence` 함수를 호출하여 이를 디코딩한다. \n",
    "    - 디코딩 과정에서는 문장의 시작을 나타내는 <BOS> 토큰을 제외하고, 각 인덱스에 해당하는 단어로 변환한다. \n",
    "        - 사전에 없는 인덱스는 <UNK>로 처리된다.\n",
    "- 결과: 디코딩된 각 문장을 문자열 형태로 변환한 뒤, 이를 모아 새로운 리스트로 만들어 반환한다. \n",
    "    - 결과적으로, 이 함수는 인코딩된 문장들의 리스트를 입력으로 받아, 각각을 디코딩한 텍스트 문장들의 리스트를 반환한다."
   ]
  },
  {
   "cell_type": "code",
   "execution_count": 13,
   "id": "91b418b9",
   "metadata": {},
   "outputs": [],
   "source": [
    "def get_decoded_sentences(encoded_sentences, index_to_word):\n",
    "    return [get_decoded_sentence(encoded_sentence, index_to_word) for encoded_sentence in encoded_sentences]"
   ]
  },
  {
   "cell_type": "markdown",
   "id": "751b7a16",
   "metadata": {},
   "source": [
    "## 모델 구성을 위한 데이터 분석 및 가공"
   ]
  },
  {
   "attachments": {
    "image.png": {
     "image/png": "[encoded data removed]"
    }
   },
   "cell_type": "markdown",
   "id": "41f8a87f",
   "metadata": {},
   "source": [
    "텍스트가 숫자로 변환되어 인공지능 모델의 입력으로 사용될 수 있게 되었지만, 이것으로 충분하지는 않다.   \n",
    "'i feel hungry'가 1, 3, 4, 5 로 변환되었지만 이 벡터는 텍스트에 담긴 언어의 의미와 대응되는 벡터가 아니라 임의로 부여된 단어의 순서에 불과하다.   \n",
    "우리가 하려는 것은 단어와 그 단어의 의미를 나타내는 벡터를 짝짓는 것이다.   \n",
    "그래서 단어의 의미를 나타내는 벡터를 훈련 가능한 파라미터로 놓고 이를 딥러닝을 통해 학습해서 최적화하게 된다.  \n",
    "Tensorflow, Pytorch 등의 딥러닝 프레임워크들은 이러한 의미 벡터 파라미터를 구현한 Embedding 레이어를 제공한다.\n",
    "\n",
    "\n",
    "> 임베딩(Embedding)이란?  \n",
    "자연어 처리(Natural Language Processing)분야에서 임베딩(Embedding)은 사람이 쓰는 자연어를 기계가 이해할 수 있는 숫자형태인 vector로 바꾼 결과 혹은 그 일련의 과정 전체를 의미한다. 가장 간단한 형태의 임베딩은 단어의 빈도를 그대로 벡터로 사용하는 것이다.  \n",
    "임베딩을 통해 할수있는 것은 단어나 문장 사이의 코사인 유사도가 가장 높은 단어를 구하는 등의 계산, 단어들 사이의 의미/문법적 정보 도출 벡터 간 연산으로 단어 사이 문법적 관계 도출, 전이 학습(transfer learning)\n",
    "임베딩은 다른 딥러닝 모델의 입력값으로 자주 쓰이고, 품질 좋은 임베딩을 쓸수록 모델의 성능이 좋아집니다.\n",
    "\n",
    "![image.png](attachment:image.png)"
   ]
  },
  {
   "cell_type": "markdown",
   "id": "7f078e3c",
   "metadata": {},
   "source": [
    "### 데이터셋 내 문장 길이 분포"
   ]
  },
  {
   "cell_type": "markdown",
   "id": "42bcce68",
   "metadata": {},
   "source": [
    "#### 데이터셋 내 문장 길이 분석"
   ]
  },
  {
   "cell_type": "code",
   "execution_count": 14,
   "id": "dc80f9cf",
   "metadata": {},
   "outputs": [],
   "source": [
    "train_lengths = [len(s) for s in X_train]\n",
    "test_lengths = [len(s) for s in X_test]"
   ]
  },
  {
   "cell_type": "code",
   "execution_count": 15,
   "id": "67d380ef",
   "metadata": {},
   "outputs": [
    {
     "name": "stdout",
     "output_type": "stream",
     "text": [
      "max length\n",
      "Train sentence max length: 116\n",
      "Test sentence max length: 105\n",
      "\n",
      "average length\n",
      "Train sentence average length: 15.98170773419436\n",
      "Test sentence average length: 15.932807128181134\n",
      "\n",
      "standard deviation\n",
      "Train sentence length standard deviation: 12.82473766384545\n",
      "Test sentence length standard deviation: 12.899346084223861\n"
     ]
    }
   ],
   "source": [
    "print(\"max length\")\n",
    "print(f\"Train sentence max length: {np.max(train_lengths)}\")\n",
    "print(f\"Test sentence max length: {np.max(test_lengths)}\\n\")\n",
    "\n",
    "print(\"average length\")\n",
    "print(f\"Train sentence average length: {np.mean(train_lengths)}\")\n",
    "print(f\"Test sentence average length: {np.mean(test_lengths)}\\n\")\n",
    "\n",
    "print(\"standard deviation\")\n",
    "print(f\"Train sentence length standard deviation: {np.std(train_lengths)}\")\n",
    "print(f\"Test sentence length standard deviation: {np.std(test_lengths)}\")"
   ]
  },
  {
   "cell_type": "markdown",
   "id": "ebfc8369",
   "metadata": {},
   "source": [
    "#### 문장 길이 분포 시각화"
   ]
  },
  {
   "cell_type": "code",
   "execution_count": 16,
   "id": "4e17cd37",
   "metadata": {},
   "outputs": [
    {
     "data": {
      "image/png": "[encoded data removed]",
      "text/plain": [
       "<Figure size 864x360 with 1 Axes>"
      ]
     },
     "metadata": {
      "needs_background": "light"
     },
     "output_type": "display_data"
    }
   ],
   "source": [
    "import matplotlib.pyplot as plt\n",
    "\n",
    "plt.figure(figsize=(12, 5))\n",
    "plt.hist(train_lengths, bins=50, alpha=0.5, color='r', label='train')\n",
    "plt.hist(test_lengths, bins=50, alpha=0.5, color='b', label='test')\n",
    "plt.title('Distribution of sentence lengths')\n",
    "plt.xlabel('Length of sentences')\n",
    "plt.ylabel('Number of sentences')\n",
    "plt.legend()\n",
    "plt.show()"
   ]
  },
  {
   "cell_type": "markdown",
   "id": "c87a58ee",
   "metadata": {},
   "source": [
    "### 적절한 최대 문장 길이 지정"
   ]
  },
  {
   "cell_type": "code",
   "execution_count": 17,
   "id": "b8a7dbcb",
   "metadata": {},
   "outputs": [
    {
     "name": "stdout",
     "output_type": "stream",
     "text": [
      "Chosen max sentence length: 41\n"
     ]
    }
   ],
   "source": [
    "max_length = int(np.mean(train_lengths) + 2 * np.std(train_lengths))\n",
    "print(f\"Chosen max sentence length: {max_length}\")"
   ]
  },
  {
   "cell_type": "markdown",
   "id": "9cb30995",
   "metadata": {},
   "source": [
    "### keras.preprocessing.sequence.pad_sequences 을 활용한 패딩 추가"
   ]
  },
  {
   "cell_type": "code",
   "execution_count": 18,
   "id": "bd0f1988",
   "metadata": {},
   "outputs": [
    {
     "name": "stdout",
     "output_type": "stream",
     "text": [
      "Shape of X_train_padded: (146182, 41)\n",
      "Shape of X_test_padded: (49157, 41)\n"
     ]
    }
   ],
   "source": [
    "import tensorflow as tf\n",
    "\n",
    "X_train_padded = tf.keras.preprocessing.sequence.pad_sequences(X_train, \n",
    "                                                               value=word_to_index[\"<PAD>\"],\n",
    "                                                               maxlen=max_length, \n",
    "                                                               padding='post')\n",
    "X_test_padded = tf.keras.preprocessing.sequence.pad_sequences(X_test, \n",
    "                                                              value=word_to_index[\"<PAD>\"],\n",
    "                                                              maxlen=max_length, \n",
    "                                                              padding='post')\n",
    "\n",
    "# 패딩된 데이터셋의 형태를 확인\n",
    "print(f\"Shape of X_train_padded: {X_train_padded.shape}\")\n",
    "print(f\"Shape of X_test_padded: {X_test_padded.shape}\")"
   ]
  },
  {
   "cell_type": "markdown",
   "id": "cdf177ff",
   "metadata": {},
   "source": [
    "## 모델 구성 및 validation set 구성\n",
    "모델은 3가지 이상 다양하게 구성하여 실험해 보세요."
   ]
  },
  {
   "cell_type": "code",
   "execution_count": 19,
   "id": "eba45857",
   "metadata": {},
   "outputs": [],
   "source": [
    "import tensorflow as tf\n",
    "from tensorflow.keras.models import Sequential\n",
    "from tensorflow.keras.layers import Embedding, SimpleRNN, LSTM, Dense, Dropout, Conv1D, GlobalMaxPooling1D, Bidirectional\n",
    "from tensorflow.keras.preprocessing.sequence import pad_sequences\n",
    "from tensorflow.keras.initializers import Constant\n",
    "from sklearn.model_selection import train_test_split"
   ]
  },
  {
   "cell_type": "code",
   "execution_count": 20,
   "id": "96d63011",
   "metadata": {},
   "outputs": [],
   "source": [
    "X_train, X_val, y_train, y_val = train_test_split(X_train_padded, \n",
    "                                                  y_train, \n",
    "                                                  test_size=0.2, \n",
    "                                                  random_state=42)"
   ]
  },
  {
   "cell_type": "code",
   "execution_count": 21,
   "id": "4e974397",
   "metadata": {},
   "outputs": [
    {
     "name": "stdout",
     "output_type": "stream",
     "text": [
      "X train shape: (116945, 41)\n",
      "y train shape: (116945,)\n",
      "X test shape: (49157, 41)\n",
      "y test shape: (49157,)\n"
     ]
    }
   ],
   "source": [
    "print(f'X train shape: {X_train.shape}')\n",
    "print(f'y train shape: {y_train.shape}')\n",
    "print(f'X test shape: {X_test_padded.shape}')\n",
    "print(f'y test shape: {y_test.shape}')"
   ]
  },
  {
   "cell_type": "code",
   "execution_count": 22,
   "id": "c27f0af7",
   "metadata": {},
   "outputs": [
    {
     "name": "stdout",
     "output_type": "stream",
     "text": [
      "10002\n"
     ]
    }
   ],
   "source": [
    "vocab_size = len(word_to_index) + 1  # 사전에 없는 단어를 위한 1 추가\n",
    "print(vocab_size)"
   ]
  },
  {
   "cell_type": "code",
   "execution_count": 23,
   "id": "b548bf66",
   "metadata": {},
   "outputs": [],
   "source": [
    "word_vector_dim = 100"
   ]
  },
  {
   "cell_type": "code",
   "execution_count": 24,
   "id": "322b087f",
   "metadata": {},
   "outputs": [],
   "source": [
    "embedding_matrix = np.random.rand(vocab_size, word_vector_dim)\n",
    "\n",
    "for word, i in word_to_index.items():\n",
    "    if i < vocab_size:\n",
    "        embedding_vector = np.random.rand(word_vector_dim)  # 예시로 랜덤 벡터 사용\n",
    "        embedding_matrix[i] = embedding_vector              # 임베딩 행렬에 단어 인덱스에 해당하는 벡터 저장"
   ]
  },
  {
   "cell_type": "markdown",
   "id": "12581cae",
   "metadata": {},
   "source": [
    "### Simple RNN Model"
   ]
  },
  {
   "cell_type": "code",
   "execution_count": 25,
   "id": "7e33d90a",
   "metadata": {},
   "outputs": [],
   "source": [
    "model_rnn = Sequential([\n",
    "    Embedding(vocab_size, \n",
    "              word_vector_dim, \n",
    "              input_length=max_length,\n",
    "              weights=[embedding_matrix],\n",
    "              trainable=True),\n",
    "    SimpleRNN(512, return_sequences=True),\n",
    "    Dropout(0.5),\n",
    "    \n",
    "    Dense(64, activation='relu'),\n",
    "    Dropout(0.5),\n",
    "    \n",
    "    Dense(1, activation='sigmoid')\n",
    "])"
   ]
  },
  {
   "cell_type": "markdown",
   "id": "1949704e",
   "metadata": {},
   "source": [
    "#### 모델 컴파일"
   ]
  },
  {
   "cell_type": "code",
   "execution_count": 26,
   "id": "d9a0204c",
   "metadata": {},
   "outputs": [],
   "source": [
    "model_rnn.compile(optimizer='adam', \n",
    "                  loss='binary_crossentropy', \n",
    "                  metrics=['accuracy'])"
   ]
  },
  {
   "cell_type": "markdown",
   "id": "b0ffe568",
   "metadata": {},
   "source": [
    "#### 모델 요약 출력"
   ]
  },
  {
   "cell_type": "code",
   "execution_count": 27,
   "id": "6cbfc2c5",
   "metadata": {},
   "outputs": [
    {
     "name": "stdout",
     "output_type": "stream",
     "text": [
      "Model: \"sequential\"\n",
      "_________________________________________________________________\n",
      "Layer (type)                 Output Shape              Param #   \n",
      "=================================================================\n",
      "embedding (Embedding)        (None, 41, 100)           1000200   \n",
      "_________________________________________________________________\n",
      "simple_rnn (SimpleRNN)       (None, 41, 512)           313856    \n",
      "_________________________________________________________________\n",
      "dropout (Dropout)            (None, 41, 512)           0         \n",
      "_________________________________________________________________\n",
      "dense (Dense)                (None, 41, 64)            32832     \n",
      "_________________________________________________________________\n",
      "dropout_1 (Dropout)          (None, 41, 64)            0         \n",
      "_________________________________________________________________\n",
      "dense_1 (Dense)              (None, 41, 1)             65        \n",
      "=================================================================\n",
      "Total params: 1,346,953\n",
      "Trainable params: 1,346,953\n",
      "Non-trainable params: 0\n",
      "_________________________________________________________________\n"
     ]
    }
   ],
   "source": [
    "model_rnn.summary()"
   ]
  },
  {
   "cell_type": "markdown",
   "id": "e42460e4",
   "metadata": {},
   "source": [
    "### 1D CNN Model"
   ]
  },
  {
   "cell_type": "code",
   "execution_count": 28,
   "id": "7fc25b43",
   "metadata": {},
   "outputs": [],
   "source": [
    "model_cnn = Sequential([\n",
    "    Embedding(input_dim=vocab_size, \n",
    "              output_dim=word_vector_dim, \n",
    "              embeddings_initializer=Constant(embedding_matrix),  # 사전 훈련된 임베딩을 초기값으로 사용\n",
    "              weights=[embedding_matrix],\n",
    "              input_length=max_length, \n",
    "              trainable=True),  # 임베딩 레이어를 학습 가능하게 설정\n",
    "    \n",
    "    Conv1D(512, 7, activation='relu', padding='same'),\n",
    "    Conv1D(1024, 7, activation='relu', padding='same'),\n",
    "    GlobalMaxPooling1D(),\n",
    "    \n",
    "    Dense(512, activation='relu'),\n",
    "    Dropout(0.5),\n",
    "    \n",
    "    Dense(64, activation='relu'),\n",
    "    Dropout(0.5),\n",
    "    \n",
    "    Dense(1, activation='sigmoid')\n",
    "])"
   ]
  },
  {
   "cell_type": "markdown",
   "id": "50491be8",
   "metadata": {},
   "source": [
    "#### 모델 컴파일"
   ]
  },
  {
   "cell_type": "code",
   "execution_count": 29,
   "id": "5576cb78",
   "metadata": {},
   "outputs": [],
   "source": [
    "model_cnn.compile(optimizer='adam', \n",
    "                  loss='binary_crossentropy', \n",
    "                  metrics=['accuracy'])"
   ]
  },
  {
   "cell_type": "markdown",
   "id": "252d1dfc",
   "metadata": {},
   "source": [
    "#### 모델 요약 출력"
   ]
  },
  {
   "cell_type": "code",
   "execution_count": 30,
   "id": "8f10fb36",
   "metadata": {},
   "outputs": [
    {
     "name": "stdout",
     "output_type": "stream",
     "text": [
      "Model: \"sequential_1\"\n",
      "_________________________________________________________________\n",
      "Layer (type)                 Output Shape              Param #   \n",
      "=================================================================\n",
      "embedding_1 (Embedding)      (None, 41, 100)           1000200   \n",
      "_________________________________________________________________\n",
      "conv1d (Conv1D)              (None, 41, 512)           358912    \n",
      "_________________________________________________________________\n",
      "conv1d_1 (Conv1D)            (None, 41, 1024)          3671040   \n",
      "_________________________________________________________________\n",
      "global_max_pooling1d (Global (None, 1024)              0         \n",
      "_________________________________________________________________\n",
      "dense_2 (Dense)              (None, 512)               524800    \n",
      "_________________________________________________________________\n",
      "dropout_2 (Dropout)          (None, 512)               0         \n",
      "_________________________________________________________________\n",
      "dense_3 (Dense)              (None, 64)                32832     \n",
      "_________________________________________________________________\n",
      "dropout_3 (Dropout)          (None, 64)                0         \n",
      "_________________________________________________________________\n",
      "dense_4 (Dense)              (None, 1)                 65        \n",
      "=================================================================\n",
      "Total params: 5,587,849\n",
      "Trainable params: 5,587,849\n",
      "Non-trainable params: 0\n",
      "_________________________________________________________________\n"
     ]
    }
   ],
   "source": [
    "model_cnn.summary()"
   ]
  },
  {
   "cell_type": "markdown",
   "id": "1c99e8d0",
   "metadata": {},
   "source": [
    "### LSTM Model"
   ]
  },
  {
   "cell_type": "code",
   "execution_count": 31,
   "id": "a546ad22",
   "metadata": {},
   "outputs": [],
   "source": [
    "model_lstm = Sequential([\n",
    "    Embedding(vocab_size, \n",
    "              word_vector_dim, \n",
    "              input_length=max_length,\n",
    "              weights=[embedding_matrix],\n",
    "              trainable=True),\n",
    "    LSTM(512),\n",
    "    Dense(1, activation='sigmoid'),\n",
    "])"
   ]
  },
  {
   "cell_type": "markdown",
   "id": "021f9048",
   "metadata": {},
   "source": [
    "#### 모델 컴파일"
   ]
  },
  {
   "cell_type": "code",
   "execution_count": 32,
   "id": "9b726a1c",
   "metadata": {},
   "outputs": [],
   "source": [
    "model_lstm.compile(optimizer='adam', \n",
    "                   loss='binary_crossentropy', \n",
    "                   metrics=['accuracy'])"
   ]
  },
  {
   "cell_type": "markdown",
   "id": "402df3af",
   "metadata": {},
   "source": [
    "#### 모델 요약 출력"
   ]
  },
  {
   "cell_type": "code",
   "execution_count": 33,
   "id": "b3640843",
   "metadata": {},
   "outputs": [
    {
     "name": "stdout",
     "output_type": "stream",
     "text": [
      "Model: \"sequential_2\"\n",
      "_________________________________________________________________\n",
      "Layer (type)                 Output Shape              Param #   \n",
      "=================================================================\n",
      "embedding_2 (Embedding)      (None, 41, 100)           1000200   \n",
      "_________________________________________________________________\n",
      "lstm (LSTM)                  (None, 512)               1255424   \n",
      "_________________________________________________________________\n",
      "dense_5 (Dense)              (None, 1)                 513       \n",
      "=================================================================\n",
      "Total params: 2,256,137\n",
      "Trainable params: 2,256,137\n",
      "Non-trainable params: 0\n",
      "_________________________________________________________________\n"
     ]
    }
   ],
   "source": [
    "model_lstm.summary()"
   ]
  },
  {
   "cell_type": "markdown",
   "id": "9fe7d4d4",
   "metadata": {},
   "source": [
    "## 모델 훈련 개시"
   ]
  },
  {
   "cell_type": "code",
   "execution_count": 34,
   "id": "c4a58311",
   "metadata": {},
   "outputs": [],
   "source": [
    "from tensorflow.keras.callbacks import EarlyStopping\n",
    "\n",
    "# EarlyStopping 콜백 정의\n",
    "early_stopping = EarlyStopping(monitor='val_loss',  # 모니터링 대상: 'val_loss'\n",
    "                               patience=10,         # 10번의 에폭 동안 개선되지 않으면 조기 종료합\n",
    "                               verbose=1)           # 조기 종료 시 메시지 출력"
   ]
  },
  {
   "cell_type": "code",
   "execution_count": 35,
   "id": "e006936b",
   "metadata": {},
   "outputs": [],
   "source": [
    "epochs = 100\n",
    "batch_size = 128"
   ]
  },
  {
   "cell_type": "markdown",
   "id": "0422309c",
   "metadata": {},
   "source": [
    "### Simple RNN Model"
   ]
  },
  {
   "cell_type": "code",
   "execution_count": 36,
   "id": "b3ae4f7f",
   "metadata": {},
   "outputs": [
    {
     "name": "stdout",
     "output_type": "stream",
     "text": [
      "Epoch 1/100\n",
      "914/914 [==============================] - 52s 43ms/step - loss: 0.6941 - accuracy: 0.5005 - val_loss: 0.6927 - val_accuracy: 0.5027\n",
      "Epoch 2/100\n",
      "914/914 [==============================] - 39s 43ms/step - loss: 0.6932 - accuracy: 0.5036 - val_loss: 0.6931 - val_accuracy: 0.5006\n",
      "Epoch 3/100\n",
      "914/914 [==============================] - 39s 42ms/step - loss: 0.6929 - accuracy: 0.5025 - val_loss: 0.6920 - val_accuracy: 0.5029\n",
      "Epoch 4/100\n",
      "914/914 [==============================] - 39s 42ms/step - loss: 0.6920 - accuracy: 0.5070 - val_loss: 0.6895 - val_accuracy: 0.5142\n",
      "Epoch 5/100\n",
      "914/914 [==============================] - 39s 42ms/step - loss: 0.6809 - accuracy: 0.5431 - val_loss: 0.6912 - val_accuracy: 0.5273\n",
      "Epoch 6/100\n",
      "914/914 [==============================] - 39s 42ms/step - loss: 0.6899 - accuracy: 0.5178 - val_loss: 0.6877 - val_accuracy: 0.5565\n",
      "Epoch 7/100\n",
      "914/914 [==============================] - 39s 43ms/step - loss: 0.6804 - accuracy: 0.5382 - val_loss: 0.6278 - val_accuracy: 0.6902\n",
      "Epoch 8/100\n",
      "914/914 [==============================] - 39s 43ms/step - loss: 0.6145 - accuracy: 0.6627 - val_loss: 0.6517 - val_accuracy: 0.5934\n",
      "Epoch 9/100\n",
      "914/914 [==============================] - 39s 42ms/step - loss: 0.5590 - accuracy: 0.7177 - val_loss: 0.4755 - val_accuracy: 0.7886\n",
      "Epoch 10/100\n",
      "914/914 [==============================] - 39s 43ms/step - loss: 0.4737 - accuracy: 0.7872 - val_loss: 0.4494 - val_accuracy: 0.7987\n",
      "Epoch 11/100\n",
      "914/914 [==============================] - 39s 43ms/step - loss: 0.4748 - accuracy: 0.7890 - val_loss: 0.4773 - val_accuracy: 0.7879\n",
      "Epoch 12/100\n",
      "914/914 [==============================] - 39s 43ms/step - loss: 0.4584 - accuracy: 0.7994 - val_loss: 0.4434 - val_accuracy: 0.7931\n",
      "Epoch 13/100\n",
      "914/914 [==============================] - 39s 43ms/step - loss: 0.5035 - accuracy: 0.7532 - val_loss: 0.5122 - val_accuracy: 0.7742\n",
      "Epoch 14/100\n",
      "914/914 [==============================] - 39s 43ms/step - loss: 0.5008 - accuracy: 0.7835 - val_loss: 0.4850 - val_accuracy: 0.7845\n",
      "Epoch 15/100\n",
      "914/914 [==============================] - 39s 42ms/step - loss: 0.5650 - accuracy: 0.7002 - val_loss: 0.4815 - val_accuracy: 0.7907\n",
      "Epoch 16/100\n",
      "914/914 [==============================] - 39s 43ms/step - loss: 0.5583 - accuracy: 0.7063 - val_loss: 0.6157 - val_accuracy: 0.6504\n",
      "Epoch 17/100\n",
      "914/914 [==============================] - 39s 43ms/step - loss: 0.6005 - accuracy: 0.6572 - val_loss: 0.6452 - val_accuracy: 0.6239\n",
      "Epoch 18/100\n",
      "914/914 [==============================] - 39s 43ms/step - loss: 0.4740 - accuracy: 0.7866 - val_loss: 0.4324 - val_accuracy: 0.8023\n",
      "Epoch 19/100\n",
      "914/914 [==============================] - 39s 43ms/step - loss: 0.4234 - accuracy: 0.8142 - val_loss: 0.4351 - val_accuracy: 0.8053\n",
      "Epoch 20/100\n",
      "914/914 [==============================] - 39s 43ms/step - loss: 0.4040 - accuracy: 0.8247 - val_loss: 0.4255 - val_accuracy: 0.8076\n",
      "Epoch 21/100\n",
      "914/914 [==============================] - 39s 42ms/step - loss: 0.4089 - accuracy: 0.8196 - val_loss: 0.4304 - val_accuracy: 0.7997\n",
      "Epoch 22/100\n",
      "914/914 [==============================] - 39s 42ms/step - loss: 0.4247 - accuracy: 0.8138 - val_loss: 0.4526 - val_accuracy: 0.8062\n",
      "Epoch 23/100\n",
      "914/914 [==============================] - 39s 42ms/step - loss: 0.3974 - accuracy: 0.8278 - val_loss: 0.4169 - val_accuracy: 0.8065\n",
      "Epoch 24/100\n",
      "914/914 [==============================] - 41s 45ms/step - loss: 0.4004 - accuracy: 0.8267 - val_loss: 0.4248 - val_accuracy: 0.8055\n",
      "Epoch 25/100\n",
      "914/914 [==============================] - 39s 43ms/step - loss: 0.4263 - accuracy: 0.8142 - val_loss: 0.4462 - val_accuracy: 0.7927\n",
      "Epoch 26/100\n",
      "914/914 [==============================] - 39s 43ms/step - loss: 0.4173 - accuracy: 0.8164 - val_loss: 0.5080 - val_accuracy: 0.7700\n",
      "Epoch 27/100\n",
      "914/914 [==============================] - 39s 42ms/step - loss: 0.4412 - accuracy: 0.7947 - val_loss: 0.5519 - val_accuracy: 0.7537\n",
      "Epoch 28/100\n",
      "914/914 [==============================] - 39s 43ms/step - loss: 0.5196 - accuracy: 0.7224 - val_loss: 0.4884 - val_accuracy: 0.7508\n",
      "Epoch 29/100\n",
      "914/914 [==============================] - 39s 43ms/step - loss: 0.4325 - accuracy: 0.8088 - val_loss: 0.4391 - val_accuracy: 0.7919\n",
      "Epoch 30/100\n",
      "914/914 [==============================] - 39s 43ms/step - loss: 0.4221 - accuracy: 0.8135 - val_loss: 0.4544 - val_accuracy: 0.7924\n",
      "Epoch 31/100\n",
      "914/914 [==============================] - 39s 43ms/step - loss: 0.4135 - accuracy: 0.8205 - val_loss: 0.4289 - val_accuracy: 0.8077\n",
      "Epoch 32/100\n",
      "914/914 [==============================] - 39s 43ms/step - loss: 0.4042 - accuracy: 0.8277 - val_loss: 0.4260 - val_accuracy: 0.8079\n",
      "Epoch 33/100\n",
      "914/914 [==============================] - 39s 42ms/step - loss: 0.4212 - accuracy: 0.8118 - val_loss: 0.4302 - val_accuracy: 0.8108\n",
      "Epoch 00033: early stopping\n"
     ]
    }
   ],
   "source": [
    "history_rnn = model_rnn.fit(X_train, y_train, \n",
    "                            epochs=epochs, \n",
    "                            batch_size=batch_size, \n",
    "                            validation_data=(X_val, y_val), \n",
    "                            callbacks=[early_stopping],  \n",
    "                            verbose=1)"
   ]
  },
  {
   "cell_type": "markdown",
   "id": "dc2e292e",
   "metadata": {},
   "source": [
    "### 1D CNN Model"
   ]
  },
  {
   "cell_type": "code",
   "execution_count": 37,
   "id": "9761fcbd",
   "metadata": {},
   "outputs": [
    {
     "name": "stdout",
     "output_type": "stream",
     "text": [
      "Epoch 1/100\n",
      "914/914 [==============================] - 65s 35ms/step - loss: 0.6940 - accuracy: 0.5010 - val_loss: 0.6931 - val_accuracy: 0.5002\n",
      "Epoch 2/100\n",
      "914/914 [==============================] - 30s 33ms/step - loss: 0.6932 - accuracy: 0.5017 - val_loss: 0.6932 - val_accuracy: 0.4998\n",
      "Epoch 3/100\n",
      "914/914 [==============================] - 30s 33ms/step - loss: 0.6932 - accuracy: 0.5018 - val_loss: 0.6932 - val_accuracy: 0.4998\n",
      "Epoch 4/100\n",
      "914/914 [==============================] - 30s 33ms/step - loss: 0.6932 - accuracy: 0.4999 - val_loss: 0.6931 - val_accuracy: 0.5002\n",
      "Epoch 5/100\n",
      "914/914 [==============================] - 30s 33ms/step - loss: 0.6932 - accuracy: 0.5006 - val_loss: 0.6932 - val_accuracy: 0.4998\n",
      "Epoch 6/100\n",
      "914/914 [==============================] - 30s 33ms/step - loss: 0.6931 - accuracy: 0.5008 - val_loss: 0.6932 - val_accuracy: 0.4998\n",
      "Epoch 7/100\n",
      "914/914 [==============================] - 30s 33ms/step - loss: 0.6932 - accuracy: 0.5003 - val_loss: 0.6932 - val_accuracy: 0.4998\n",
      "Epoch 8/100\n",
      "914/914 [==============================] - 30s 33ms/step - loss: 0.6932 - accuracy: 0.5002 - val_loss: 0.6931 - val_accuracy: 0.5002\n",
      "Epoch 9/100\n",
      "914/914 [==============================] - 30s 33ms/step - loss: 0.6932 - accuracy: 0.5022 - val_loss: 0.6932 - val_accuracy: 0.5002\n",
      "Epoch 10/100\n",
      "914/914 [==============================] - 30s 33ms/step - loss: 0.6932 - accuracy: 0.5022 - val_loss: 0.6932 - val_accuracy: 0.4998\n",
      "Epoch 11/100\n",
      "914/914 [==============================] - 30s 33ms/step - loss: 0.6931 - accuracy: 0.5019 - val_loss: 0.6931 - val_accuracy: 0.5002\n",
      "Epoch 12/100\n",
      "914/914 [==============================] - 30s 33ms/step - loss: 0.6931 - accuracy: 0.5009 - val_loss: 0.6932 - val_accuracy: 0.4998\n",
      "Epoch 13/100\n",
      "914/914 [==============================] - 30s 33ms/step - loss: 0.6932 - accuracy: 0.5014 - val_loss: 0.6932 - val_accuracy: 0.4998\n",
      "Epoch 14/100\n",
      "914/914 [==============================] - 30s 33ms/step - loss: 0.6931 - accuracy: 0.5014 - val_loss: 0.6932 - val_accuracy: 0.4998\n",
      "Epoch 15/100\n",
      "914/914 [==============================] - 30s 33ms/step - loss: 0.6931 - accuracy: 0.5016 - val_loss: 0.6931 - val_accuracy: 0.5002\n",
      "Epoch 16/100\n",
      "914/914 [==============================] - 30s 33ms/step - loss: 0.6932 - accuracy: 0.5003 - val_loss: 0.6932 - val_accuracy: 0.4998\n",
      "Epoch 17/100\n",
      "914/914 [==============================] - 30s 33ms/step - loss: 0.6932 - accuracy: 0.5015 - val_loss: 0.6932 - val_accuracy: 0.4998\n",
      "Epoch 18/100\n",
      "914/914 [==============================] - 30s 33ms/step - loss: 0.6931 - accuracy: 0.5013 - val_loss: 0.6932 - val_accuracy: 0.4998\n",
      "Epoch 00018: early stopping\n"
     ]
    }
   ],
   "source": [
    "history_cnn = model_cnn.fit(X_train, y_train, \n",
    "                            epochs=epochs, \n",
    "                            batch_size=batch_size, \n",
    "                            validation_data=(X_val, y_val), \n",
    "                            callbacks=[early_stopping],  \n",
    "                            verbose=1)"
   ]
  },
  {
   "cell_type": "markdown",
   "id": "25000c21",
   "metadata": {},
   "source": [
    "### LSTM Model"
   ]
  },
  {
   "cell_type": "code",
   "execution_count": 38,
   "id": "086568c2",
   "metadata": {},
   "outputs": [
    {
     "name": "stdout",
     "output_type": "stream",
     "text": [
      "Epoch 1/100\n",
      "914/914 [==============================] - 23s 19ms/step - loss: 0.6939 - accuracy: 0.5090 - val_loss: 0.6910 - val_accuracy: 0.5027\n",
      "Epoch 2/100\n",
      "914/914 [==============================] - 17s 19ms/step - loss: 0.4193 - accuracy: 0.7957 - val_loss: 0.3394 - val_accuracy: 0.8529\n",
      "Epoch 3/100\n",
      "914/914 [==============================] - 17s 19ms/step - loss: 0.3092 - accuracy: 0.8688 - val_loss: 0.3216 - val_accuracy: 0.8618\n",
      "Epoch 4/100\n",
      "914/914 [==============================] - 17s 19ms/step - loss: 0.2772 - accuracy: 0.8840 - val_loss: 0.3192 - val_accuracy: 0.8615\n",
      "Epoch 5/100\n",
      "914/914 [==============================] - 17s 19ms/step - loss: 0.2554 - accuracy: 0.8954 - val_loss: 0.3244 - val_accuracy: 0.8623\n",
      "Epoch 6/100\n",
      "914/914 [==============================] - 17s 19ms/step - loss: 0.2360 - accuracy: 0.9040 - val_loss: 0.3290 - val_accuracy: 0.8559\n",
      "Epoch 7/100\n",
      "914/914 [==============================] - 17s 19ms/step - loss: 0.2161 - accuracy: 0.9139 - val_loss: 0.3637 - val_accuracy: 0.8556\n",
      "Epoch 8/100\n",
      "914/914 [==============================] - 17s 19ms/step - loss: 0.1957 - accuracy: 0.9230 - val_loss: 0.3664 - val_accuracy: 0.8553\n",
      "Epoch 9/100\n",
      "914/914 [==============================] - 17s 19ms/step - loss: 0.1778 - accuracy: 0.9311 - val_loss: 0.3675 - val_accuracy: 0.8531\n",
      "Epoch 10/100\n",
      "914/914 [==============================] - 17s 19ms/step - loss: 0.1576 - accuracy: 0.9410 - val_loss: 0.4094 - val_accuracy: 0.8534\n",
      "Epoch 11/100\n",
      "914/914 [==============================] - 17s 19ms/step - loss: 0.1409 - accuracy: 0.9482 - val_loss: 0.4494 - val_accuracy: 0.8482\n",
      "Epoch 12/100\n",
      "914/914 [==============================] - 17s 19ms/step - loss: 0.1259 - accuracy: 0.9544 - val_loss: 0.4445 - val_accuracy: 0.8501\n",
      "Epoch 13/100\n",
      "914/914 [==============================] - 17s 19ms/step - loss: 0.1132 - accuracy: 0.9595 - val_loss: 0.5140 - val_accuracy: 0.8458\n",
      "Epoch 14/100\n",
      "914/914 [==============================] - 17s 19ms/step - loss: 0.1028 - accuracy: 0.9634 - val_loss: 0.5138 - val_accuracy: 0.8470\n",
      "Epoch 00014: early stopping\n"
     ]
    }
   ],
   "source": [
    "history_lstm = model_lstm.fit(X_train, y_train, \n",
    "                             epochs=epochs, \n",
    "                             batch_size=batch_size, \n",
    "                             validation_data=(X_val, y_val), \n",
    "                             callbacks=[early_stopping],  \n",
    "                             verbose=1)"
   ]
  },
  {
   "cell_type": "markdown",
   "id": "238afd5f",
   "metadata": {},
   "source": [
    "## Loss, Accuracy 그래프 시각화"
   ]
  },
  {
   "cell_type": "markdown",
   "id": "59dc74f0",
   "metadata": {},
   "source": [
    "### Simple RNN Model\n",
    "\n",
    "1. RNN 모델의 검증 정확도: 0.8004\n",
    "2. RNN 모델의 검증 정확도: 0.8281\n",
    "3. RNN 모델의 검증 정확도: 0.8197\n",
    "4. RNN 모델의 검증 정확도: 0.8326\n",
    "5. RNN 모델의 검증 정확도: 0.8144\n",
    "6. RNN 모델의 검증 정확도: 0.5055\n",
    "7. RNN 모델의 검증 정확도: 0.7994\n",
    "8. RNN 모델의 검증 정확도: 0.7949"
   ]
  },
  {
   "cell_type": "code",
   "execution_count": 39,
   "id": "1f066d55",
   "metadata": {},
   "outputs": [
    {
     "name": "stdout",
     "output_type": "stream",
     "text": [
      "914/914 [==============================] - 6s 7ms/step - loss: 0.4302 - accuracy: 0.8108\n",
      "RNN 모델의 검증 정확도: 0.8108\n"
     ]
    }
   ],
   "source": [
    "loss, accuracy = model_rnn.evaluate(X_val, y_val, verbose=1)\n",
    "print(f\"RNN 모델의 검증 정확도: {accuracy:.4f}\")"
   ]
  },
  {
   "cell_type": "markdown",
   "id": "5cfd650a",
   "metadata": {},
   "source": [
    "#### 손실(Loss) 그래프 시각화"
   ]
  },
  {
   "cell_type": "code",
   "execution_count": 40,
   "id": "786b449c",
   "metadata": {},
   "outputs": [
    {
     "data": {
      "image/png": "[encoded data removed]",
      "text/plain": [
       "<Figure size 864x288 with 1 Axes>"
      ]
     },
     "metadata": {
      "needs_background": "light"
     },
     "output_type": "display_data"
    }
   ],
   "source": [
    "plt.figure(figsize=(12, 4))\n",
    "plt.plot(history_rnn.history['loss'], label='Training Loss')\n",
    "plt.plot(history_rnn.history['val_loss'], label='Validation Loss')\n",
    "plt.title('Training and Validation Loss')\n",
    "plt.xlabel('Epoch')\n",
    "plt.ylabel('Loss')\n",
    "plt.legend()\n",
    "plt.show()"
   ]
  },
  {
   "cell_type": "markdown",
   "id": "74cd7f15",
   "metadata": {},
   "source": [
    "#### 정확도(Accuracy) 그래프 시각화"
   ]
  },
  {
   "cell_type": "code",
   "execution_count": 41,
   "id": "eb2522a3",
   "metadata": {},
   "outputs": [
    {
     "data": {
      "image/png": "[encoded data removed]",
      "text/plain": [
       "<Figure size 864x288 with 1 Axes>"
      ]
     },
     "metadata": {
      "needs_background": "light"
     },
     "output_type": "display_data"
    }
   ],
   "source": [
    "plt.figure(figsize=(12, 4))\n",
    "plt.plot(history_rnn.history['accuracy'], label='Training Accuracy')\n",
    "plt.plot(history_rnn.history['val_accuracy'], label='Validation Accuracy')\n",
    "plt.title('Training and Validation Accuracy')\n",
    "plt.xlabel('Epoch')\n",
    "plt.ylabel('Accuracy')\n",
    "plt.legend()\n",
    "plt.show()"
   ]
  },
  {
   "cell_type": "markdown",
   "id": "f3f76f81",
   "metadata": {},
   "source": [
    "### 1D CNN Model\n",
    "\n",
    "1. CNN 모델의 검증 정확도: 0.8381\n",
    "2. CNN 모델의 검증 정확도: 0.8432\n",
    "3. CNN 모델의 검증 정확도: 0.8421\n",
    "4. CNN 모델의 검증 정확도: 0.8415\n",
    "5. CNN 모델의 검증 정확도: 0.8402\n",
    "6. CNN 모델의 검증 정확도: 0.8223\n",
    "7. CNN 모델의 검증 정확도: 0.4998\n",
    "8. CNN 모델의 검증 정확도: 0.4998"
   ]
  },
  {
   "cell_type": "code",
   "execution_count": 42,
   "id": "bca8d543",
   "metadata": {},
   "outputs": [
    {
     "name": "stdout",
     "output_type": "stream",
     "text": [
      "914/914 [==============================] - 4s 4ms/step - loss: 0.6932 - accuracy: 0.4998\n",
      "CNN 모델의 검증 정확도: 0.4998\n"
     ]
    }
   ],
   "source": [
    "loss, accuracy = model_cnn.evaluate(X_val, y_val, verbose=1)\n",
    "print(f\"CNN 모델의 검증 정확도: {accuracy:.4f}\")"
   ]
  },
  {
   "cell_type": "markdown",
   "id": "ef4c67ee",
   "metadata": {},
   "source": [
    "#### 손실(Loss) 그래프 시각화"
   ]
  },
  {
   "cell_type": "code",
   "execution_count": 43,
   "id": "9ceb9d27",
   "metadata": {},
   "outputs": [
    {
     "data": {
      "image/png": "[encoded data removed]",
      "text/plain": [
       "<Figure size 864x288 with 1 Axes>"
      ]
     },
     "metadata": {
      "needs_background": "light"
     },
     "output_type": "display_data"
    }
   ],
   "source": [
    "plt.figure(figsize=(12, 4))\n",
    "plt.plot(history_cnn.history['loss'], label='Training Loss')\n",
    "plt.plot(history_cnn.history['val_loss'], label='Validation Loss')\n",
    "plt.title('Training and Validation Loss')\n",
    "plt.xlabel('Epoch')\n",
    "plt.ylabel('Loss')\n",
    "plt.legend()\n",
    "plt.show()"
   ]
  },
  {
   "cell_type": "markdown",
   "id": "aeb7690f",
   "metadata": {},
   "source": [
    "#### 정확도(Accuracy) 그래프 시각화"
   ]
  },
  {
   "cell_type": "code",
   "execution_count": 44,
   "id": "d0682657",
   "metadata": {},
   "outputs": [
    {
     "data": {
      "image/png": "[encoded data removed]",
      "text/plain": [
       "<Figure size 864x288 with 1 Axes>"
      ]
     },
     "metadata": {
      "needs_background": "light"
     },
     "output_type": "display_data"
    }
   ],
   "source": [
    "plt.figure(figsize=(12, 4))\n",
    "plt.plot(history_cnn.history['accuracy'], label='Training Accuracy')\n",
    "plt.plot(history_cnn.history['val_accuracy'], label='Validation Accuracy')\n",
    "plt.title('Training and Validation Accuracy')\n",
    "plt.xlabel('Epoch')\n",
    "plt.ylabel('Accuracy')\n",
    "plt.legend()\n",
    "plt.show()"
   ]
  },
  {
   "cell_type": "markdown",
   "id": "25711c27",
   "metadata": {},
   "source": [
    "### LSTM Model\n",
    "\n",
    "1. LSTM 모델의 검증 정확도: 0.8506\n",
    "2. LSTM 모델의 검증 정확도: 0.8463\n",
    "3. LSTM 모델의 검증 정확도: 0.8328\n",
    "4. LSTM 모델의 검증 정확도: 0.8340\n",
    "5. LSTM 모델의 검증 정확도: 0.8321\n",
    "6. LSTM 모델의 검증 정확도: 0.8406\n",
    "7. LSTM 모델의 검증 정확도: 0.8311\n",
    "8. LSTM 모델의 검증 정확도: 0.8425"
   ]
  },
  {
   "cell_type": "code",
   "execution_count": 45,
   "id": "a22e92e9",
   "metadata": {},
   "outputs": [
    {
     "name": "stdout",
     "output_type": "stream",
     "text": [
      "914/914 [==============================] - 3s 4ms/step - loss: 0.5138 - accuracy: 0.8470\n",
      "LSTM 모델의 검증 정확도: 0.8470\n"
     ]
    }
   ],
   "source": [
    "loss, accuracy = model_lstm.evaluate(X_val, y_val, verbose=1)\n",
    "print(f\"LSTM 모델의 검증 정확도: {accuracy:.4f}\")"
   ]
  },
  {
   "cell_type": "markdown",
   "id": "1b7b6612",
   "metadata": {},
   "source": [
    "#### 손실(Loss) 그래프 시각화"
   ]
  },
  {
   "cell_type": "code",
   "execution_count": 46,
   "id": "31ca2373",
   "metadata": {},
   "outputs": [
    {
     "data": {
      "text/plain": [
       "<matplotlib.legend.Legend at 0x7fe20066e730>"
      ]
     },
     "execution_count": 46,
     "metadata": {},
     "output_type": "execute_result"
    },
    {
     "data": {
      "image/png": "[encoded data removed]",
      "text/plain": [
       "<Figure size 864x288 with 1 Axes>"
      ]
     },
     "metadata": {
      "needs_background": "light"
     },
     "output_type": "display_data"
    }
   ],
   "source": [
    "plt.figure(figsize=(12, 4))\n",
    "plt.plot(history_lstm.history['loss'], label='Training Loss')\n",
    "plt.plot(history_lstm.history['val_loss'], label='Validation Loss')\n",
    "plt.title('Training and Validation Loss')\n",
    "plt.xlabel('Epoch')\n",
    "plt.ylabel('Loss')\n",
    "plt.legend()"
   ]
  },
  {
   "cell_type": "markdown",
   "id": "ecdcd34b",
   "metadata": {},
   "source": [
    "#### 정확도(Accuracy) 그래프 시각화"
   ]
  },
  {
   "cell_type": "code",
   "execution_count": 47,
   "id": "22cc62dd",
   "metadata": {},
   "outputs": [
    {
     "data": {
      "image/png": "[encoded data removed]",
      "text/plain": [
       "<Figure size 864x288 with 1 Axes>"
      ]
     },
     "metadata": {
      "needs_background": "light"
     },
     "output_type": "display_data"
    }
   ],
   "source": [
    "plt.figure(figsize=(12, 4))\n",
    "plt.plot(history_lstm.history['accuracy'], label='Training Accuracy')\n",
    "plt.plot(history_lstm.history['val_accuracy'], label='Validation Accuracy')\n",
    "plt.title('Training and Validation Accuracy')\n",
    "plt.xlabel('Epoch')\n",
    "plt.ylabel('Accuracy')\n",
    "plt.legend()\n",
    "plt.show()"
   ]
  },
  {
   "cell_type": "markdown",
   "id": "6e9ca7bc",
   "metadata": {},
   "source": [
    "### Transformer 모델"
   ]
  },
  {
   "cell_type": "code",
   "execution_count": 48,
   "id": "dde6e27f",
   "metadata": {},
   "outputs": [],
   "source": [
    "from transformers import BertTokenizer, BertForSequenceClassification, AdamW\n",
    "from transformers import get_linear_schedule_with_warmup\n",
    "from torch.utils.data import DataLoader, Dataset, RandomSampler, SequentialSampler\n",
    "import torch\n",
    "from torch.nn.utils.rnn import pad_sequence\n",
    "import numpy as np\n",
    "from sklearn.model_selection import train_test_split"
   ]
  },
  {
   "cell_type": "code",
   "execution_count": 49,
   "id": "12c06d77",
   "metadata": {},
   "outputs": [],
   "source": [
    "# 데이터셋 클래스 정의\n",
    "class NaverMovieDataset(Dataset):\n",
    "    def __init__(self, encodings, labels):\n",
    "        self.encodings = encodings\n",
    "        self.labels = labels\n",
    "\n",
    "    def __getitem__(self, idx):\n",
    "        item = {key: torch.tensor(val[idx]) for key, val in self.encodings.items()}\n",
    "        item['labels'] = torch.tensor(self.labels[idx])\n",
    "        return item\n",
    "\n",
    "    def __len__(self):\n",
    "        return len(self.labels)"
   ]
  },
  {
   "cell_type": "code",
   "execution_count": 62,
   "id": "482cbbfc",
   "metadata": {},
   "outputs": [],
   "source": [
    "# BERT 토크나이저로 문장을 토크나이징\n",
    "tokenizer = BertTokenizer.from_pretrained('bert-base-multilingual-cased')\n",
    "\n",
    "# 원본 데이터 로드\n",
    "train_data = pd.read_table('~/aiffel/sentiment_classification/data/ratings_train.txt')\n",
    "test_data = pd.read_table('~/aiffel/sentiment_classification/data/ratings_test.txt')\n",
    "\n",
    "# 'document' 열에서 리뷰 텍스트 추출\n",
    "X_train_texts = train_data['document'].astype(str).tolist()\n",
    "X_test_texts = test_data['document'].astype(str).tolist()\n",
    "\n",
    "# 토크나이징 및 데이터셋 준비\n",
    "train_encodings = tokenizer(X_train_texts, truncation=True, padding=True, max_length=128, return_tensors=\"pt\")\n",
    "test_encodings = tokenizer(X_test_texts, truncation=True, padding=True, max_length=128, return_tensors=\"pt\")\n",
    "\n",
    "train_dataset = NaverMovieDataset(train_encodings, y_train)\n",
    "test_dataset = NaverMovieDataset(test_encodings, y_test)"
   ]
  },
  {
   "cell_type": "code",
   "execution_count": 63,
   "id": "25a44508",
   "metadata": {},
   "outputs": [],
   "source": [
    "# DataLoader 준비\n",
    "train_loader = DataLoader(train_dataset, batch_size=16, shuffle=True)\n",
    "test_loader = DataLoader(test_dataset, batch_size=16, shuffle=False)"
   ]
  },
  {
   "cell_type": "code",
   "execution_count": 64,
   "id": "e5c1e00b",
   "metadata": {},
   "outputs": [
    {
     "name": "stderr",
     "output_type": "stream",
     "text": [
      "Some weights of the model checkpoint at bert-base-multilingual-cased were not used when initializing BertForSequenceClassification: ['cls.predictions.bias', 'cls.seq_relationship.bias', 'cls.seq_relationship.weight', 'cls.predictions.decoder.weight', 'cls.predictions.transform.LayerNorm.bias', 'cls.predictions.transform.dense.weight', 'cls.predictions.transform.dense.bias', 'cls.predictions.transform.LayerNorm.weight']\n",
      "- This IS expected if you are initializing BertForSequenceClassification from the checkpoint of a model trained on another task or with another architecture (e.g. initializing a BertForSequenceClassification model from a BertForPreTraining model).\n",
      "- This IS NOT expected if you are initializing BertForSequenceClassification from the checkpoint of a model that you expect to be exactly identical (initializing a BertForSequenceClassification model from a BertForSequenceClassification model).\n",
      "Some weights of BertForSequenceClassification were not initialized from the model checkpoint at bert-base-multilingual-cased and are newly initialized: ['classifier.weight', 'classifier.bias']\n",
      "You should probably TRAIN this model on a down-stream task to be able to use it for predictions and inference.\n"
     ]
    }
   ],
   "source": [
    "# BERT 모델 로딩\n",
    "device = torch.device(\"cuda\" if torch.cuda.is_available() else \"cpu\")\n",
    "\n",
    "# device\n",
    "model = BertForSequenceClassification.from_pretrained('bert-base-multilingual-cased', num_labels=2)\n",
    "model.to(device)\n",
    "\n",
    "# 옵티마이저 설정\n",
    "optimizer = AdamW(model.parameters(), lr=2e-5)"
   ]
  },
  {
   "cell_type": "code",
   "execution_count": null,
   "id": "5ed1cb35",
   "metadata": {},
   "outputs": [
    {
     "name": "stderr",
     "output_type": "stream",
     "text": [
      "/tmp/ipykernel_54/2822846658.py:8: UserWarning: To copy construct from a tensor, it is recommended to use sourceTensor.clone().detach() or sourceTensor.clone().detach().requires_grad_(True), rather than torch.tensor(sourceTensor).\n",
      "  item = {key: torch.tensor(val[idx]) for key, val in self.encodings.items()}\n"
     ]
    }
   ],
   "source": [
    "# 훈련 루프\n",
    "model.train()\n",
    "for epoch in range(10):  # 에폭 진행\n",
    "    for batch in train_loader:\n",
    "        optimizer.zero_grad()\n",
    "        input_ids = batch['input_ids'].to(device)\n",
    "        attention_mask = batch['attention_mask'].to(device)\n",
    "        labels = batch['labels'].to(device)\n",
    "        outputs = model(input_ids, attention_mask=attention_mask, labels=labels)\n",
    "        loss = outputs.loss\n",
    "        loss.backward()\n",
    "        optimizer.step()"
   ]
  },
  {
   "cell_type": "code",
   "execution_count": null,
   "id": "40ccafc2",
   "metadata": {},
   "outputs": [],
   "source": [
    "from sklearn.metrics import accuracy_score\n",
    "\n",
    "# 평가 모드로 전환\n",
    "model.eval()\n",
    "\n",
    "# 정확도 계산을 위한 변수 초기화\n",
    "total_eval_accuracy = 0\n",
    "\n",
    "# 평가 루프 시작\n",
    "for batch in test_loader:\n",
    "    input_ids = batch['input_ids'].to(device)\n",
    "    attention_mask = batch['attention_mask'].to(device)\n",
    "    labels = batch['labels'].to(device)\n",
    "    \n",
    "    # 기울기 계산 없이 예측\n",
    "    with torch.no_grad():\n",
    "        outputs = model(input_ids, attention_mask=attention_mask)\n",
    "    \n",
    "    logits = outputs.logits\n",
    "    \n",
    "    # CPU로 데이터 이동\n",
    "    logits = logits.detach().cpu().numpy()\n",
    "    label_ids = labels.to('cpu').numpy()\n",
    "    \n",
    "    # 배치 내 정확도 계산\n",
    "    batch_accuracy = accuracy_score(np.argmax(logits, axis=1).flatten(), label_ids.flatten())\n",
    "    \n",
    "    # 총 정확도 업데이트\n",
    "    total_eval_accuracy += batch_accuracy\n",
    "\n",
    "# 전체 정확도 계산\n",
    "avg_test_accuracy = total_eval_accuracy / len(test_loader)\n",
    "print(f\"Test set accuracy: {avg_test_accuracy:.4f}\")"
   ]
  },
  {
   "cell_type": "markdown",
   "id": "b0358cd1",
   "metadata": {},
   "source": [
    "## 학습된 Embedding 레이어 분석"
   ]
  },
  {
   "cell_type": "markdown",
   "id": "327cd238",
   "metadata": {},
   "source": [
    "### Simple RNN Model"
   ]
  },
  {
   "cell_type": "code",
   "execution_count": 51,
   "id": "cb94562a",
   "metadata": {},
   "outputs": [
    {
     "name": "stdout",
     "output_type": "stream",
     "text": [
      "(10002, 100)\n"
     ]
    }
   ],
   "source": [
    "embedding_layer = model_rnn.layers[0]\n",
    "weights = embedding_layer.get_weights()[0]\n",
    "print(weights.shape)    # shape: (vocab_size, embedding_dim)"
   ]
  },
  {
   "cell_type": "code",
   "execution_count": 52,
   "id": "c00cb3e3",
   "metadata": {},
   "outputs": [],
   "source": [
    "import os\n",
    "\n",
    "word2vec_file_path = os.getenv('HOME')+'/aiffel/Sentiment_Analysis/word2vec_rnn.txt'\n",
    "with open(word2vec_file_path, 'w') as f:\n",
    "    f.write(f'{vocab_size-4} {word_vector_dim}\\n')  # 파일 첫 줄에 단어 개수와 벡터의 차원 수 기록\n",
    "\n",
    "    vectors = model_rnn.get_weights()[0]\n",
    "    for i in range(4, vocab_size):  # 특수 문자 제외\n",
    "        if i in index_to_word:      # index_to_word에 i가 있을 때만 실행\n",
    "            f.write(f'{index_to_word[i]} {\" \".join(map(str, list(vectors[i, :])))}\\n')"
   ]
  },
  {
   "cell_type": "markdown",
   "id": "a5a09ead",
   "metadata": {},
   "source": [
    "### 1D CNN Model"
   ]
  },
  {
   "cell_type": "code",
   "execution_count": 53,
   "id": "cff3c6dd",
   "metadata": {},
   "outputs": [
    {
     "name": "stdout",
     "output_type": "stream",
     "text": [
      "(10002, 100)\n"
     ]
    }
   ],
   "source": [
    "embedding_layer = model_cnn.layers[0]\n",
    "weights = embedding_layer.get_weights()[0]\n",
    "print(weights.shape)    # shape: (vocab_size, embedding_dim)"
   ]
  },
  {
   "cell_type": "code",
   "execution_count": 54,
   "id": "f4eef108",
   "metadata": {},
   "outputs": [],
   "source": [
    "word2vec_file_path = os.getenv('HOME')+'/aiffel/Sentiment_Analysis/word2vec_cnn.txt'\n",
    "with open(word2vec_file_path, 'w') as f:\n",
    "    f.write(f'{vocab_size-4} {word_vector_dim}\\n')  # 파일 첫 줄에 단어 개수와 벡터의 차원 수 기록\n",
    "\n",
    "    vectors = model_rnn.get_weights()[0]\n",
    "    for i in range(4, vocab_size):  # 특수 문자 제외\n",
    "        if i in index_to_word:      # index_to_word에 i가 있을 때만 실행\n",
    "            f.write(f'{index_to_word[i]} {\" \".join(map(str, list(vectors[i, :])))}\\n')"
   ]
  },
  {
   "cell_type": "markdown",
   "id": "1048fe99",
   "metadata": {},
   "source": [
    "### LSTM Model"
   ]
  },
  {
   "cell_type": "code",
   "execution_count": 55,
   "id": "1e0bb43e",
   "metadata": {},
   "outputs": [
    {
     "name": "stdout",
     "output_type": "stream",
     "text": [
      "(10002, 100)\n"
     ]
    }
   ],
   "source": [
    "embedding_layer = model_lstm.layers[0]\n",
    "weights = embedding_layer.get_weights()[0]\n",
    "print(weights.shape)    # shape: (vocab_size, embedding_dim)"
   ]
  },
  {
   "cell_type": "code",
   "execution_count": 56,
   "id": "32fd0409",
   "metadata": {},
   "outputs": [],
   "source": [
    "word2vec_file_path = os.getenv('HOME')+'/aiffel/Sentiment_Analysis/word2vec_lstm.txt'\n",
    "with open(word2vec_file_path, 'w') as f:\n",
    "    f.write(f'{vocab_size-4} {word_vector_dim}\\n')  # 파일 첫 줄에 단어 개수와 벡터의 차원 수 기록\n",
    "\n",
    "    vectors = model_rnn.get_weights()[0]\n",
    "    for i in range(4, vocab_size):  # 특수 문자 제외\n",
    "        if i in index_to_word:      # index_to_word에 i가 있을 때만 실행\n",
    "            f.write(f'{index_to_word[i]} {\" \".join(map(str, list(vectors[i, :])))}\\n')"
   ]
  },
  {
   "cell_type": "markdown",
   "id": "82fa6a83",
   "metadata": {},
   "source": [
    "## 한국어 Word2Vec 임베딩 활용하여 성능 개선\n",
    "- 한국어 Word2Vec은 /data 폴더 안에 있는 word2vec_ko.model을 활용한다.\n",
    "- 한국어 Word2Vec을 활용할 때는 load_word2vec_format() 형태가 아닌 load() 형태로 모델을 불러온다. \n",
    "    - 또한 모델을 활용할 때에는 아래 예시와 같이 .wv를 붙여서 활용한다. \n",
    "    - 좀더 자세한 활용법에 대해선 다음 링크들을 참조\n",
    "        - [링크1](https://radimrehurek.com/gensim/auto_examples/tutorials/run_word2vec.html#storing-and-loading-models)\n",
    "        - [링크2](https://radimrehurek.com/gensim/models/keyedvectors.html)\n",
    "\n",
    "```Python\n",
    "# 예시코드\n",
    "from gensim.models.keyedvectors import Word2VecKeyedVectors\n",
    "word_vectors = Word2VecKeyedVectors.load(word2vec_file_path)\n",
    "vector = word_vectors.wv[‘끝’]\n",
    "```"
   ]
  },
  {
   "cell_type": "code",
   "execution_count": 57,
   "id": "a50a3293",
   "metadata": {},
   "outputs": [],
   "source": [
    "from gensim.models.keyedvectors import Word2VecKeyedVectors\n",
    "\n",
    "word2vec_file_path = os.getenv('HOME')+'/data/word2vec_ko.model'\n",
    "word_vectors = Word2VecKeyedVectors.load(word2vec_file_path)\n",
    "vector = word_vectors.wv['영화']"
   ]
  },
  {
   "cell_type": "code",
   "execution_count": 58,
   "id": "c1e4c05c",
   "metadata": {},
   "outputs": [
    {
     "data": {
      "text/plain": [
       "array([-1.8007389 , -1.1790098 , -2.4066596 ,  2.1384156 , -0.3537603 ,\n",
       "        1.3749527 , -4.894612  , -3.6517198 ,  0.4411444 ,  0.78153926,\n",
       "       -2.696888  , -1.7812852 , -2.1514654 , -4.813236  ,  2.7465918 ,\n",
       "       -2.1620324 , -0.11467794, -1.2431171 ,  2.3979309 , -1.1060628 ,\n",
       "       -0.41043055,  1.9500391 ,  0.7821002 ,  1.5899978 ,  1.6447444 ,\n",
       "       -2.1265035 , -1.7981595 ,  1.7535795 ,  0.53717697, -1.212121  ,\n",
       "       -4.466316  ,  4.5488324 ,  1.334441  , -0.9070271 ,  1.1931889 ,\n",
       "        4.1563215 ,  1.9758307 , -0.9437562 , -0.2592725 ,  0.34935686,\n",
       "        1.8562875 , -3.3249645 ,  1.1221625 ,  1.2836524 ,  3.9211376 ,\n",
       "        3.8023994 ,  2.766269  ,  0.67293745,  2.2853644 , -5.1131716 ,\n",
       "        0.32525915, -3.3079958 ,  5.3043513 , -3.8813758 , -0.32960036,\n",
       "       -1.9527504 ,  3.8865075 , -3.5470378 , -0.21991685,  0.82119733,\n",
       "       -0.9492492 ,  3.5472107 ,  1.322048  , -0.70640826,  0.52253807,\n",
       "        1.4683235 , -1.1018689 ,  2.262941  , -0.7204685 , -1.766201  ,\n",
       "        5.2237577 ,  3.0748682 ,  1.0977576 ,  3.3191733 , -0.4100423 ,\n",
       "       -1.7022891 , -0.78379875,  0.82586575, -0.54520637,  1.2355382 ,\n",
       "        2.02674   , -0.652447  ,  1.0866054 ,  0.8977641 ,  0.7928342 ,\n",
       "        3.7770627 ,  3.0274863 ,  5.1660023 ,  2.6461644 ,  2.8926868 ,\n",
       "        1.970944  , -3.3746543 , -5.2656593 , -1.1041485 ,  2.357547  ,\n",
       "       -2.3570824 , -4.8172383 ,  3.7290223 ,  4.62329   ,  1.5004613 ],\n",
       "      dtype=float32)"
      ]
     },
     "execution_count": 58,
     "metadata": {},
     "output_type": "execute_result"
    }
   ],
   "source": [
    "vector"
   ]
  },
  {
   "cell_type": "markdown",
   "id": "17e3f6bd",
   "metadata": {},
   "source": [
    "## 회고\n",
    "\n",
    "프로젝트를 통해 직면했던 어려움과 이를 극복한 경험은 크게 두 가지로 요약할 수 있다.   \n",
    "첫 번째로, 데이터 전처리 과정의 복잡성이 있었다. 다양한 전처리 기법을 적용하며 가장 효과적인 조합을 찾기 위해 많은 시간과 노력이 필요했다.   \n",
    "이 과정에서 실험을 반복하며 최적의 전처리 방법을 찾아내었고, 이는 모델의 성능 향상에 큰 기여를 했다.\n",
    "\n",
    "두 번째로, 모델 성능의 한계에 부딪혔다. 초기 모델들의 성능이 기대에 못 미쳐, 이를 개선하기 위한 방법을 모색했다.   \n",
    "사전 훈련된 Word2Vec 임베딩의 적용과 함께 모델의 하이퍼파라미터를 조정함으로써, 성능을 상당히 개선할 수 있었다.\n",
    "\n",
    "이 과정에서 배운 점은 다양하다.   \n",
    "먼저, 자연어 처리에서의 데이터 전처리 기법의 중요성을 깨달았다. 적절한 데이터 전처리는 모델의 성능을 극대화하는 데 필수적이다. \n",
    "또한, 다양한 딥러닝 모델의 아키텍처와 각각의 장단점에 대한 이해도 깊어졌다.  \n",
    "마지막으로, 사전 훈련된 임베딩의 활용 방법과 그 효과에 대해서도 학습할 수 있었습니다. 이는 향후 다른 자연어 처리 프로젝트에 큰 도움이 될 것이다.\n",
    "\n",
    "향후 계획으로는 모델의 성능을 더욱 향상시킬 수 있는 방법을 탐색하고, 더 많은 데이터와 복잡한 모델 구조를 실험해보고자 한다.  \n",
    "특히, BERT와 같은 최신 NLP 모델을 학습하고 프로젝트에 적용해보는 것이 목표다.  \n",
    "이 프로젝트를 통해 자연어 처리와 딥러닝에 대한 실전 경험을 쌓을 수 있었으며, 이론과 실습을 통해 얻은 지식을 실제 문제에 적용해볼 수 있었다.   \n",
    "앞으로도 계속해서 지식을 확장하고 새로운 도전을 해나갈 계획이다."
   ]
  }
 ],
 "metadata": {
  "kernelspec": {
   "display_name": "Python 3 (ipykernel)",
   "language": "python",
   "name": "python3"
  },
  "language_info": {
   "codemirror_mode": {
    "name": "ipython",
    "version": 3
   },
   "file_extension": ".py",
   "mimetype": "text/x-python",
   "name": "python",
   "nbconvert_exporter": "python",
   "pygments_lexer": "ipython3",
   "version": "3.9.7"
  }
 },
 "nbformat": 4,
 "nbformat_minor": 5
}
