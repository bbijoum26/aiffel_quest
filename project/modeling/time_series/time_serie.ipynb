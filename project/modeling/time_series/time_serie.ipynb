{
 "cells": [
  {
   "cell_type": "markdown",
   "metadata": {},
   "source": [
    "# 미니 프로젝트: 시계열 분류\n",
    "\n",
    "- 미니프로젝트의 목표!  \n",
    "    1. 비정상 데이터를 정상 데이터로 만들기\n",
    "    2. 강의에 활용되었던 분류 모델의 성능을 높이기\n",
    "\n",
    "\n",
    "- 용어 설명\n",
    "    - 정규 분포(Normal distribution) : 확률 분포의 한 종류로, 대칭인 종모양의 형태를 지니고 있다.\n",
    "        - 평균과 중앙값이 같으며 분포의 중앙에 있다. \n",
    "        - 데이터의 분포를 근사하는데 사용할 수 있다.\n",
    "    - 로그함수(Log function) : 지수함수의 역함수\n",
    "        - 지수함수 : $y = a^x$ 의 형태로 거듭제곱으로 증가하는 함수\n",
    "        - 로그함수 : $y = log_a X$\n",
    "    - 왜도(Skewness) : 분포가 정규분포에 비해서 얾마나 비대칭인지 나타내는 척도\n",
    "        - 양(+)의 값을 가지면, Data의 중심(평균)이 정규 분포보다 왼쪽으로 치우쳐져 있고, 꼬리는 오른쪽으로 길어지게 표현된다.\n",
    "        - 정규분포는 종모양의 대칭인 형태를 보이며 왜도는 0 이다.\n",
    "    - 첨도(Kurtosis) : 종모양의 대칭인 정규 분포에서 중앙부분이 높아지거나 낮아지는 형태에 대한 통계량\n",
    "        - 확률분포의 꼬리가두꺼운 정도를 나타내는 척도이며 극단적인 편차 또는 이상치가 많을 수록 큰 값을 나타낸다.\n",
    "    - 배깅(bagging) :합습 데이터셋에서 샘픙르 랜덤하게 추출하여 하나의 모델을 학습\n",
    "        - 부트스트랩(Boostrap) : 샘플을 여러개 추출한 것\n",
    "        - Aggregration : 부트스트랩을 각 모델에 학습시켜서 나온 결과값을 합친 것\n",
    "    - 부스팅(boosting) : 여러개의 결정 트리가 각각 예측한 값을 합쳐서 최종 결과값을 예측하는 방식\n",
    "    - 앙상블(ensemble) : 하나의 강력한 모델이 아닌 약한 모델 여러 개를 합쳐서 사용하는 방식\n",
    "    - RandomForest : 결정트리에서 Overfitting을 보완하기 위해 Bagging 방식을 적용한 것\n",
    "    - XGBoost : Boosting 방식으로 적용한 Gradient Boost 모델\n",
    "    - 특성 중요도(Featue importance): feature들 중에서 정답에 영향을 미치는 중요한 feature를 확인할 수 있는 기능"
   ]
  },
  {
   "cell_type": "markdown",
   "metadata": {},
   "source": [
    "## 비정상 데이터를 정상 데이터로 만들기"
   ]
  },
  {
   "cell_type": "markdown",
   "metadata": {},
   "source": [
    "### tsfresh 설치"
   ]
  },
  {
   "cell_type": "code",
   "execution_count": 1,
   "metadata": {
    "scrolled": true
   },
   "outputs": [
    {
     "name": "stdout",
     "output_type": "stream",
     "text": [
      "Requirement already satisfied: tsfresh in /opt/conda/lib/python3.9/site-packages (0.20.2)\n",
      "Requirement already satisfied: requests>=2.9.1 in /opt/conda/lib/python3.9/site-packages (from tsfresh) (2.26.0)\n",
      "Requirement already satisfied: scipy>=1.2.0 in /opt/conda/lib/python3.9/site-packages (from tsfresh) (1.7.1)\n",
      "Requirement already satisfied: scikit-learn>=0.22.0 in /opt/conda/lib/python3.9/site-packages (from tsfresh) (1.0)\n",
      "Requirement already satisfied: cloudpickle in /opt/conda/lib/python3.9/site-packages (from tsfresh) (2.0.0)\n",
      "Requirement already satisfied: statsmodels>=0.13 in /opt/conda/lib/python3.9/site-packages (from tsfresh) (0.13.0)\n",
      "Requirement already satisfied: numpy>=1.15.1 in /opt/conda/lib/python3.9/site-packages (from tsfresh) (1.22.2)\n",
      "Requirement already satisfied: patsy>=0.4.1 in /opt/conda/lib/python3.9/site-packages (from tsfresh) (0.5.2)\n",
      "Requirement already satisfied: tqdm>=4.10.0 in /opt/conda/lib/python3.9/site-packages (from tsfresh) (4.62.3)\n",
      "Requirement already satisfied: stumpy>=1.7.2 in /opt/conda/lib/python3.9/site-packages (from tsfresh) (1.12.0)\n",
      "Requirement already satisfied: pandas>=0.25.0 in /opt/conda/lib/python3.9/site-packages (from tsfresh) (1.3.3)\n",
      "Requirement already satisfied: pytz>=2017.3 in /opt/conda/lib/python3.9/site-packages (from pandas>=0.25.0->tsfresh) (2021.3)\n",
      "Requirement already satisfied: python-dateutil>=2.7.3 in /opt/conda/lib/python3.9/site-packages (from pandas>=0.25.0->tsfresh) (2.8.2)\n",
      "Requirement already satisfied: six in /opt/conda/lib/python3.9/site-packages (from patsy>=0.4.1->tsfresh) (1.16.0)\n",
      "Requirement already satisfied: certifi>=2017.4.17 in /opt/conda/lib/python3.9/site-packages (from requests>=2.9.1->tsfresh) (2021.10.8)\n",
      "Requirement already satisfied: idna<4,>=2.5 in /opt/conda/lib/python3.9/site-packages (from requests>=2.9.1->tsfresh) (2.10)\n",
      "Requirement already satisfied: charset-normalizer~=2.0.0 in /opt/conda/lib/python3.9/site-packages (from requests>=2.9.1->tsfresh) (2.0.12)\n",
      "Requirement already satisfied: urllib3<1.27,>=1.21.1 in /opt/conda/lib/python3.9/site-packages (from requests>=2.9.1->tsfresh) (1.26.7)\n",
      "Requirement already satisfied: joblib>=0.11 in /opt/conda/lib/python3.9/site-packages (from scikit-learn>=0.22.0->tsfresh) (1.1.0)\n",
      "Requirement already satisfied: threadpoolctl>=2.0.0 in /opt/conda/lib/python3.9/site-packages (from scikit-learn>=0.22.0->tsfresh) (3.1.0)\n",
      "Requirement already satisfied: numba>=0.55.2 in /opt/conda/lib/python3.9/site-packages (from stumpy>=1.7.2->tsfresh) (0.59.0)\n",
      "Requirement already satisfied: llvmlite<0.43,>=0.42.0dev0 in /opt/conda/lib/python3.9/site-packages (from numba>=0.55.2->stumpy>=1.7.2->tsfresh) (0.42.0)\n",
      "\u001b[33mWARNING: Running pip as the 'root' user can result in broken permissions and conflicting behaviour with the system package manager. It is recommended to use a virtual environment instead: https://pip.pypa.io/warnings/venv\u001b[0m\u001b[33m\n",
      "\u001b[0m"
     ]
    }
   ],
   "source": [
    "!pip install tsfresh"
   ]
  },
  {
   "cell_type": "code",
   "execution_count": null,
   "metadata": {},
   "outputs": [],
   "source": [
    "# 라이브러리 버전 충돌을 피하기 위해 런타임을 재시작합니다.\n",
    "import os\n",
    "os.kill(os.getpid(), 9)"
   ]
  },
  {
   "cell_type": "markdown",
   "metadata": {},
   "source": [
    "### 필요한 라이브러리 불러오기"
   ]
  },
  {
   "cell_type": "code",
   "execution_count": 1,
   "metadata": {},
   "outputs": [],
   "source": [
    "import pandas as pd\n",
    "import numpy as np\n",
    "import matplotlib.pyplot as plt\n",
    "import seaborn as sns"
   ]
  },
  {
   "cell_type": "markdown",
   "metadata": {},
   "source": [
    "### 데이터 불러오기"
   ]
  },
  {
   "cell_type": "code",
   "execution_count": 2,
   "metadata": {},
   "outputs": [
    {
     "data": {
      "text/html": [
       "<div>\n",
       "<style scoped>\n",
       "    .dataframe tbody tr th:only-of-type {\n",
       "        vertical-align: middle;\n",
       "    }\n",
       "\n",
       "    .dataframe tbody tr th {\n",
       "        vertical-align: top;\n",
       "    }\n",
       "\n",
       "    .dataframe thead th {\n",
       "        text-align: right;\n",
       "    }\n",
       "</style>\n",
       "<table border=\"1\" class=\"dataframe\">\n",
       "  <thead>\n",
       "    <tr style=\"text-align: right;\">\n",
       "      <th></th>\n",
       "      <th>Month</th>\n",
       "      <th>#Passengers</th>\n",
       "    </tr>\n",
       "  </thead>\n",
       "  <tbody>\n",
       "    <tr>\n",
       "      <th>0</th>\n",
       "      <td>1949-01</td>\n",
       "      <td>112</td>\n",
       "    </tr>\n",
       "    <tr>\n",
       "      <th>1</th>\n",
       "      <td>1949-02</td>\n",
       "      <td>118</td>\n",
       "    </tr>\n",
       "    <tr>\n",
       "      <th>2</th>\n",
       "      <td>1949-03</td>\n",
       "      <td>132</td>\n",
       "    </tr>\n",
       "    <tr>\n",
       "      <th>3</th>\n",
       "      <td>1949-04</td>\n",
       "      <td>129</td>\n",
       "    </tr>\n",
       "    <tr>\n",
       "      <th>4</th>\n",
       "      <td>1949-05</td>\n",
       "      <td>121</td>\n",
       "    </tr>\n",
       "  </tbody>\n",
       "</table>\n",
       "</div>"
      ],
      "text/plain": [
       "     Month  #Passengers\n",
       "0  1949-01          112\n",
       "1  1949-02          118\n",
       "2  1949-03          132\n",
       "3  1949-04          129\n",
       "4  1949-05          121"
      ]
     },
     "execution_count": 2,
     "metadata": {},
     "output_type": "execute_result"
    }
   ],
   "source": [
    "ap = pd.read_csv('AirPassengers.csv')\n",
    "ap.head()"
   ]
  },
  {
   "cell_type": "markdown",
   "metadata": {},
   "source": [
    "#### Month 칼럼 삭제"
   ]
  },
  {
   "cell_type": "code",
   "execution_count": 3,
   "metadata": {},
   "outputs": [
    {
     "data": {
      "text/html": [
       "<div>\n",
       "<style scoped>\n",
       "    .dataframe tbody tr th:only-of-type {\n",
       "        vertical-align: middle;\n",
       "    }\n",
       "\n",
       "    .dataframe tbody tr th {\n",
       "        vertical-align: top;\n",
       "    }\n",
       "\n",
       "    .dataframe thead th {\n",
       "        text-align: right;\n",
       "    }\n",
       "</style>\n",
       "<table border=\"1\" class=\"dataframe\">\n",
       "  <thead>\n",
       "    <tr style=\"text-align: right;\">\n",
       "      <th></th>\n",
       "      <th>#Passengers</th>\n",
       "    </tr>\n",
       "  </thead>\n",
       "  <tbody>\n",
       "    <tr>\n",
       "      <th>0</th>\n",
       "      <td>112</td>\n",
       "    </tr>\n",
       "    <tr>\n",
       "      <th>1</th>\n",
       "      <td>118</td>\n",
       "    </tr>\n",
       "    <tr>\n",
       "      <th>2</th>\n",
       "      <td>132</td>\n",
       "    </tr>\n",
       "    <tr>\n",
       "      <th>3</th>\n",
       "      <td>129</td>\n",
       "    </tr>\n",
       "    <tr>\n",
       "      <th>4</th>\n",
       "      <td>121</td>\n",
       "    </tr>\n",
       "  </tbody>\n",
       "</table>\n",
       "</div>"
      ],
      "text/plain": [
       "   #Passengers\n",
       "0          112\n",
       "1          118\n",
       "2          132\n",
       "3          129\n",
       "4          121"
      ]
     },
     "execution_count": 3,
     "metadata": {},
     "output_type": "execute_result"
    }
   ],
   "source": [
    "ap.drop(columns='Month', inplace=True)\n",
    "ap.head()"
   ]
  },
  {
   "cell_type": "code",
   "execution_count": 4,
   "metadata": {},
   "outputs": [
    {
     "data": {
      "image/png": "[encoded data removed]",
      "text/plain": [
       "<Figure size 720x432 with 1 Axes>"
      ]
     },
     "metadata": {
      "needs_background": "light"
     },
     "output_type": "display_data"
    }
   ],
   "source": [
    "plt.figure(figsize=(10, 6))\n",
    "plt.plot(ap)\n",
    "plt.title('Original AirPassengers Data')\n",
    "plt.xlabel('Index')\n",
    "plt.ylabel('Passengers')\n",
    "plt.legend(ap.columns)\n",
    "plt.grid(True)\n",
    "plt.show()"
   ]
  },
  {
   "cell_type": "markdown",
   "metadata": {},
   "source": [
    "## 비정상 데이터 확인"
   ]
  },
  {
   "cell_type": "markdown",
   "metadata": {},
   "source": [
    "### 단위근 검정"
   ]
  },
  {
   "cell_type": "code",
   "execution_count": 61,
   "metadata": {},
   "outputs": [
    {
     "name": "stdout",
     "output_type": "stream",
     "text": [
      "ADF Test Statistic: 0.8153688792060498\n",
      "p-value: 0.991880243437641\n"
     ]
    }
   ],
   "source": [
    "from statsmodels.tsa.stattools import adfuller, kpss, acf, pacf\n",
    "\n",
    "adf_result = adfuller(ap)\n",
    "print('ADF Test Statistic:', adf_result[0])\n",
    "print('p-value:', adf_result[1])"
   ]
  },
  {
   "cell_type": "markdown",
   "metadata": {},
   "source": [
    "- 해석\n",
    "    - p-값이 0.991880243437641\n",
    "        - 0.05보다 크므로 시계열 데이터 ap에 단위근이 존재한다고 결론지을 수 있다.\n",
    "    - 즉, 시계열 데이터 ap의 값은 시간에 따라 일정한 패턴 없이 변동하고 있으며, 예측하기 어려울 수 있다.\n",
    "\n",
    "- 추가적인 분석\n",
    "    - 단위근을 제거하기 위해 차분 (differencing)과 같은 방법을 사용할 수 있다.\n",
    "        - 차분: 시계열 데이터의 현재 값에서 이전 값을 뺀 값을 사용하는 방법\n",
    "    - 차분을 적용한 후 다시 ADF 검정을 수행하여 단위근이 제거되었는지 확인할 수 있다."
   ]
  },
  {
   "cell_type": "markdown",
   "metadata": {},
   "source": [
    "### KPSS 검정"
   ]
  },
  {
   "cell_type": "code",
   "execution_count": 62,
   "metadata": {},
   "outputs": [
    {
     "name": "stdout",
     "output_type": "stream",
     "text": [
      "KPSS Test Statistic: 1.6513122354165206\n",
      "p-value: 0.01\n"
     ]
    },
    {
     "name": "stderr",
     "output_type": "stream",
     "text": [
      "/opt/conda/lib/python3.9/site-packages/statsmodels/tsa/stattools.py:1998: InterpolationWarning: The test statistic is outside of the range of p-values available in the\n",
      "look-up table. The actual p-value is smaller than the p-value returned.\n",
      "\n",
      "  warnings.warn(\n"
     ]
    }
   ],
   "source": [
    "kpss_result = kpss(ap)\n",
    "print('KPSS Test Statistic:', kpss_result[0])\n",
    "print('p-value:', kpss_result[1])"
   ]
  },
  {
   "cell_type": "markdown",
   "metadata": {},
   "source": [
    "- 해석\n",
    "    - KPSS 검정: 시계열 데이터가 정상 과정 (stationary process)인지 검정하는 통계 검정 방법\n",
    "    - p-value 유의수준 (일반적으로 0.05)보다 작으면 시계열 데이터가 정상 과정이 아니다고 판단할 수 있다.\n",
    "\n",
    "- 이 경우의 해석:\n",
    "    - p-value: 0.01\n",
    "        - 0.05보다 작으므로 시계열 데이터 ap이 정상 과정이 아니다고 결론지을 수 있다.\n",
    "        - 즉, 시계열 데이터 ap에는 단위근이나 추세, 계절성 등의 비정상성이 존재할 수 있다."
   ]
  },
  {
   "cell_type": "markdown",
   "metadata": {},
   "source": [
    "### 자기상관 검정"
   ]
  },
  {
   "cell_type": "code",
   "execution_count": 74,
   "metadata": {},
   "outputs": [
    {
     "name": "stdout",
     "output_type": "stream",
     "text": [
      "ACF(AutoCorrelation Function) : [1.         0.94804734 0.87557484 0.80668116 0.75262542 0.71376997\n",
      " 0.6817336  0.66290439 0.65561048 0.67094833 0.70271992 0.74324019\n",
      " 0.76039504 0.71266087 0.64634228 0.58592342 0.53795519 0.49974753\n",
      " 0.46873401 0.44987066 0.4416288  0.45722376]\n",
      "PACF(Partial AutoCorrelation Function) : [ 1.          0.95467704 -0.26527732  0.05546955  0.10885622  0.08112579\n",
      "  0.00412541  0.15616955  0.10370833  0.28878144  0.20691805  0.2411297\n",
      " -0.15800498 -0.7183246  -0.08948064  0.22160591  0.13462253  0.11561572\n",
      "  0.1948294   0.09665618 -0.20215868 -0.0936381 ]\n"
     ]
    }
   ],
   "source": [
    "acf_result = acf(ap)\n",
    "pacf_result = pacf(ap)\n",
    "\n",
    "print(f'ACF(AutoCorrelation Function) : {acf_result}')\n",
    "print(f'PACF(Partial AutoCorrelation Function) : {pacf_result}')"
   ]
  },
  {
   "cell_type": "markdown",
   "metadata": {},
   "source": [
    "- ACF(Autocorrelation Function)\n",
    "    - ACF 결과: 시계열 데이터의 현재 값과 이전 값 간의 상관 관계\n",
    "    - 출력된 값들은 지연 (lag)에 따른 상관 계수\n",
    "        - 예를 들어 ACF[1]은 현재 값과 1개 이전 값 간의 상관 계수\n",
    "    - 일반적으로 지연이 늘어날수록 상관 계수는 0에 가까워지는 것이 일반적\n",
    "\n",
    "- PACF(Partial Autocorrelation Function)\n",
    "    - PACF 결과: 현재 값과 이전 값 간의 직접적인 상관 관계\n",
    "        - 이전 값들의 영향을 제외하고 현재 값과 이전 특정 값 간의 상관 관계를 보여준다.\n",
    "    - ACF 결과와 비교하여 **유의미한 상관 관계가 지속되는 지연 (lag)**을 확인하는 데 도움이 된다."
   ]
  },
  {
   "cell_type": "markdown",
   "metadata": {},
   "source": [
    "- 해석\n",
    "    - ACF 결과에서 첫 번째 지연 (lag 1) : 0.948\n",
    "        - 높은 상관 계수를 관찰할 수 있다. \n",
    "            - 이는 현재 값과 1개 이전 값 사이에 강한 양의 상관 관계가 있음을 의미한다.\n",
    "        - 지연이 증가할수록 상관 계수는 감소하지만 여전히 유의미한 값 (0.5 이상) 을 유지한다.\n",
    "    - PACF 결과에서도 첫 번째 지연 (lag 1) : 0.955\n",
    "        - 높은 상관 계수를 관찰할 수 있다. \n",
    "        - 두 번째 지연 (lag 2) 에서도 유의미한 상관 계수 (-0.265) 를 보인다.\n",
    "\n",
    "- 결론\n",
    "    - 시계열 데이터 ap에는 자기상관이 존재한다. \n",
    "        즉, 현재 값은 이전 값들과 상관 관계가 있다.\n",
    "    - 특히 현재 값은 1개 이전 값과 가장 강한 양의 상관 관계를 가지며, 지연이 늘어나더라도 어느 정도의 상관 관계가 지속된다."
   ]
  },
  {
   "cell_type": "code",
   "execution_count": 75,
   "metadata": {},
   "outputs": [
    {
     "data": {
      "image/png": "[encoded data removed]",
      "text/plain": [
       "<Figure size 720x432 with 1 Axes>"
      ]
     },
     "metadata": {
      "needs_background": "light"
     },
     "output_type": "display_data"
    }
   ],
   "source": [
    "plt.figure(figsize=(10, 6))\n",
    "plt.plot(acf_result)\n",
    "plt.title('ACF(AutoCorrelation Function)')\n",
    "plt.xlabel('Index')\n",
    "plt.ylabel('Passengers')\n",
    "plt.legend(ap.columns)\n",
    "plt.grid(True)\n",
    "plt.show()"
   ]
  },
  {
   "cell_type": "code",
   "execution_count": 71,
   "metadata": {},
   "outputs": [
    {
     "data": {
      "image/png": "[encoded data removed]",
      "text/plain": [
       "<Figure size 720x432 with 1 Axes>"
      ]
     },
     "metadata": {
      "needs_background": "light"
     },
     "output_type": "display_data"
    }
   ],
   "source": [
    "plt.figure(figsize=(10, 6))\n",
    "plt.plot(pacf_result)\n",
    "plt.title('PACF(Partial AutoCorrelation Function)')\n",
    "plt.xlabel('Index')\n",
    "plt.ylabel('Passengers')\n",
    "plt.legend(ap.columns)\n",
    "plt.grid(True)\n",
    "plt.show()"
   ]
  },
  {
   "cell_type": "markdown",
   "metadata": {},
   "source": [
    "## 분산을 일정하게 만들기 - log transformation\n",
    "- log transformation 하는 이유\n",
    "    - 큰 수를 같은 비율의 작운 수로 만들 수 있다.\n",
    "    - 복잡한 계산을 쉽게 만든다.\n",
    "    - 왜도와 첨도를 줄여서 분석 시 의미있는 결과를 도출하기 위함이다."
   ]
  },
  {
   "cell_type": "markdown",
   "metadata": {},
   "source": [
    "### np.log를 통해 log transformation"
   ]
  },
  {
   "cell_type": "code",
   "execution_count": 5,
   "metadata": {},
   "outputs": [
    {
     "data": {
      "text/html": [
       "<div>\n",
       "<style scoped>\n",
       "    .dataframe tbody tr th:only-of-type {\n",
       "        vertical-align: middle;\n",
       "    }\n",
       "\n",
       "    .dataframe tbody tr th {\n",
       "        vertical-align: top;\n",
       "    }\n",
       "\n",
       "    .dataframe thead th {\n",
       "        text-align: right;\n",
       "    }\n",
       "</style>\n",
       "<table border=\"1\" class=\"dataframe\">\n",
       "  <thead>\n",
       "    <tr style=\"text-align: right;\">\n",
       "      <th></th>\n",
       "      <th>#Passengers</th>\n",
       "    </tr>\n",
       "  </thead>\n",
       "  <tbody>\n",
       "    <tr>\n",
       "      <th>0</th>\n",
       "      <td>4.718499</td>\n",
       "    </tr>\n",
       "    <tr>\n",
       "      <th>1</th>\n",
       "      <td>4.770685</td>\n",
       "    </tr>\n",
       "    <tr>\n",
       "      <th>2</th>\n",
       "      <td>4.882802</td>\n",
       "    </tr>\n",
       "    <tr>\n",
       "      <th>3</th>\n",
       "      <td>4.859812</td>\n",
       "    </tr>\n",
       "    <tr>\n",
       "      <th>4</th>\n",
       "      <td>4.795791</td>\n",
       "    </tr>\n",
       "  </tbody>\n",
       "</table>\n",
       "</div>"
      ],
      "text/plain": [
       "   #Passengers\n",
       "0     4.718499\n",
       "1     4.770685\n",
       "2     4.882802\n",
       "3     4.859812\n",
       "4     4.795791"
      ]
     },
     "execution_count": 5,
     "metadata": {},
     "output_type": "execute_result"
    }
   ],
   "source": [
    "log_transformed = np.log(ap)\n",
    "log_transformed.head()"
   ]
  },
  {
   "cell_type": "markdown",
   "metadata": {},
   "source": [
    "- 분산이 일정해진 것을 눈으로 확인할 수 있다."
   ]
  },
  {
   "cell_type": "code",
   "execution_count": 6,
   "metadata": {},
   "outputs": [
    {
     "data": {
      "image/png": "[encoded data removed]",
      "text/plain": [
       "<Figure size 720x432 with 1 Axes>"
      ]
     },
     "metadata": {
      "needs_background": "light"
     },
     "output_type": "display_data"
    }
   ],
   "source": [
    "plt.figure(figsize=(10, 6))\n",
    "plt.plot(log_transformed)\n",
    "plt.title('Log Transformed AirPassengers Data')\n",
    "plt.xlabel('Index')\n",
    "plt.ylabel('Log Value')\n",
    "plt.legend(log_transformed.columns)\n",
    "plt.grid(True)\n",
    "plt.show()"
   ]
  },
  {
   "cell_type": "markdown",
   "metadata": {},
   "source": [
    "## 차분을 통해 추세 제거하기"
   ]
  },
  {
   "cell_type": "markdown",
   "metadata": {},
   "source": [
    "### diff()\n",
    "\n",
    "- diff()\n",
    "    - 시계열 데이터의 차분 (differencing)을 계산하는 함수\n",
    "        - 차분: 시계열 데이터의 변화량을 계산하여 데이터를 정상 과정 (stationary process)에 가깝게 만드는 데 사용\n",
    "        - 정상 과정:시간에 따라 평균과 분산이 변하지 않는 시계열 데이터\n",
    "- parameter\n",
    "    - series: 차분을 계산할 시계열 데이터\n",
    "    - periods: 차분을 계산할 기간(default=1)\n",
    "    - axis: 차분을 계산할 축(default=0)\n",
    "- 작동 방식:\n",
    "    - diff() 함수는 시계열 데이터의 현재 값에서 이전 값을 뺀 값을 차분으로 계산\n",
    "        - 예를 들어, periods=1 인 경우 다음과 같이 계산\n",
    "            - diff_series = series[1:] - series[:-1]\n",
    "        - periods 값을 증가시키면 더 높은 차분을 계산할 수 있다."
   ]
  },
  {
   "cell_type": "code",
   "execution_count": 7,
   "metadata": {},
   "outputs": [
    {
     "data": {
      "text/html": [
       "<div>\n",
       "<style scoped>\n",
       "    .dataframe tbody tr th:only-of-type {\n",
       "        vertical-align: middle;\n",
       "    }\n",
       "\n",
       "    .dataframe tbody tr th {\n",
       "        vertical-align: top;\n",
       "    }\n",
       "\n",
       "    .dataframe thead th {\n",
       "        text-align: right;\n",
       "    }\n",
       "</style>\n",
       "<table border=\"1\" class=\"dataframe\">\n",
       "  <thead>\n",
       "    <tr style=\"text-align: right;\">\n",
       "      <th></th>\n",
       "      <th>#Passengers</th>\n",
       "    </tr>\n",
       "  </thead>\n",
       "  <tbody>\n",
       "    <tr>\n",
       "      <th>0</th>\n",
       "      <td>NaN</td>\n",
       "    </tr>\n",
       "    <tr>\n",
       "      <th>1</th>\n",
       "      <td>6.0</td>\n",
       "    </tr>\n",
       "    <tr>\n",
       "      <th>2</th>\n",
       "      <td>14.0</td>\n",
       "    </tr>\n",
       "    <tr>\n",
       "      <th>3</th>\n",
       "      <td>-3.0</td>\n",
       "    </tr>\n",
       "    <tr>\n",
       "      <th>4</th>\n",
       "      <td>-8.0</td>\n",
       "    </tr>\n",
       "  </tbody>\n",
       "</table>\n",
       "</div>"
      ],
      "text/plain": [
       "   #Passengers\n",
       "0          NaN\n",
       "1          6.0\n",
       "2         14.0\n",
       "3         -3.0\n",
       "4         -8.0"
      ]
     },
     "execution_count": 7,
     "metadata": {},
     "output_type": "execute_result"
    }
   ],
   "source": [
    "diffed = ap.diff()\n",
    "diffed.head()"
   ]
  },
  {
   "cell_type": "code",
   "execution_count": 8,
   "metadata": {},
   "outputs": [
    {
     "data": {
      "image/png": "[encoded data removed]",
      "text/plain": [
       "<Figure size 720x432 with 1 Axes>"
      ]
     },
     "metadata": {
      "needs_background": "light"
     },
     "output_type": "display_data"
    }
   ],
   "source": [
    "plt.figure(figsize=(10, 6))\n",
    "plt.plot(diffed)\n",
    "plt.title('Differenced AirPassengers Data')\n",
    "plt.xlabel('Index')\n",
    "plt.ylabel('Differenced Value')\n",
    "plt.legend(diffed.columns)\n",
    "plt.grid(True)\n",
    "plt.show()"
   ]
  },
  {
   "cell_type": "markdown",
   "metadata": {},
   "source": [
    "### 계절 차분을 통해 계절성 제거하기\n",
    "AirPassengers 데이터는 12개월을 주기로하는 계절성이 포함되어 있다.  \n",
    "이런 경우엔 겨젤 차분을 통해서 계절성을 데이터에서 제거할 수 있다."
   ]
  },
  {
   "cell_type": "markdown",
   "metadata": {},
   "source": [
    "- diff에 12라는 값을 넣어주면 주기를 12로 하는 계절 차분을 수행할 수 있다"
   ]
  },
  {
   "cell_type": "code",
   "execution_count": 9,
   "metadata": {},
   "outputs": [
    {
     "data": {
      "text/html": [
       "<div>\n",
       "<style scoped>\n",
       "    .dataframe tbody tr th:only-of-type {\n",
       "        vertical-align: middle;\n",
       "    }\n",
       "\n",
       "    .dataframe tbody tr th {\n",
       "        vertical-align: top;\n",
       "    }\n",
       "\n",
       "    .dataframe thead th {\n",
       "        text-align: right;\n",
       "    }\n",
       "</style>\n",
       "<table border=\"1\" class=\"dataframe\">\n",
       "  <thead>\n",
       "    <tr style=\"text-align: right;\">\n",
       "      <th></th>\n",
       "      <th>#Passengers</th>\n",
       "    </tr>\n",
       "  </thead>\n",
       "  <tbody>\n",
       "    <tr>\n",
       "      <th>0</th>\n",
       "      <td>NaN</td>\n",
       "    </tr>\n",
       "    <tr>\n",
       "      <th>1</th>\n",
       "      <td>NaN</td>\n",
       "    </tr>\n",
       "    <tr>\n",
       "      <th>2</th>\n",
       "      <td>NaN</td>\n",
       "    </tr>\n",
       "    <tr>\n",
       "      <th>3</th>\n",
       "      <td>NaN</td>\n",
       "    </tr>\n",
       "    <tr>\n",
       "      <th>4</th>\n",
       "      <td>NaN</td>\n",
       "    </tr>\n",
       "  </tbody>\n",
       "</table>\n",
       "</div>"
      ],
      "text/plain": [
       "   #Passengers\n",
       "0          NaN\n",
       "1          NaN\n",
       "2          NaN\n",
       "3          NaN\n",
       "4          NaN"
      ]
     },
     "execution_count": 9,
     "metadata": {},
     "output_type": "execute_result"
    }
   ],
   "source": [
    "seasonally_diffed = diffed.diff(12)\n",
    "seasonally_diffed.head()"
   ]
  },
  {
   "cell_type": "markdown",
   "metadata": {},
   "source": [
    "- 차분을 하면 데이터가 짧아지기 때문에 빈칸을 제거해야 한다."
   ]
  },
  {
   "cell_type": "code",
   "execution_count": 10,
   "metadata": {},
   "outputs": [
    {
     "data": {
      "text/html": [
       "<div>\n",
       "<style scoped>\n",
       "    .dataframe tbody tr th:only-of-type {\n",
       "        vertical-align: middle;\n",
       "    }\n",
       "\n",
       "    .dataframe tbody tr th {\n",
       "        vertical-align: top;\n",
       "    }\n",
       "\n",
       "    .dataframe thead th {\n",
       "        text-align: right;\n",
       "    }\n",
       "</style>\n",
       "<table border=\"1\" class=\"dataframe\">\n",
       "  <thead>\n",
       "    <tr style=\"text-align: right;\">\n",
       "      <th></th>\n",
       "      <th>#Passengers</th>\n",
       "    </tr>\n",
       "  </thead>\n",
       "  <tbody>\n",
       "    <tr>\n",
       "      <th>13</th>\n",
       "      <td>5.0</td>\n",
       "    </tr>\n",
       "    <tr>\n",
       "      <th>14</th>\n",
       "      <td>1.0</td>\n",
       "    </tr>\n",
       "    <tr>\n",
       "      <th>15</th>\n",
       "      <td>-3.0</td>\n",
       "    </tr>\n",
       "    <tr>\n",
       "      <th>16</th>\n",
       "      <td>-2.0</td>\n",
       "    </tr>\n",
       "    <tr>\n",
       "      <th>17</th>\n",
       "      <td>10.0</td>\n",
       "    </tr>\n",
       "    <tr>\n",
       "      <th>...</th>\n",
       "      <td>...</td>\n",
       "    </tr>\n",
       "    <tr>\n",
       "      <th>139</th>\n",
       "      <td>-27.0</td>\n",
       "    </tr>\n",
       "    <tr>\n",
       "      <th>140</th>\n",
       "      <td>-2.0</td>\n",
       "    </tr>\n",
       "    <tr>\n",
       "      <th>141</th>\n",
       "      <td>9.0</td>\n",
       "    </tr>\n",
       "    <tr>\n",
       "      <th>142</th>\n",
       "      <td>-26.0</td>\n",
       "    </tr>\n",
       "    <tr>\n",
       "      <th>143</th>\n",
       "      <td>-1.0</td>\n",
       "    </tr>\n",
       "  </tbody>\n",
       "</table>\n",
       "<p>131 rows × 1 columns</p>\n",
       "</div>"
      ],
      "text/plain": [
       "     #Passengers\n",
       "13           5.0\n",
       "14           1.0\n",
       "15          -3.0\n",
       "16          -2.0\n",
       "17          10.0\n",
       "..           ...\n",
       "139        -27.0\n",
       "140         -2.0\n",
       "141          9.0\n",
       "142        -26.0\n",
       "143         -1.0\n",
       "\n",
       "[131 rows x 1 columns]"
      ]
     },
     "execution_count": 10,
     "metadata": {},
     "output_type": "execute_result"
    }
   ],
   "source": [
    "seasonally_diffed.dropna(inplace=True)\n",
    "seasonally_diffed"
   ]
  },
  {
   "cell_type": "code",
   "execution_count": 11,
   "metadata": {},
   "outputs": [
    {
     "data": {
      "image/png": "[encoded data removed]",
      "text/plain": [
       "<Figure size 720x432 with 1 Axes>"
      ]
     },
     "metadata": {
      "needs_background": "light"
     },
     "output_type": "display_data"
    }
   ],
   "source": [
    "plt.figure(figsize=(10, 6))\n",
    "plt.plot(seasonally_diffed)\n",
    "plt.title('Seasonally Differenced AirPassengers Data')\n",
    "plt.xlabel('Index')\n",
    "plt.ylabel('Seasonally Differenced Value')\n",
    "plt.legend(seasonally_diffed.columns)\n",
    "plt.grid(True)\n",
    "plt.show()"
   ]
  },
  {
   "cell_type": "markdown",
   "metadata": {},
   "source": [
    "## 검정을 통해 정상성 확인하기\n",
    "\n",
    "- adfuller : Python에서 statsmodels을 통해 ADF(Augmented Dickey-Fuller) Test를 할 수 있다. \n",
    "    - 앞서 Classification report를 통해 Logistic Regression 모델을 검증한 것과 마찬가지로 시계열 데이터를 통계 분석하고 검증할 때 사용한다. \n",
    "    - adfuller를 사용하면 대표적으로 다음과 같은 값을 얻을 수 있다.\n",
    "        - adf(단위근 검정, Augmented Dickey Fuller) : 정상성을 확인하기 위한 단위근 검정방법\n",
    "        - p-value(유의 검정) : 관찰된 데이터가 귀무가설이 맞다면 통계값 1이 실제로 관측된 값 이상일 확률\n",
    "        - usedlag : 사용된 시차의 수\n",
    "        - nobs : ADF 회귀 및 임계값 계산에 사용된 관측치의 수   \n",
    "        - critical values(임계값) : 1%, 5% 및 10% 수준에서 테스트 통계에 대한 임계값\n",
    "        - icbest : 0, 1, …, maxlag 값 중 lag 길이를 자동으로 결정할 때 autolag를 사용하며 이때 autolag를 none으로 지정할 수 있는데 none으로 지정하지 않는 경우 최대화된 정보 기준\n",
    "\n",
    "\n",
    "\n"
   ]
  },
  {
   "cell_type": "markdown",
   "metadata": {},
   "source": [
    "### adf검정을 위한 함수 정의"
   ]
  },
  {
   "cell_type": "code",
   "execution_count": 76,
   "metadata": {},
   "outputs": [],
   "source": [
    "def adf_test(x):\n",
    "    stat, p_value, lags, nobs, crit, icb = adfuller(x)  # adfuller 함수를 이용하면 6가지 output이 나온다.\n",
    "    print('ADF statistics')\n",
    "    print(stat)                                         # ADF 검정 통계량\n",
    "    print('P-value')\n",
    "    print(p_value)                                      # P-value"
   ]
  },
  {
   "cell_type": "markdown",
   "metadata": {},
   "source": [
    "### adf 테스트 수행"
   ]
  },
  {
   "cell_type": "code",
   "execution_count": 77,
   "metadata": {},
   "outputs": [
    {
     "name": "stdout",
     "output_type": "stream",
     "text": [
      "ADF statistics\n",
      "-15.595618083746338\n",
      "P-value\n",
      "1.856511600123444e-28\n"
     ]
    }
   ],
   "source": [
    "adf_test(seasonally_diffed)"
   ]
  },
  {
   "cell_type": "markdown",
   "metadata": {},
   "source": [
    "- 해석\n",
    "    - 이전 단계에서 시계열 데이터 ap에 단위근이 존재한다는 결론을 얻었다.\n",
    "    - 계절 차분을 적용한 데이터 seasonally_diffed에 대해 ADF 검정을 수행한 결과,\n",
    "        - ADF 검정 통계량: -15.5956\n",
    "        - p-값은 1.8565e-28\n",
    "\n",
    "- 이 경우의 해석\n",
    "    - p-값이 0.05보다 매우 작으므로 시계열 데이터 seasonally_diffed에 단위근이 존재하지 않는다고 결론지을 수 있다.\n",
    "        - 일반적으로 P-값이 작을수록 귀무가설을 기각하는 경향이 강하며, 따라서 시계열 데이터가 안정적인 시계열로 간주된다. \n",
    "        - 즉, 계절 차분을 통해 시계열 데이터의 단위근을 제거하는데 성공했다.\n",
    "    - 차분된 데이터는 시간에 따라 일정한 패턴을 가지고 변동하며, 예측하기 용이해졌다.\n",
    "- 결론\n",
    "    - 계절 차분은 시계열 데이터 ap의 단위근 문제를 해결하는 데 효과적이었다.\n",
    "    - 차분된 데이터 seasonally_diffed를 기반으로 시계열 분석을 진행할 수 있다.\n",
    "        - 즉, 유의수준 0.01에서 단위근이 존재한다라는 귀무가설을 기각하고 시계열은 정상적이다라는 대립가설을 채택할 수 있다."
   ]
  },
  {
   "cell_type": "markdown",
   "metadata": {},
   "source": [
    "## 시계열 분류"
   ]
  },
  {
   "cell_type": "markdown",
   "metadata": {},
   "source": [
    "TSFresh 라이브러리\n",
    "\n",
    "- TSFresh\n",
    "    - Python에서 시계열 데이터 분석을 위한 오픈 소스 라이브러리\n",
    "    - TSFresh는 시계열 데이터에서 수백 가지 특징을 자동으로 추출하고 계산할 수 있다.\n",
    "    - 추출된 특징은 머신 러닝 모델 학습에 사용될 수 니다.\n",
    "\n",
    "- 주요 기능\n",
    "    - 다양한 종류의 시계열 데이터 지원\n",
    "    - 수백 가지 특징 자동 추출 및 계산\n",
    "    - 특징 선택 및 변환 기능 제공\n",
    "    - 시각화 기능 제공\n",
    "    - 머신 러닝 모델 학습 및 평가 기능 제공\n",
    "\n",
    "TSFresh 공식 문서: https://tsfresh.readthedocs.io/en/latest/  \n",
    "TSFresh GitHub 저장소: https://github.com/blue-yonder/tsfresh"
   ]
  },
  {
   "cell_type": "markdown",
   "metadata": {},
   "source": [
    "### 데이터 다운로드 및 불러오기"
   ]
  },
  {
   "cell_type": "code",
   "execution_count": 14,
   "metadata": {},
   "outputs": [],
   "source": [
    "from tsfresh.examples.robot_execution_failures import download_robot_execution_failures, load_robot_execution_failures\n",
    "\n",
    "# robot exection failures 데이터를 불러오기\n",
    "download_robot_execution_failures()\n",
    "timeseries, y = load_robot_execution_failures()"
   ]
  },
  {
   "cell_type": "markdown",
   "metadata": {},
   "source": [
    "### 데이터셋 확인"
   ]
  },
  {
   "cell_type": "markdown",
   "metadata": {},
   "source": [
    "- X 변수  \n",
    "id, time을 제외하고 6개의 colums"
   ]
  },
  {
   "cell_type": "code",
   "execution_count": 15,
   "metadata": {},
   "outputs": [
    {
     "data": {
      "text/html": [
       "<div>\n",
       "<style scoped>\n",
       "    .dataframe tbody tr th:only-of-type {\n",
       "        vertical-align: middle;\n",
       "    }\n",
       "\n",
       "    .dataframe tbody tr th {\n",
       "        vertical-align: top;\n",
       "    }\n",
       "\n",
       "    .dataframe thead th {\n",
       "        text-align: right;\n",
       "    }\n",
       "</style>\n",
       "<table border=\"1\" class=\"dataframe\">\n",
       "  <thead>\n",
       "    <tr style=\"text-align: right;\">\n",
       "      <th></th>\n",
       "      <th>id</th>\n",
       "      <th>time</th>\n",
       "      <th>F_x</th>\n",
       "      <th>F_y</th>\n",
       "      <th>F_z</th>\n",
       "      <th>T_x</th>\n",
       "      <th>T_y</th>\n",
       "      <th>T_z</th>\n",
       "    </tr>\n",
       "  </thead>\n",
       "  <tbody>\n",
       "    <tr>\n",
       "      <th>0</th>\n",
       "      <td>1</td>\n",
       "      <td>0</td>\n",
       "      <td>-1</td>\n",
       "      <td>-1</td>\n",
       "      <td>63</td>\n",
       "      <td>-3</td>\n",
       "      <td>-1</td>\n",
       "      <td>0</td>\n",
       "    </tr>\n",
       "    <tr>\n",
       "      <th>1</th>\n",
       "      <td>1</td>\n",
       "      <td>1</td>\n",
       "      <td>0</td>\n",
       "      <td>0</td>\n",
       "      <td>62</td>\n",
       "      <td>-3</td>\n",
       "      <td>-1</td>\n",
       "      <td>0</td>\n",
       "    </tr>\n",
       "    <tr>\n",
       "      <th>2</th>\n",
       "      <td>1</td>\n",
       "      <td>2</td>\n",
       "      <td>-1</td>\n",
       "      <td>-1</td>\n",
       "      <td>61</td>\n",
       "      <td>-3</td>\n",
       "      <td>0</td>\n",
       "      <td>0</td>\n",
       "    </tr>\n",
       "    <tr>\n",
       "      <th>3</th>\n",
       "      <td>1</td>\n",
       "      <td>3</td>\n",
       "      <td>-1</td>\n",
       "      <td>-1</td>\n",
       "      <td>63</td>\n",
       "      <td>-2</td>\n",
       "      <td>-1</td>\n",
       "      <td>0</td>\n",
       "    </tr>\n",
       "    <tr>\n",
       "      <th>4</th>\n",
       "      <td>1</td>\n",
       "      <td>4</td>\n",
       "      <td>-1</td>\n",
       "      <td>-1</td>\n",
       "      <td>63</td>\n",
       "      <td>-3</td>\n",
       "      <td>-1</td>\n",
       "      <td>0</td>\n",
       "    </tr>\n",
       "    <tr>\n",
       "      <th>...</th>\n",
       "      <td>...</td>\n",
       "      <td>...</td>\n",
       "      <td>...</td>\n",
       "      <td>...</td>\n",
       "      <td>...</td>\n",
       "      <td>...</td>\n",
       "      <td>...</td>\n",
       "      <td>...</td>\n",
       "    </tr>\n",
       "    <tr>\n",
       "      <th>1315</th>\n",
       "      <td>88</td>\n",
       "      <td>10</td>\n",
       "      <td>-10</td>\n",
       "      <td>2</td>\n",
       "      <td>39</td>\n",
       "      <td>-21</td>\n",
       "      <td>-24</td>\n",
       "      <td>5</td>\n",
       "    </tr>\n",
       "    <tr>\n",
       "      <th>1316</th>\n",
       "      <td>88</td>\n",
       "      <td>11</td>\n",
       "      <td>-11</td>\n",
       "      <td>2</td>\n",
       "      <td>38</td>\n",
       "      <td>-24</td>\n",
       "      <td>-22</td>\n",
       "      <td>6</td>\n",
       "    </tr>\n",
       "    <tr>\n",
       "      <th>1317</th>\n",
       "      <td>88</td>\n",
       "      <td>12</td>\n",
       "      <td>-12</td>\n",
       "      <td>3</td>\n",
       "      <td>23</td>\n",
       "      <td>-24</td>\n",
       "      <td>-24</td>\n",
       "      <td>5</td>\n",
       "    </tr>\n",
       "    <tr>\n",
       "      <th>1318</th>\n",
       "      <td>88</td>\n",
       "      <td>13</td>\n",
       "      <td>-13</td>\n",
       "      <td>4</td>\n",
       "      <td>26</td>\n",
       "      <td>-29</td>\n",
       "      <td>-27</td>\n",
       "      <td>5</td>\n",
       "    </tr>\n",
       "    <tr>\n",
       "      <th>1319</th>\n",
       "      <td>88</td>\n",
       "      <td>14</td>\n",
       "      <td>-13</td>\n",
       "      <td>2</td>\n",
       "      <td>15</td>\n",
       "      <td>-25</td>\n",
       "      <td>-25</td>\n",
       "      <td>6</td>\n",
       "    </tr>\n",
       "  </tbody>\n",
       "</table>\n",
       "<p>1320 rows × 8 columns</p>\n",
       "</div>"
      ],
      "text/plain": [
       "      id  time  F_x  F_y  F_z  T_x  T_y  T_z\n",
       "0      1     0   -1   -1   63   -3   -1    0\n",
       "1      1     1    0    0   62   -3   -1    0\n",
       "2      1     2   -1   -1   61   -3    0    0\n",
       "3      1     3   -1   -1   63   -2   -1    0\n",
       "4      1     4   -1   -1   63   -3   -1    0\n",
       "...   ..   ...  ...  ...  ...  ...  ...  ...\n",
       "1315  88    10  -10    2   39  -21  -24    5\n",
       "1316  88    11  -11    2   38  -24  -22    6\n",
       "1317  88    12  -12    3   23  -24  -24    5\n",
       "1318  88    13  -13    4   26  -29  -27    5\n",
       "1319  88    14  -13    2   15  -25  -25    6\n",
       "\n",
       "[1320 rows x 8 columns]"
      ]
     },
     "execution_count": 15,
     "metadata": {},
     "output_type": "execute_result"
    }
   ],
   "source": [
    "timeseries"
   ]
  },
  {
   "cell_type": "markdown",
   "metadata": {},
   "source": [
    "- y 변수  \n",
    "True/False"
   ]
  },
  {
   "cell_type": "code",
   "execution_count": 16,
   "metadata": {},
   "outputs": [
    {
     "data": {
      "text/plain": [
       "1      True\n",
       "2      True\n",
       "3      True\n",
       "4      True\n",
       "5      True\n",
       "      ...  \n",
       "84    False\n",
       "85    False\n",
       "86    False\n",
       "87    False\n",
       "88    False\n",
       "Length: 88, dtype: bool"
      ]
     },
     "execution_count": 16,
     "metadata": {},
     "output_type": "execute_result"
    }
   ],
   "source": [
    "y"
   ]
  },
  {
   "cell_type": "markdown",
   "metadata": {},
   "source": [
    "### 데이터셋 가공"
   ]
  },
  {
   "cell_type": "code",
   "execution_count": 17,
   "metadata": {},
   "outputs": [],
   "source": [
    "def custom_classification_split(x, y, test_size):\n",
    "    num_true = int(y.sum()*test_size)           # int(21 * 0.3) = 6\n",
    "    num_false = int((len(y)-y.sum())*test_size) # int((88 - 21)*0.3) = 20\n",
    "\n",
    "    id_list = y[y==False].head(num_false).index.to_list() + y[y==True].head(num_true).index.to_list()\n",
    "\n",
    "    y_train = y.drop(id_list)                   # y에서 id_list를 drop\n",
    "    y_test = y.iloc[id_list].sort_index()       # 20~39, 2~7이 합쳐진 리스트를 정렬\n",
    "    X_train = x[~x['id'].isin(id_list)]         # 대괄호 안에 있는 timeseries의 id와 id_list가 일치하는 것만 사용하고 물결표시는 안에 조건이 포함되어 있지 않는것만 사용한다.\n",
    "    X_test = x[x['id'].isin(id_list)]           # timeseries의 id와 id_list가 일치하는 것만 사용해서 timeseries에 적용\n",
    "\n",
    "    return X_train, y_train, X_test, y_test"
   ]
  },
  {
   "cell_type": "markdown",
   "metadata": {},
   "source": [
    "- `id_list`\n",
    "    - y==False인것과 y==True인것의 인덱스값을 리스트로 변환하여 더해준다\n",
    "    - y[y==False].head(num_false).index.to_list()는 19~38까지의 값이 리스트로\n",
    "    - y[y==True].head(num_true).index.to_list()는 1~6까지의 값이 리스트로\n",
    "    - id_list는 20~39 + 2~7이 더해진 리스트이다"
   ]
  },
  {
   "cell_type": "markdown",
   "metadata": {},
   "source": [
    "### 데이터셋 나누기"
   ]
  },
  {
   "cell_type": "code",
   "execution_count": 18,
   "metadata": {},
   "outputs": [],
   "source": [
    "X_train, y_train, X_test, y_test = custom_classification_split(timeseries, y, test_size=0.25)"
   ]
  },
  {
   "cell_type": "code",
   "execution_count": 19,
   "metadata": {},
   "outputs": [
    {
     "name": "stdout",
     "output_type": "stream",
     "text": [
      "X train shape : (1005, 8)\n",
      "y train shape : (67,)\n",
      "X test shape : (315, 8)\n",
      "y test shape : (21,)\n"
     ]
    }
   ],
   "source": [
    "print(f'X train shape : {X_train.shape}')\n",
    "print(f'y train shape : {y_train.shape}')\n",
    "print(f'X test shape : {X_test.shape}')\n",
    "print(f'y test shape : {y_test.shape}')"
   ]
  },
  {
   "cell_type": "code",
   "execution_count": 20,
   "metadata": {},
   "outputs": [
    {
     "name": "stdout",
     "output_type": "stream",
     "text": [
      "      id  time  F_x  F_y  F_z  T_x  T_y  T_z\n",
      "75     6     0   -1    2   57  -10   -3    0\n",
      "76     6     1   -2    3   60  -12   -4   -1\n",
      "77     6     2   -1    2   63  -12   -6    1\n",
      "78     6     3    1    3   62  -11    0    0\n",
      "79     6     4   -3    2   56   -9   -4    0\n",
      "...   ..   ...  ...  ...  ...  ...  ...  ...\n",
      "1315  88    10  -10    2   39  -21  -24    5\n",
      "1316  88    11  -11    2   38  -24  -22    6\n",
      "1317  88    12  -12    3   23  -24  -24    5\n",
      "1318  88    13  -13    4   26  -29  -27    5\n",
      "1319  88    14  -13    2   15  -25  -25    6\n",
      "\n",
      "[1005 rows x 8 columns]\n",
      "--------------------------------------------------\n",
      "6      True\n",
      "7      True\n",
      "8      True\n",
      "9      True\n",
      "10     True\n",
      "      ...  \n",
      "84    False\n",
      "85    False\n",
      "86    False\n",
      "87    False\n",
      "88    False\n",
      "Length: 67, dtype: bool\n",
      "--------------------------------------------------\n",
      "     id  time  F_x  F_y  F_z  T_x  T_y  T_z\n",
      "0     1     0   -1   -1   63   -3   -1    0\n",
      "1     1     1    0    0   62   -3   -1    0\n",
      "2     1     2   -1   -1   61   -3    0    0\n",
      "3     1     3   -1   -1   63   -2   -1    0\n",
      "4     1     4   -1   -1   63   -3   -1    0\n",
      "..   ..   ...  ...  ...  ...  ...  ...  ...\n",
      "505  34    10    3    4   65  -11    1    0\n",
      "506  34    11    1    3   62  -11   -1   -1\n",
      "507  34    12   -1    0   60   -8   -7    0\n",
      "508  34    13   -1    0   59   -8   -7    0\n",
      "509  34    14    1   -2   65   -5    0    0\n",
      "\n",
      "[315 rows x 8 columns]\n",
      "--------------------------------------------------\n",
      "2      True\n",
      "3      True\n",
      "4      True\n",
      "5      True\n",
      "6      True\n",
      "20    False\n",
      "21    False\n",
      "22    False\n",
      "23    False\n",
      "24    False\n",
      "25    False\n",
      "26    False\n",
      "27    False\n",
      "28    False\n",
      "29    False\n",
      "30    False\n",
      "31    False\n",
      "32    False\n",
      "33    False\n",
      "34    False\n",
      "35    False\n",
      "dtype: bool\n"
     ]
    }
   ],
   "source": [
    "print(X_train)\n",
    "print('-'*50)\n",
    "print(y_train)\n",
    "print('-'*50)\n",
    "print(X_test)\n",
    "print('-'*50)\n",
    "print(y_test)"
   ]
  },
  {
   "cell_type": "markdown",
   "metadata": {},
   "source": [
    "### feature extraction\n",
    "\n",
    "EfficientParameters: 큰 계산비용이 필요한 calculator를 제외하고 가능한 모든 특징을 생성"
   ]
  },
  {
   "cell_type": "code",
   "execution_count": 21,
   "metadata": {},
   "outputs": [],
   "source": [
    "from tsfresh import extract_features\n",
    "from tsfresh.feature_extraction import EfficientFCParameters\n",
    "from tsfresh.utilities.dataframe_functions import impute\n",
    "\n",
    "settings = EfficientFCParameters()"
   ]
  },
  {
   "cell_type": "code",
   "execution_count": 22,
   "metadata": {},
   "outputs": [
    {
     "name": "stderr",
     "output_type": "stream",
     "text": [
      "Feature Extraction: 100%|██████████| 402/402 [00:17<00:00, 22.52it/s]\n"
     ]
    }
   ],
   "source": [
    "comprehensive_features_train = extract_features(X_train, \n",
    "                                                column_id=\"id\",\n",
    "                                                column_sort=\"time\",\n",
    "                                                default_fc_parameters=settings)"
   ]
  },
  {
   "cell_type": "code",
   "execution_count": 23,
   "metadata": {},
   "outputs": [
    {
     "data": {
      "text/plain": [
       "Index(['F_x__variance_larger_than_standard_deviation',\n",
       "       'F_x__has_duplicate_max', 'F_x__has_duplicate_min',\n",
       "       'F_x__has_duplicate', 'F_x__sum_values', 'F_x__abs_energy',\n",
       "       'F_x__mean_abs_change', 'F_x__mean_change',\n",
       "       'F_x__mean_second_derivative_central', 'F_x__median',\n",
       "       ...\n",
       "       'T_z__fourier_entropy__bins_5', 'T_z__fourier_entropy__bins_10',\n",
       "       'T_z__fourier_entropy__bins_100',\n",
       "       'T_z__permutation_entropy__dimension_3__tau_1',\n",
       "       'T_z__permutation_entropy__dimension_4__tau_1',\n",
       "       'T_z__permutation_entropy__dimension_5__tau_1',\n",
       "       'T_z__permutation_entropy__dimension_6__tau_1',\n",
       "       'T_z__permutation_entropy__dimension_7__tau_1',\n",
       "       'T_z__query_similarity_count__query_None__threshold_0.0',\n",
       "       'T_z__mean_n_absolute_max__number_of_maxima_7'],\n",
       "      dtype='object', length=4662)"
      ]
     },
     "execution_count": 23,
     "metadata": {},
     "output_type": "execute_result"
    }
   ],
   "source": [
    "comprehensive_features_train.columns"
   ]
  },
  {
   "cell_type": "code",
   "execution_count": 24,
   "metadata": {},
   "outputs": [
    {
     "name": "stderr",
     "output_type": "stream",
     "text": [
      "Feature Extraction: 100%|██████████| 126/126 [00:05<00:00, 22.85it/s]\n"
     ]
    }
   ],
   "source": [
    "comprehensive_features_test = extract_features(X_test, \n",
    "                                               column_id=\"id\",\n",
    "                                               column_sort=\"time\",\n",
    "                                               default_fc_parameters=settings)"
   ]
  },
  {
   "cell_type": "code",
   "execution_count": 25,
   "metadata": {},
   "outputs": [
    {
     "data": {
      "text/plain": [
       "Index(['F_x__variance_larger_than_standard_deviation',\n",
       "       'F_x__has_duplicate_max', 'F_x__has_duplicate_min',\n",
       "       'F_x__has_duplicate', 'F_x__sum_values', 'F_x__abs_energy',\n",
       "       'F_x__mean_abs_change', 'F_x__mean_change',\n",
       "       'F_x__mean_second_derivative_central', 'F_x__median',\n",
       "       ...\n",
       "       'T_z__fourier_entropy__bins_5', 'T_z__fourier_entropy__bins_10',\n",
       "       'T_z__fourier_entropy__bins_100',\n",
       "       'T_z__permutation_entropy__dimension_3__tau_1',\n",
       "       'T_z__permutation_entropy__dimension_4__tau_1',\n",
       "       'T_z__permutation_entropy__dimension_5__tau_1',\n",
       "       'T_z__permutation_entropy__dimension_6__tau_1',\n",
       "       'T_z__permutation_entropy__dimension_7__tau_1',\n",
       "       'T_z__query_similarity_count__query_None__threshold_0.0',\n",
       "       'T_z__mean_n_absolute_max__number_of_maxima_7'],\n",
       "      dtype='object', length=4662)"
      ]
     },
     "execution_count": 25,
     "metadata": {},
     "output_type": "execute_result"
    }
   ],
   "source": [
    "comprehensive_features_test.columns"
   ]
  },
  {
   "cell_type": "markdown",
   "metadata": {},
   "source": [
    "### impute\n",
    "\n",
    "간단히 데이터를 전처리"
   ]
  },
  {
   "cell_type": "code",
   "execution_count": 26,
   "metadata": {},
   "outputs": [
    {
     "name": "stderr",
     "output_type": "stream",
     "text": [
      "/opt/conda/lib/python3.9/site-packages/tsfresh/utilities/dataframe_functions.py:198: RuntimeWarning: The columns ['F_x__partial_autocorrelation__lag_7'\n",
      " 'F_x__partial_autocorrelation__lag_8'\n",
      " 'F_x__partial_autocorrelation__lag_9' ...\n",
      " 'T_z__agg_linear_trend__attr_\"stderr\"__chunk_len_50__f_agg_\"mean\"'\n",
      " 'T_z__agg_linear_trend__attr_\"stderr\"__chunk_len_50__f_agg_\"var\"'\n",
      " 'T_z__query_similarity_count__query_None__threshold_0.0'] did not have any finite values. Filling with zeros.\n",
      "  warnings.warn(\n"
     ]
    },
    {
     "data": {
      "text/html": [
       "<div>\n",
       "<style scoped>\n",
       "    .dataframe tbody tr th:only-of-type {\n",
       "        vertical-align: middle;\n",
       "    }\n",
       "\n",
       "    .dataframe tbody tr th {\n",
       "        vertical-align: top;\n",
       "    }\n",
       "\n",
       "    .dataframe thead th {\n",
       "        text-align: right;\n",
       "    }\n",
       "</style>\n",
       "<table border=\"1\" class=\"dataframe\">\n",
       "  <thead>\n",
       "    <tr style=\"text-align: right;\">\n",
       "      <th></th>\n",
       "      <th>F_x__variance_larger_than_standard_deviation</th>\n",
       "      <th>F_x__has_duplicate_max</th>\n",
       "      <th>F_x__has_duplicate_min</th>\n",
       "      <th>F_x__has_duplicate</th>\n",
       "      <th>F_x__sum_values</th>\n",
       "      <th>F_x__abs_energy</th>\n",
       "      <th>F_x__mean_abs_change</th>\n",
       "      <th>F_x__mean_change</th>\n",
       "      <th>F_x__mean_second_derivative_central</th>\n",
       "      <th>F_x__median</th>\n",
       "      <th>...</th>\n",
       "      <th>T_z__fourier_entropy__bins_5</th>\n",
       "      <th>T_z__fourier_entropy__bins_10</th>\n",
       "      <th>T_z__fourier_entropy__bins_100</th>\n",
       "      <th>T_z__permutation_entropy__dimension_3__tau_1</th>\n",
       "      <th>T_z__permutation_entropy__dimension_4__tau_1</th>\n",
       "      <th>T_z__permutation_entropy__dimension_5__tau_1</th>\n",
       "      <th>T_z__permutation_entropy__dimension_6__tau_1</th>\n",
       "      <th>T_z__permutation_entropy__dimension_7__tau_1</th>\n",
       "      <th>T_z__query_similarity_count__query_None__threshold_0.0</th>\n",
       "      <th>T_z__mean_n_absolute_max__number_of_maxima_7</th>\n",
       "    </tr>\n",
       "  </thead>\n",
       "  <tbody>\n",
       "    <tr>\n",
       "      <th>6</th>\n",
       "      <td>1.0</td>\n",
       "      <td>1.0</td>\n",
       "      <td>1.0</td>\n",
       "      <td>1.0</td>\n",
       "      <td>-15.0</td>\n",
       "      <td>39.0</td>\n",
       "      <td>1.714286</td>\n",
       "      <td>0.142857</td>\n",
       "      <td>0.153846</td>\n",
       "      <td>-1.0</td>\n",
       "      <td>...</td>\n",
       "      <td>0.974315</td>\n",
       "      <td>1.213008</td>\n",
       "      <td>1.732868</td>\n",
       "      <td>1.438883</td>\n",
       "      <td>1.863680</td>\n",
       "      <td>2.145842</td>\n",
       "      <td>2.163956</td>\n",
       "      <td>2.197225</td>\n",
       "      <td>0.0</td>\n",
       "      <td>0.714286</td>\n",
       "    </tr>\n",
       "    <tr>\n",
       "      <th>7</th>\n",
       "      <td>0.0</td>\n",
       "      <td>1.0</td>\n",
       "      <td>0.0</td>\n",
       "      <td>1.0</td>\n",
       "      <td>-13.0</td>\n",
       "      <td>21.0</td>\n",
       "      <td>0.928571</td>\n",
       "      <td>0.214286</td>\n",
       "      <td>-0.076923</td>\n",
       "      <td>-1.0</td>\n",
       "      <td>...</td>\n",
       "      <td>1.255482</td>\n",
       "      <td>1.494175</td>\n",
       "      <td>2.079442</td>\n",
       "      <td>1.043794</td>\n",
       "      <td>1.349792</td>\n",
       "      <td>1.666333</td>\n",
       "      <td>1.748067</td>\n",
       "      <td>1.831020</td>\n",
       "      <td>0.0</td>\n",
       "      <td>0.428571</td>\n",
       "    </tr>\n",
       "    <tr>\n",
       "      <th>8</th>\n",
       "      <td>1.0</td>\n",
       "      <td>0.0</td>\n",
       "      <td>1.0</td>\n",
       "      <td>1.0</td>\n",
       "      <td>-10.0</td>\n",
       "      <td>26.0</td>\n",
       "      <td>1.142857</td>\n",
       "      <td>-0.142857</td>\n",
       "      <td>0.192308</td>\n",
       "      <td>-1.0</td>\n",
       "      <td>...</td>\n",
       "      <td>1.494175</td>\n",
       "      <td>1.732868</td>\n",
       "      <td>2.079442</td>\n",
       "      <td>1.412745</td>\n",
       "      <td>2.138333</td>\n",
       "      <td>2.397895</td>\n",
       "      <td>2.302585</td>\n",
       "      <td>2.197225</td>\n",
       "      <td>0.0</td>\n",
       "      <td>1.285714</td>\n",
       "    </tr>\n",
       "    <tr>\n",
       "      <th>9</th>\n",
       "      <td>1.0</td>\n",
       "      <td>0.0</td>\n",
       "      <td>0.0</td>\n",
       "      <td>1.0</td>\n",
       "      <td>-10.0</td>\n",
       "      <td>24.0</td>\n",
       "      <td>1.428571</td>\n",
       "      <td>0.000000</td>\n",
       "      <td>-0.076923</td>\n",
       "      <td>-1.0</td>\n",
       "      <td>...</td>\n",
       "      <td>1.255482</td>\n",
       "      <td>1.494175</td>\n",
       "      <td>2.079442</td>\n",
       "      <td>1.479133</td>\n",
       "      <td>2.138333</td>\n",
       "      <td>2.397895</td>\n",
       "      <td>2.302585</td>\n",
       "      <td>2.197225</td>\n",
       "      <td>0.0</td>\n",
       "      <td>1.285714</td>\n",
       "    </tr>\n",
       "    <tr>\n",
       "      <th>10</th>\n",
       "      <td>0.0</td>\n",
       "      <td>0.0</td>\n",
       "      <td>1.0</td>\n",
       "      <td>1.0</td>\n",
       "      <td>-14.0</td>\n",
       "      <td>14.0</td>\n",
       "      <td>0.142857</td>\n",
       "      <td>0.000000</td>\n",
       "      <td>0.000000</td>\n",
       "      <td>-1.0</td>\n",
       "      <td>...</td>\n",
       "      <td>0.937285</td>\n",
       "      <td>1.213008</td>\n",
       "      <td>1.906155</td>\n",
       "      <td>-0.000000</td>\n",
       "      <td>-0.000000</td>\n",
       "      <td>-0.000000</td>\n",
       "      <td>-0.000000</td>\n",
       "      <td>-0.000000</td>\n",
       "      <td>0.0</td>\n",
       "      <td>0.000000</td>\n",
       "    </tr>\n",
       "    <tr>\n",
       "      <th>...</th>\n",
       "      <td>...</td>\n",
       "      <td>...</td>\n",
       "      <td>...</td>\n",
       "      <td>...</td>\n",
       "      <td>...</td>\n",
       "      <td>...</td>\n",
       "      <td>...</td>\n",
       "      <td>...</td>\n",
       "      <td>...</td>\n",
       "      <td>...</td>\n",
       "      <td>...</td>\n",
       "      <td>...</td>\n",
       "      <td>...</td>\n",
       "      <td>...</td>\n",
       "      <td>...</td>\n",
       "      <td>...</td>\n",
       "      <td>...</td>\n",
       "      <td>...</td>\n",
       "      <td>...</td>\n",
       "      <td>...</td>\n",
       "      <td>...</td>\n",
       "    </tr>\n",
       "    <tr>\n",
       "      <th>84</th>\n",
       "      <td>1.0</td>\n",
       "      <td>1.0</td>\n",
       "      <td>0.0</td>\n",
       "      <td>1.0</td>\n",
       "      <td>-1073.0</td>\n",
       "      <td>96833.0</td>\n",
       "      <td>7.142857</td>\n",
       "      <td>-5.428571</td>\n",
       "      <td>-0.038462</td>\n",
       "      <td>-98.0</td>\n",
       "      <td>...</td>\n",
       "      <td>0.735622</td>\n",
       "      <td>0.735622</td>\n",
       "      <td>1.386294</td>\n",
       "      <td>1.585771</td>\n",
       "      <td>2.253858</td>\n",
       "      <td>2.397895</td>\n",
       "      <td>2.302585</td>\n",
       "      <td>2.197225</td>\n",
       "      <td>0.0</td>\n",
       "      <td>24.285714</td>\n",
       "    </tr>\n",
       "    <tr>\n",
       "      <th>85</th>\n",
       "      <td>1.0</td>\n",
       "      <td>0.0</td>\n",
       "      <td>1.0</td>\n",
       "      <td>1.0</td>\n",
       "      <td>143.0</td>\n",
       "      <td>1683.0</td>\n",
       "      <td>1.357143</td>\n",
       "      <td>1.071429</td>\n",
       "      <td>0.076923</td>\n",
       "      <td>8.0</td>\n",
       "      <td>...</td>\n",
       "      <td>0.735622</td>\n",
       "      <td>0.735622</td>\n",
       "      <td>1.667462</td>\n",
       "      <td>1.332245</td>\n",
       "      <td>1.589027</td>\n",
       "      <td>1.893788</td>\n",
       "      <td>2.163956</td>\n",
       "      <td>2.197225</td>\n",
       "      <td>0.0</td>\n",
       "      <td>5.571429</td>\n",
       "    </tr>\n",
       "    <tr>\n",
       "      <th>86</th>\n",
       "      <td>1.0</td>\n",
       "      <td>0.0</td>\n",
       "      <td>0.0</td>\n",
       "      <td>0.0</td>\n",
       "      <td>961.0</td>\n",
       "      <td>83497.0</td>\n",
       "      <td>9.071429</td>\n",
       "      <td>9.071429</td>\n",
       "      <td>0.807692</td>\n",
       "      <td>52.0</td>\n",
       "      <td>...</td>\n",
       "      <td>0.735622</td>\n",
       "      <td>1.073543</td>\n",
       "      <td>1.732868</td>\n",
       "      <td>0.687092</td>\n",
       "      <td>0.983088</td>\n",
       "      <td>1.159589</td>\n",
       "      <td>1.227529</td>\n",
       "      <td>1.303092</td>\n",
       "      <td>0.0</td>\n",
       "      <td>9.285714</td>\n",
       "    </tr>\n",
       "    <tr>\n",
       "      <th>87</th>\n",
       "      <td>1.0</td>\n",
       "      <td>1.0</td>\n",
       "      <td>0.0</td>\n",
       "      <td>1.0</td>\n",
       "      <td>4509.0</td>\n",
       "      <td>1405437.0</td>\n",
       "      <td>12.928571</td>\n",
       "      <td>12.214286</td>\n",
       "      <td>-1.038462</td>\n",
       "      <td>338.0</td>\n",
       "      <td>...</td>\n",
       "      <td>0.735622</td>\n",
       "      <td>0.735622</td>\n",
       "      <td>1.386294</td>\n",
       "      <td>0.535961</td>\n",
       "      <td>0.836988</td>\n",
       "      <td>1.159589</td>\n",
       "      <td>1.497866</td>\n",
       "      <td>1.581094</td>\n",
       "      <td>0.0</td>\n",
       "      <td>40.285714</td>\n",
       "    </tr>\n",
       "    <tr>\n",
       "      <th>88</th>\n",
       "      <td>1.0</td>\n",
       "      <td>0.0</td>\n",
       "      <td>1.0</td>\n",
       "      <td>1.0</td>\n",
       "      <td>-143.0</td>\n",
       "      <td>1427.0</td>\n",
       "      <td>0.785714</td>\n",
       "      <td>-0.500000</td>\n",
       "      <td>0.038462</td>\n",
       "      <td>-9.0</td>\n",
       "      <td>...</td>\n",
       "      <td>1.255482</td>\n",
       "      <td>1.494175</td>\n",
       "      <td>2.079442</td>\n",
       "      <td>0.830518</td>\n",
       "      <td>1.242453</td>\n",
       "      <td>1.414279</td>\n",
       "      <td>1.609438</td>\n",
       "      <td>1.831020</td>\n",
       "      <td>0.0</td>\n",
       "      <td>5.428571</td>\n",
       "    </tr>\n",
       "  </tbody>\n",
       "</table>\n",
       "<p>67 rows × 4662 columns</p>\n",
       "</div>"
      ],
      "text/plain": [
       "    F_x__variance_larger_than_standard_deviation  F_x__has_duplicate_max  \\\n",
       "6                                            1.0                     1.0   \n",
       "7                                            0.0                     1.0   \n",
       "8                                            1.0                     0.0   \n",
       "9                                            1.0                     0.0   \n",
       "10                                           0.0                     0.0   \n",
       "..                                           ...                     ...   \n",
       "84                                           1.0                     1.0   \n",
       "85                                           1.0                     0.0   \n",
       "86                                           1.0                     0.0   \n",
       "87                                           1.0                     1.0   \n",
       "88                                           1.0                     0.0   \n",
       "\n",
       "    F_x__has_duplicate_min  F_x__has_duplicate  F_x__sum_values  \\\n",
       "6                      1.0                 1.0            -15.0   \n",
       "7                      0.0                 1.0            -13.0   \n",
       "8                      1.0                 1.0            -10.0   \n",
       "9                      0.0                 1.0            -10.0   \n",
       "10                     1.0                 1.0            -14.0   \n",
       "..                     ...                 ...              ...   \n",
       "84                     0.0                 1.0          -1073.0   \n",
       "85                     1.0                 1.0            143.0   \n",
       "86                     0.0                 0.0            961.0   \n",
       "87                     0.0                 1.0           4509.0   \n",
       "88                     1.0                 1.0           -143.0   \n",
       "\n",
       "    F_x__abs_energy  F_x__mean_abs_change  F_x__mean_change  \\\n",
       "6              39.0              1.714286          0.142857   \n",
       "7              21.0              0.928571          0.214286   \n",
       "8              26.0              1.142857         -0.142857   \n",
       "9              24.0              1.428571          0.000000   \n",
       "10             14.0              0.142857          0.000000   \n",
       "..              ...                   ...               ...   \n",
       "84          96833.0              7.142857         -5.428571   \n",
       "85           1683.0              1.357143          1.071429   \n",
       "86          83497.0              9.071429          9.071429   \n",
       "87        1405437.0             12.928571         12.214286   \n",
       "88           1427.0              0.785714         -0.500000   \n",
       "\n",
       "    F_x__mean_second_derivative_central  F_x__median  ...  \\\n",
       "6                              0.153846         -1.0  ...   \n",
       "7                             -0.076923         -1.0  ...   \n",
       "8                              0.192308         -1.0  ...   \n",
       "9                             -0.076923         -1.0  ...   \n",
       "10                             0.000000         -1.0  ...   \n",
       "..                                  ...          ...  ...   \n",
       "84                            -0.038462        -98.0  ...   \n",
       "85                             0.076923          8.0  ...   \n",
       "86                             0.807692         52.0  ...   \n",
       "87                            -1.038462        338.0  ...   \n",
       "88                             0.038462         -9.0  ...   \n",
       "\n",
       "    T_z__fourier_entropy__bins_5  T_z__fourier_entropy__bins_10  \\\n",
       "6                       0.974315                       1.213008   \n",
       "7                       1.255482                       1.494175   \n",
       "8                       1.494175                       1.732868   \n",
       "9                       1.255482                       1.494175   \n",
       "10                      0.937285                       1.213008   \n",
       "..                           ...                            ...   \n",
       "84                      0.735622                       0.735622   \n",
       "85                      0.735622                       0.735622   \n",
       "86                      0.735622                       1.073543   \n",
       "87                      0.735622                       0.735622   \n",
       "88                      1.255482                       1.494175   \n",
       "\n",
       "    T_z__fourier_entropy__bins_100  \\\n",
       "6                         1.732868   \n",
       "7                         2.079442   \n",
       "8                         2.079442   \n",
       "9                         2.079442   \n",
       "10                        1.906155   \n",
       "..                             ...   \n",
       "84                        1.386294   \n",
       "85                        1.667462   \n",
       "86                        1.732868   \n",
       "87                        1.386294   \n",
       "88                        2.079442   \n",
       "\n",
       "    T_z__permutation_entropy__dimension_3__tau_1  \\\n",
       "6                                       1.438883   \n",
       "7                                       1.043794   \n",
       "8                                       1.412745   \n",
       "9                                       1.479133   \n",
       "10                                     -0.000000   \n",
       "..                                           ...   \n",
       "84                                      1.585771   \n",
       "85                                      1.332245   \n",
       "86                                      0.687092   \n",
       "87                                      0.535961   \n",
       "88                                      0.830518   \n",
       "\n",
       "    T_z__permutation_entropy__dimension_4__tau_1  \\\n",
       "6                                       1.863680   \n",
       "7                                       1.349792   \n",
       "8                                       2.138333   \n",
       "9                                       2.138333   \n",
       "10                                     -0.000000   \n",
       "..                                           ...   \n",
       "84                                      2.253858   \n",
       "85                                      1.589027   \n",
       "86                                      0.983088   \n",
       "87                                      0.836988   \n",
       "88                                      1.242453   \n",
       "\n",
       "    T_z__permutation_entropy__dimension_5__tau_1  \\\n",
       "6                                       2.145842   \n",
       "7                                       1.666333   \n",
       "8                                       2.397895   \n",
       "9                                       2.397895   \n",
       "10                                     -0.000000   \n",
       "..                                           ...   \n",
       "84                                      2.397895   \n",
       "85                                      1.893788   \n",
       "86                                      1.159589   \n",
       "87                                      1.159589   \n",
       "88                                      1.414279   \n",
       "\n",
       "    T_z__permutation_entropy__dimension_6__tau_1  \\\n",
       "6                                       2.163956   \n",
       "7                                       1.748067   \n",
       "8                                       2.302585   \n",
       "9                                       2.302585   \n",
       "10                                     -0.000000   \n",
       "..                                           ...   \n",
       "84                                      2.302585   \n",
       "85                                      2.163956   \n",
       "86                                      1.227529   \n",
       "87                                      1.497866   \n",
       "88                                      1.609438   \n",
       "\n",
       "    T_z__permutation_entropy__dimension_7__tau_1  \\\n",
       "6                                       2.197225   \n",
       "7                                       1.831020   \n",
       "8                                       2.197225   \n",
       "9                                       2.197225   \n",
       "10                                     -0.000000   \n",
       "..                                           ...   \n",
       "84                                      2.197225   \n",
       "85                                      2.197225   \n",
       "86                                      1.303092   \n",
       "87                                      1.581094   \n",
       "88                                      1.831020   \n",
       "\n",
       "    T_z__query_similarity_count__query_None__threshold_0.0  \\\n",
       "6                                                 0.0        \n",
       "7                                                 0.0        \n",
       "8                                                 0.0        \n",
       "9                                                 0.0        \n",
       "10                                                0.0        \n",
       "..                                                ...        \n",
       "84                                                0.0        \n",
       "85                                                0.0        \n",
       "86                                                0.0        \n",
       "87                                                0.0        \n",
       "88                                                0.0        \n",
       "\n",
       "    T_z__mean_n_absolute_max__number_of_maxima_7  \n",
       "6                                       0.714286  \n",
       "7                                       0.428571  \n",
       "8                                       1.285714  \n",
       "9                                       1.285714  \n",
       "10                                      0.000000  \n",
       "..                                           ...  \n",
       "84                                     24.285714  \n",
       "85                                      5.571429  \n",
       "86                                      9.285714  \n",
       "87                                     40.285714  \n",
       "88                                      5.428571  \n",
       "\n",
       "[67 rows x 4662 columns]"
      ]
     },
     "execution_count": 26,
     "metadata": {},
     "output_type": "execute_result"
    }
   ],
   "source": [
    "impute(comprehensive_features_train)"
   ]
  },
  {
   "cell_type": "code",
   "execution_count": 27,
   "metadata": {},
   "outputs": [
    {
     "name": "stderr",
     "output_type": "stream",
     "text": [
      "/opt/conda/lib/python3.9/site-packages/tsfresh/utilities/dataframe_functions.py:198: RuntimeWarning: The columns ['F_x__partial_autocorrelation__lag_7'\n",
      " 'F_x__partial_autocorrelation__lag_8'\n",
      " 'F_x__partial_autocorrelation__lag_9' ...\n",
      " 'T_z__agg_linear_trend__attr_\"stderr\"__chunk_len_50__f_agg_\"mean\"'\n",
      " 'T_z__agg_linear_trend__attr_\"stderr\"__chunk_len_50__f_agg_\"var\"'\n",
      " 'T_z__query_similarity_count__query_None__threshold_0.0'] did not have any finite values. Filling with zeros.\n",
      "  warnings.warn(\n"
     ]
    },
    {
     "data": {
      "text/html": [
       "<div>\n",
       "<style scoped>\n",
       "    .dataframe tbody tr th:only-of-type {\n",
       "        vertical-align: middle;\n",
       "    }\n",
       "\n",
       "    .dataframe tbody tr th {\n",
       "        vertical-align: top;\n",
       "    }\n",
       "\n",
       "    .dataframe thead th {\n",
       "        text-align: right;\n",
       "    }\n",
       "</style>\n",
       "<table border=\"1\" class=\"dataframe\">\n",
       "  <thead>\n",
       "    <tr style=\"text-align: right;\">\n",
       "      <th></th>\n",
       "      <th>F_x__variance_larger_than_standard_deviation</th>\n",
       "      <th>F_x__has_duplicate_max</th>\n",
       "      <th>F_x__has_duplicate_min</th>\n",
       "      <th>F_x__has_duplicate</th>\n",
       "      <th>F_x__sum_values</th>\n",
       "      <th>F_x__abs_energy</th>\n",
       "      <th>F_x__mean_abs_change</th>\n",
       "      <th>F_x__mean_change</th>\n",
       "      <th>F_x__mean_second_derivative_central</th>\n",
       "      <th>F_x__median</th>\n",
       "      <th>...</th>\n",
       "      <th>T_z__fourier_entropy__bins_5</th>\n",
       "      <th>T_z__fourier_entropy__bins_10</th>\n",
       "      <th>T_z__fourier_entropy__bins_100</th>\n",
       "      <th>T_z__permutation_entropy__dimension_3__tau_1</th>\n",
       "      <th>T_z__permutation_entropy__dimension_4__tau_1</th>\n",
       "      <th>T_z__permutation_entropy__dimension_5__tau_1</th>\n",
       "      <th>T_z__permutation_entropy__dimension_6__tau_1</th>\n",
       "      <th>T_z__permutation_entropy__dimension_7__tau_1</th>\n",
       "      <th>T_z__query_similarity_count__query_None__threshold_0.0</th>\n",
       "      <th>T_z__mean_n_absolute_max__number_of_maxima_7</th>\n",
       "    </tr>\n",
       "  </thead>\n",
       "  <tbody>\n",
       "    <tr>\n",
       "      <th>1</th>\n",
       "      <td>0.0</td>\n",
       "      <td>0.0</td>\n",
       "      <td>1.0</td>\n",
       "      <td>1.0</td>\n",
       "      <td>-14.0</td>\n",
       "      <td>14.0</td>\n",
       "      <td>0.142857</td>\n",
       "      <td>0.000000</td>\n",
       "      <td>-0.038462</td>\n",
       "      <td>-1.0</td>\n",
       "      <td>...</td>\n",
       "      <td>1.073543</td>\n",
       "      <td>1.440235</td>\n",
       "      <td>2.079442</td>\n",
       "      <td>-0.000000</td>\n",
       "      <td>-0.000000</td>\n",
       "      <td>-0.000000</td>\n",
       "      <td>-0.000000</td>\n",
       "      <td>-0.000000</td>\n",
       "      <td>0.0</td>\n",
       "      <td>0.000000</td>\n",
       "    </tr>\n",
       "    <tr>\n",
       "      <th>2</th>\n",
       "      <td>0.0</td>\n",
       "      <td>1.0</td>\n",
       "      <td>1.0</td>\n",
       "      <td>1.0</td>\n",
       "      <td>-13.0</td>\n",
       "      <td>25.0</td>\n",
       "      <td>1.000000</td>\n",
       "      <td>0.000000</td>\n",
       "      <td>-0.038462</td>\n",
       "      <td>-1.0</td>\n",
       "      <td>...</td>\n",
       "      <td>1.073543</td>\n",
       "      <td>1.494175</td>\n",
       "      <td>2.079442</td>\n",
       "      <td>0.937156</td>\n",
       "      <td>1.234268</td>\n",
       "      <td>1.540306</td>\n",
       "      <td>1.748067</td>\n",
       "      <td>1.831020</td>\n",
       "      <td>0.0</td>\n",
       "      <td>0.571429</td>\n",
       "    </tr>\n",
       "    <tr>\n",
       "      <th>3</th>\n",
       "      <td>0.0</td>\n",
       "      <td>0.0</td>\n",
       "      <td>1.0</td>\n",
       "      <td>1.0</td>\n",
       "      <td>-10.0</td>\n",
       "      <td>12.0</td>\n",
       "      <td>0.714286</td>\n",
       "      <td>0.000000</td>\n",
       "      <td>-0.038462</td>\n",
       "      <td>-1.0</td>\n",
       "      <td>...</td>\n",
       "      <td>1.386294</td>\n",
       "      <td>1.732868</td>\n",
       "      <td>2.079442</td>\n",
       "      <td>1.265857</td>\n",
       "      <td>1.704551</td>\n",
       "      <td>2.019815</td>\n",
       "      <td>2.163956</td>\n",
       "      <td>2.197225</td>\n",
       "      <td>0.0</td>\n",
       "      <td>0.571429</td>\n",
       "    </tr>\n",
       "    <tr>\n",
       "      <th>4</th>\n",
       "      <td>0.0</td>\n",
       "      <td>1.0</td>\n",
       "      <td>1.0</td>\n",
       "      <td>1.0</td>\n",
       "      <td>-6.0</td>\n",
       "      <td>16.0</td>\n",
       "      <td>1.214286</td>\n",
       "      <td>-0.071429</td>\n",
       "      <td>-0.038462</td>\n",
       "      <td>0.0</td>\n",
       "      <td>...</td>\n",
       "      <td>1.073543</td>\n",
       "      <td>1.494175</td>\n",
       "      <td>2.079442</td>\n",
       "      <td>1.156988</td>\n",
       "      <td>1.907284</td>\n",
       "      <td>2.397895</td>\n",
       "      <td>2.302585</td>\n",
       "      <td>2.197225</td>\n",
       "      <td>0.0</td>\n",
       "      <td>1.000000</td>\n",
       "    </tr>\n",
       "    <tr>\n",
       "      <th>5</th>\n",
       "      <td>0.0</td>\n",
       "      <td>0.0</td>\n",
       "      <td>0.0</td>\n",
       "      <td>1.0</td>\n",
       "      <td>-9.0</td>\n",
       "      <td>17.0</td>\n",
       "      <td>0.928571</td>\n",
       "      <td>-0.071429</td>\n",
       "      <td>0.038462</td>\n",
       "      <td>-1.0</td>\n",
       "      <td>...</td>\n",
       "      <td>0.900256</td>\n",
       "      <td>1.320888</td>\n",
       "      <td>2.079442</td>\n",
       "      <td>1.156988</td>\n",
       "      <td>1.863680</td>\n",
       "      <td>2.271869</td>\n",
       "      <td>2.302585</td>\n",
       "      <td>2.197225</td>\n",
       "      <td>0.0</td>\n",
       "      <td>0.857143</td>\n",
       "    </tr>\n",
       "    <tr>\n",
       "      <th>19</th>\n",
       "      <td>1.0</td>\n",
       "      <td>0.0</td>\n",
       "      <td>0.0</td>\n",
       "      <td>1.0</td>\n",
       "      <td>99.0</td>\n",
       "      <td>6109.0</td>\n",
       "      <td>13.928571</td>\n",
       "      <td>-1.928571</td>\n",
       "      <td>-1.730769</td>\n",
       "      <td>1.0</td>\n",
       "      <td>...</td>\n",
       "      <td>0.974315</td>\n",
       "      <td>1.494175</td>\n",
       "      <td>1.906155</td>\n",
       "      <td>1.230932</td>\n",
       "      <td>1.704551</td>\n",
       "      <td>2.019815</td>\n",
       "      <td>2.025326</td>\n",
       "      <td>2.043192</td>\n",
       "      <td>0.0</td>\n",
       "      <td>1.428571</td>\n",
       "    </tr>\n",
       "    <tr>\n",
       "      <th>20</th>\n",
       "      <td>1.0</td>\n",
       "      <td>0.0</td>\n",
       "      <td>1.0</td>\n",
       "      <td>1.0</td>\n",
       "      <td>155.0</td>\n",
       "      <td>34455.0</td>\n",
       "      <td>16.714286</td>\n",
       "      <td>-13.142857</td>\n",
       "      <td>7.576923</td>\n",
       "      <td>-1.0</td>\n",
       "      <td>...</td>\n",
       "      <td>1.386294</td>\n",
       "      <td>1.667462</td>\n",
       "      <td>2.079442</td>\n",
       "      <td>1.564957</td>\n",
       "      <td>2.022809</td>\n",
       "      <td>2.271869</td>\n",
       "      <td>2.302585</td>\n",
       "      <td>2.197225</td>\n",
       "      <td>0.0</td>\n",
       "      <td>2.571429</td>\n",
       "    </tr>\n",
       "    <tr>\n",
       "      <th>21</th>\n",
       "      <td>1.0</td>\n",
       "      <td>0.0</td>\n",
       "      <td>0.0</td>\n",
       "      <td>1.0</td>\n",
       "      <td>-171.0</td>\n",
       "      <td>16495.0</td>\n",
       "      <td>20.928571</td>\n",
       "      <td>1.785714</td>\n",
       "      <td>3.961538</td>\n",
       "      <td>-1.0</td>\n",
       "      <td>...</td>\n",
       "      <td>0.735622</td>\n",
       "      <td>0.735622</td>\n",
       "      <td>0.735622</td>\n",
       "      <td>1.303876</td>\n",
       "      <td>1.791759</td>\n",
       "      <td>2.271869</td>\n",
       "      <td>2.302585</td>\n",
       "      <td>2.197225</td>\n",
       "      <td>0.0</td>\n",
       "      <td>17.285714</td>\n",
       "    </tr>\n",
       "    <tr>\n",
       "      <th>22</th>\n",
       "      <td>1.0</td>\n",
       "      <td>0.0</td>\n",
       "      <td>0.0</td>\n",
       "      <td>1.0</td>\n",
       "      <td>102.0</td>\n",
       "      <td>12700.0</td>\n",
       "      <td>10.785714</td>\n",
       "      <td>-8.071429</td>\n",
       "      <td>4.500000</td>\n",
       "      <td>-1.0</td>\n",
       "      <td>...</td>\n",
       "      <td>0.562335</td>\n",
       "      <td>0.735622</td>\n",
       "      <td>1.732868</td>\n",
       "      <td>1.524707</td>\n",
       "      <td>2.138333</td>\n",
       "      <td>2.397895</td>\n",
       "      <td>2.302585</td>\n",
       "      <td>2.197225</td>\n",
       "      <td>0.0</td>\n",
       "      <td>5.428571</td>\n",
       "    </tr>\n",
       "    <tr>\n",
       "      <th>23</th>\n",
       "      <td>1.0</td>\n",
       "      <td>0.0</td>\n",
       "      <td>0.0</td>\n",
       "      <td>1.0</td>\n",
       "      <td>67.0</td>\n",
       "      <td>10593.0</td>\n",
       "      <td>15.142857</td>\n",
       "      <td>-7.000000</td>\n",
       "      <td>3.000000</td>\n",
       "      <td>-3.0</td>\n",
       "      <td>...</td>\n",
       "      <td>0.974315</td>\n",
       "      <td>1.255482</td>\n",
       "      <td>2.079442</td>\n",
       "      <td>1.519383</td>\n",
       "      <td>2.369382</td>\n",
       "      <td>2.397895</td>\n",
       "      <td>2.302585</td>\n",
       "      <td>2.197225</td>\n",
       "      <td>0.0</td>\n",
       "      <td>3.714286</td>\n",
       "    </tr>\n",
       "    <tr>\n",
       "      <th>24</th>\n",
       "      <td>1.0</td>\n",
       "      <td>0.0</td>\n",
       "      <td>0.0</td>\n",
       "      <td>1.0</td>\n",
       "      <td>-338.0</td>\n",
       "      <td>37100.0</td>\n",
       "      <td>13.214286</td>\n",
       "      <td>9.071429</td>\n",
       "      <td>0.230769</td>\n",
       "      <td>-4.0</td>\n",
       "      <td>...</td>\n",
       "      <td>1.213008</td>\n",
       "      <td>1.494175</td>\n",
       "      <td>2.079442</td>\n",
       "      <td>1.377820</td>\n",
       "      <td>1.386294</td>\n",
       "      <td>1.546599</td>\n",
       "      <td>1.695743</td>\n",
       "      <td>1.889159</td>\n",
       "      <td>0.0</td>\n",
       "      <td>16.714286</td>\n",
       "    </tr>\n",
       "    <tr>\n",
       "      <th>25</th>\n",
       "      <td>1.0</td>\n",
       "      <td>0.0</td>\n",
       "      <td>0.0</td>\n",
       "      <td>1.0</td>\n",
       "      <td>-123.0</td>\n",
       "      <td>6853.0</td>\n",
       "      <td>7.785714</td>\n",
       "      <td>5.214286</td>\n",
       "      <td>-1.730769</td>\n",
       "      <td>0.0</td>\n",
       "      <td>...</td>\n",
       "      <td>0.900256</td>\n",
       "      <td>1.213008</td>\n",
       "      <td>1.732868</td>\n",
       "      <td>1.438883</td>\n",
       "      <td>2.138333</td>\n",
       "      <td>2.397895</td>\n",
       "      <td>2.302585</td>\n",
       "      <td>2.197225</td>\n",
       "      <td>0.0</td>\n",
       "      <td>4.142857</td>\n",
       "    </tr>\n",
       "    <tr>\n",
       "      <th>26</th>\n",
       "      <td>1.0</td>\n",
       "      <td>0.0</td>\n",
       "      <td>0.0</td>\n",
       "      <td>1.0</td>\n",
       "      <td>-63.0</td>\n",
       "      <td>18717.0</td>\n",
       "      <td>14.214286</td>\n",
       "      <td>9.500000</td>\n",
       "      <td>-5.923077</td>\n",
       "      <td>1.0</td>\n",
       "      <td>...</td>\n",
       "      <td>0.735622</td>\n",
       "      <td>1.255482</td>\n",
       "      <td>1.906155</td>\n",
       "      <td>1.671595</td>\n",
       "      <td>2.253858</td>\n",
       "      <td>2.397895</td>\n",
       "      <td>2.302585</td>\n",
       "      <td>2.197225</td>\n",
       "      <td>0.0</td>\n",
       "      <td>8.857143</td>\n",
       "    </tr>\n",
       "    <tr>\n",
       "      <th>27</th>\n",
       "      <td>1.0</td>\n",
       "      <td>1.0</td>\n",
       "      <td>0.0</td>\n",
       "      <td>1.0</td>\n",
       "      <td>50.0</td>\n",
       "      <td>1366.0</td>\n",
       "      <td>6.428571</td>\n",
       "      <td>0.571429</td>\n",
       "      <td>-1.230769</td>\n",
       "      <td>1.0</td>\n",
       "      <td>...</td>\n",
       "      <td>1.320888</td>\n",
       "      <td>1.732868</td>\n",
       "      <td>2.079442</td>\n",
       "      <td>1.524707</td>\n",
       "      <td>2.022809</td>\n",
       "      <td>2.145842</td>\n",
       "      <td>2.302585</td>\n",
       "      <td>2.197225</td>\n",
       "      <td>0.0</td>\n",
       "      <td>1.571429</td>\n",
       "    </tr>\n",
       "    <tr>\n",
       "      <th>28</th>\n",
       "      <td>1.0</td>\n",
       "      <td>0.0</td>\n",
       "      <td>0.0</td>\n",
       "      <td>1.0</td>\n",
       "      <td>-28.0</td>\n",
       "      <td>1002.0</td>\n",
       "      <td>6.000000</td>\n",
       "      <td>-0.285714</td>\n",
       "      <td>1.153846</td>\n",
       "      <td>0.0</td>\n",
       "      <td>...</td>\n",
       "      <td>1.213008</td>\n",
       "      <td>1.386294</td>\n",
       "      <td>1.906155</td>\n",
       "      <td>1.524707</td>\n",
       "      <td>1.979205</td>\n",
       "      <td>2.019815</td>\n",
       "      <td>2.025326</td>\n",
       "      <td>2.043192</td>\n",
       "      <td>0.0</td>\n",
       "      <td>2.000000</td>\n",
       "    </tr>\n",
       "    <tr>\n",
       "      <th>29</th>\n",
       "      <td>1.0</td>\n",
       "      <td>0.0</td>\n",
       "      <td>0.0</td>\n",
       "      <td>1.0</td>\n",
       "      <td>-51.0</td>\n",
       "      <td>809.0</td>\n",
       "      <td>4.500000</td>\n",
       "      <td>1.071429</td>\n",
       "      <td>0.307692</td>\n",
       "      <td>-1.0</td>\n",
       "      <td>...</td>\n",
       "      <td>1.559581</td>\n",
       "      <td>1.559581</td>\n",
       "      <td>2.079442</td>\n",
       "      <td>1.438883</td>\n",
       "      <td>2.022809</td>\n",
       "      <td>2.397895</td>\n",
       "      <td>2.302585</td>\n",
       "      <td>2.197225</td>\n",
       "      <td>0.0</td>\n",
       "      <td>1.285714</td>\n",
       "    </tr>\n",
       "    <tr>\n",
       "      <th>30</th>\n",
       "      <td>1.0</td>\n",
       "      <td>0.0</td>\n",
       "      <td>1.0</td>\n",
       "      <td>1.0</td>\n",
       "      <td>36.0</td>\n",
       "      <td>250.0</td>\n",
       "      <td>3.071429</td>\n",
       "      <td>-0.642857</td>\n",
       "      <td>0.230769</td>\n",
       "      <td>1.0</td>\n",
       "      <td>...</td>\n",
       "      <td>1.213008</td>\n",
       "      <td>1.667462</td>\n",
       "      <td>2.079442</td>\n",
       "      <td>1.671595</td>\n",
       "      <td>2.369382</td>\n",
       "      <td>2.397895</td>\n",
       "      <td>2.302585</td>\n",
       "      <td>2.197225</td>\n",
       "      <td>0.0</td>\n",
       "      <td>1.571429</td>\n",
       "    </tr>\n",
       "    <tr>\n",
       "      <th>31</th>\n",
       "      <td>1.0</td>\n",
       "      <td>0.0</td>\n",
       "      <td>0.0</td>\n",
       "      <td>1.0</td>\n",
       "      <td>43.0</td>\n",
       "      <td>199.0</td>\n",
       "      <td>1.500000</td>\n",
       "      <td>-0.214286</td>\n",
       "      <td>-0.269231</td>\n",
       "      <td>2.0</td>\n",
       "      <td>...</td>\n",
       "      <td>1.494175</td>\n",
       "      <td>1.732868</td>\n",
       "      <td>2.079442</td>\n",
       "      <td>1.591096</td>\n",
       "      <td>2.253858</td>\n",
       "      <td>2.271869</td>\n",
       "      <td>2.302585</td>\n",
       "      <td>2.197225</td>\n",
       "      <td>0.0</td>\n",
       "      <td>1.142857</td>\n",
       "    </tr>\n",
       "    <tr>\n",
       "      <th>32</th>\n",
       "      <td>1.0</td>\n",
       "      <td>0.0</td>\n",
       "      <td>0.0</td>\n",
       "      <td>1.0</td>\n",
       "      <td>-15.0</td>\n",
       "      <td>451.0</td>\n",
       "      <td>4.642857</td>\n",
       "      <td>-0.214286</td>\n",
       "      <td>0.076923</td>\n",
       "      <td>0.0</td>\n",
       "      <td>...</td>\n",
       "      <td>1.073543</td>\n",
       "      <td>1.073543</td>\n",
       "      <td>1.906155</td>\n",
       "      <td>1.564957</td>\n",
       "      <td>2.022809</td>\n",
       "      <td>2.145842</td>\n",
       "      <td>2.302585</td>\n",
       "      <td>2.197225</td>\n",
       "      <td>0.0</td>\n",
       "      <td>3.000000</td>\n",
       "    </tr>\n",
       "    <tr>\n",
       "      <th>33</th>\n",
       "      <td>1.0</td>\n",
       "      <td>0.0</td>\n",
       "      <td>0.0</td>\n",
       "      <td>1.0</td>\n",
       "      <td>22.0</td>\n",
       "      <td>1100.0</td>\n",
       "      <td>5.928571</td>\n",
       "      <td>-0.357143</td>\n",
       "      <td>-1.076923</td>\n",
       "      <td>-1.0</td>\n",
       "      <td>...</td>\n",
       "      <td>0.562335</td>\n",
       "      <td>0.900256</td>\n",
       "      <td>1.906155</td>\n",
       "      <td>1.711845</td>\n",
       "      <td>2.253858</td>\n",
       "      <td>2.397895</td>\n",
       "      <td>2.302585</td>\n",
       "      <td>2.197225</td>\n",
       "      <td>0.0</td>\n",
       "      <td>3.142857</td>\n",
       "    </tr>\n",
       "    <tr>\n",
       "      <th>34</th>\n",
       "      <td>1.0</td>\n",
       "      <td>0.0</td>\n",
       "      <td>0.0</td>\n",
       "      <td>1.0</td>\n",
       "      <td>173.0</td>\n",
       "      <td>9807.0</td>\n",
       "      <td>14.000000</td>\n",
       "      <td>-5.000000</td>\n",
       "      <td>2.000000</td>\n",
       "      <td>1.0</td>\n",
       "      <td>...</td>\n",
       "      <td>0.735622</td>\n",
       "      <td>0.735622</td>\n",
       "      <td>0.735622</td>\n",
       "      <td>1.438883</td>\n",
       "      <td>1.863680</td>\n",
       "      <td>2.019815</td>\n",
       "      <td>2.163956</td>\n",
       "      <td>2.197225</td>\n",
       "      <td>0.0</td>\n",
       "      <td>22.285714</td>\n",
       "    </tr>\n",
       "  </tbody>\n",
       "</table>\n",
       "<p>21 rows × 4662 columns</p>\n",
       "</div>"
      ],
      "text/plain": [
       "    F_x__variance_larger_than_standard_deviation  F_x__has_duplicate_max  \\\n",
       "1                                            0.0                     0.0   \n",
       "2                                            0.0                     1.0   \n",
       "3                                            0.0                     0.0   \n",
       "4                                            0.0                     1.0   \n",
       "5                                            0.0                     0.0   \n",
       "19                                           1.0                     0.0   \n",
       "20                                           1.0                     0.0   \n",
       "21                                           1.0                     0.0   \n",
       "22                                           1.0                     0.0   \n",
       "23                                           1.0                     0.0   \n",
       "24                                           1.0                     0.0   \n",
       "25                                           1.0                     0.0   \n",
       "26                                           1.0                     0.0   \n",
       "27                                           1.0                     1.0   \n",
       "28                                           1.0                     0.0   \n",
       "29                                           1.0                     0.0   \n",
       "30                                           1.0                     0.0   \n",
       "31                                           1.0                     0.0   \n",
       "32                                           1.0                     0.0   \n",
       "33                                           1.0                     0.0   \n",
       "34                                           1.0                     0.0   \n",
       "\n",
       "    F_x__has_duplicate_min  F_x__has_duplicate  F_x__sum_values  \\\n",
       "1                      1.0                 1.0            -14.0   \n",
       "2                      1.0                 1.0            -13.0   \n",
       "3                      1.0                 1.0            -10.0   \n",
       "4                      1.0                 1.0             -6.0   \n",
       "5                      0.0                 1.0             -9.0   \n",
       "19                     0.0                 1.0             99.0   \n",
       "20                     1.0                 1.0            155.0   \n",
       "21                     0.0                 1.0           -171.0   \n",
       "22                     0.0                 1.0            102.0   \n",
       "23                     0.0                 1.0             67.0   \n",
       "24                     0.0                 1.0           -338.0   \n",
       "25                     0.0                 1.0           -123.0   \n",
       "26                     0.0                 1.0            -63.0   \n",
       "27                     0.0                 1.0             50.0   \n",
       "28                     0.0                 1.0            -28.0   \n",
       "29                     0.0                 1.0            -51.0   \n",
       "30                     1.0                 1.0             36.0   \n",
       "31                     0.0                 1.0             43.0   \n",
       "32                     0.0                 1.0            -15.0   \n",
       "33                     0.0                 1.0             22.0   \n",
       "34                     0.0                 1.0            173.0   \n",
       "\n",
       "    F_x__abs_energy  F_x__mean_abs_change  F_x__mean_change  \\\n",
       "1              14.0              0.142857          0.000000   \n",
       "2              25.0              1.000000          0.000000   \n",
       "3              12.0              0.714286          0.000000   \n",
       "4              16.0              1.214286         -0.071429   \n",
       "5              17.0              0.928571         -0.071429   \n",
       "19           6109.0             13.928571         -1.928571   \n",
       "20          34455.0             16.714286        -13.142857   \n",
       "21          16495.0             20.928571          1.785714   \n",
       "22          12700.0             10.785714         -8.071429   \n",
       "23          10593.0             15.142857         -7.000000   \n",
       "24          37100.0             13.214286          9.071429   \n",
       "25           6853.0              7.785714          5.214286   \n",
       "26          18717.0             14.214286          9.500000   \n",
       "27           1366.0              6.428571          0.571429   \n",
       "28           1002.0              6.000000         -0.285714   \n",
       "29            809.0              4.500000          1.071429   \n",
       "30            250.0              3.071429         -0.642857   \n",
       "31            199.0              1.500000         -0.214286   \n",
       "32            451.0              4.642857         -0.214286   \n",
       "33           1100.0              5.928571         -0.357143   \n",
       "34           9807.0             14.000000         -5.000000   \n",
       "\n",
       "    F_x__mean_second_derivative_central  F_x__median  ...  \\\n",
       "1                             -0.038462         -1.0  ...   \n",
       "2                             -0.038462         -1.0  ...   \n",
       "3                             -0.038462         -1.0  ...   \n",
       "4                             -0.038462          0.0  ...   \n",
       "5                              0.038462         -1.0  ...   \n",
       "19                            -1.730769          1.0  ...   \n",
       "20                             7.576923         -1.0  ...   \n",
       "21                             3.961538         -1.0  ...   \n",
       "22                             4.500000         -1.0  ...   \n",
       "23                             3.000000         -3.0  ...   \n",
       "24                             0.230769         -4.0  ...   \n",
       "25                            -1.730769          0.0  ...   \n",
       "26                            -5.923077          1.0  ...   \n",
       "27                            -1.230769          1.0  ...   \n",
       "28                             1.153846          0.0  ...   \n",
       "29                             0.307692         -1.0  ...   \n",
       "30                             0.230769          1.0  ...   \n",
       "31                            -0.269231          2.0  ...   \n",
       "32                             0.076923          0.0  ...   \n",
       "33                            -1.076923         -1.0  ...   \n",
       "34                             2.000000          1.0  ...   \n",
       "\n",
       "    T_z__fourier_entropy__bins_5  T_z__fourier_entropy__bins_10  \\\n",
       "1                       1.073543                       1.440235   \n",
       "2                       1.073543                       1.494175   \n",
       "3                       1.386294                       1.732868   \n",
       "4                       1.073543                       1.494175   \n",
       "5                       0.900256                       1.320888   \n",
       "19                      0.974315                       1.494175   \n",
       "20                      1.386294                       1.667462   \n",
       "21                      0.735622                       0.735622   \n",
       "22                      0.562335                       0.735622   \n",
       "23                      0.974315                       1.255482   \n",
       "24                      1.213008                       1.494175   \n",
       "25                      0.900256                       1.213008   \n",
       "26                      0.735622                       1.255482   \n",
       "27                      1.320888                       1.732868   \n",
       "28                      1.213008                       1.386294   \n",
       "29                      1.559581                       1.559581   \n",
       "30                      1.213008                       1.667462   \n",
       "31                      1.494175                       1.732868   \n",
       "32                      1.073543                       1.073543   \n",
       "33                      0.562335                       0.900256   \n",
       "34                      0.735622                       0.735622   \n",
       "\n",
       "    T_z__fourier_entropy__bins_100  \\\n",
       "1                         2.079442   \n",
       "2                         2.079442   \n",
       "3                         2.079442   \n",
       "4                         2.079442   \n",
       "5                         2.079442   \n",
       "19                        1.906155   \n",
       "20                        2.079442   \n",
       "21                        0.735622   \n",
       "22                        1.732868   \n",
       "23                        2.079442   \n",
       "24                        2.079442   \n",
       "25                        1.732868   \n",
       "26                        1.906155   \n",
       "27                        2.079442   \n",
       "28                        1.906155   \n",
       "29                        2.079442   \n",
       "30                        2.079442   \n",
       "31                        2.079442   \n",
       "32                        1.906155   \n",
       "33                        1.906155   \n",
       "34                        0.735622   \n",
       "\n",
       "    T_z__permutation_entropy__dimension_3__tau_1  \\\n",
       "1                                      -0.000000   \n",
       "2                                       0.937156   \n",
       "3                                       1.265857   \n",
       "4                                       1.156988   \n",
       "5                                       1.156988   \n",
       "19                                      1.230932   \n",
       "20                                      1.564957   \n",
       "21                                      1.303876   \n",
       "22                                      1.524707   \n",
       "23                                      1.519383   \n",
       "24                                      1.377820   \n",
       "25                                      1.438883   \n",
       "26                                      1.671595   \n",
       "27                                      1.524707   \n",
       "28                                      1.524707   \n",
       "29                                      1.438883   \n",
       "30                                      1.671595   \n",
       "31                                      1.591096   \n",
       "32                                      1.564957   \n",
       "33                                      1.711845   \n",
       "34                                      1.438883   \n",
       "\n",
       "    T_z__permutation_entropy__dimension_4__tau_1  \\\n",
       "1                                      -0.000000   \n",
       "2                                       1.234268   \n",
       "3                                       1.704551   \n",
       "4                                       1.907284   \n",
       "5                                       1.863680   \n",
       "19                                      1.704551   \n",
       "20                                      2.022809   \n",
       "21                                      1.791759   \n",
       "22                                      2.138333   \n",
       "23                                      2.369382   \n",
       "24                                      1.386294   \n",
       "25                                      2.138333   \n",
       "26                                      2.253858   \n",
       "27                                      2.022809   \n",
       "28                                      1.979205   \n",
       "29                                      2.022809   \n",
       "30                                      2.369382   \n",
       "31                                      2.253858   \n",
       "32                                      2.022809   \n",
       "33                                      2.253858   \n",
       "34                                      1.863680   \n",
       "\n",
       "    T_z__permutation_entropy__dimension_5__tau_1  \\\n",
       "1                                      -0.000000   \n",
       "2                                       1.540306   \n",
       "3                                       2.019815   \n",
       "4                                       2.397895   \n",
       "5                                       2.271869   \n",
       "19                                      2.019815   \n",
       "20                                      2.271869   \n",
       "21                                      2.271869   \n",
       "22                                      2.397895   \n",
       "23                                      2.397895   \n",
       "24                                      1.546599   \n",
       "25                                      2.397895   \n",
       "26                                      2.397895   \n",
       "27                                      2.145842   \n",
       "28                                      2.019815   \n",
       "29                                      2.397895   \n",
       "30                                      2.397895   \n",
       "31                                      2.271869   \n",
       "32                                      2.145842   \n",
       "33                                      2.397895   \n",
       "34                                      2.019815   \n",
       "\n",
       "    T_z__permutation_entropy__dimension_6__tau_1  \\\n",
       "1                                      -0.000000   \n",
       "2                                       1.748067   \n",
       "3                                       2.163956   \n",
       "4                                       2.302585   \n",
       "5                                       2.302585   \n",
       "19                                      2.025326   \n",
       "20                                      2.302585   \n",
       "21                                      2.302585   \n",
       "22                                      2.302585   \n",
       "23                                      2.302585   \n",
       "24                                      1.695743   \n",
       "25                                      2.302585   \n",
       "26                                      2.302585   \n",
       "27                                      2.302585   \n",
       "28                                      2.025326   \n",
       "29                                      2.302585   \n",
       "30                                      2.302585   \n",
       "31                                      2.302585   \n",
       "32                                      2.302585   \n",
       "33                                      2.302585   \n",
       "34                                      2.163956   \n",
       "\n",
       "    T_z__permutation_entropy__dimension_7__tau_1  \\\n",
       "1                                      -0.000000   \n",
       "2                                       1.831020   \n",
       "3                                       2.197225   \n",
       "4                                       2.197225   \n",
       "5                                       2.197225   \n",
       "19                                      2.043192   \n",
       "20                                      2.197225   \n",
       "21                                      2.197225   \n",
       "22                                      2.197225   \n",
       "23                                      2.197225   \n",
       "24                                      1.889159   \n",
       "25                                      2.197225   \n",
       "26                                      2.197225   \n",
       "27                                      2.197225   \n",
       "28                                      2.043192   \n",
       "29                                      2.197225   \n",
       "30                                      2.197225   \n",
       "31                                      2.197225   \n",
       "32                                      2.197225   \n",
       "33                                      2.197225   \n",
       "34                                      2.197225   \n",
       "\n",
       "    T_z__query_similarity_count__query_None__threshold_0.0  \\\n",
       "1                                                 0.0        \n",
       "2                                                 0.0        \n",
       "3                                                 0.0        \n",
       "4                                                 0.0        \n",
       "5                                                 0.0        \n",
       "19                                                0.0        \n",
       "20                                                0.0        \n",
       "21                                                0.0        \n",
       "22                                                0.0        \n",
       "23                                                0.0        \n",
       "24                                                0.0        \n",
       "25                                                0.0        \n",
       "26                                                0.0        \n",
       "27                                                0.0        \n",
       "28                                                0.0        \n",
       "29                                                0.0        \n",
       "30                                                0.0        \n",
       "31                                                0.0        \n",
       "32                                                0.0        \n",
       "33                                                0.0        \n",
       "34                                                0.0        \n",
       "\n",
       "    T_z__mean_n_absolute_max__number_of_maxima_7  \n",
       "1                                       0.000000  \n",
       "2                                       0.571429  \n",
       "3                                       0.571429  \n",
       "4                                       1.000000  \n",
       "5                                       0.857143  \n",
       "19                                      1.428571  \n",
       "20                                      2.571429  \n",
       "21                                     17.285714  \n",
       "22                                      5.428571  \n",
       "23                                      3.714286  \n",
       "24                                     16.714286  \n",
       "25                                      4.142857  \n",
       "26                                      8.857143  \n",
       "27                                      1.571429  \n",
       "28                                      2.000000  \n",
       "29                                      1.285714  \n",
       "30                                      1.571429  \n",
       "31                                      1.142857  \n",
       "32                                      3.000000  \n",
       "33                                      3.142857  \n",
       "34                                     22.285714  \n",
       "\n",
       "[21 rows x 4662 columns]"
      ]
     },
     "execution_count": 27,
     "metadata": {},
     "output_type": "execute_result"
    }
   ],
   "source": [
    "impute(comprehensive_features_test)"
   ]
  },
  {
   "cell_type": "markdown",
   "metadata": {},
   "source": [
    "### 모델 학습 및 결과 확인"
   ]
  },
  {
   "cell_type": "markdown",
   "metadata": {},
   "source": [
    "#### Logistic Regression"
   ]
  },
  {
   "cell_type": "code",
   "execution_count": 28,
   "metadata": {},
   "outputs": [
    {
     "data": {
      "text/plain": [
       "LogisticRegression()"
      ]
     },
     "execution_count": 28,
     "metadata": {},
     "output_type": "execute_result"
    }
   ],
   "source": [
    "from sklearn.linear_model import LogisticRegression\n",
    "\n",
    "# 모델 생성\n",
    "lg = LogisticRegression()\n",
    "\n",
    "# 모델 학습\n",
    "lg.fit(comprehensive_features_train, y_train)"
   ]
  },
  {
   "cell_type": "code",
   "execution_count": 29,
   "metadata": {},
   "outputs": [
    {
     "data": {
      "text/plain": [
       "0.5714285714285714"
      ]
     },
     "execution_count": 29,
     "metadata": {},
     "output_type": "execute_result"
    }
   ],
   "source": [
    "# 결과\n",
    "lg.score(comprehensive_features_test, y_test)"
   ]
  },
  {
   "cell_type": "markdown",
   "metadata": {},
   "source": [
    "- classification_report"
   ]
  },
  {
   "cell_type": "code",
   "execution_count": 32,
   "metadata": {},
   "outputs": [],
   "source": [
    "lg_pred = lg.predict(comprehensive_features_test)"
   ]
  },
  {
   "cell_type": "code",
   "execution_count": 33,
   "metadata": {},
   "outputs": [
    {
     "name": "stdout",
     "output_type": "stream",
     "text": [
      "              precision    recall  f1-score   support\n",
      "\n",
      "        true       1.00      0.44      0.61        16\n",
      "       false       0.36      1.00      0.53         5\n",
      "\n",
      "    accuracy                           0.57        21\n",
      "   macro avg       0.68      0.72      0.57        21\n",
      "weighted avg       0.85      0.57      0.59        21\n",
      "\n"
     ]
    }
   ],
   "source": [
    "from sklearn.metrics import classification_report\n",
    "\n",
    "print((classification_report(y_test, lg_pred, target_names=['true', 'false'])))"
   ]
  },
  {
   "cell_type": "code",
   "execution_count": 34,
   "metadata": {},
   "outputs": [
    {
     "data": {
      "text/plain": [
       "{'true': {'precision': 1.0,\n",
       "  'recall': 0.4375,\n",
       "  'f1-score': 0.6086956521739131,\n",
       "  'support': 16},\n",
       " 'false': {'precision': 0.35714285714285715,\n",
       "  'recall': 1.0,\n",
       "  'f1-score': 0.5263157894736842,\n",
       "  'support': 5},\n",
       " 'accuracy': 0.5714285714285714,\n",
       " 'macro avg': {'precision': 0.6785714285714286,\n",
       "  'recall': 0.71875,\n",
       "  'f1-score': 0.5675057208237986,\n",
       "  'support': 21},\n",
       " 'weighted avg': {'precision': 0.846938775510204,\n",
       "  'recall': 0.5714285714285714,\n",
       "  'f1-score': 0.5890813991500491,\n",
       "  'support': 21}}"
      ]
     },
     "execution_count": 34,
     "metadata": {},
     "output_type": "execute_result"
    }
   ],
   "source": [
    "classification_report(y_test, \n",
    "                      lg_pred, \n",
    "                      target_names = ['true', 'false'], \n",
    "                      output_dict = True)"
   ]
  },
  {
   "cell_type": "markdown",
   "metadata": {},
   "source": [
    "#### RandomForest "
   ]
  },
  {
   "cell_type": "code",
   "execution_count": 47,
   "metadata": {},
   "outputs": [
    {
     "data": {
      "text/plain": [
       "RandomForestClassifier(max_depth=3, n_estimators=10)"
      ]
     },
     "execution_count": 47,
     "metadata": {},
     "output_type": "execute_result"
    }
   ],
   "source": [
    "from sklearn.ensemble import RandomForestClassifier\n",
    "\n",
    "# 모델 생성\n",
    "rf_clf = RandomForestClassifier(n_estimators=10, max_depth=3)\n",
    "\n",
    "# 모델 학습\n",
    "rf_clf.fit(comprehensive_features_train, y_train)"
   ]
  },
  {
   "cell_type": "code",
   "execution_count": 48,
   "metadata": {},
   "outputs": [
    {
     "data": {
      "text/plain": [
       "0.9047619047619048"
      ]
     },
     "execution_count": 48,
     "metadata": {},
     "output_type": "execute_result"
    }
   ],
   "source": [
    "# 결과\n",
    "rf_clf.score(comprehensive_features_test, y_test)"
   ]
  },
  {
   "cell_type": "markdown",
   "metadata": {},
   "source": [
    "- classification_report"
   ]
  },
  {
   "cell_type": "code",
   "execution_count": 49,
   "metadata": {},
   "outputs": [],
   "source": [
    "rf_pred = rf_clf.predict(comprehensive_features_test)"
   ]
  },
  {
   "cell_type": "code",
   "execution_count": 50,
   "metadata": {},
   "outputs": [
    {
     "name": "stdout",
     "output_type": "stream",
     "text": [
      "              precision    recall  f1-score   support\n",
      "\n",
      "        true       1.00      0.88      0.93        16\n",
      "       false       0.71      1.00      0.83         5\n",
      "\n",
      "    accuracy                           0.90        21\n",
      "   macro avg       0.86      0.94      0.88        21\n",
      "weighted avg       0.93      0.90      0.91        21\n",
      "\n"
     ]
    }
   ],
   "source": [
    "from sklearn.metrics import classification_report\n",
    "\n",
    "print((classification_report(y_test, rf_pred, target_names=['true', 'false'])))"
   ]
  },
  {
   "cell_type": "code",
   "execution_count": 51,
   "metadata": {},
   "outputs": [
    {
     "data": {
      "text/plain": [
       "{'true': {'precision': 1.0,\n",
       "  'recall': 0.875,\n",
       "  'f1-score': 0.9333333333333333,\n",
       "  'support': 16},\n",
       " 'false': {'precision': 0.7142857142857143,\n",
       "  'recall': 1.0,\n",
       "  'f1-score': 0.8333333333333333,\n",
       "  'support': 5},\n",
       " 'accuracy': 0.9047619047619048,\n",
       " 'macro avg': {'precision': 0.8571428571428572,\n",
       "  'recall': 0.9375,\n",
       "  'f1-score': 0.8833333333333333,\n",
       "  'support': 21},\n",
       " 'weighted avg': {'precision': 0.9319727891156463,\n",
       "  'recall': 0.9047619047619048,\n",
       "  'f1-score': 0.9095238095238096,\n",
       "  'support': 21}}"
      ]
     },
     "execution_count": 51,
     "metadata": {},
     "output_type": "execute_result"
    }
   ],
   "source": [
    "classification_report(y_test, \n",
    "                      rf_clf.predict(comprehensive_features_test), \n",
    "                      target_names = ['true', 'false'], \n",
    "                      output_dict = True)"
   ]
  },
  {
   "cell_type": "markdown",
   "metadata": {},
   "source": [
    "#### XGBoost"
   ]
  },
  {
   "cell_type": "code",
   "execution_count": 52,
   "metadata": {},
   "outputs": [
    {
     "name": "stderr",
     "output_type": "stream",
     "text": [
      "/opt/conda/lib/python3.9/site-packages/xgboost/sklearn.py:1146: UserWarning: The use of label encoder in XGBClassifier is deprecated and will be removed in a future release. To remove this warning, do the following: 1) Pass option use_label_encoder=False when constructing XGBClassifier object; and 2) Encode your labels (y) as integers starting with 0, i.e. 0, 1, 2, ..., [num_class - 1].\n",
      "  warnings.warn(label_encoder_deprecation_msg, UserWarning)\n"
     ]
    },
    {
     "name": "stdout",
     "output_type": "stream",
     "text": [
      "[05:17:29] WARNING: ../src/learner.cc:1095: Starting in XGBoost 1.3.0, the default evaluation metric used with the objective 'binary:logistic' was changed from 'error' to 'logloss'. Explicitly set eval_metric if you'd like to restore the old behavior.\n"
     ]
    },
    {
     "data": {
      "text/plain": [
       "XGBClassifier(base_score=0.5, booster='gbtree', colsample_bylevel=1,\n",
       "              colsample_bynode=1, colsample_bytree=1, gamma=0, gpu_id=-1,\n",
       "              importance_type='gain', interaction_constraints='',\n",
       "              learning_rate=0.300000012, max_delta_step=0, max_depth=3,\n",
       "              min_child_weight=1, missing=nan, monotone_constraints='()',\n",
       "              n_estimators=10, n_jobs=2, num_parallel_tree=1, random_state=0,\n",
       "              reg_alpha=0, reg_lambda=1, scale_pos_weight=1, subsample=1,\n",
       "              tree_method='exact', validate_parameters=1, verbosity=None)"
      ]
     },
     "execution_count": 52,
     "metadata": {},
     "output_type": "execute_result"
    }
   ],
   "source": [
    "from xgboost import XGBClassifier\n",
    "import xgboost as xgb\n",
    "\n",
    "# 모델 생성\n",
    "xgb_clf = XGBClassifier(n_estimators=10, max_depth=3)\n",
    "\n",
    "# 모델 학습\n",
    "xgb_clf.fit(comprehensive_features_train, y_train)"
   ]
  },
  {
   "cell_type": "code",
   "execution_count": 53,
   "metadata": {},
   "outputs": [
    {
     "data": {
      "text/plain": [
       "1.0"
      ]
     },
     "execution_count": 53,
     "metadata": {},
     "output_type": "execute_result"
    }
   ],
   "source": [
    "# 결과\n",
    "xgb_clf.score(comprehensive_features_test, y_test)"
   ]
  },
  {
   "cell_type": "markdown",
   "metadata": {},
   "source": [
    "- XGBoost plot_importance 확인 및 시각화"
   ]
  },
  {
   "cell_type": "code",
   "execution_count": 54,
   "metadata": {},
   "outputs": [
    {
     "data": {
      "image/png": "[encoded data removed]",
      "text/plain": [
       "<Figure size 432x288 with 1 Axes>"
      ]
     },
     "metadata": {
      "needs_background": "light"
     },
     "output_type": "display_data"
    }
   ],
   "source": [
    "xgb.plot_importance(xgb_clf, importance_type='gain')\n",
    "plt.show()"
   ]
  },
  {
   "cell_type": "markdown",
   "metadata": {},
   "source": [
    "- Fx 값의 abs_energy 특징만의 유의미함  \n",
    "고장 유무를 판별하는 기준은 F_X_abs_energy라는 특징 하나였다. "
   ]
  },
  {
   "cell_type": "code",
   "execution_count": 55,
   "metadata": {},
   "outputs": [
    {
     "data": {
      "text/plain": [
       "1"
      ]
     },
     "execution_count": 55,
     "metadata": {},
     "output_type": "execute_result"
    }
   ],
   "source": [
    "sum(xgb_clf.feature_importances_ != 0)"
   ]
  },
  {
   "cell_type": "markdown",
   "metadata": {},
   "source": [
    "### Classification report를 통한 검증 및 분석"
   ]
  },
  {
   "cell_type": "code",
   "execution_count": 56,
   "metadata": {},
   "outputs": [],
   "source": [
    "xgb_pred = xgb_clf.predict(comprehensive_features_test)"
   ]
  },
  {
   "cell_type": "code",
   "execution_count": 57,
   "metadata": {},
   "outputs": [
    {
     "name": "stdout",
     "output_type": "stream",
     "text": [
      "              precision    recall  f1-score   support\n",
      "\n",
      "        true       1.00      1.00      1.00        16\n",
      "       false       1.00      1.00      1.00         5\n",
      "\n",
      "    accuracy                           1.00        21\n",
      "   macro avg       1.00      1.00      1.00        21\n",
      "weighted avg       1.00      1.00      1.00        21\n",
      "\n"
     ]
    }
   ],
   "source": [
    "from sklearn.metrics import classification_report\n",
    "\n",
    "print((classification_report(y_test, xgb_pred, target_names=['true', 'false'])))"
   ]
  },
  {
   "cell_type": "code",
   "execution_count": 58,
   "metadata": {},
   "outputs": [
    {
     "data": {
      "text/plain": [
       "{'true': {'precision': 1.0, 'recall': 1.0, 'f1-score': 1.0, 'support': 16},\n",
       " 'false': {'precision': 1.0, 'recall': 1.0, 'f1-score': 1.0, 'support': 5},\n",
       " 'accuracy': 1.0,\n",
       " 'macro avg': {'precision': 1.0,\n",
       "  'recall': 1.0,\n",
       "  'f1-score': 1.0,\n",
       "  'support': 21},\n",
       " 'weighted avg': {'precision': 1.0,\n",
       "  'recall': 1.0,\n",
       "  'f1-score': 1.0,\n",
       "  'support': 21}}"
      ]
     },
     "execution_count": 58,
     "metadata": {},
     "output_type": "execute_result"
    }
   ],
   "source": [
    "classification_report(y_test, \n",
    "                      xgb_pred, \n",
    "                      target_names=['true', 'false'], \n",
    "                      output_dict=True)"
   ]
  },
  {
   "cell_type": "markdown",
   "metadata": {},
   "source": [
    "## 회고\n",
    "\n",
    "시계열 데이터는 확실히 수학적으로 연관이 되어있는 거 같다보니까,,,\n",
    "상당히 이해하는데 시간이 걸리는 거 같다.  \n",
    "\n",
    "용어가 한번에 쏟아지니까 헷갈리기도 하고 이게 뭔가 싶어서 열심히 찾아보고  \n",
    "코드 하나하나 뜯어보면서 설명 적으니까 시간이 금방 가는 거 같다.  \n",
    "\n",
    "아직까지 봐야할 것도 많고 공부는 하면 할 수록 줄지 않는 거 같다.  \n",
    "이러다 죽을때까지 공부하다 죽는 거 아닌가 싶기도 하고,,  \n",
    "그렇게 맨날은 안하겠지만 양이 많다보니까 이런 생각도 드는 거 같다....ㅠ  \n",
    "\n",
    "뭐,, 열심히 하는 거 말고는 방법이 없는 거 같긴 하다.  \n",
    "힘내보자 화이팅~ !!"
   ]
  }
 ],
 "metadata": {
  "kernelspec": {
   "display_name": "Python 3 (ipykernel)",
   "language": "python",
   "name": "python3"
  },
  "language_info": {
   "codemirror_mode": {
    "name": "ipython",
    "version": 3
   },
   "file_extension": ".py",
   "mimetype": "text/x-python",
   "name": "python",
   "nbconvert_exporter": "python",
   "pygments_lexer": "ipython3",
   "version": "3.9.7"
  }
 },
 "nbformat": 4,
 "nbformat_minor": 2
}
