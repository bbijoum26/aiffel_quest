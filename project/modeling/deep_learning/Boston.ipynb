{
 "cells": [
  {
   "cell_type": "markdown",
   "id": "293fea8d",
   "metadata": {},
   "source": [
    "# Boston 주택 가격 예측 모델\n",
    "Boston 주택 가격 예측 모델에서 사용되는 데이터셋은 보스턴 시의 주택 가격 데이터셋으로, 주택의 여러 요건과 가격 정보가 포함되어 있다.\n",
    "\n",
    "- 데이터셋 feature\n",
    "    - CRIM : 자치시별 1인당 범죄율\n",
    "    - ZN : 25,000 평방피트를 초과하는 거주지역의 비율\n",
    "    - INDUS : 비소매상업지역이 점유하고 있는 토지의 비율\n",
    "    - CHAS : 찰스강에 대한 더미변수(강의 경계에 위치한 경우는 1, 아니면 0)\n",
    "    - NOX : 10ppm 당 농축 일산화질소\n",
    "    - RM : 주택 1 가구당 평균 방의 개수\n",
    "    - AGE : 1940년 이전에 건축된 소유주택의 비율\n",
    "    - DIS : 5개의 보스턴 직업센터까지의 접근성 지수\n",
    "    - RAD : 방사형 도로까지의 접근성 지수\n",
    "    - TAX : 10,000 달러당 재산세율\n",
    "    - PTRATIO : 자치시(town)별 학생/교사 비율\n",
    "    - B\t: $1000(\\text{BK} - 0.63)^2$ 여기서Bk는 자치시별 흑인의 비율\n",
    "    - LSTAT\t: 모집단의 하위계층의 비율(%)\n",
    "    - MEDV : 본인 소유의 주택가격(중앙값)(단위: $1,000)\n"
   ]
  },
  {
   "cell_type": "markdown",
   "id": "4f91d3e7",
   "metadata": {},
   "source": [
    "## 데이터 로드 및 전처리"
   ]
  },
  {
   "cell_type": "code",
   "execution_count": 8,
   "id": "4442b58e",
   "metadata": {},
   "outputs": [],
   "source": [
    "import seaborn as sns\n",
    "import matplotlib.pyplot as plt"
   ]
  },
  {
   "cell_type": "markdown",
   "id": "cc0c0e18",
   "metadata": {},
   "source": [
    "### boston_housing 데이터셋 로드"
   ]
  },
  {
   "cell_type": "code",
   "execution_count": 2,
   "id": "31c5c466",
   "metadata": {},
   "outputs": [
    {
     "name": "stdout",
     "output_type": "stream",
     "text": [
      "Downloading data from https://storage.googleapis.com/tensorflow/tf-keras-datasets/boston_housing.npz\n",
      "57344/57026 [==============================] - 0s 0us/step\n",
      "65536/57026 [==================================] - 0s 0us/step\n",
      "404\n",
      "102\n"
     ]
    }
   ],
   "source": [
    "from keras.datasets import boston_housing\n",
    "\n",
    "(train_data, train_labels), (test_data, test_labels) = boston_housing.load_data()\n",
    "\n",
    "# 데이터셋 크기 확인\n",
    "print(len(train_data))\n",
    "print(len(test_data))"
   ]
  },
  {
   "cell_type": "markdown",
   "id": "3c015178",
   "metadata": {},
   "source": [
    "### 표준화 작업 수행"
   ]
  },
  {
   "cell_type": "markdown",
   "id": "c3e6c10a",
   "metadata": {},
   "source": [
    "#### 1. 데이터의 각 특성의 평균 빼기"
   ]
  },
  {
   "cell_type": "code",
   "execution_count": 4,
   "id": "e41d9e98",
   "metadata": {},
   "outputs": [],
   "source": [
    "train_data -= train_data.mean(axis=0)"
   ]
  },
  {
   "cell_type": "markdown",
   "id": "d218db67",
   "metadata": {},
   "source": [
    "#### 2. 평균을 뺀 입력 데이터에서 표준편차로 나누기\n",
    "데이터 특성의 중앙 0에 가깝게 만들고, 표준편차가 1이 되게 만든다."
   ]
  },
  {
   "cell_type": "code",
   "execution_count": 5,
   "id": "97ce0048",
   "metadata": {},
   "outputs": [],
   "source": [
    "train_data /= train_data.std(axis=0)"
   ]
  },
  {
   "cell_type": "markdown",
   "id": "9750792a",
   "metadata": {},
   "source": [
    "#### 3. 테스트 데이터셋도 똑같이 하기"
   ]
  },
  {
   "cell_type": "code",
   "execution_count": 6,
   "id": "72042454",
   "metadata": {},
   "outputs": [],
   "source": [
    "test_data -= test_data.mean(axis=0)"
   ]
  },
  {
   "cell_type": "code",
   "execution_count": 7,
   "id": "a66cf84f",
   "metadata": {},
   "outputs": [],
   "source": [
    "test_data /= test_data.std(axis=0)"
   ]
  },
  {
   "cell_type": "markdown",
   "id": "59be8d1b",
   "metadata": {},
   "source": [
    "## 모델 구성 및 컴파일"
   ]
  },
  {
   "cell_type": "markdown",
   "id": "320f767e",
   "metadata": {},
   "source": [
    "### Sequential API\n",
    "input_shape은 (train_data.shape[1], )으로 구성  \n",
    "회귀(예측)을 위한 모델이므로 loss를 mse, metrics를 mae로 사용"
   ]
  },
  {
   "cell_type": "markdown",
   "id": "23f7f874",
   "metadata": {},
   "source": [
    "#### 모델 구성"
   ]
  },
  {
   "cell_type": "code",
   "execution_count": 9,
   "id": "7e3787c0",
   "metadata": {},
   "outputs": [],
   "source": [
    "from tensorflow.keras import models, layers\n",
    "\n",
    "model = models.Sequential([\n",
    "    layers.Dense(64, activation='relu', input_shape=(train_data.shape[1],)),\n",
    "    layers.Dense(64, activation='relu'),\n",
    "    layers.Dense(1)\n",
    "])"
   ]
  },
  {
   "cell_type": "code",
   "execution_count": 24,
   "id": "96a4585a",
   "metadata": {},
   "outputs": [
    {
     "name": "stdout",
     "output_type": "stream",
     "text": [
      "Model: \"sequential\"\n",
      "_________________________________________________________________\n",
      "Layer (type)                 Output Shape              Param #   \n",
      "=================================================================\n",
      "dense (Dense)                (None, 64)                896       \n",
      "_________________________________________________________________\n",
      "dense_1 (Dense)              (None, 64)                4160      \n",
      "_________________________________________________________________\n",
      "dense_2 (Dense)              (None, 1)                 65        \n",
      "=================================================================\n",
      "Total params: 5,121\n",
      "Trainable params: 5,121\n",
      "Non-trainable params: 0\n",
      "_________________________________________________________________\n"
     ]
    }
   ],
   "source": [
    "model.summary()"
   ]
  },
  {
   "cell_type": "markdown",
   "id": "494438eb",
   "metadata": {},
   "source": [
    "#### 모델 컴파일"
   ]
  },
  {
   "cell_type": "code",
   "execution_count": 10,
   "id": "a0889134",
   "metadata": {},
   "outputs": [],
   "source": [
    "model.compile(optimizer='rmsprop', \n",
    "              loss='mse', \n",
    "              metrics=['mae'])"
   ]
  },
  {
   "cell_type": "markdown",
   "id": "85c82b8b",
   "metadata": {},
   "source": [
    "### Functional API"
   ]
  },
  {
   "cell_type": "code",
   "execution_count": 11,
   "id": "4b59241a",
   "metadata": {},
   "outputs": [],
   "source": [
    "from tensorflow.keras import Input, Model\n",
    "\n",
    "# 입력 텐서\n",
    "input_tensor = Input(shape=(train_data.shape[1],))\n",
    "\n",
    "# 레이어 쌓기\n",
    "x = layers.Dense(64, activation='relu')(input_tensor)\n",
    "x = layers.Dense(64, activation='relu')(x)\n",
    "\n",
    "\n",
    "output_tensor = layers.Dense(1)(x)"
   ]
  },
  {
   "cell_type": "markdown",
   "id": "f6f7472d",
   "metadata": {},
   "source": [
    "#### 모델 생성"
   ]
  },
  {
   "cell_type": "code",
   "execution_count": 12,
   "id": "a356e1ff",
   "metadata": {},
   "outputs": [],
   "source": [
    "model_func = Model(inputs=input_tensor, outputs=output_tensor)"
   ]
  },
  {
   "cell_type": "markdown",
   "id": "1127c818",
   "metadata": {},
   "source": [
    "#### 모델 컴파일"
   ]
  },
  {
   "cell_type": "code",
   "execution_count": 13,
   "id": "f921abe2",
   "metadata": {},
   "outputs": [],
   "source": [
    "model_func.compile(optimizer='rmsprop', \n",
    "                   loss='mse', \n",
    "                   metrics=['mae'])"
   ]
  },
  {
   "cell_type": "markdown",
   "id": "767f8f5e",
   "metadata": {},
   "source": [
    "#### 모델 요약 출력"
   ]
  },
  {
   "cell_type": "code",
   "execution_count": 25,
   "id": "5cd77885",
   "metadata": {},
   "outputs": [
    {
     "name": "stdout",
     "output_type": "stream",
     "text": [
      "Model: \"model\"\n",
      "_________________________________________________________________\n",
      "Layer (type)                 Output Shape              Param #   \n",
      "=================================================================\n",
      "input_1 (InputLayer)         [(None, 13)]              0         \n",
      "_________________________________________________________________\n",
      "dense_3 (Dense)              (None, 64)                896       \n",
      "_________________________________________________________________\n",
      "dense_4 (Dense)              (None, 64)                4160      \n",
      "_________________________________________________________________\n",
      "dense_5 (Dense)              (None, 1)                 65        \n",
      "=================================================================\n",
      "Total params: 5,121\n",
      "Trainable params: 5,121\n",
      "Non-trainable params: 0\n",
      "_________________________________________________________________\n"
     ]
    }
   ],
   "source": [
    "model_func.summary()"
   ]
  },
  {
   "cell_type": "markdown",
   "id": "a338e36c",
   "metadata": {},
   "source": [
    "### Subclassing API"
   ]
  },
  {
   "cell_type": "code",
   "execution_count": 14,
   "id": "a27f91dc",
   "metadata": {},
   "outputs": [],
   "source": [
    "from tensorflow.keras import Model, layers\n",
    "\n",
    "class MyModel(Model):\n",
    "    def __init__(self):\n",
    "        super(MyModel, self).__init__()\n",
    "        self.dense1 = layers.Dense(64, activation='relu')\n",
    "        self.dense2 = layers.Dense(64, activation='relu')\n",
    "        self.dense3 = layers.Dense(1)  # 회귀 문제이므로 출력층에 활성화 함수를 사용하지 않습니다.\n",
    "\n",
    "    def call(self, inputs):\n",
    "        x = self.dense1(inputs)\n",
    "        x = self.dense2(x)\n",
    "        return self.dense3(x)"
   ]
  },
  {
   "cell_type": "markdown",
   "id": "aaf89b73",
   "metadata": {},
   "source": [
    "#### 모델 생성"
   ]
  },
  {
   "cell_type": "code",
   "execution_count": 15,
   "id": "f88338c8",
   "metadata": {},
   "outputs": [],
   "source": [
    "model_subclass = MyModel()"
   ]
  },
  {
   "cell_type": "markdown",
   "id": "a322d43e",
   "metadata": {},
   "source": [
    "#### 모델 컴파일"
   ]
  },
  {
   "cell_type": "code",
   "execution_count": 16,
   "id": "b5f920fa",
   "metadata": {},
   "outputs": [],
   "source": [
    "model_subclass.compile(optimizer='rmsprop', \n",
    "                       loss='mse', \n",
    "                       metrics=['mae'])"
   ]
  },
  {
   "cell_type": "markdown",
   "id": "644d87a3",
   "metadata": {},
   "source": [
    "## 모델 학습"
   ]
  },
  {
   "cell_type": "markdown",
   "id": "05844f68",
   "metadata": {},
   "source": [
    "#### Early Stopping\n",
    "모델 학습 과정에서 검증 데이터셋의 성능이 더 이상 개선되지 않을 때 학습을 조기에 종료하는 기법"
   ]
  },
  {
   "cell_type": "code",
   "execution_count": 17,
   "id": "0afd4c44",
   "metadata": {},
   "outputs": [],
   "source": [
    "from tensorflow.keras.callbacks import EarlyStopping\n",
    "\n",
    "# Early Stopping 콜백 설정\n",
    "early_stopping = EarlyStopping(monitor='val_loss',        # 검증 손실을 모니터링\n",
    "                               patience=20,               # 20 에포크 동안 개선이 없으면 학습을 중단\n",
    "                               min_delta=0.001,           # 개선으로 간주되는 최소 변화량\n",
    "                               mode='min',                # 손실이 감소하는 것을 개선으로 간주\n",
    "                               verbose=1,                 # 얼리 스탑핑의 진행 상황을 출력\n",
    "                               restore_best_weights=True)  # 가장 좋은 모델의 가중치를 복원"
   ]
  },
  {
   "cell_type": "code",
   "execution_count": 19,
   "id": "7dc9166b",
   "metadata": {},
   "outputs": [
    {
     "name": "stdout",
     "output_type": "stream",
     "text": [
      "Epoch 1/200\n",
      "21/21 [==============================] - 1s 10ms/step - loss: 519.9833 - mae: 20.8324 - val_loss: 524.4091 - val_mae: 21.0370\n",
      "Epoch 2/200\n",
      "21/21 [==============================] - 0s 4ms/step - loss: 400.0181 - mae: 17.9220 - val_loss: 383.6638 - val_mae: 17.6599\n",
      "Epoch 3/200\n",
      "21/21 [==============================] - 0s 4ms/step - loss: 267.1541 - mae: 14.1297 - val_loss: 234.2055 - val_mae: 13.1426\n",
      "Epoch 4/200\n",
      "21/21 [==============================] - 0s 4ms/step - loss: 143.2942 - mae: 9.7960 - val_loss: 118.9868 - val_mae: 8.4989\n",
      "Epoch 5/200\n",
      "21/21 [==============================] - 0s 4ms/step - loss: 76.3670 - mae: 6.6572 - val_loss: 69.8477 - val_mae: 6.3320\n",
      "Epoch 6/200\n",
      "21/21 [==============================] - 0s 4ms/step - loss: 50.0860 - mae: 5.2050 - val_loss: 46.5013 - val_mae: 5.0462\n",
      "Epoch 7/200\n",
      "21/21 [==============================] - 0s 4ms/step - loss: 35.4005 - mae: 4.2778 - val_loss: 31.0815 - val_mae: 4.2237\n",
      "Epoch 8/200\n",
      "21/21 [==============================] - 0s 4ms/step - loss: 28.4606 - mae: 3.7169 - val_loss: 25.5559 - val_mae: 3.7045\n",
      "Epoch 9/200\n",
      "21/21 [==============================] - 0s 4ms/step - loss: 24.6994 - mae: 3.3979 - val_loss: 22.2708 - val_mae: 3.5026\n",
      "Epoch 10/200\n",
      "21/21 [==============================] - 0s 4ms/step - loss: 22.2091 - mae: 3.1753 - val_loss: 20.1836 - val_mae: 3.2941\n",
      "Epoch 11/200\n",
      "21/21 [==============================] - 0s 4ms/step - loss: 20.2573 - mae: 3.0425 - val_loss: 18.9561 - val_mae: 3.2178\n",
      "Epoch 12/200\n",
      "21/21 [==============================] - 0s 4ms/step - loss: 18.8840 - mae: 2.9191 - val_loss: 18.0220 - val_mae: 3.1755\n",
      "Epoch 13/200\n",
      "21/21 [==============================] - 0s 4ms/step - loss: 17.6145 - mae: 2.8003 - val_loss: 17.2657 - val_mae: 3.1499\n",
      "Epoch 14/200\n",
      "21/21 [==============================] - 0s 4ms/step - loss: 16.3371 - mae: 2.6809 - val_loss: 16.0770 - val_mae: 2.9835\n",
      "Epoch 15/200\n",
      "21/21 [==============================] - 0s 4ms/step - loss: 15.5339 - mae: 2.6560 - val_loss: 15.9022 - val_mae: 2.9087\n",
      "Epoch 16/200\n",
      "21/21 [==============================] - 0s 5ms/step - loss: 14.8955 - mae: 2.5752 - val_loss: 14.3983 - val_mae: 2.8734\n",
      "Epoch 17/200\n",
      "21/21 [==============================] - 0s 4ms/step - loss: 14.2405 - mae: 2.5259 - val_loss: 14.1622 - val_mae: 2.8253\n",
      "Epoch 18/200\n",
      "21/21 [==============================] - 0s 4ms/step - loss: 13.6938 - mae: 2.4676 - val_loss: 13.5153 - val_mae: 2.7833\n",
      "Epoch 19/200\n",
      "21/21 [==============================] - 0s 4ms/step - loss: 12.8192 - mae: 2.4438 - val_loss: 13.4106 - val_mae: 2.8500\n",
      "Epoch 20/200\n",
      "21/21 [==============================] - 0s 4ms/step - loss: 12.7395 - mae: 2.4222 - val_loss: 13.1520 - val_mae: 2.7844\n",
      "Epoch 21/200\n",
      "21/21 [==============================] - 0s 4ms/step - loss: 12.2110 - mae: 2.3703 - val_loss: 14.2809 - val_mae: 2.9816\n",
      "Epoch 22/200\n",
      "21/21 [==============================] - 0s 4ms/step - loss: 11.9469 - mae: 2.3537 - val_loss: 13.1707 - val_mae: 2.8364\n",
      "Epoch 23/200\n",
      "21/21 [==============================] - 0s 4ms/step - loss: 11.6506 - mae: 2.3133 - val_loss: 12.6541 - val_mae: 2.7348\n",
      "Epoch 24/200\n",
      "21/21 [==============================] - 0s 4ms/step - loss: 11.3928 - mae: 2.3249 - val_loss: 12.7417 - val_mae: 2.6992\n",
      "Epoch 25/200\n",
      "21/21 [==============================] - 0s 4ms/step - loss: 11.0462 - mae: 2.2952 - val_loss: 13.2821 - val_mae: 2.7360\n",
      "Epoch 26/200\n",
      "21/21 [==============================] - 0s 4ms/step - loss: 10.7130 - mae: 2.3233 - val_loss: 12.9828 - val_mae: 2.8313\n",
      "Epoch 27/200\n",
      "21/21 [==============================] - 0s 4ms/step - loss: 10.4346 - mae: 2.2260 - val_loss: 12.7107 - val_mae: 2.7892\n",
      "Epoch 28/200\n",
      "21/21 [==============================] - 0s 4ms/step - loss: 10.4383 - mae: 2.1970 - val_loss: 12.8262 - val_mae: 2.6984\n",
      "Epoch 29/200\n",
      "21/21 [==============================] - 0s 4ms/step - loss: 10.2793 - mae: 2.2250 - val_loss: 12.6147 - val_mae: 2.7286\n",
      "Epoch 30/200\n",
      "21/21 [==============================] - 0s 4ms/step - loss: 10.2618 - mae: 2.2056 - val_loss: 12.0290 - val_mae: 2.6711\n",
      "Epoch 31/200\n",
      "21/21 [==============================] - 0s 4ms/step - loss: 9.9908 - mae: 2.1847 - val_loss: 12.4611 - val_mae: 2.6383\n",
      "Epoch 32/200\n",
      "21/21 [==============================] - 0s 4ms/step - loss: 9.7570 - mae: 2.1595 - val_loss: 13.0187 - val_mae: 2.7493\n",
      "Epoch 33/200\n",
      "21/21 [==============================] - 0s 4ms/step - loss: 9.7798 - mae: 2.1872 - val_loss: 12.7306 - val_mae: 2.7075\n",
      "Epoch 34/200\n",
      "21/21 [==============================] - 0s 4ms/step - loss: 9.5384 - mae: 2.1401 - val_loss: 13.9131 - val_mae: 2.8342\n",
      "Epoch 35/200\n",
      "21/21 [==============================] - 0s 4ms/step - loss: 9.5000 - mae: 2.1188 - val_loss: 12.3169 - val_mae: 2.6453\n",
      "Epoch 36/200\n",
      "21/21 [==============================] - 0s 4ms/step - loss: 9.3622 - mae: 2.1136 - val_loss: 12.1645 - val_mae: 2.6855\n",
      "Epoch 37/200\n",
      "21/21 [==============================] - 0s 4ms/step - loss: 9.3676 - mae: 2.0926 - val_loss: 12.1173 - val_mae: 2.5785\n",
      "Epoch 38/200\n",
      "21/21 [==============================] - 0s 4ms/step - loss: 9.1852 - mae: 2.0956 - val_loss: 13.2584 - val_mae: 2.7148\n",
      "Epoch 39/200\n",
      "21/21 [==============================] - 0s 4ms/step - loss: 8.9897 - mae: 2.0796 - val_loss: 13.5210 - val_mae: 2.6687\n",
      "Epoch 40/200\n",
      "21/21 [==============================] - 0s 4ms/step - loss: 9.0948 - mae: 2.0921 - val_loss: 12.9540 - val_mae: 2.5994\n",
      "Epoch 41/200\n",
      "21/21 [==============================] - 0s 4ms/step - loss: 8.9811 - mae: 2.0851 - val_loss: 13.1268 - val_mae: 2.5990\n",
      "Epoch 42/200\n",
      "21/21 [==============================] - 0s 4ms/step - loss: 8.6091 - mae: 2.0385 - val_loss: 12.5334 - val_mae: 2.5981\n",
      "Epoch 43/200\n",
      "21/21 [==============================] - 0s 4ms/step - loss: 8.5109 - mae: 2.0305 - val_loss: 12.7298 - val_mae: 2.7019\n",
      "Epoch 44/200\n",
      "21/21 [==============================] - 0s 4ms/step - loss: 8.5295 - mae: 1.9855 - val_loss: 12.6225 - val_mae: 2.5892\n",
      "Epoch 45/200\n",
      "21/21 [==============================] - 0s 4ms/step - loss: 8.4395 - mae: 1.9960 - val_loss: 12.6730 - val_mae: 2.5679\n",
      "Epoch 46/200\n",
      "21/21 [==============================] - 0s 4ms/step - loss: 8.3086 - mae: 2.0068 - val_loss: 13.0091 - val_mae: 2.6022\n",
      "Epoch 47/200\n",
      "21/21 [==============================] - 0s 4ms/step - loss: 8.2228 - mae: 2.0108 - val_loss: 12.6952 - val_mae: 2.5532\n",
      "Epoch 48/200\n",
      "21/21 [==============================] - 0s 4ms/step - loss: 8.2880 - mae: 1.9863 - val_loss: 12.5063 - val_mae: 2.5493\n",
      "Epoch 49/200\n",
      "21/21 [==============================] - 0s 3ms/step - loss: 8.1163 - mae: 1.9901 - val_loss: 13.9831 - val_mae: 2.6303\n",
      "Epoch 50/200\n",
      "21/21 [==============================] - 0s 4ms/step - loss: 8.2052 - mae: 1.9948 - val_loss: 12.4706 - val_mae: 2.5394\n",
      "Restoring model weights from the end of the best epoch.\n",
      "Epoch 00050: early stopping\n"
     ]
    }
   ],
   "source": [
    "history = model.fit(train_data, train_labels,\n",
    "                    epochs=200,                       # 최대 에포크 수\n",
    "                    batch_size=16,                    # 배치 크기\n",
    "                    validation_split=0.2,             # 20%의 데이터를 검증 데이터로 사용\n",
    "                    callbacks=[early_stopping],       # 얼리 스탑핑 콜백 추가\n",
    "                    verbose=1)                        # 학습 과정 출력 생략"
   ]
  },
  {
   "cell_type": "markdown",
   "id": "80d5b90d",
   "metadata": {},
   "source": [
    "### 시각화"
   ]
  },
  {
   "cell_type": "code",
   "execution_count": 22,
   "id": "4a062a14",
   "metadata": {},
   "outputs": [
    {
     "data": {
      "image/png": "[encoded data removed]",
      "text/plain": [
       "<Figure size 864x360 with 2 Axes>"
      ]
     },
     "metadata": {},
     "output_type": "display_data"
    }
   ],
   "source": [
    "# 모델 학습 히스토리에서 loss, val_loss, mae, val_mae를 차트로 보여준다.\n",
    "plt.style.use('seaborn-white')\n",
    "\n",
    "history_dict = history.history\n",
    "\n",
    "loss = history_dict['loss']\n",
    "val_loss = history_dict['val_loss']\n",
    "\n",
    "epochs = range(1, len(loss) + 1)\n",
    "fig = plt.figure(figsize=(12, 5))\n",
    "\n",
    "ax1 = fig.add_subplot(1, 2, 1)\n",
    "ax1.plot(epochs, loss, 'b-', label='train_loss')\n",
    "ax1.plot(epochs, val_loss, 'r-', label='val_loss')\n",
    "ax1.set_title('Train and Validation Loss')\n",
    "ax1.set_xlabel('Epochs')\n",
    "ax1.set_ylabel('Loss')\n",
    "ax1.grid()\n",
    "ax1.legend()\n",
    "\n",
    "mae = history_dict['mae']\n",
    "val_mae = history_dict['val_mae']\n",
    "\n",
    "ax2 = fig.add_subplot(1, 2, 2)\n",
    "ax2.plot(epochs, mae, 'b-', label='train_mae')\n",
    "ax2.plot(epochs, val_mae, 'r-', label='val_mae')\n",
    "ax2.set_title('Train and Validation MAE')\n",
    "ax2.set_xlabel('Epochs')\n",
    "ax2.set_ylabel('Accuracy')\n",
    "ax2.grid()\n",
    "ax2.legend()\n",
    "\n",
    "plt.show()"
   ]
  },
  {
   "cell_type": "markdown",
   "id": "5e08ca52",
   "metadata": {},
   "source": [
    "## 모델 평가 및 예측"
   ]
  },
  {
   "cell_type": "markdown",
   "id": "a57b8bd6",
   "metadata": {},
   "source": [
    "### 모델 평가"
   ]
  },
  {
   "cell_type": "code",
   "execution_count": 20,
   "id": "d4d81057",
   "metadata": {},
   "outputs": [
    {
     "name": "stdout",
     "output_type": "stream",
     "text": [
      "Test Loss: 21.300\n",
      "Test MAE: 3.129\n"
     ]
    }
   ],
   "source": [
    "test_loss, test_mae = model.evaluate(test_data, test_labels, verbose=0)\n",
    "\n",
    "print(f\"Test Loss: {test_loss:.3f}\")\n",
    "print(f\"Test MAE: {test_mae:.3f}\")"
   ]
  },
  {
   "cell_type": "markdown",
   "id": "43233d61",
   "metadata": {},
   "source": [
    "### 주택 가격 예측"
   ]
  },
  {
   "cell_type": "code",
   "execution_count": 21,
   "id": "6c9ac8b7",
   "metadata": {},
   "outputs": [
    {
     "name": "stdout",
     "output_type": "stream",
     "text": [
      "[[ 6.034957]\n",
      " [18.270903]\n",
      " [21.875158]\n",
      " [28.747677]\n",
      " [26.839235]]\n"
     ]
    }
   ],
   "source": [
    "predicted_prices = model.predict(test_data)\n",
    "\n",
    "# 예측된 가격의 처음 5개를 출력\n",
    "print(predicted_prices[:5])"
   ]
  },
  {
   "cell_type": "markdown",
   "id": "c2bb03b8",
   "metadata": {},
   "source": [
    "### 결과\n",
    "\n",
    "평가 결과, 테스트 손실(Test Loss)은 21.300이고, 테스트 평균 절대 오차(Test MAE)는 3.129이다.  \n",
    "이는 모델이 평균적으로 각 주택 가격을 실제 가격과 비교하여 약 $3,129 정도 차이나게 예측했다는 것을 의미한다.   \n",
    "\n",
    "주택 가격 예측에서 이러한 MAE 수치는 모델이 데이터의 다양한 특성과 주택 가격 사이의 관계를 어느 정도 학습했음을 보여준다.   \n",
    "그러나 모델 성능을 더 향상시킬 수 있는 여지는 여전히 있으며, 이를 위해서는 모델 구조를 조정하거나,   \n",
    "더 많은 데이터를 활용하거나, 특성 엔지니어링을 수행하는 등의 방법을 고려할 수 있다."
   ]
  }
 ],
 "metadata": {
  "kernelspec": {
   "display_name": "Python 3 (ipykernel)",
   "language": "python",
   "name": "python3"
  },
  "language_info": {
   "codemirror_mode": {
    "name": "ipython",
    "version": 3
   },
   "file_extension": ".py",
   "mimetype": "text/x-python",
   "name": "python",
   "nbconvert_exporter": "python",
   "pygments_lexer": "ipython3",
   "version": "3.9.7"
  }
 },
 "nbformat": 4,
 "nbformat_minor": 5
}
